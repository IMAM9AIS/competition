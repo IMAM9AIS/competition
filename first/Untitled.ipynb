{
 "cells": [
  {
   "cell_type": "code",
   "execution_count": 1,
   "metadata": {
    "collapsed": true
   },
   "outputs": [],
   "source": [
    "%matplotlib inline"
   ]
  },
  {
   "cell_type": "code",
   "execution_count": 2,
   "metadata": {},
   "outputs": [
    {
     "name": "stderr",
     "output_type": "stream",
     "text": [
      "C:\\Users\\imamk\\Anaconda3\\lib\\site-packages\\sklearn\\cross_validation.py:41: DeprecationWarning: This module was deprecated in version 0.18 in favor of the model_selection module into which all the refactored classes and functions are moved. Also note that the interface of the new CV iterators are different from that of this module. This module will be removed in 0.20.\n",
      "  \"This module will be removed in 0.20.\", DeprecationWarning)\n",
      "C:\\Users\\imamk\\Anaconda3\\lib\\site-packages\\sklearn\\grid_search.py:42: DeprecationWarning: This module was deprecated in version 0.18 in favor of the model_selection module into which all the refactored classes and functions are moved. This module will be removed in 0.20.\n",
      "  DeprecationWarning)\n"
     ]
    }
   ],
   "source": [
    "#Imports\n",
    "\n",
    "#pandas\n",
    "import pandas as pd\n",
    "from pandas import Series,DataFrame\n",
    "\n",
    "#numpy\n",
    "import numpy as np\n",
    "import matplotlib.pyplot as plt\n",
    "import seaborn as sns\n",
    "sns.set_style('whitegrid')\n",
    "%matplotlib inline\n",
    "\n",
    "from datetime import datetime\n",
    "import math\n",
    "from sklearn.preprocessing import LabelEncoder\n",
    "#machine learning\n",
    "from sklearn.linear_model import LinearRegression\n",
    "from sklearn.linear_model import LogisticRegression\n",
    "from sklearn.linear_model import Ridge\n",
    "from sklearn.linear_model import Lasso\n",
    "from sklearn.svm import SVC,LinearSVC\n",
    "from sklearn.ensemble import RandomForestClassifier\n",
    "from sklearn.neighbors import KNeighborsClassifier\n",
    "from sklearn.naive_bayes import GaussianNB\n",
    "from sklearn.decomposition import PCA\n",
    "from sklearn.grid_search import GridSearchCV\n",
    "from sklearn.cross_validation import train_test_split\n",
    "from sklearn.ensemble import GradientBoostingRegressor\n",
    "from sklearn.metrics import r2_score\n",
    "\n"
   ]
  },
  {
   "cell_type": "code",
   "execution_count": 3,
   "metadata": {},
   "outputs": [
    {
     "data": {
      "text/html": [
       "<div>\n",
       "<style>\n",
       "    .dataframe thead tr:only-child th {\n",
       "        text-align: right;\n",
       "    }\n",
       "\n",
       "    .dataframe thead th {\n",
       "        text-align: left;\n",
       "    }\n",
       "\n",
       "    .dataframe tbody tr th {\n",
       "        vertical-align: top;\n",
       "    }\n",
       "</style>\n",
       "<table border=\"1\" class=\"dataframe\">\n",
       "  <thead>\n",
       "    <tr style=\"text-align: right;\">\n",
       "      <th></th>\n",
       "      <th>portfolio_id</th>\n",
       "      <th>desk_id</th>\n",
       "      <th>office_id</th>\n",
       "      <th>pf_category</th>\n",
       "      <th>start_date</th>\n",
       "      <th>sold</th>\n",
       "      <th>country_code</th>\n",
       "      <th>euribor_rate</th>\n",
       "      <th>currency</th>\n",
       "      <th>libor_rate</th>\n",
       "      <th>bought</th>\n",
       "      <th>creation_date</th>\n",
       "      <th>indicator_code</th>\n",
       "      <th>sell_date</th>\n",
       "      <th>type</th>\n",
       "      <th>hedge_value</th>\n",
       "      <th>status</th>\n",
       "      <th>return</th>\n",
       "    </tr>\n",
       "  </thead>\n",
       "  <tbody>\n",
       "    <tr>\n",
       "      <th>0</th>\n",
       "      <td>PF00001002</td>\n",
       "      <td>DSK00001001</td>\n",
       "      <td>OFF00001002</td>\n",
       "      <td>B</td>\n",
       "      <td>20040720</td>\n",
       "      <td>110000000.0</td>\n",
       "      <td>T</td>\n",
       "      <td>0.02074</td>\n",
       "      <td>USD</td>\n",
       "      <td>2.332216</td>\n",
       "      <td>1.098097e+08</td>\n",
       "      <td>20040720</td>\n",
       "      <td>NaN</td>\n",
       "      <td>20040812</td>\n",
       "      <td>B</td>\n",
       "      <td>NaN</td>\n",
       "      <td>NaN</td>\n",
       "      <td>0.02496</td>\n",
       "    </tr>\n",
       "    <tr>\n",
       "      <th>1</th>\n",
       "      <td>PF00001003</td>\n",
       "      <td>DSK00001002</td>\n",
       "      <td>OFF00001001</td>\n",
       "      <td>A</td>\n",
       "      <td>20040709</td>\n",
       "      <td>176671000.0</td>\n",
       "      <td>N</td>\n",
       "      <td>0.02074</td>\n",
       "      <td>GBP</td>\n",
       "      <td>5.269617</td>\n",
       "      <td>1.760084e+08</td>\n",
       "      <td>20040723</td>\n",
       "      <td>NaN</td>\n",
       "      <td>20040812</td>\n",
       "      <td>C</td>\n",
       "      <td>NaN</td>\n",
       "      <td>NaN</td>\n",
       "      <td>0.05496</td>\n",
       "    </tr>\n",
       "    <tr>\n",
       "      <th>2</th>\n",
       "      <td>PF00001005</td>\n",
       "      <td>DSK00001004</td>\n",
       "      <td>OFF00001001</td>\n",
       "      <td>A</td>\n",
       "      <td>20040723</td>\n",
       "      <td>56474000.0</td>\n",
       "      <td>T</td>\n",
       "      <td>0.02074</td>\n",
       "      <td>USD</td>\n",
       "      <td>2.332216</td>\n",
       "      <td>5.637953e+07</td>\n",
       "      <td>20040723</td>\n",
       "      <td>NaN</td>\n",
       "      <td>20040817</td>\n",
       "      <td>A</td>\n",
       "      <td>NaN</td>\n",
       "      <td>NaN</td>\n",
       "      <td>0.02496</td>\n",
       "    </tr>\n",
       "    <tr>\n",
       "      <th>3</th>\n",
       "      <td>PF00001006</td>\n",
       "      <td>DSK00001005</td>\n",
       "      <td>OFF00001001</td>\n",
       "      <td>A</td>\n",
       "      <td>20040609</td>\n",
       "      <td>164813000.0</td>\n",
       "      <td>T</td>\n",
       "      <td>0.02074</td>\n",
       "      <td>USD</td>\n",
       "      <td>2.332216</td>\n",
       "      <td>1.645088e+08</td>\n",
       "      <td>20040723</td>\n",
       "      <td>NaN</td>\n",
       "      <td>20040713</td>\n",
       "      <td>A</td>\n",
       "      <td>NaN</td>\n",
       "      <td>NaN</td>\n",
       "      <td>0.02496</td>\n",
       "    </tr>\n",
       "    <tr>\n",
       "      <th>4</th>\n",
       "      <td>PF00001007</td>\n",
       "      <td>DSK00001005</td>\n",
       "      <td>OFF00001002</td>\n",
       "      <td>B</td>\n",
       "      <td>20040609</td>\n",
       "      <td>140800000.0</td>\n",
       "      <td>T</td>\n",
       "      <td>0.02074</td>\n",
       "      <td>USD</td>\n",
       "      <td>2.332216</td>\n",
       "      <td>1.405402e+08</td>\n",
       "      <td>20040723</td>\n",
       "      <td>NaN</td>\n",
       "      <td>20040713</td>\n",
       "      <td>B</td>\n",
       "      <td>NaN</td>\n",
       "      <td>NaN</td>\n",
       "      <td>0.02496</td>\n",
       "    </tr>\n",
       "  </tbody>\n",
       "</table>\n",
       "</div>"
      ],
      "text/plain": [
       "  portfolio_id      desk_id    office_id pf_category  start_date         sold  \\\n",
       "0   PF00001002  DSK00001001  OFF00001002           B    20040720  110000000.0   \n",
       "1   PF00001003  DSK00001002  OFF00001001           A    20040709  176671000.0   \n",
       "2   PF00001005  DSK00001004  OFF00001001           A    20040723   56474000.0   \n",
       "3   PF00001006  DSK00001005  OFF00001001           A    20040609  164813000.0   \n",
       "4   PF00001007  DSK00001005  OFF00001002           B    20040609  140800000.0   \n",
       "\n",
       "  country_code  euribor_rate currency  libor_rate        bought  \\\n",
       "0            T       0.02074      USD    2.332216  1.098097e+08   \n",
       "1            N       0.02074      GBP    5.269617  1.760084e+08   \n",
       "2            T       0.02074      USD    2.332216  5.637953e+07   \n",
       "3            T       0.02074      USD    2.332216  1.645088e+08   \n",
       "4            T       0.02074      USD    2.332216  1.405402e+08   \n",
       "\n",
       "   creation_date indicator_code  sell_date type hedge_value status   return  \n",
       "0       20040720            NaN   20040812    B         NaN    NaN  0.02496  \n",
       "1       20040723            NaN   20040812    C         NaN    NaN  0.05496  \n",
       "2       20040723            NaN   20040817    A         NaN    NaN  0.02496  \n",
       "3       20040723            NaN   20040713    A         NaN    NaN  0.02496  \n",
       "4       20040723            NaN   20040713    B         NaN    NaN  0.02496  "
      ]
     },
     "execution_count": 3,
     "metadata": {},
     "output_type": "execute_result"
    }
   ],
   "source": [
    "return_df = pd.read_csv(\"train.csv\")\n",
    "test_df = pd.read_csv(\"test.csv\")\n",
    "\n",
    "return_df.head()"
   ]
  },
  {
   "cell_type": "code",
   "execution_count": 4,
   "metadata": {},
   "outputs": [
    {
     "name": "stdout",
     "output_type": "stream",
     "text": [
      "<class 'pandas.core.frame.DataFrame'>\n",
      "RangeIndex: 9366 entries, 0 to 9365\n",
      "Data columns (total 18 columns):\n",
      "portfolio_id      9366 non-null object\n",
      "desk_id           5701 non-null object\n",
      "office_id         9366 non-null object\n",
      "pf_category       9366 non-null object\n",
      "start_date        9366 non-null int64\n",
      "sold              9364 non-null float64\n",
      "country_code      9366 non-null object\n",
      "euribor_rate      9366 non-null float64\n",
      "currency          9366 non-null object\n",
      "libor_rate        8892 non-null float64\n",
      "bought            9364 non-null float64\n",
      "creation_date     9366 non-null int64\n",
      "indicator_code    3667 non-null object\n",
      "sell_date         9366 non-null int64\n",
      "type              9366 non-null object\n",
      "hedge_value       3665 non-null object\n",
      "status            6282 non-null object\n",
      "return            9366 non-null float64\n",
      "dtypes: float64(5), int64(3), object(10)\n",
      "memory usage: 1.3+ MB\n",
      "--------------\n",
      "<class 'pandas.core.frame.DataFrame'>\n",
      "RangeIndex: 4801 entries, 0 to 4800\n",
      "Data columns (total 17 columns):\n",
      "portfolio_id      4801 non-null object\n",
      "desk_id           2853 non-null object\n",
      "office_id         4801 non-null object\n",
      "pf_category       4801 non-null object\n",
      "start_date        4801 non-null int64\n",
      "sold              4801 non-null float64\n",
      "country_code      4801 non-null object\n",
      "euribor_rate      4801 non-null float64\n",
      "currency          4801 non-null object\n",
      "libor_rate        4536 non-null float64\n",
      "bought            4801 non-null float64\n",
      "creation_date     4801 non-null int64\n",
      "indicator_code    1950 non-null object\n",
      "sell_date         4801 non-null int64\n",
      "type              4801 non-null object\n",
      "hedge_value       1950 non-null object\n",
      "status            3344 non-null object\n",
      "dtypes: float64(4), int64(3), object(10)\n",
      "memory usage: 637.7+ KB\n"
     ]
    }
   ],
   "source": [
    "return_df.info()\n",
    "print(\"--------------\")\n",
    "test_df.info()"
   ]
  },
  {
   "cell_type": "code",
   "execution_count": 5,
   "metadata": {},
   "outputs": [
    {
     "data": {
      "text/html": [
       "<div>\n",
       "<style>\n",
       "    .dataframe thead tr:only-child th {\n",
       "        text-align: right;\n",
       "    }\n",
       "\n",
       "    .dataframe thead th {\n",
       "        text-align: left;\n",
       "    }\n",
       "\n",
       "    .dataframe tbody tr th {\n",
       "        vertical-align: top;\n",
       "    }\n",
       "</style>\n",
       "<table border=\"1\" class=\"dataframe\">\n",
       "  <thead>\n",
       "    <tr style=\"text-align: right;\">\n",
       "      <th></th>\n",
       "      <th>portfolio_id</th>\n",
       "      <th>desk_id</th>\n",
       "      <th>office_id</th>\n",
       "      <th>pf_category</th>\n",
       "      <th>start_date</th>\n",
       "      <th>sold</th>\n",
       "      <th>country_code</th>\n",
       "      <th>euribor_rate</th>\n",
       "      <th>currency</th>\n",
       "      <th>libor_rate</th>\n",
       "      <th>bought</th>\n",
       "      <th>creation_date</th>\n",
       "      <th>indicator_code</th>\n",
       "      <th>sell_date</th>\n",
       "      <th>type</th>\n",
       "      <th>hedge_value</th>\n",
       "      <th>status</th>\n",
       "      <th>return</th>\n",
       "    </tr>\n",
       "  </thead>\n",
       "  <tbody>\n",
       "    <tr>\n",
       "      <th>572</th>\n",
       "      <td>PF00001860</td>\n",
       "      <td>DSK00001794</td>\n",
       "      <td>OFF00001001</td>\n",
       "      <td>A</td>\n",
       "      <td>20070411</td>\n",
       "      <td>NaN</td>\n",
       "      <td>T</td>\n",
       "      <td>0.03864</td>\n",
       "      <td>USD</td>\n",
       "      <td>4.777636</td>\n",
       "      <td>NaN</td>\n",
       "      <td>20070411</td>\n",
       "      <td>NaN</td>\n",
       "      <td>20070514</td>\n",
       "      <td>A</td>\n",
       "      <td>NaN</td>\n",
       "      <td>NaN</td>\n",
       "      <td>0.04632</td>\n",
       "    </tr>\n",
       "    <tr>\n",
       "      <th>573</th>\n",
       "      <td>PF00001861</td>\n",
       "      <td>DSK00001795</td>\n",
       "      <td>OFF00001001</td>\n",
       "      <td>A</td>\n",
       "      <td>20070411</td>\n",
       "      <td>NaN</td>\n",
       "      <td>T</td>\n",
       "      <td>0.03864</td>\n",
       "      <td>USD</td>\n",
       "      <td>4.777636</td>\n",
       "      <td>NaN</td>\n",
       "      <td>20070411</td>\n",
       "      <td>NaN</td>\n",
       "      <td>20070514</td>\n",
       "      <td>A</td>\n",
       "      <td>NaN</td>\n",
       "      <td>NaN</td>\n",
       "      <td>0.04632</td>\n",
       "    </tr>\n",
       "  </tbody>\n",
       "</table>\n",
       "</div>"
      ],
      "text/plain": [
       "    portfolio_id      desk_id    office_id pf_category  start_date  sold  \\\n",
       "572   PF00001860  DSK00001794  OFF00001001           A    20070411   NaN   \n",
       "573   PF00001861  DSK00001795  OFF00001001           A    20070411   NaN   \n",
       "\n",
       "    country_code  euribor_rate currency  libor_rate  bought  creation_date  \\\n",
       "572            T       0.03864      USD    4.777636     NaN       20070411   \n",
       "573            T       0.03864      USD    4.777636     NaN       20070411   \n",
       "\n",
       "    indicator_code  sell_date type hedge_value status   return  \n",
       "572            NaN   20070514    A         NaN    NaN  0.04632  \n",
       "573            NaN   20070514    A         NaN    NaN  0.04632  "
      ]
     },
     "execution_count": 5,
     "metadata": {},
     "output_type": "execute_result"
    }
   ],
   "source": [
    "return_df[return_df.sold.isnull()]"
   ]
  },
  {
   "cell_type": "code",
   "execution_count": 6,
   "metadata": {},
   "outputs": [
    {
     "data": {
      "text/plain": [
       "<matplotlib.collections.PathCollection at 0x21c6d1cd550>"
      ]
     },
     "execution_count": 6,
     "metadata": {},
     "output_type": "execute_result"
    },
    {
     "data": {
      "image/png": "[encoded data removed]",
      "text/plain": [
       "<matplotlib.figure.Figure at 0x21c6d98b048>"
      ]
     },
     "metadata": {},
     "output_type": "display_data"
    }
   ],
   "source": [
    "plt.scatter(x=return_df.index,y=return_df.sold)"
   ]
  },
  {
   "cell_type": "code",
   "execution_count": 7,
   "metadata": {},
   "outputs": [
    {
     "data": {
      "text/plain": [
       "1.1000000000000001"
      ]
     },
     "execution_count": 7,
     "metadata": {},
     "output_type": "execute_result"
    }
   ],
   "source": [
    "return_df['sold'].min()"
   ]
  },
  {
   "cell_type": "code",
   "execution_count": 8,
   "metadata": {},
   "outputs": [
    {
     "data": {
      "text/plain": [
       "13200000000.0"
      ]
     },
     "execution_count": 8,
     "metadata": {},
     "output_type": "execute_result"
    }
   ],
   "source": [
    "return_df['sold'].max()"
   ]
  },
  {
   "cell_type": "code",
   "execution_count": 9,
   "metadata": {
    "collapsed": true
   },
   "outputs": [],
   "source": [
    "notnullData = return_df[~return_df.sold.isnull()]"
   ]
  },
  {
   "cell_type": "code",
   "execution_count": 10,
   "metadata": {},
   "outputs": [
    {
     "data": {
      "text/plain": [
       "<matplotlib.axes._subplots.AxesSubplot at 0x21c6d062c18>"
      ]
     },
     "execution_count": 10,
     "metadata": {},
     "output_type": "execute_result"
    },
    {
     "data": {
      "image/png": "[encoded data removed]",
      "text/plain": [
       "<matplotlib.figure.Figure at 0x21c6d5a1208>"
      ]
     },
     "metadata": {},
     "output_type": "display_data"
    }
   ],
   "source": [
    "notnullData.sold.hist(bins = 1000)"
   ]
  },
  {
   "cell_type": "code",
   "execution_count": null,
   "metadata": {
    "collapsed": true
   },
   "outputs": [],
   "source": []
  },
  {
   "cell_type": "code",
   "execution_count": 11,
   "metadata": {},
   "outputs": [
    {
     "name": "stderr",
     "output_type": "stream",
     "text": [
      "C:\\Users\\imamk\\Anaconda3\\lib\\site-packages\\ipykernel_launcher.py:1: SettingWithCopyWarning: \n",
      "A value is trying to be set on a copy of a slice from a DataFrame\n",
      "\n",
      "See the caveats in the documentation: http://pandas.pydata.org/pandas-docs/stable/indexing.html#indexing-view-versus-copy\n",
      "  \"\"\"Entry point for launching an IPython kernel.\n"
     ]
    }
   ],
   "source": [
    "return_df.sold[return_df.sold.isnull()] = notnullData.sold.median() "
   ]
  },
  {
   "cell_type": "code",
   "execution_count": 12,
   "metadata": {},
   "outputs": [
    {
     "name": "stdout",
     "output_type": "stream",
     "text": [
      "<class 'pandas.core.frame.DataFrame'>\n",
      "RangeIndex: 9366 entries, 0 to 9365\n",
      "Data columns (total 18 columns):\n",
      "portfolio_id      9366 non-null object\n",
      "desk_id           5701 non-null object\n",
      "office_id         9366 non-null object\n",
      "pf_category       9366 non-null object\n",
      "start_date        9366 non-null int64\n",
      "sold              9366 non-null float64\n",
      "country_code      9366 non-null object\n",
      "euribor_rate      9366 non-null float64\n",
      "currency          9366 non-null object\n",
      "libor_rate        8892 non-null float64\n",
      "bought            9364 non-null float64\n",
      "creation_date     9366 non-null int64\n",
      "indicator_code    3667 non-null object\n",
      "sell_date         9366 non-null int64\n",
      "type              9366 non-null object\n",
      "hedge_value       3665 non-null object\n",
      "status            6282 non-null object\n",
      "return            9366 non-null float64\n",
      "dtypes: float64(5), int64(3), object(10)\n",
      "memory usage: 1.3+ MB\n"
     ]
    }
   ],
   "source": [
    "return_df.info()"
   ]
  },
  {
   "cell_type": "code",
   "execution_count": 13,
   "metadata": {
    "collapsed": true
   },
   "outputs": [],
   "source": [
    "notnullData = return_df[~return_df.libor_rate.isnull()]"
   ]
  },
  {
   "cell_type": "code",
   "execution_count": 14,
   "metadata": {},
   "outputs": [
    {
     "data": {
      "text/plain": [
       "<matplotlib.collections.PathCollection at 0x21c6db56a20>"
      ]
     },
     "execution_count": 14,
     "metadata": {},
     "output_type": "execute_result"
    },
    {
     "data": {
      "image/png": "[encoded data removed]",
      "text/plain": [
       "<matplotlib.figure.Figure at 0x21c6d686a20>"
      ]
     },
     "metadata": {},
     "output_type": "display_data"
    }
   ],
   "source": [
    "plt.scatter(x=notnullData['libor_rate'],y=notnullData['return'],alpha=0.6)"
   ]
  },
  {
   "cell_type": "code",
   "execution_count": 15,
   "metadata": {},
   "outputs": [
    {
     "data": {
      "text/plain": [
       "<matplotlib.collections.PathCollection at 0x21c6e0d3470>"
      ]
     },
     "execution_count": 15,
     "metadata": {},
     "output_type": "execute_result"
    },
    {
     "data": {
      "image/png": "[encoded data removed]",
      "text/plain": [
       "<matplotlib.figure.Figure at 0x21c6d5a1080>"
      ]
     },
     "metadata": {},
     "output_type": "display_data"
    }
   ],
   "source": [
    "plt.scatter(x = notnullData['euribor_rate'],y= notnullData['libor_rate'],cmap=notnullData.currency)"
   ]
  },
  {
   "cell_type": "code",
   "execution_count": 16,
   "metadata": {
    "collapsed": true
   },
   "outputs": [],
   "source": [
    "libor_minus_data =return_df[return_df['libor_rate'].isnull()]"
   ]
  },
  {
   "cell_type": "code",
   "execution_count": 17,
   "metadata": {
    "collapsed": true
   },
   "outputs": [],
   "source": [
    "euro_data = return_df[return_df['currency'] == \"EUR\"]"
   ]
  },
  {
   "cell_type": "code",
   "execution_count": 18,
   "metadata": {},
   "outputs": [
    {
     "data": {
      "text/plain": [
       "(481, 18)"
      ]
     },
     "execution_count": 18,
     "metadata": {},
     "output_type": "execute_result"
    }
   ],
   "source": [
    "euro_data.shape"
   ]
  },
  {
   "cell_type": "code",
   "execution_count": 19,
   "metadata": {},
   "outputs": [
    {
     "data": {
      "text/plain": [
       "array(['A', 'D', 'E'], dtype=object)"
      ]
     },
     "execution_count": 19,
     "metadata": {},
     "output_type": "execute_result"
    }
   ],
   "source": [
    "libor_minus_data.pf_category.unique()"
   ]
  },
  {
   "cell_type": "code",
   "execution_count": 20,
   "metadata": {},
   "outputs": [
    {
     "data": {
      "text/plain": [
       "array(['EUR'], dtype=object)"
      ]
     },
     "execution_count": 20,
     "metadata": {},
     "output_type": "execute_result"
    }
   ],
   "source": [
    "libor_minus_data.currency.unique()"
   ]
  },
  {
   "cell_type": "code",
   "execution_count": 21,
   "metadata": {},
   "outputs": [
    {
     "data": {
      "text/html": [
       "<div>\n",
       "<style>\n",
       "    .dataframe thead tr:only-child th {\n",
       "        text-align: right;\n",
       "    }\n",
       "\n",
       "    .dataframe thead th {\n",
       "        text-align: left;\n",
       "    }\n",
       "\n",
       "    .dataframe tbody tr th {\n",
       "        vertical-align: top;\n",
       "    }\n",
       "</style>\n",
       "<table border=\"1\" class=\"dataframe\">\n",
       "  <thead>\n",
       "    <tr style=\"text-align: right;\">\n",
       "      <th></th>\n",
       "      <th>portfolio_id</th>\n",
       "      <th>desk_id</th>\n",
       "      <th>office_id</th>\n",
       "      <th>pf_category</th>\n",
       "      <th>start_date</th>\n",
       "      <th>sold</th>\n",
       "      <th>country_code</th>\n",
       "      <th>euribor_rate</th>\n",
       "      <th>currency</th>\n",
       "      <th>libor_rate</th>\n",
       "      <th>bought</th>\n",
       "      <th>creation_date</th>\n",
       "      <th>indicator_code</th>\n",
       "      <th>sell_date</th>\n",
       "      <th>type</th>\n",
       "      <th>hedge_value</th>\n",
       "      <th>status</th>\n",
       "      <th>return</th>\n",
       "    </tr>\n",
       "  </thead>\n",
       "  <tbody>\n",
       "    <tr>\n",
       "      <th>7762</th>\n",
       "      <td>PF00012796</td>\n",
       "      <td>NaN</td>\n",
       "      <td>OFF00001002</td>\n",
       "      <td>B</td>\n",
       "      <td>20150515</td>\n",
       "      <td>22000000.0</td>\n",
       "      <td>Z</td>\n",
       "      <td>-0.00042</td>\n",
       "      <td>EUR</td>\n",
       "      <td>0.156735</td>\n",
       "      <td>2.195557e+07</td>\n",
       "      <td>20150513</td>\n",
       "      <td>True</td>\n",
       "      <td>20150615</td>\n",
       "      <td>H</td>\n",
       "      <td>False</td>\n",
       "      <td>True</td>\n",
       "      <td>0.02820</td>\n",
       "    </tr>\n",
       "    <tr>\n",
       "      <th>7864</th>\n",
       "      <td>PF00012900</td>\n",
       "      <td>NaN</td>\n",
       "      <td>OFF00001002</td>\n",
       "      <td>B</td>\n",
       "      <td>20150615</td>\n",
       "      <td>22000000.0</td>\n",
       "      <td>Z</td>\n",
       "      <td>-0.00057</td>\n",
       "      <td>EUR</td>\n",
       "      <td>0.172437</td>\n",
       "      <td>2.195700e+07</td>\n",
       "      <td>20150611</td>\n",
       "      <td>True</td>\n",
       "      <td>20150715</td>\n",
       "      <td>H</td>\n",
       "      <td>False</td>\n",
       "      <td>True</td>\n",
       "      <td>0.02820</td>\n",
       "    </tr>\n",
       "    <tr>\n",
       "      <th>7924</th>\n",
       "      <td>PF00013242</td>\n",
       "      <td>NaN</td>\n",
       "      <td>OFF00001002</td>\n",
       "      <td>B</td>\n",
       "      <td>20150917</td>\n",
       "      <td>22000000.0</td>\n",
       "      <td>Z</td>\n",
       "      <td>-0.00099</td>\n",
       "      <td>EUR</td>\n",
       "      <td>0.141111</td>\n",
       "      <td>2.195395e+07</td>\n",
       "      <td>20150915</td>\n",
       "      <td>True</td>\n",
       "      <td>20151019</td>\n",
       "      <td>H</td>\n",
       "      <td>False</td>\n",
       "      <td>True</td>\n",
       "      <td>0.02832</td>\n",
       "    </tr>\n",
       "    <tr>\n",
       "      <th>8008</th>\n",
       "      <td>PF00012910</td>\n",
       "      <td>NaN</td>\n",
       "      <td>OFF00001002</td>\n",
       "      <td>B</td>\n",
       "      <td>20150618</td>\n",
       "      <td>33000000.0</td>\n",
       "      <td>Z</td>\n",
       "      <td>-0.00057</td>\n",
       "      <td>EUR</td>\n",
       "      <td>0.172437</td>\n",
       "      <td>3.293121e+07</td>\n",
       "      <td>20150616</td>\n",
       "      <td>True</td>\n",
       "      <td>20150720</td>\n",
       "      <td>H</td>\n",
       "      <td>False</td>\n",
       "      <td>True</td>\n",
       "      <td>0.02820</td>\n",
       "    </tr>\n",
       "    <tr>\n",
       "      <th>8177</th>\n",
       "      <td>PF00013444</td>\n",
       "      <td>NaN</td>\n",
       "      <td>OFF00001002</td>\n",
       "      <td>B</td>\n",
       "      <td>20151119</td>\n",
       "      <td>22000000.0</td>\n",
       "      <td>Z</td>\n",
       "      <td>-0.00119</td>\n",
       "      <td>EUR</td>\n",
       "      <td>0.068843</td>\n",
       "      <td>2.195453e+07</td>\n",
       "      <td>20151117</td>\n",
       "      <td>True</td>\n",
       "      <td>20151221</td>\n",
       "      <td>H</td>\n",
       "      <td>False</td>\n",
       "      <td>True</td>\n",
       "      <td>0.02796</td>\n",
       "    </tr>\n",
       "    <tr>\n",
       "      <th>8787</th>\n",
       "      <td>PF00013148</td>\n",
       "      <td>NaN</td>\n",
       "      <td>OFF00001002</td>\n",
       "      <td>B</td>\n",
       "      <td>20150817</td>\n",
       "      <td>22000000.0</td>\n",
       "      <td>Z</td>\n",
       "      <td>-0.00078</td>\n",
       "      <td>EUR</td>\n",
       "      <td>0.151360</td>\n",
       "      <td>2.195557e+07</td>\n",
       "      <td>20150813</td>\n",
       "      <td>True</td>\n",
       "      <td>20150917</td>\n",
       "      <td>H</td>\n",
       "      <td>False</td>\n",
       "      <td>True</td>\n",
       "      <td>0.02820</td>\n",
       "    </tr>\n",
       "    <tr>\n",
       "      <th>9242</th>\n",
       "      <td>PF00013033</td>\n",
       "      <td>NaN</td>\n",
       "      <td>OFF00001002</td>\n",
       "      <td>B</td>\n",
       "      <td>20150720</td>\n",
       "      <td>33000000.0</td>\n",
       "      <td>Z</td>\n",
       "      <td>-0.00064</td>\n",
       "      <td>EUR</td>\n",
       "      <td>0.167049</td>\n",
       "      <td>3.293307e+07</td>\n",
       "      <td>20150716</td>\n",
       "      <td>True</td>\n",
       "      <td>20150820</td>\n",
       "      <td>H</td>\n",
       "      <td>False</td>\n",
       "      <td>True</td>\n",
       "      <td>0.02832</td>\n",
       "    </tr>\n",
       "  </tbody>\n",
       "</table>\n",
       "</div>"
      ],
      "text/plain": [
       "     portfolio_id desk_id    office_id pf_category  start_date        sold  \\\n",
       "7762   PF00012796     NaN  OFF00001002           B    20150515  22000000.0   \n",
       "7864   PF00012900     NaN  OFF00001002           B    20150615  22000000.0   \n",
       "7924   PF00013242     NaN  OFF00001002           B    20150917  22000000.0   \n",
       "8008   PF00012910     NaN  OFF00001002           B    20150618  33000000.0   \n",
       "8177   PF00013444     NaN  OFF00001002           B    20151119  22000000.0   \n",
       "8787   PF00013148     NaN  OFF00001002           B    20150817  22000000.0   \n",
       "9242   PF00013033     NaN  OFF00001002           B    20150720  33000000.0   \n",
       "\n",
       "     country_code  euribor_rate currency  libor_rate        bought  \\\n",
       "7762            Z      -0.00042      EUR    0.156735  2.195557e+07   \n",
       "7864            Z      -0.00057      EUR    0.172437  2.195700e+07   \n",
       "7924            Z      -0.00099      EUR    0.141111  2.195395e+07   \n",
       "8008            Z      -0.00057      EUR    0.172437  3.293121e+07   \n",
       "8177            Z      -0.00119      EUR    0.068843  2.195453e+07   \n",
       "8787            Z      -0.00078      EUR    0.151360  2.195557e+07   \n",
       "9242            Z      -0.00064      EUR    0.167049  3.293307e+07   \n",
       "\n",
       "      creation_date indicator_code  sell_date type hedge_value status   return  \n",
       "7762       20150513           True   20150615    H       False   True  0.02820  \n",
       "7864       20150611           True   20150715    H       False   True  0.02820  \n",
       "7924       20150915           True   20151019    H       False   True  0.02832  \n",
       "8008       20150616           True   20150720    H       False   True  0.02820  \n",
       "8177       20151117           True   20151221    H       False   True  0.02796  \n",
       "8787       20150813           True   20150917    H       False   True  0.02820  \n",
       "9242       20150716           True   20150820    H       False   True  0.02832  "
      ]
     },
     "execution_count": 21,
     "metadata": {},
     "output_type": "execute_result"
    }
   ],
   "source": [
    "notnullData[notnullData.currency == 'EUR']"
   ]
  },
  {
   "cell_type": "code",
   "execution_count": 22,
   "metadata": {
    "collapsed": true
   },
   "outputs": [],
   "source": [
    "\n",
    "def convert_to_date_Object(date_list):\n",
    "    new_list = []\n",
    "    for dates in date_list:\n",
    "        cus_date = datetime.strptime(str(dates), \"%Y%m%d\").date()\n",
    "        new_list.append(cus_date)\n",
    "    return new_list"
   ]
  },
  {
   "cell_type": "code",
   "execution_count": 23,
   "metadata": {
    "collapsed": true
   },
   "outputs": [],
   "source": [
    "return_df['start_date'] = convert_to_date_Object(return_df['start_date']) \n",
    "test_df['start_date'] = convert_to_date_Object(test_df['start_date'])\n",
    "\n",
    "return_df['creation_date'] = convert_to_date_Object(return_df['creation_date'])\n",
    "test_df['creation_date'] =  convert_to_date_Object(test_df['creation_date'])\n",
    "\n",
    "return_df['sell_date'] = convert_to_date_Object(return_df['sell_date'])\n",
    "test_df['sell_date'] = convert_to_date_Object(test_df['sell_date'])"
   ]
  },
  {
   "cell_type": "code",
   "execution_count": 24,
   "metadata": {},
   "outputs": [
    {
     "data": {
      "text/html": [
       "<div>\n",
       "<style>\n",
       "    .dataframe thead tr:only-child th {\n",
       "        text-align: right;\n",
       "    }\n",
       "\n",
       "    .dataframe thead th {\n",
       "        text-align: left;\n",
       "    }\n",
       "\n",
       "    .dataframe tbody tr th {\n",
       "        vertical-align: top;\n",
       "    }\n",
       "</style>\n",
       "<table border=\"1\" class=\"dataframe\">\n",
       "  <thead>\n",
       "    <tr style=\"text-align: right;\">\n",
       "      <th></th>\n",
       "      <th>portfolio_id</th>\n",
       "      <th>desk_id</th>\n",
       "      <th>office_id</th>\n",
       "      <th>pf_category</th>\n",
       "      <th>start_date</th>\n",
       "      <th>sold</th>\n",
       "      <th>country_code</th>\n",
       "      <th>euribor_rate</th>\n",
       "      <th>currency</th>\n",
       "      <th>libor_rate</th>\n",
       "      <th>bought</th>\n",
       "      <th>creation_date</th>\n",
       "      <th>indicator_code</th>\n",
       "      <th>sell_date</th>\n",
       "      <th>type</th>\n",
       "      <th>hedge_value</th>\n",
       "      <th>status</th>\n",
       "      <th>return</th>\n",
       "    </tr>\n",
       "  </thead>\n",
       "  <tbody>\n",
       "    <tr>\n",
       "      <th>0</th>\n",
       "      <td>PF00001002</td>\n",
       "      <td>DSK00001001</td>\n",
       "      <td>OFF00001002</td>\n",
       "      <td>B</td>\n",
       "      <td>2004-07-20</td>\n",
       "      <td>110000000.0</td>\n",
       "      <td>T</td>\n",
       "      <td>0.02074</td>\n",
       "      <td>USD</td>\n",
       "      <td>2.332216</td>\n",
       "      <td>1.098097e+08</td>\n",
       "      <td>2004-07-20</td>\n",
       "      <td>NaN</td>\n",
       "      <td>2004-08-12</td>\n",
       "      <td>B</td>\n",
       "      <td>NaN</td>\n",
       "      <td>NaN</td>\n",
       "      <td>0.02496</td>\n",
       "    </tr>\n",
       "    <tr>\n",
       "      <th>1</th>\n",
       "      <td>PF00001003</td>\n",
       "      <td>DSK00001002</td>\n",
       "      <td>OFF00001001</td>\n",
       "      <td>A</td>\n",
       "      <td>2004-07-09</td>\n",
       "      <td>176671000.0</td>\n",
       "      <td>N</td>\n",
       "      <td>0.02074</td>\n",
       "      <td>GBP</td>\n",
       "      <td>5.269617</td>\n",
       "      <td>1.760084e+08</td>\n",
       "      <td>2004-07-23</td>\n",
       "      <td>NaN</td>\n",
       "      <td>2004-08-12</td>\n",
       "      <td>C</td>\n",
       "      <td>NaN</td>\n",
       "      <td>NaN</td>\n",
       "      <td>0.05496</td>\n",
       "    </tr>\n",
       "    <tr>\n",
       "      <th>2</th>\n",
       "      <td>PF00001005</td>\n",
       "      <td>DSK00001004</td>\n",
       "      <td>OFF00001001</td>\n",
       "      <td>A</td>\n",
       "      <td>2004-07-23</td>\n",
       "      <td>56474000.0</td>\n",
       "      <td>T</td>\n",
       "      <td>0.02074</td>\n",
       "      <td>USD</td>\n",
       "      <td>2.332216</td>\n",
       "      <td>5.637953e+07</td>\n",
       "      <td>2004-07-23</td>\n",
       "      <td>NaN</td>\n",
       "      <td>2004-08-17</td>\n",
       "      <td>A</td>\n",
       "      <td>NaN</td>\n",
       "      <td>NaN</td>\n",
       "      <td>0.02496</td>\n",
       "    </tr>\n",
       "    <tr>\n",
       "      <th>3</th>\n",
       "      <td>PF00001006</td>\n",
       "      <td>DSK00001005</td>\n",
       "      <td>OFF00001001</td>\n",
       "      <td>A</td>\n",
       "      <td>2004-06-09</td>\n",
       "      <td>164813000.0</td>\n",
       "      <td>T</td>\n",
       "      <td>0.02074</td>\n",
       "      <td>USD</td>\n",
       "      <td>2.332216</td>\n",
       "      <td>1.645088e+08</td>\n",
       "      <td>2004-07-23</td>\n",
       "      <td>NaN</td>\n",
       "      <td>2004-07-13</td>\n",
       "      <td>A</td>\n",
       "      <td>NaN</td>\n",
       "      <td>NaN</td>\n",
       "      <td>0.02496</td>\n",
       "    </tr>\n",
       "    <tr>\n",
       "      <th>4</th>\n",
       "      <td>PF00001007</td>\n",
       "      <td>DSK00001005</td>\n",
       "      <td>OFF00001002</td>\n",
       "      <td>B</td>\n",
       "      <td>2004-06-09</td>\n",
       "      <td>140800000.0</td>\n",
       "      <td>T</td>\n",
       "      <td>0.02074</td>\n",
       "      <td>USD</td>\n",
       "      <td>2.332216</td>\n",
       "      <td>1.405402e+08</td>\n",
       "      <td>2004-07-23</td>\n",
       "      <td>NaN</td>\n",
       "      <td>2004-07-13</td>\n",
       "      <td>B</td>\n",
       "      <td>NaN</td>\n",
       "      <td>NaN</td>\n",
       "      <td>0.02496</td>\n",
       "    </tr>\n",
       "  </tbody>\n",
       "</table>\n",
       "</div>"
      ],
      "text/plain": [
       "  portfolio_id      desk_id    office_id pf_category  start_date         sold  \\\n",
       "0   PF00001002  DSK00001001  OFF00001002           B  2004-07-20  110000000.0   \n",
       "1   PF00001003  DSK00001002  OFF00001001           A  2004-07-09  176671000.0   \n",
       "2   PF00001005  DSK00001004  OFF00001001           A  2004-07-23   56474000.0   \n",
       "3   PF00001006  DSK00001005  OFF00001001           A  2004-06-09  164813000.0   \n",
       "4   PF00001007  DSK00001005  OFF00001002           B  2004-06-09  140800000.0   \n",
       "\n",
       "  country_code  euribor_rate currency  libor_rate        bought creation_date  \\\n",
       "0            T       0.02074      USD    2.332216  1.098097e+08    2004-07-20   \n",
       "1            N       0.02074      GBP    5.269617  1.760084e+08    2004-07-23   \n",
       "2            T       0.02074      USD    2.332216  5.637953e+07    2004-07-23   \n",
       "3            T       0.02074      USD    2.332216  1.645088e+08    2004-07-23   \n",
       "4            T       0.02074      USD    2.332216  1.405402e+08    2004-07-23   \n",
       "\n",
       "  indicator_code   sell_date type hedge_value status   return  \n",
       "0            NaN  2004-08-12    B         NaN    NaN  0.02496  \n",
       "1            NaN  2004-08-12    C         NaN    NaN  0.05496  \n",
       "2            NaN  2004-08-17    A         NaN    NaN  0.02496  \n",
       "3            NaN  2004-07-13    A         NaN    NaN  0.02496  \n",
       "4            NaN  2004-07-13    B         NaN    NaN  0.02496  "
      ]
     },
     "execution_count": 24,
     "metadata": {},
     "output_type": "execute_result"
    }
   ],
   "source": [
    "return_df.head()"
   ]
  },
  {
   "cell_type": "code",
   "execution_count": 25,
   "metadata": {
    "collapsed": true
   },
   "outputs": [],
   "source": [
    "libor_minus_data = return_df[~return_df.libor_rate.isnull()]"
   ]
  },
  {
   "cell_type": "code",
   "execution_count": 26,
   "metadata": {
    "collapsed": true
   },
   "outputs": [],
   "source": [
    "libor_minus_data_grouped = libor_minus_data.groupby('creation_date')['libor_rate'].mean()"
   ]
  },
  {
   "cell_type": "code",
   "execution_count": 27,
   "metadata": {},
   "outputs": [
    {
     "data": {
      "text/plain": [
       "<matplotlib.axes._subplots.AxesSubplot at 0x21c6e0e9550>"
      ]
     },
     "execution_count": 27,
     "metadata": {},
     "output_type": "execute_result"
    },
    {
     "data": {
      "image/png": "[encoded data removed]",
      "text/plain": [
       "<matplotlib.figure.Figure at 0x21c6df5fda0>"
      ]
     },
     "metadata": {},
     "output_type": "display_data"
    }
   ],
   "source": [
    "libor_minus_data_grouped.plot()"
   ]
  },
  {
   "cell_type": "code",
   "execution_count": 28,
   "metadata": {
    "collapsed": true
   },
   "outputs": [],
   "source": [
    "dates_not_got = return_df[return_df.libor_rate.isnull()].creation_date.unique()"
   ]
  },
  {
   "cell_type": "code",
   "execution_count": 29,
   "metadata": {
    "collapsed": true
   },
   "outputs": [],
   "source": [
    "previous_rate = 0.0\n",
    "for index,row in return_df.iterrows():\n",
    "    if (math.isnan(row['libor_rate'])):\n",
    "        if row['creation_date'] in libor_minus_data_grouped.index:\n",
    "            row['libor_rate'] = libor_minus_data_grouped.get_value(row['creation_date'])\n",
    "            previous_rate=row['libor_rate']\n",
    "            return_df.loc[index,'libor_rate'] = row['libor_rate']\n",
    "        else:\n",
    "            return_df.loc[index,'libor_rate'] = previous_rate"
   ]
  },
  {
   "cell_type": "code",
   "execution_count": 30,
   "metadata": {
    "collapsed": true
   },
   "outputs": [],
   "source": [
    "previous_rate = 0.0\n",
    "for index,row in test_df.iterrows():\n",
    "    if (math.isnan(row['libor_rate'])):\n",
    "        if row['creation_date'] in libor_minus_data_grouped.index:\n",
    "            row['libor_rate'] = libor_minus_data_grouped.get_value(row['creation_date'])\n",
    "            previous_rate=row['libor_rate']\n",
    "            test_df.loc[index,'libor_rate'] = row['libor_rate']\n",
    "        else:\n",
    "            test_df.loc[index,'libor_rate'] = previous_rate"
   ]
  },
  {
   "cell_type": "code",
   "execution_count": 31,
   "metadata": {},
   "outputs": [
    {
     "name": "stdout",
     "output_type": "stream",
     "text": [
      "<class 'pandas.core.frame.DataFrame'>\n",
      "RangeIndex: 9366 entries, 0 to 9365\n",
      "Data columns (total 18 columns):\n",
      "portfolio_id      9366 non-null object\n",
      "desk_id           5701 non-null object\n",
      "office_id         9366 non-null object\n",
      "pf_category       9366 non-null object\n",
      "start_date        9366 non-null object\n",
      "sold              9366 non-null float64\n",
      "country_code      9366 non-null object\n",
      "euribor_rate      9366 non-null float64\n",
      "currency          9366 non-null object\n",
      "libor_rate        9366 non-null float64\n",
      "bought            9364 non-null float64\n",
      "creation_date     9366 non-null object\n",
      "indicator_code    3667 non-null object\n",
      "sell_date         9366 non-null object\n",
      "type              9366 non-null object\n",
      "hedge_value       3665 non-null object\n",
      "status            6282 non-null object\n",
      "return            9366 non-null float64\n",
      "dtypes: float64(5), object(13)\n",
      "memory usage: 1.3+ MB\n",
      "-------\n",
      "<class 'pandas.core.frame.DataFrame'>\n",
      "RangeIndex: 4801 entries, 0 to 4800\n",
      "Data columns (total 17 columns):\n",
      "portfolio_id      4801 non-null object\n",
      "desk_id           2853 non-null object\n",
      "office_id         4801 non-null object\n",
      "pf_category       4801 non-null object\n",
      "start_date        4801 non-null object\n",
      "sold              4801 non-null float64\n",
      "country_code      4801 non-null object\n",
      "euribor_rate      4801 non-null float64\n",
      "currency          4801 non-null object\n",
      "libor_rate        4801 non-null float64\n",
      "bought            4801 non-null float64\n",
      "creation_date     4801 non-null object\n",
      "indicator_code    1950 non-null object\n",
      "sell_date         4801 non-null object\n",
      "type              4801 non-null object\n",
      "hedge_value       1950 non-null object\n",
      "status            3344 non-null object\n",
      "dtypes: float64(4), object(13)\n",
      "memory usage: 637.7+ KB\n"
     ]
    }
   ],
   "source": [
    "return_df.info()\n",
    "print(\"-------\")\n",
    "test_df.info()"
   ]
  },
  {
   "cell_type": "code",
   "execution_count": 32,
   "metadata": {},
   "outputs": [
    {
     "data": {
      "text/plain": [
       "array([nan, True], dtype=object)"
      ]
     },
     "execution_count": 32,
     "metadata": {},
     "output_type": "execute_result"
    }
   ],
   "source": [
    "return_df.indicator_code.unique()"
   ]
  },
  {
   "cell_type": "code",
   "execution_count": 33,
   "metadata": {
    "collapsed": true
   },
   "outputs": [],
   "source": [
    "lb = LabelEncoder()"
   ]
  },
  {
   "cell_type": "code",
   "execution_count": 34,
   "metadata": {
    "collapsed": true
   },
   "outputs": [],
   "source": [
    "indi_values = lb.fit_transform(return_df.indicator_code.astype('str'))"
   ]
  },
  {
   "cell_type": "code",
   "execution_count": 35,
   "metadata": {},
   "outputs": [
    {
     "data": {
      "text/plain": [
       "(array([ 3667.,     0.,     0.,     0.,     0.,     0.,     0.,     0.,\n",
       "            0.,  5699.]),\n",
       " array([ 0. ,  0.1,  0.2,  0.3,  0.4,  0.5,  0.6,  0.7,  0.8,  0.9,  1. ]),\n",
       " <a list of 10 Patch objects>)"
      ]
     },
     "execution_count": 35,
     "metadata": {},
     "output_type": "execute_result"
    },
    {
     "data": {
      "image/png": "[encoded data removed]",
      "text/plain": [
       "<matplotlib.figure.Figure at 0x21c6f26af28>"
      ]
     },
     "metadata": {},
     "output_type": "display_data"
    }
   ],
   "source": [
    "plt.hist(indi_values)\n"
   ]
  },
  {
   "cell_type": "code",
   "execution_count": 36,
   "metadata": {
    "collapsed": true
   },
   "outputs": [],
   "source": [
    "return_df.indicator_code = indi_values"
   ]
  },
  {
   "cell_type": "code",
   "execution_count": 37,
   "metadata": {
    "collapsed": true
   },
   "outputs": [],
   "source": [
    "test_df.indicator_code = lb.fit_transform(test_df.indicator_code.astype('str'))"
   ]
  },
  {
   "cell_type": "code",
   "execution_count": 38,
   "metadata": {},
   "outputs": [
    {
     "name": "stdout",
     "output_type": "stream",
     "text": [
      "<class 'pandas.core.frame.DataFrame'>\n",
      "RangeIndex: 9366 entries, 0 to 9365\n",
      "Data columns (total 18 columns):\n",
      "portfolio_id      9366 non-null object\n",
      "desk_id           5701 non-null object\n",
      "office_id         9366 non-null object\n",
      "pf_category       9366 non-null object\n",
      "start_date        9366 non-null object\n",
      "sold              9366 non-null float64\n",
      "country_code      9366 non-null object\n",
      "euribor_rate      9366 non-null float64\n",
      "currency          9366 non-null object\n",
      "libor_rate        9366 non-null float64\n",
      "bought            9364 non-null float64\n",
      "creation_date     9366 non-null object\n",
      "indicator_code    9366 non-null int64\n",
      "sell_date         9366 non-null object\n",
      "type              9366 non-null object\n",
      "hedge_value       3665 non-null object\n",
      "status            6282 non-null object\n",
      "return            9366 non-null float64\n",
      "dtypes: float64(5), int64(1), object(12)\n",
      "memory usage: 1.3+ MB\n",
      "-----------\n",
      "<class 'pandas.core.frame.DataFrame'>\n",
      "RangeIndex: 4801 entries, 0 to 4800\n",
      "Data columns (total 17 columns):\n",
      "portfolio_id      4801 non-null object\n",
      "desk_id           2853 non-null object\n",
      "office_id         4801 non-null object\n",
      "pf_category       4801 non-null object\n",
      "start_date        4801 non-null object\n",
      "sold              4801 non-null float64\n",
      "country_code      4801 non-null object\n",
      "euribor_rate      4801 non-null float64\n",
      "currency          4801 non-null object\n",
      "libor_rate        4801 non-null float64\n",
      "bought            4801 non-null float64\n",
      "creation_date     4801 non-null object\n",
      "indicator_code    4801 non-null int64\n",
      "sell_date         4801 non-null object\n",
      "type              4801 non-null object\n",
      "hedge_value       1950 non-null object\n",
      "status            3344 non-null object\n",
      "dtypes: float64(4), int64(1), object(12)\n",
      "memory usage: 637.7+ KB\n"
     ]
    }
   ],
   "source": [
    "return_df.info()\n",
    "print(\"-----------\")\n",
    "test_df.info()"
   ]
  },
  {
   "cell_type": "code",
   "execution_count": 39,
   "metadata": {},
   "outputs": [
    {
     "data": {
      "text/plain": [
       "array([nan, True, False], dtype=object)"
      ]
     },
     "execution_count": 39,
     "metadata": {},
     "output_type": "execute_result"
    }
   ],
   "source": [
    "return_df.hedge_value.unique()"
   ]
  },
  {
   "cell_type": "code",
   "execution_count": 40,
   "metadata": {
    "collapsed": true
   },
   "outputs": [],
   "source": [
    "return_df.hedge_value.fillna(False,inplace=True)"
   ]
  },
  {
   "cell_type": "code",
   "execution_count": 41,
   "metadata": {
    "collapsed": true
   },
   "outputs": [],
   "source": [
    "test_df.hedge_value.fillna(False,inplace=True)"
   ]
  },
  {
   "cell_type": "code",
   "execution_count": 42,
   "metadata": {
    "collapsed": true
   },
   "outputs": [],
   "source": [
    "return_df.hedge_value = lb.fit_transform(return_df.hedge_value.astype('str'))\n",
    "test_df.hedge_value = lb.fit_transform(test_df.hedge_value.astype('str'))"
   ]
  },
  {
   "cell_type": "code",
   "execution_count": 43,
   "metadata": {},
   "outputs": [
    {
     "name": "stdout",
     "output_type": "stream",
     "text": [
      "-----------\n",
      "<class 'pandas.core.frame.DataFrame'>\n",
      "RangeIndex: 4801 entries, 0 to 4800\n",
      "Data columns (total 17 columns):\n",
      "portfolio_id      4801 non-null object\n",
      "desk_id           2853 non-null object\n",
      "office_id         4801 non-null object\n",
      "pf_category       4801 non-null object\n",
      "start_date        4801 non-null object\n",
      "sold              4801 non-null float64\n",
      "country_code      4801 non-null object\n",
      "euribor_rate      4801 non-null float64\n",
      "currency          4801 non-null object\n",
      "libor_rate        4801 non-null float64\n",
      "bought            4801 non-null float64\n",
      "creation_date     4801 non-null object\n",
      "indicator_code    4801 non-null int64\n",
      "sell_date         4801 non-null object\n",
      "type              4801 non-null object\n",
      "hedge_value       4801 non-null int64\n",
      "status            3344 non-null object\n",
      "dtypes: float64(4), int64(2), object(11)\n",
      "memory usage: 637.7+ KB\n"
     ]
    }
   ],
   "source": [
    "print(\"-----------\")\n",
    "test_df.info()"
   ]
  },
  {
   "cell_type": "code",
   "execution_count": 44,
   "metadata": {
    "collapsed": true
   },
   "outputs": [],
   "source": [
    "return_df.status = lb.fit_transform(return_df.status.astype('str'))\n",
    "test_df.status = lb.fit_transform(test_df.status.astype('str'))"
   ]
  },
  {
   "cell_type": "code",
   "execution_count": 45,
   "metadata": {},
   "outputs": [
    {
     "name": "stdout",
     "output_type": "stream",
     "text": [
      "<class 'pandas.core.frame.DataFrame'>\n",
      "RangeIndex: 9366 entries, 0 to 9365\n",
      "Data columns (total 18 columns):\n",
      "portfolio_id      9366 non-null object\n",
      "desk_id           5701 non-null object\n",
      "office_id         9366 non-null object\n",
      "pf_category       9366 non-null object\n",
      "start_date        9366 non-null object\n",
      "sold              9366 non-null float64\n",
      "country_code      9366 non-null object\n",
      "euribor_rate      9366 non-null float64\n",
      "currency          9366 non-null object\n",
      "libor_rate        9366 non-null float64\n",
      "bought            9364 non-null float64\n",
      "creation_date     9366 non-null object\n",
      "indicator_code    9366 non-null int64\n",
      "sell_date         9366 non-null object\n",
      "type              9366 non-null object\n",
      "hedge_value       9366 non-null int64\n",
      "status            9366 non-null int64\n",
      "return            9366 non-null float64\n",
      "dtypes: float64(5), int64(3), object(10)\n",
      "memory usage: 1.3+ MB\n",
      "-----------\n",
      "<class 'pandas.core.frame.DataFrame'>\n",
      "RangeIndex: 4801 entries, 0 to 4800\n",
      "Data columns (total 17 columns):\n",
      "portfolio_id      4801 non-null object\n",
      "desk_id           2853 non-null object\n",
      "office_id         4801 non-null object\n",
      "pf_category       4801 non-null object\n",
      "start_date        4801 non-null object\n",
      "sold              4801 non-null float64\n",
      "country_code      4801 non-null object\n",
      "euribor_rate      4801 non-null float64\n",
      "currency          4801 non-null object\n",
      "libor_rate        4801 non-null float64\n",
      "bought            4801 non-null float64\n",
      "creation_date     4801 non-null object\n",
      "indicator_code    4801 non-null int64\n",
      "sell_date         4801 non-null object\n",
      "type              4801 non-null object\n",
      "hedge_value       4801 non-null int64\n",
      "status            4801 non-null int64\n",
      "dtypes: float64(4), int64(3), object(10)\n",
      "memory usage: 637.7+ KB\n"
     ]
    }
   ],
   "source": [
    "return_df.info()\n",
    "print(\"-----------\")\n",
    "test_df.info()"
   ]
  },
  {
   "cell_type": "code",
   "execution_count": 46,
   "metadata": {},
   "outputs": [
    {
     "data": {
      "text/html": [
       "<div>\n",
       "<style>\n",
       "    .dataframe thead tr:only-child th {\n",
       "        text-align: right;\n",
       "    }\n",
       "\n",
       "    .dataframe thead th {\n",
       "        text-align: left;\n",
       "    }\n",
       "\n",
       "    .dataframe tbody tr th {\n",
       "        vertical-align: top;\n",
       "    }\n",
       "</style>\n",
       "<table border=\"1\" class=\"dataframe\">\n",
       "  <thead>\n",
       "    <tr style=\"text-align: right;\">\n",
       "      <th></th>\n",
       "      <th>portfolio_id</th>\n",
       "      <th>desk_id</th>\n",
       "      <th>office_id</th>\n",
       "      <th>pf_category</th>\n",
       "      <th>start_date</th>\n",
       "      <th>sold</th>\n",
       "      <th>country_code</th>\n",
       "      <th>euribor_rate</th>\n",
       "      <th>currency</th>\n",
       "      <th>libor_rate</th>\n",
       "      <th>bought</th>\n",
       "      <th>creation_date</th>\n",
       "      <th>indicator_code</th>\n",
       "      <th>sell_date</th>\n",
       "      <th>type</th>\n",
       "      <th>hedge_value</th>\n",
       "      <th>status</th>\n",
       "      <th>return</th>\n",
       "    </tr>\n",
       "  </thead>\n",
       "  <tbody>\n",
       "    <tr>\n",
       "      <th>0</th>\n",
       "      <td>PF00001002</td>\n",
       "      <td>DSK00001001</td>\n",
       "      <td>OFF00001002</td>\n",
       "      <td>B</td>\n",
       "      <td>2004-07-20</td>\n",
       "      <td>110000000.0</td>\n",
       "      <td>T</td>\n",
       "      <td>0.02074</td>\n",
       "      <td>USD</td>\n",
       "      <td>2.332216</td>\n",
       "      <td>1.098097e+08</td>\n",
       "      <td>2004-07-20</td>\n",
       "      <td>1</td>\n",
       "      <td>2004-08-12</td>\n",
       "      <td>B</td>\n",
       "      <td>0</td>\n",
       "      <td>1</td>\n",
       "      <td>0.02496</td>\n",
       "    </tr>\n",
       "    <tr>\n",
       "      <th>1</th>\n",
       "      <td>PF00001003</td>\n",
       "      <td>DSK00001002</td>\n",
       "      <td>OFF00001001</td>\n",
       "      <td>A</td>\n",
       "      <td>2004-07-09</td>\n",
       "      <td>176671000.0</td>\n",
       "      <td>N</td>\n",
       "      <td>0.02074</td>\n",
       "      <td>GBP</td>\n",
       "      <td>5.269617</td>\n",
       "      <td>1.760084e+08</td>\n",
       "      <td>2004-07-23</td>\n",
       "      <td>1</td>\n",
       "      <td>2004-08-12</td>\n",
       "      <td>C</td>\n",
       "      <td>0</td>\n",
       "      <td>1</td>\n",
       "      <td>0.05496</td>\n",
       "    </tr>\n",
       "    <tr>\n",
       "      <th>2</th>\n",
       "      <td>PF00001005</td>\n",
       "      <td>DSK00001004</td>\n",
       "      <td>OFF00001001</td>\n",
       "      <td>A</td>\n",
       "      <td>2004-07-23</td>\n",
       "      <td>56474000.0</td>\n",
       "      <td>T</td>\n",
       "      <td>0.02074</td>\n",
       "      <td>USD</td>\n",
       "      <td>2.332216</td>\n",
       "      <td>5.637953e+07</td>\n",
       "      <td>2004-07-23</td>\n",
       "      <td>1</td>\n",
       "      <td>2004-08-17</td>\n",
       "      <td>A</td>\n",
       "      <td>0</td>\n",
       "      <td>1</td>\n",
       "      <td>0.02496</td>\n",
       "    </tr>\n",
       "    <tr>\n",
       "      <th>3</th>\n",
       "      <td>PF00001006</td>\n",
       "      <td>DSK00001005</td>\n",
       "      <td>OFF00001001</td>\n",
       "      <td>A</td>\n",
       "      <td>2004-06-09</td>\n",
       "      <td>164813000.0</td>\n",
       "      <td>T</td>\n",
       "      <td>0.02074</td>\n",
       "      <td>USD</td>\n",
       "      <td>2.332216</td>\n",
       "      <td>1.645088e+08</td>\n",
       "      <td>2004-07-23</td>\n",
       "      <td>1</td>\n",
       "      <td>2004-07-13</td>\n",
       "      <td>A</td>\n",
       "      <td>0</td>\n",
       "      <td>1</td>\n",
       "      <td>0.02496</td>\n",
       "    </tr>\n",
       "    <tr>\n",
       "      <th>4</th>\n",
       "      <td>PF00001007</td>\n",
       "      <td>DSK00001005</td>\n",
       "      <td>OFF00001002</td>\n",
       "      <td>B</td>\n",
       "      <td>2004-06-09</td>\n",
       "      <td>140800000.0</td>\n",
       "      <td>T</td>\n",
       "      <td>0.02074</td>\n",
       "      <td>USD</td>\n",
       "      <td>2.332216</td>\n",
       "      <td>1.405402e+08</td>\n",
       "      <td>2004-07-23</td>\n",
       "      <td>1</td>\n",
       "      <td>2004-07-13</td>\n",
       "      <td>B</td>\n",
       "      <td>0</td>\n",
       "      <td>1</td>\n",
       "      <td>0.02496</td>\n",
       "    </tr>\n",
       "  </tbody>\n",
       "</table>\n",
       "</div>"
      ],
      "text/plain": [
       "  portfolio_id      desk_id    office_id pf_category  start_date         sold  \\\n",
       "0   PF00001002  DSK00001001  OFF00001002           B  2004-07-20  110000000.0   \n",
       "1   PF00001003  DSK00001002  OFF00001001           A  2004-07-09  176671000.0   \n",
       "2   PF00001005  DSK00001004  OFF00001001           A  2004-07-23   56474000.0   \n",
       "3   PF00001006  DSK00001005  OFF00001001           A  2004-06-09  164813000.0   \n",
       "4   PF00001007  DSK00001005  OFF00001002           B  2004-06-09  140800000.0   \n",
       "\n",
       "  country_code  euribor_rate currency  libor_rate        bought creation_date  \\\n",
       "0            T       0.02074      USD    2.332216  1.098097e+08    2004-07-20   \n",
       "1            N       0.02074      GBP    5.269617  1.760084e+08    2004-07-23   \n",
       "2            T       0.02074      USD    2.332216  5.637953e+07    2004-07-23   \n",
       "3            T       0.02074      USD    2.332216  1.645088e+08    2004-07-23   \n",
       "4            T       0.02074      USD    2.332216  1.405402e+08    2004-07-23   \n",
       "\n",
       "   indicator_code   sell_date type  hedge_value  status   return  \n",
       "0               1  2004-08-12    B            0       1  0.02496  \n",
       "1               1  2004-08-12    C            0       1  0.05496  \n",
       "2               1  2004-08-17    A            0       1  0.02496  \n",
       "3               1  2004-07-13    A            0       1  0.02496  \n",
       "4               1  2004-07-13    B            0       1  0.02496  "
      ]
     },
     "execution_count": 46,
     "metadata": {},
     "output_type": "execute_result"
    }
   ],
   "source": [
    "return_df.head()"
   ]
  },
  {
   "cell_type": "code",
   "execution_count": 47,
   "metadata": {
    "collapsed": true
   },
   "outputs": [],
   "source": [
    "return_df['office_id'] = lb.fit_transform(return_df.office_id.astype('str'))\n",
    "test_df['office_id'] = lb.fit_transform(test_df.office_id.astype('str'))"
   ]
  },
  {
   "cell_type": "code",
   "execution_count": 48,
   "metadata": {},
   "outputs": [
    {
     "data": {
      "text/plain": [
       "array([0, 1], dtype=int64)"
      ]
     },
     "execution_count": 48,
     "metadata": {},
     "output_type": "execute_result"
    }
   ],
   "source": [
    "test_df.office_id.unique()"
   ]
  },
  {
   "cell_type": "code",
   "execution_count": 49,
   "metadata": {
    "collapsed": true
   },
   "outputs": [],
   "source": [
    "return_df['pf_category'] = lb.fit_transform(return_df.pf_category.astype('str'))\n",
    "test_df['pf_category'] = lb.fit_transform(test_df.pf_category.astype('str'))"
   ]
  },
  {
   "cell_type": "code",
   "execution_count": 50,
   "metadata": {},
   "outputs": [
    {
     "data": {
      "text/plain": [
       "array([1, 0, 2, 3, 4], dtype=int64)"
      ]
     },
     "execution_count": 50,
     "metadata": {},
     "output_type": "execute_result"
    }
   ],
   "source": [
    "return_df.pf_category.unique()"
   ]
  },
  {
   "cell_type": "code",
   "execution_count": 51,
   "metadata": {},
   "outputs": [
    {
     "data": {
      "text/plain": [
       "array(['USD', 'GBP', 'CHF', 'EUR', 'JPY'], dtype=object)"
      ]
     },
     "execution_count": 51,
     "metadata": {},
     "output_type": "execute_result"
    }
   ],
   "source": [
    "return_df.currency.unique()"
   ]
  },
  {
   "cell_type": "code",
   "execution_count": 52,
   "metadata": {
    "collapsed": true
   },
   "outputs": [],
   "source": [
    "return_df['currency'] = lb.fit_transform(return_df.currency.astype('str'))\n",
    "test_df['currency'] = lb.fit_transform(test_df.currency.astype('str'))"
   ]
  },
  {
   "cell_type": "code",
   "execution_count": 53,
   "metadata": {},
   "outputs": [
    {
     "data": {
      "text/html": [
       "<div>\n",
       "<style>\n",
       "    .dataframe thead tr:only-child th {\n",
       "        text-align: right;\n",
       "    }\n",
       "\n",
       "    .dataframe thead th {\n",
       "        text-align: left;\n",
       "    }\n",
       "\n",
       "    .dataframe tbody tr th {\n",
       "        vertical-align: top;\n",
       "    }\n",
       "</style>\n",
       "<table border=\"1\" class=\"dataframe\">\n",
       "  <thead>\n",
       "    <tr style=\"text-align: right;\">\n",
       "      <th></th>\n",
       "      <th>portfolio_id</th>\n",
       "      <th>desk_id</th>\n",
       "      <th>office_id</th>\n",
       "      <th>pf_category</th>\n",
       "      <th>start_date</th>\n",
       "      <th>sold</th>\n",
       "      <th>country_code</th>\n",
       "      <th>euribor_rate</th>\n",
       "      <th>currency</th>\n",
       "      <th>libor_rate</th>\n",
       "      <th>bought</th>\n",
       "      <th>creation_date</th>\n",
       "      <th>indicator_code</th>\n",
       "      <th>sell_date</th>\n",
       "      <th>type</th>\n",
       "      <th>hedge_value</th>\n",
       "      <th>status</th>\n",
       "      <th>return</th>\n",
       "    </tr>\n",
       "  </thead>\n",
       "  <tbody>\n",
       "    <tr>\n",
       "      <th>2644</th>\n",
       "      <td>PF00005033</td>\n",
       "      <td>DSK00004453</td>\n",
       "      <td>0</td>\n",
       "      <td>0</td>\n",
       "      <td>2010-06-15</td>\n",
       "      <td>8.251100e+07</td>\n",
       "      <td>Z</td>\n",
       "      <td>0.00428</td>\n",
       "      <td>1</td>\n",
       "      <td>1.079023</td>\n",
       "      <td>8.222149e+07</td>\n",
       "      <td>2010-06-15</td>\n",
       "      <td>1</td>\n",
       "      <td>2010-02-05</td>\n",
       "      <td>E</td>\n",
       "      <td>0</td>\n",
       "      <td>1</td>\n",
       "      <td>0.05508</td>\n",
       "    </tr>\n",
       "    <tr>\n",
       "      <th>2645</th>\n",
       "      <td>PF00005035</td>\n",
       "      <td>DSK00004455</td>\n",
       "      <td>0</td>\n",
       "      <td>3</td>\n",
       "      <td>2010-06-15</td>\n",
       "      <td>3.465440e+07</td>\n",
       "      <td>Z</td>\n",
       "      <td>0.00428</td>\n",
       "      <td>1</td>\n",
       "      <td>1.079023</td>\n",
       "      <td>3.453281e+07</td>\n",
       "      <td>2010-06-15</td>\n",
       "      <td>1</td>\n",
       "      <td>2010-02-05</td>\n",
       "      <td>E</td>\n",
       "      <td>0</td>\n",
       "      <td>1</td>\n",
       "      <td>0.05508</td>\n",
       "    </tr>\n",
       "    <tr>\n",
       "      <th>2646</th>\n",
       "      <td>PF00005036</td>\n",
       "      <td>DSK00004456</td>\n",
       "      <td>0</td>\n",
       "      <td>3</td>\n",
       "      <td>2010-06-15</td>\n",
       "      <td>6.963000e+08</td>\n",
       "      <td>Z</td>\n",
       "      <td>0.00428</td>\n",
       "      <td>1</td>\n",
       "      <td>1.079023</td>\n",
       "      <td>6.939046e+08</td>\n",
       "      <td>2010-06-15</td>\n",
       "      <td>1</td>\n",
       "      <td>2010-03-05</td>\n",
       "      <td>E</td>\n",
       "      <td>0</td>\n",
       "      <td>1</td>\n",
       "      <td>0.05400</td>\n",
       "    </tr>\n",
       "    <tr>\n",
       "      <th>2647</th>\n",
       "      <td>PF00005037</td>\n",
       "      <td>DSK00004457</td>\n",
       "      <td>0</td>\n",
       "      <td>3</td>\n",
       "      <td>2010-06-15</td>\n",
       "      <td>3.465000e+07</td>\n",
       "      <td>Z</td>\n",
       "      <td>0.00428</td>\n",
       "      <td>1</td>\n",
       "      <td>1.079023</td>\n",
       "      <td>3.453080e+07</td>\n",
       "      <td>2010-06-15</td>\n",
       "      <td>1</td>\n",
       "      <td>2010-03-05</td>\n",
       "      <td>E</td>\n",
       "      <td>0</td>\n",
       "      <td>1</td>\n",
       "      <td>0.05400</td>\n",
       "    </tr>\n",
       "    <tr>\n",
       "      <th>2648</th>\n",
       "      <td>PF00005038</td>\n",
       "      <td>DSK00004459</td>\n",
       "      <td>0</td>\n",
       "      <td>3</td>\n",
       "      <td>2010-06-15</td>\n",
       "      <td>7.316100e+08</td>\n",
       "      <td>Z</td>\n",
       "      <td>0.00428</td>\n",
       "      <td>1</td>\n",
       "      <td>1.079023</td>\n",
       "      <td>7.284458e+08</td>\n",
       "      <td>2010-06-15</td>\n",
       "      <td>1</td>\n",
       "      <td>2010-04-09</td>\n",
       "      <td>E</td>\n",
       "      <td>0</td>\n",
       "      <td>1</td>\n",
       "      <td>0.05436</td>\n",
       "    </tr>\n",
       "    <tr>\n",
       "      <th>2649</th>\n",
       "      <td>PF00005039</td>\n",
       "      <td>DSK00004458</td>\n",
       "      <td>0</td>\n",
       "      <td>3</td>\n",
       "      <td>2010-04-16</td>\n",
       "      <td>1.383613e+08</td>\n",
       "      <td>Z</td>\n",
       "      <td>0.00428</td>\n",
       "      <td>1</td>\n",
       "      <td>1.079023</td>\n",
       "      <td>1.378310e+08</td>\n",
       "      <td>2010-06-15</td>\n",
       "      <td>1</td>\n",
       "      <td>2010-04-12</td>\n",
       "      <td>E</td>\n",
       "      <td>0</td>\n",
       "      <td>1</td>\n",
       "      <td>0.05436</td>\n",
       "    </tr>\n",
       "    <tr>\n",
       "      <th>2652</th>\n",
       "      <td>PF00005048</td>\n",
       "      <td>DSK00004462</td>\n",
       "      <td>0</td>\n",
       "      <td>3</td>\n",
       "      <td>2010-04-21</td>\n",
       "      <td>1.537426e+08</td>\n",
       "      <td>Z</td>\n",
       "      <td>0.00428</td>\n",
       "      <td>1</td>\n",
       "      <td>1.079023</td>\n",
       "      <td>1.532125e+08</td>\n",
       "      <td>2010-06-15</td>\n",
       "      <td>1</td>\n",
       "      <td>2010-03-12</td>\n",
       "      <td>E</td>\n",
       "      <td>0</td>\n",
       "      <td>1</td>\n",
       "      <td>0.05412</td>\n",
       "    </tr>\n",
       "    <tr>\n",
       "      <th>2653</th>\n",
       "      <td>PF00005051</td>\n",
       "      <td>DSK00004465</td>\n",
       "      <td>0</td>\n",
       "      <td>3</td>\n",
       "      <td>2010-06-15</td>\n",
       "      <td>7.311700e+08</td>\n",
       "      <td>Z</td>\n",
       "      <td>0.00428</td>\n",
       "      <td>1</td>\n",
       "      <td>1.079023</td>\n",
       "      <td>7.285210e+08</td>\n",
       "      <td>2010-06-15</td>\n",
       "      <td>1</td>\n",
       "      <td>2010-05-07</td>\n",
       "      <td>E</td>\n",
       "      <td>0</td>\n",
       "      <td>1</td>\n",
       "      <td>0.05688</td>\n",
       "    </tr>\n",
       "    <tr>\n",
       "      <th>2654</th>\n",
       "      <td>PF00005053</td>\n",
       "      <td>DSK00004467</td>\n",
       "      <td>0</td>\n",
       "      <td>3</td>\n",
       "      <td>2010-06-15</td>\n",
       "      <td>2.090000e+07</td>\n",
       "      <td>Z</td>\n",
       "      <td>0.00428</td>\n",
       "      <td>1</td>\n",
       "      <td>1.079023</td>\n",
       "      <td>2.081620e+07</td>\n",
       "      <td>2010-06-15</td>\n",
       "      <td>1</td>\n",
       "      <td>2010-05-17</td>\n",
       "      <td>E</td>\n",
       "      <td>0</td>\n",
       "      <td>1</td>\n",
       "      <td>0.05688</td>\n",
       "    </tr>\n",
       "    <tr>\n",
       "      <th>2655</th>\n",
       "      <td>PF00005054</td>\n",
       "      <td>DSK00004467</td>\n",
       "      <td>0</td>\n",
       "      <td>3</td>\n",
       "      <td>2010-06-15</td>\n",
       "      <td>2.618000e+08</td>\n",
       "      <td>Z</td>\n",
       "      <td>0.00428</td>\n",
       "      <td>1</td>\n",
       "      <td>1.079023</td>\n",
       "      <td>2.607503e+08</td>\n",
       "      <td>2010-06-15</td>\n",
       "      <td>1</td>\n",
       "      <td>2010-05-17</td>\n",
       "      <td>E</td>\n",
       "      <td>0</td>\n",
       "      <td>1</td>\n",
       "      <td>0.05688</td>\n",
       "    </tr>\n",
       "    <tr>\n",
       "      <th>2656</th>\n",
       "      <td>PF00005057</td>\n",
       "      <td>DSK00004468</td>\n",
       "      <td>0</td>\n",
       "      <td>3</td>\n",
       "      <td>2010-04-21</td>\n",
       "      <td>1.176692e+08</td>\n",
       "      <td>Z</td>\n",
       "      <td>0.00428</td>\n",
       "      <td>1</td>\n",
       "      <td>1.079023</td>\n",
       "      <td>1.172635e+08</td>\n",
       "      <td>2010-06-15</td>\n",
       "      <td>1</td>\n",
       "      <td>2010-03-12</td>\n",
       "      <td>E</td>\n",
       "      <td>0</td>\n",
       "      <td>1</td>\n",
       "      <td>0.05412</td>\n",
       "    </tr>\n",
       "    <tr>\n",
       "      <th>2657</th>\n",
       "      <td>PF00005058</td>\n",
       "      <td>DSK00004469</td>\n",
       "      <td>0</td>\n",
       "      <td>3</td>\n",
       "      <td>2010-05-06</td>\n",
       "      <td>7.062000e+07</td>\n",
       "      <td>Z</td>\n",
       "      <td>0.00428</td>\n",
       "      <td>1</td>\n",
       "      <td>1.079023</td>\n",
       "      <td>7.034421e+07</td>\n",
       "      <td>2010-06-15</td>\n",
       "      <td>1</td>\n",
       "      <td>2010-05-12</td>\n",
       "      <td>E</td>\n",
       "      <td>0</td>\n",
       "      <td>1</td>\n",
       "      <td>0.05724</td>\n",
       "    </tr>\n",
       "    <tr>\n",
       "      <th>2658</th>\n",
       "      <td>PF00005068</td>\n",
       "      <td>DSK00004474</td>\n",
       "      <td>0</td>\n",
       "      <td>3</td>\n",
       "      <td>2010-04-16</td>\n",
       "      <td>1.173810e+07</td>\n",
       "      <td>Z</td>\n",
       "      <td>0.00428</td>\n",
       "      <td>1</td>\n",
       "      <td>1.079023</td>\n",
       "      <td>1.169311e+07</td>\n",
       "      <td>2010-06-15</td>\n",
       "      <td>1</td>\n",
       "      <td>2010-04-12</td>\n",
       "      <td>E</td>\n",
       "      <td>0</td>\n",
       "      <td>1</td>\n",
       "      <td>0.05436</td>\n",
       "    </tr>\n",
       "    <tr>\n",
       "      <th>2659</th>\n",
       "      <td>PF00005060</td>\n",
       "      <td>DSK00004470</td>\n",
       "      <td>0</td>\n",
       "      <td>3</td>\n",
       "      <td>2010-06-15</td>\n",
       "      <td>1.100000e+07</td>\n",
       "      <td>Z</td>\n",
       "      <td>0.00428</td>\n",
       "      <td>1</td>\n",
       "      <td>1.079023</td>\n",
       "      <td>1.095256e+07</td>\n",
       "      <td>2010-06-15</td>\n",
       "      <td>1</td>\n",
       "      <td>2010-06-07</td>\n",
       "      <td>E</td>\n",
       "      <td>0</td>\n",
       "      <td>1</td>\n",
       "      <td>0.06120</td>\n",
       "    </tr>\n",
       "    <tr>\n",
       "      <th>2660</th>\n",
       "      <td>PF00005062</td>\n",
       "      <td>DSK00004470</td>\n",
       "      <td>0</td>\n",
       "      <td>3</td>\n",
       "      <td>2010-06-15</td>\n",
       "      <td>4.213000e+08</td>\n",
       "      <td>Z</td>\n",
       "      <td>0.00428</td>\n",
       "      <td>1</td>\n",
       "      <td>1.079023</td>\n",
       "      <td>4.194830e+08</td>\n",
       "      <td>2010-06-15</td>\n",
       "      <td>1</td>\n",
       "      <td>2010-06-07</td>\n",
       "      <td>E</td>\n",
       "      <td>0</td>\n",
       "      <td>1</td>\n",
       "      <td>0.06120</td>\n",
       "    </tr>\n",
       "    <tr>\n",
       "      <th>2661</th>\n",
       "      <td>PF00005063</td>\n",
       "      <td>DSK00004470</td>\n",
       "      <td>0</td>\n",
       "      <td>3</td>\n",
       "      <td>2010-06-15</td>\n",
       "      <td>3.300000e+07</td>\n",
       "      <td>Z</td>\n",
       "      <td>0.00428</td>\n",
       "      <td>1</td>\n",
       "      <td>1.079023</td>\n",
       "      <td>3.285768e+07</td>\n",
       "      <td>2010-06-15</td>\n",
       "      <td>1</td>\n",
       "      <td>2010-06-07</td>\n",
       "      <td>E</td>\n",
       "      <td>0</td>\n",
       "      <td>1</td>\n",
       "      <td>0.06120</td>\n",
       "    </tr>\n",
       "    <tr>\n",
       "      <th>2662</th>\n",
       "      <td>PF00005065</td>\n",
       "      <td>DSK00004471</td>\n",
       "      <td>0</td>\n",
       "      <td>3</td>\n",
       "      <td>2010-04-16</td>\n",
       "      <td>3.345430e+07</td>\n",
       "      <td>Z</td>\n",
       "      <td>0.00428</td>\n",
       "      <td>1</td>\n",
       "      <td>1.079023</td>\n",
       "      <td>3.332608e+07</td>\n",
       "      <td>2010-06-15</td>\n",
       "      <td>1</td>\n",
       "      <td>2010-04-12</td>\n",
       "      <td>E</td>\n",
       "      <td>0</td>\n",
       "      <td>1</td>\n",
       "      <td>0.05436</td>\n",
       "    </tr>\n",
       "    <tr>\n",
       "      <th>2663</th>\n",
       "      <td>PF00005067</td>\n",
       "      <td>DSK00004473</td>\n",
       "      <td>0</td>\n",
       "      <td>0</td>\n",
       "      <td>2010-04-13</td>\n",
       "      <td>5.106200e+08</td>\n",
       "      <td>Z</td>\n",
       "      <td>0.00428</td>\n",
       "      <td>1</td>\n",
       "      <td>1.079023</td>\n",
       "      <td>5.087134e+08</td>\n",
       "      <td>2010-06-15</td>\n",
       "      <td>1</td>\n",
       "      <td>2010-04-16</td>\n",
       "      <td>E</td>\n",
       "      <td>0</td>\n",
       "      <td>1</td>\n",
       "      <td>0.05472</td>\n",
       "    </tr>\n",
       "    <tr>\n",
       "      <th>2664</th>\n",
       "      <td>PF00005071</td>\n",
       "      <td>DSK00004477</td>\n",
       "      <td>0</td>\n",
       "      <td>3</td>\n",
       "      <td>2010-05-31</td>\n",
       "      <td>8.690000e+07</td>\n",
       "      <td>Z</td>\n",
       "      <td>0.00428</td>\n",
       "      <td>1</td>\n",
       "      <td>1.079023</td>\n",
       "      <td>8.648751e+07</td>\n",
       "      <td>2010-06-15</td>\n",
       "      <td>1</td>\n",
       "      <td>2010-06-15</td>\n",
       "      <td>E</td>\n",
       "      <td>0</td>\n",
       "      <td>1</td>\n",
       "      <td>0.06144</td>\n",
       "    </tr>\n",
       "    <tr>\n",
       "      <th>2665</th>\n",
       "      <td>PF00005073</td>\n",
       "      <td>DSK00004477</td>\n",
       "      <td>0</td>\n",
       "      <td>3</td>\n",
       "      <td>2010-05-31</td>\n",
       "      <td>4.400000e+06</td>\n",
       "      <td>Z</td>\n",
       "      <td>0.00428</td>\n",
       "      <td>1</td>\n",
       "      <td>1.079023</td>\n",
       "      <td>4.379318e+06</td>\n",
       "      <td>2010-06-15</td>\n",
       "      <td>1</td>\n",
       "      <td>2010-06-15</td>\n",
       "      <td>E</td>\n",
       "      <td>0</td>\n",
       "      <td>1</td>\n",
       "      <td>0.06084</td>\n",
       "    </tr>\n",
       "    <tr>\n",
       "      <th>2666</th>\n",
       "      <td>PF00005074</td>\n",
       "      <td>DSK00004477</td>\n",
       "      <td>0</td>\n",
       "      <td>3</td>\n",
       "      <td>2010-05-31</td>\n",
       "      <td>5.170000e+07</td>\n",
       "      <td>Z</td>\n",
       "      <td>0.00428</td>\n",
       "      <td>1</td>\n",
       "      <td>1.079023</td>\n",
       "      <td>5.145698e+07</td>\n",
       "      <td>2010-06-15</td>\n",
       "      <td>1</td>\n",
       "      <td>2010-06-15</td>\n",
       "      <td>E</td>\n",
       "      <td>0</td>\n",
       "      <td>1</td>\n",
       "      <td>0.06084</td>\n",
       "    </tr>\n",
       "    <tr>\n",
       "      <th>2667</th>\n",
       "      <td>PF00005075</td>\n",
       "      <td>DSK00004478</td>\n",
       "      <td>0</td>\n",
       "      <td>4</td>\n",
       "      <td>2010-06-15</td>\n",
       "      <td>1.445498e+08</td>\n",
       "      <td>Z</td>\n",
       "      <td>0.00428</td>\n",
       "      <td>1</td>\n",
       "      <td>1.079023</td>\n",
       "      <td>1.428498e+08</td>\n",
       "      <td>2010-06-15</td>\n",
       "      <td>1</td>\n",
       "      <td>2010-03-22</td>\n",
       "      <td>E</td>\n",
       "      <td>0</td>\n",
       "      <td>1</td>\n",
       "      <td>0.05728</td>\n",
       "    </tr>\n",
       "    <tr>\n",
       "      <th>2668</th>\n",
       "      <td>PF00005076</td>\n",
       "      <td>DSK00004479</td>\n",
       "      <td>0</td>\n",
       "      <td>4</td>\n",
       "      <td>2010-06-15</td>\n",
       "      <td>1.366377e+08</td>\n",
       "      <td>Z</td>\n",
       "      <td>0.00428</td>\n",
       "      <td>1</td>\n",
       "      <td>1.079023</td>\n",
       "      <td>1.345280e+08</td>\n",
       "      <td>2010-06-15</td>\n",
       "      <td>1</td>\n",
       "      <td>2010-06-21</td>\n",
       "      <td>E</td>\n",
       "      <td>0</td>\n",
       "      <td>1</td>\n",
       "      <td>0.07548</td>\n",
       "    </tr>\n",
       "    <tr>\n",
       "      <th>2669</th>\n",
       "      <td>PF00005077</td>\n",
       "      <td>DSK00004480</td>\n",
       "      <td>0</td>\n",
       "      <td>3</td>\n",
       "      <td>2010-06-16</td>\n",
       "      <td>7.700000e+07</td>\n",
       "      <td>Z</td>\n",
       "      <td>0.00428</td>\n",
       "      <td>1</td>\n",
       "      <td>0.488864</td>\n",
       "      <td>7.665390e+07</td>\n",
       "      <td>2010-06-16</td>\n",
       "      <td>1</td>\n",
       "      <td>2010-07-05</td>\n",
       "      <td>E</td>\n",
       "      <td>0</td>\n",
       "      <td>1</td>\n",
       "      <td>0.06180</td>\n",
       "    </tr>\n",
       "    <tr>\n",
       "      <th>2670</th>\n",
       "      <td>PF00005078</td>\n",
       "      <td>DSK00004480</td>\n",
       "      <td>0</td>\n",
       "      <td>3</td>\n",
       "      <td>2010-06-16</td>\n",
       "      <td>2.200000e+07</td>\n",
       "      <td>Z</td>\n",
       "      <td>0.00428</td>\n",
       "      <td>1</td>\n",
       "      <td>0.488864</td>\n",
       "      <td>2.190207e+07</td>\n",
       "      <td>2010-06-16</td>\n",
       "      <td>1</td>\n",
       "      <td>2010-07-05</td>\n",
       "      <td>E</td>\n",
       "      <td>0</td>\n",
       "      <td>1</td>\n",
       "      <td>0.06120</td>\n",
       "    </tr>\n",
       "    <tr>\n",
       "      <th>2671</th>\n",
       "      <td>PF00005080</td>\n",
       "      <td>DSK00004481</td>\n",
       "      <td>0</td>\n",
       "      <td>3</td>\n",
       "      <td>2010-06-16</td>\n",
       "      <td>8.217000e+07</td>\n",
       "      <td>Z</td>\n",
       "      <td>0.00428</td>\n",
       "      <td>1</td>\n",
       "      <td>0.488864</td>\n",
       "      <td>8.180022e+07</td>\n",
       "      <td>2010-06-16</td>\n",
       "      <td>1</td>\n",
       "      <td>2010-06-21</td>\n",
       "      <td>E</td>\n",
       "      <td>0</td>\n",
       "      <td>1</td>\n",
       "      <td>0.06000</td>\n",
       "    </tr>\n",
       "    <tr>\n",
       "      <th>2672</th>\n",
       "      <td>PF00005081</td>\n",
       "      <td>DSK00004482</td>\n",
       "      <td>0</td>\n",
       "      <td>3</td>\n",
       "      <td>2010-05-31</td>\n",
       "      <td>1.100000e+07</td>\n",
       "      <td>Z</td>\n",
       "      <td>0.00428</td>\n",
       "      <td>1</td>\n",
       "      <td>0.488864</td>\n",
       "      <td>1.095578e+07</td>\n",
       "      <td>2010-06-16</td>\n",
       "      <td>1</td>\n",
       "      <td>2010-06-15</td>\n",
       "      <td>E</td>\n",
       "      <td>0</td>\n",
       "      <td>1</td>\n",
       "      <td>0.06096</td>\n",
       "    </tr>\n",
       "    <tr>\n",
       "      <th>2673</th>\n",
       "      <td>PF00005082</td>\n",
       "      <td>DSK00004482</td>\n",
       "      <td>0</td>\n",
       "      <td>3</td>\n",
       "      <td>2010-06-16</td>\n",
       "      <td>1.650000e+07</td>\n",
       "      <td>Z</td>\n",
       "      <td>0.00428</td>\n",
       "      <td>1</td>\n",
       "      <td>0.488864</td>\n",
       "      <td>1.643406e+07</td>\n",
       "      <td>2010-06-16</td>\n",
       "      <td>1</td>\n",
       "      <td>2010-06-15</td>\n",
       "      <td>E</td>\n",
       "      <td>0</td>\n",
       "      <td>1</td>\n",
       "      <td>0.06060</td>\n",
       "    </tr>\n",
       "    <tr>\n",
       "      <th>2674</th>\n",
       "      <td>PF00005083</td>\n",
       "      <td>DSK00004482</td>\n",
       "      <td>0</td>\n",
       "      <td>3</td>\n",
       "      <td>2010-06-16</td>\n",
       "      <td>8.250000e+07</td>\n",
       "      <td>Z</td>\n",
       "      <td>0.00428</td>\n",
       "      <td>1</td>\n",
       "      <td>0.488864</td>\n",
       "      <td>8.216510e+07</td>\n",
       "      <td>2010-06-16</td>\n",
       "      <td>1</td>\n",
       "      <td>2010-06-15</td>\n",
       "      <td>E</td>\n",
       "      <td>0</td>\n",
       "      <td>1</td>\n",
       "      <td>0.06156</td>\n",
       "    </tr>\n",
       "    <tr>\n",
       "      <th>2675</th>\n",
       "      <td>PF00005084</td>\n",
       "      <td>DSK00004483</td>\n",
       "      <td>0</td>\n",
       "      <td>3</td>\n",
       "      <td>2010-06-16</td>\n",
       "      <td>2.970000e+07</td>\n",
       "      <td>Z</td>\n",
       "      <td>0.00428</td>\n",
       "      <td>1</td>\n",
       "      <td>0.488864</td>\n",
       "      <td>2.957691e+07</td>\n",
       "      <td>2010-06-16</td>\n",
       "      <td>1</td>\n",
       "      <td>2010-06-03</td>\n",
       "      <td>E</td>\n",
       "      <td>0</td>\n",
       "      <td>1</td>\n",
       "      <td>0.05880</td>\n",
       "    </tr>\n",
       "    <tr>\n",
       "      <th>...</th>\n",
       "      <td>...</td>\n",
       "      <td>...</td>\n",
       "      <td>...</td>\n",
       "      <td>...</td>\n",
       "      <td>...</td>\n",
       "      <td>...</td>\n",
       "      <td>...</td>\n",
       "      <td>...</td>\n",
       "      <td>...</td>\n",
       "      <td>...</td>\n",
       "      <td>...</td>\n",
       "      <td>...</td>\n",
       "      <td>...</td>\n",
       "      <td>...</td>\n",
       "      <td>...</td>\n",
       "      <td>...</td>\n",
       "      <td>...</td>\n",
       "      <td>...</td>\n",
       "    </tr>\n",
       "    <tr>\n",
       "      <th>4650</th>\n",
       "      <td>PF00008285</td>\n",
       "      <td>DSK00005931</td>\n",
       "      <td>0</td>\n",
       "      <td>3</td>\n",
       "      <td>2011-11-24</td>\n",
       "      <td>8.250000e+07</td>\n",
       "      <td>Z</td>\n",
       "      <td>0.01362</td>\n",
       "      <td>1</td>\n",
       "      <td>1.000305</td>\n",
       "      <td>8.242033e+07</td>\n",
       "      <td>2011-11-24</td>\n",
       "      <td>1</td>\n",
       "      <td>2011-12-02</td>\n",
       "      <td>E</td>\n",
       "      <td>0</td>\n",
       "      <td>1</td>\n",
       "      <td>0.06048</td>\n",
       "    </tr>\n",
       "    <tr>\n",
       "      <th>4651</th>\n",
       "      <td>PF00008291</td>\n",
       "      <td>DSK00005935</td>\n",
       "      <td>0</td>\n",
       "      <td>3</td>\n",
       "      <td>2011-11-25</td>\n",
       "      <td>9.900000e+07</td>\n",
       "      <td>Z</td>\n",
       "      <td>0.01362</td>\n",
       "      <td>1</td>\n",
       "      <td>0.512106</td>\n",
       "      <td>9.890232e+07</td>\n",
       "      <td>2011-11-25</td>\n",
       "      <td>1</td>\n",
       "      <td>2011-12-05</td>\n",
       "      <td>E</td>\n",
       "      <td>0</td>\n",
       "      <td>1</td>\n",
       "      <td>0.06180</td>\n",
       "    </tr>\n",
       "    <tr>\n",
       "      <th>4652</th>\n",
       "      <td>PF00008292</td>\n",
       "      <td>DSK00005936</td>\n",
       "      <td>0</td>\n",
       "      <td>3</td>\n",
       "      <td>2011-11-25</td>\n",
       "      <td>3.685000e+07</td>\n",
       "      <td>Z</td>\n",
       "      <td>0.01362</td>\n",
       "      <td>1</td>\n",
       "      <td>0.512106</td>\n",
       "      <td>3.680950e+07</td>\n",
       "      <td>2011-11-25</td>\n",
       "      <td>1</td>\n",
       "      <td>2011-12-06</td>\n",
       "      <td>E</td>\n",
       "      <td>0</td>\n",
       "      <td>1</td>\n",
       "      <td>0.06024</td>\n",
       "    </tr>\n",
       "    <tr>\n",
       "      <th>4653</th>\n",
       "      <td>PF00008293</td>\n",
       "      <td>DSK00005937</td>\n",
       "      <td>0</td>\n",
       "      <td>3</td>\n",
       "      <td>2011-11-25</td>\n",
       "      <td>1.174800e+08</td>\n",
       "      <td>Z</td>\n",
       "      <td>0.01362</td>\n",
       "      <td>1</td>\n",
       "      <td>0.512106</td>\n",
       "      <td>1.173509e+08</td>\n",
       "      <td>2011-11-25</td>\n",
       "      <td>1</td>\n",
       "      <td>2011-12-06</td>\n",
       "      <td>E</td>\n",
       "      <td>0</td>\n",
       "      <td>1</td>\n",
       "      <td>0.06024</td>\n",
       "    </tr>\n",
       "    <tr>\n",
       "      <th>4661</th>\n",
       "      <td>PF00008307</td>\n",
       "      <td>DSK00005940</td>\n",
       "      <td>0</td>\n",
       "      <td>3</td>\n",
       "      <td>2011-11-28</td>\n",
       "      <td>1.629100e+08</td>\n",
       "      <td>Z</td>\n",
       "      <td>0.01362</td>\n",
       "      <td>1</td>\n",
       "      <td>0.544653</td>\n",
       "      <td>1.627493e+08</td>\n",
       "      <td>2011-11-28</td>\n",
       "      <td>1</td>\n",
       "      <td>2011-12-06</td>\n",
       "      <td>E</td>\n",
       "      <td>0</td>\n",
       "      <td>1</td>\n",
       "      <td>0.06180</td>\n",
       "    </tr>\n",
       "    <tr>\n",
       "      <th>4663</th>\n",
       "      <td>PF00008319</td>\n",
       "      <td>DSK00005942</td>\n",
       "      <td>0</td>\n",
       "      <td>3</td>\n",
       "      <td>2011-11-29</td>\n",
       "      <td>1.651100e+08</td>\n",
       "      <td>Z</td>\n",
       "      <td>0.01362</td>\n",
       "      <td>1</td>\n",
       "      <td>0.414467</td>\n",
       "      <td>1.649496e+08</td>\n",
       "      <td>2011-11-29</td>\n",
       "      <td>1</td>\n",
       "      <td>2011-12-07</td>\n",
       "      <td>E</td>\n",
       "      <td>0</td>\n",
       "      <td>1</td>\n",
       "      <td>0.06084</td>\n",
       "    </tr>\n",
       "    <tr>\n",
       "      <th>4669</th>\n",
       "      <td>PF00008342</td>\n",
       "      <td>DSK00005949</td>\n",
       "      <td>0</td>\n",
       "      <td>3</td>\n",
       "      <td>2011-12-01</td>\n",
       "      <td>7.920000e+07</td>\n",
       "      <td>Z</td>\n",
       "      <td>0.01205</td>\n",
       "      <td>1</td>\n",
       "      <td>0.505961</td>\n",
       "      <td>7.916721e+07</td>\n",
       "      <td>2011-12-01</td>\n",
       "      <td>1</td>\n",
       "      <td>2011-12-05</td>\n",
       "      <td>E</td>\n",
       "      <td>0</td>\n",
       "      <td>1</td>\n",
       "      <td>0.06048</td>\n",
       "    </tr>\n",
       "    <tr>\n",
       "      <th>4670</th>\n",
       "      <td>PF00008343</td>\n",
       "      <td>DSK00005950</td>\n",
       "      <td>0</td>\n",
       "      <td>3</td>\n",
       "      <td>2011-12-01</td>\n",
       "      <td>8.250000e+07</td>\n",
       "      <td>Z</td>\n",
       "      <td>0.01205</td>\n",
       "      <td>1</td>\n",
       "      <td>0.505961</td>\n",
       "      <td>8.246584e+07</td>\n",
       "      <td>2011-12-01</td>\n",
       "      <td>1</td>\n",
       "      <td>2011-12-05</td>\n",
       "      <td>E</td>\n",
       "      <td>0</td>\n",
       "      <td>1</td>\n",
       "      <td>0.06048</td>\n",
       "    </tr>\n",
       "    <tr>\n",
       "      <th>4682</th>\n",
       "      <td>PF00008053</td>\n",
       "      <td>DSK00005850</td>\n",
       "      <td>0</td>\n",
       "      <td>3</td>\n",
       "      <td>2011-11-03</td>\n",
       "      <td>4.840000e+07</td>\n",
       "      <td>Z</td>\n",
       "      <td>0.01362</td>\n",
       "      <td>1</td>\n",
       "      <td>0.430740</td>\n",
       "      <td>4.818498e+07</td>\n",
       "      <td>2011-11-03</td>\n",
       "      <td>1</td>\n",
       "      <td>2011-12-05</td>\n",
       "      <td>E</td>\n",
       "      <td>0</td>\n",
       "      <td>1</td>\n",
       "      <td>0.06108</td>\n",
       "    </tr>\n",
       "    <tr>\n",
       "      <th>4683</th>\n",
       "      <td>PF00008054</td>\n",
       "      <td>DSK00005850</td>\n",
       "      <td>0</td>\n",
       "      <td>3</td>\n",
       "      <td>2011-11-03</td>\n",
       "      <td>3.300000e+07</td>\n",
       "      <td>Z</td>\n",
       "      <td>0.01362</td>\n",
       "      <td>1</td>\n",
       "      <td>0.430740</td>\n",
       "      <td>3.285339e+07</td>\n",
       "      <td>2011-11-03</td>\n",
       "      <td>1</td>\n",
       "      <td>2011-12-05</td>\n",
       "      <td>E</td>\n",
       "      <td>0</td>\n",
       "      <td>1</td>\n",
       "      <td>0.06108</td>\n",
       "    </tr>\n",
       "    <tr>\n",
       "      <th>4684</th>\n",
       "      <td>PF00008056</td>\n",
       "      <td>DSK00005851</td>\n",
       "      <td>0</td>\n",
       "      <td>3</td>\n",
       "      <td>2011-11-03</td>\n",
       "      <td>8.250000e+07</td>\n",
       "      <td>Z</td>\n",
       "      <td>0.01362</td>\n",
       "      <td>1</td>\n",
       "      <td>0.430740</td>\n",
       "      <td>8.240897e+07</td>\n",
       "      <td>2011-11-03</td>\n",
       "      <td>1</td>\n",
       "      <td>2011-11-11</td>\n",
       "      <td>E</td>\n",
       "      <td>0</td>\n",
       "      <td>1</td>\n",
       "      <td>0.06048</td>\n",
       "    </tr>\n",
       "    <tr>\n",
       "      <th>4685</th>\n",
       "      <td>PF00008150</td>\n",
       "      <td>DSK00005883</td>\n",
       "      <td>0</td>\n",
       "      <td>3</td>\n",
       "      <td>2011-11-14</td>\n",
       "      <td>1.651100e+08</td>\n",
       "      <td>Z</td>\n",
       "      <td>0.01362</td>\n",
       "      <td>1</td>\n",
       "      <td>0.430740</td>\n",
       "      <td>1.649267e+08</td>\n",
       "      <td>2011-11-11</td>\n",
       "      <td>1</td>\n",
       "      <td>2011-11-22</td>\n",
       "      <td>E</td>\n",
       "      <td>0</td>\n",
       "      <td>1</td>\n",
       "      <td>0.06084</td>\n",
       "    </tr>\n",
       "    <tr>\n",
       "      <th>4705</th>\n",
       "      <td>PF00008367</td>\n",
       "      <td>DSK00005956</td>\n",
       "      <td>0</td>\n",
       "      <td>3</td>\n",
       "      <td>2011-12-05</td>\n",
       "      <td>1.063700e+08</td>\n",
       "      <td>Z</td>\n",
       "      <td>0.01205</td>\n",
       "      <td>1</td>\n",
       "      <td>0.495872</td>\n",
       "      <td>1.062685e+08</td>\n",
       "      <td>2011-12-05</td>\n",
       "      <td>1</td>\n",
       "      <td>2011-12-12</td>\n",
       "      <td>E</td>\n",
       "      <td>0</td>\n",
       "      <td>1</td>\n",
       "      <td>0.05976</td>\n",
       "    </tr>\n",
       "    <tr>\n",
       "      <th>4706</th>\n",
       "      <td>PF00008368</td>\n",
       "      <td>DSK00005957</td>\n",
       "      <td>0</td>\n",
       "      <td>3</td>\n",
       "      <td>2011-12-05</td>\n",
       "      <td>1.689600e+08</td>\n",
       "      <td>Z</td>\n",
       "      <td>0.01205</td>\n",
       "      <td>1</td>\n",
       "      <td>0.495872</td>\n",
       "      <td>1.687988e+08</td>\n",
       "      <td>2011-12-05</td>\n",
       "      <td>1</td>\n",
       "      <td>2011-12-12</td>\n",
       "      <td>E</td>\n",
       "      <td>0</td>\n",
       "      <td>1</td>\n",
       "      <td>0.05976</td>\n",
       "    </tr>\n",
       "    <tr>\n",
       "      <th>4707</th>\n",
       "      <td>PF00008370</td>\n",
       "      <td>DSK00005959</td>\n",
       "      <td>0</td>\n",
       "      <td>3</td>\n",
       "      <td>2011-12-05</td>\n",
       "      <td>4.411000e+07</td>\n",
       "      <td>Z</td>\n",
       "      <td>0.01205</td>\n",
       "      <td>1</td>\n",
       "      <td>0.495872</td>\n",
       "      <td>4.405406e+07</td>\n",
       "      <td>2011-12-05</td>\n",
       "      <td>1</td>\n",
       "      <td>2011-12-15</td>\n",
       "      <td>E</td>\n",
       "      <td>0</td>\n",
       "      <td>1</td>\n",
       "      <td>0.06180</td>\n",
       "    </tr>\n",
       "    <tr>\n",
       "      <th>4708</th>\n",
       "      <td>PF00008372</td>\n",
       "      <td>DSK00005961</td>\n",
       "      <td>0</td>\n",
       "      <td>3</td>\n",
       "      <td>2011-12-05</td>\n",
       "      <td>1.629100e+08</td>\n",
       "      <td>Z</td>\n",
       "      <td>0.01205</td>\n",
       "      <td>1</td>\n",
       "      <td>0.495872</td>\n",
       "      <td>1.627034e+08</td>\n",
       "      <td>2011-12-05</td>\n",
       "      <td>1</td>\n",
       "      <td>2011-12-15</td>\n",
       "      <td>E</td>\n",
       "      <td>0</td>\n",
       "      <td>1</td>\n",
       "      <td>0.06180</td>\n",
       "    </tr>\n",
       "    <tr>\n",
       "      <th>5257</th>\n",
       "      <td>PF00008432</td>\n",
       "      <td>DSK00005983</td>\n",
       "      <td>0</td>\n",
       "      <td>3</td>\n",
       "      <td>2011-12-12</td>\n",
       "      <td>3.685000e+07</td>\n",
       "      <td>Z</td>\n",
       "      <td>0.01205</td>\n",
       "      <td>1</td>\n",
       "      <td>0.576584</td>\n",
       "      <td>3.681962e+07</td>\n",
       "      <td>2011-12-12</td>\n",
       "      <td>1</td>\n",
       "      <td>2011-12-19</td>\n",
       "      <td>E</td>\n",
       "      <td>0</td>\n",
       "      <td>1</td>\n",
       "      <td>0.06024</td>\n",
       "    </tr>\n",
       "    <tr>\n",
       "      <th>5258</th>\n",
       "      <td>PF00008433</td>\n",
       "      <td>DSK00005984</td>\n",
       "      <td>0</td>\n",
       "      <td>3</td>\n",
       "      <td>2011-12-12</td>\n",
       "      <td>1.174800e+08</td>\n",
       "      <td>Z</td>\n",
       "      <td>0.01205</td>\n",
       "      <td>1</td>\n",
       "      <td>0.576584</td>\n",
       "      <td>1.173831e+08</td>\n",
       "      <td>2011-12-12</td>\n",
       "      <td>1</td>\n",
       "      <td>2011-12-19</td>\n",
       "      <td>E</td>\n",
       "      <td>0</td>\n",
       "      <td>1</td>\n",
       "      <td>0.06024</td>\n",
       "    </tr>\n",
       "    <tr>\n",
       "      <th>5472</th>\n",
       "      <td>PF00008430</td>\n",
       "      <td>DSK00005981</td>\n",
       "      <td>0</td>\n",
       "      <td>3</td>\n",
       "      <td>2011-12-12</td>\n",
       "      <td>4.906000e+07</td>\n",
       "      <td>Z</td>\n",
       "      <td>0.01205</td>\n",
       "      <td>1</td>\n",
       "      <td>0.576584</td>\n",
       "      <td>4.903421e+07</td>\n",
       "      <td>2011-12-12</td>\n",
       "      <td>1</td>\n",
       "      <td>2011-12-16</td>\n",
       "      <td>E</td>\n",
       "      <td>0</td>\n",
       "      <td>1</td>\n",
       "      <td>0.05760</td>\n",
       "    </tr>\n",
       "    <tr>\n",
       "      <th>5473</th>\n",
       "      <td>PF00008445</td>\n",
       "      <td>DSK00005988</td>\n",
       "      <td>0</td>\n",
       "      <td>3</td>\n",
       "      <td>2011-12-13</td>\n",
       "      <td>3.009600e+08</td>\n",
       "      <td>Z</td>\n",
       "      <td>0.01205</td>\n",
       "      <td>1</td>\n",
       "      <td>0.529502</td>\n",
       "      <td>3.008797e+08</td>\n",
       "      <td>2011-12-13</td>\n",
       "      <td>1</td>\n",
       "      <td>2011-12-16</td>\n",
       "      <td>E</td>\n",
       "      <td>0</td>\n",
       "      <td>1</td>\n",
       "      <td>0.05844</td>\n",
       "    </tr>\n",
       "    <tr>\n",
       "      <th>6326</th>\n",
       "      <td>PF00008468</td>\n",
       "      <td>DSK00005993</td>\n",
       "      <td>0</td>\n",
       "      <td>3</td>\n",
       "      <td>2011-12-15</td>\n",
       "      <td>1.623600e+08</td>\n",
       "      <td>Z</td>\n",
       "      <td>0.01205</td>\n",
       "      <td>1</td>\n",
       "      <td>0.717831</td>\n",
       "      <td>1.622746e+08</td>\n",
       "      <td>2011-12-15</td>\n",
       "      <td>1</td>\n",
       "      <td>2011-12-19</td>\n",
       "      <td>E</td>\n",
       "      <td>0</td>\n",
       "      <td>1</td>\n",
       "      <td>0.05760</td>\n",
       "    </tr>\n",
       "    <tr>\n",
       "      <th>6327</th>\n",
       "      <td>PF00008469</td>\n",
       "      <td>DSK00005994</td>\n",
       "      <td>0</td>\n",
       "      <td>3</td>\n",
       "      <td>2011-12-15</td>\n",
       "      <td>4.389000e+07</td>\n",
       "      <td>Z</td>\n",
       "      <td>0.01205</td>\n",
       "      <td>1</td>\n",
       "      <td>0.717831</td>\n",
       "      <td>4.386692e+07</td>\n",
       "      <td>2011-12-15</td>\n",
       "      <td>1</td>\n",
       "      <td>2011-12-19</td>\n",
       "      <td>E</td>\n",
       "      <td>0</td>\n",
       "      <td>1</td>\n",
       "      <td>0.05760</td>\n",
       "    </tr>\n",
       "    <tr>\n",
       "      <th>7109</th>\n",
       "      <td>PF00008431</td>\n",
       "      <td>DSK00005982</td>\n",
       "      <td>0</td>\n",
       "      <td>3</td>\n",
       "      <td>2011-12-12</td>\n",
       "      <td>1.390400e+08</td>\n",
       "      <td>Z</td>\n",
       "      <td>0.01205</td>\n",
       "      <td>1</td>\n",
       "      <td>0.576584</td>\n",
       "      <td>1.389669e+08</td>\n",
       "      <td>2011-12-12</td>\n",
       "      <td>1</td>\n",
       "      <td>2011-12-16</td>\n",
       "      <td>E</td>\n",
       "      <td>0</td>\n",
       "      <td>1</td>\n",
       "      <td>0.05760</td>\n",
       "    </tr>\n",
       "    <tr>\n",
       "      <th>7762</th>\n",
       "      <td>PF00012796</td>\n",
       "      <td>NaN</td>\n",
       "      <td>1</td>\n",
       "      <td>1</td>\n",
       "      <td>2015-05-15</td>\n",
       "      <td>2.200000e+07</td>\n",
       "      <td>Z</td>\n",
       "      <td>-0.00042</td>\n",
       "      <td>1</td>\n",
       "      <td>0.156735</td>\n",
       "      <td>2.195557e+07</td>\n",
       "      <td>2015-05-13</td>\n",
       "      <td>0</td>\n",
       "      <td>2015-06-15</td>\n",
       "      <td>H</td>\n",
       "      <td>0</td>\n",
       "      <td>0</td>\n",
       "      <td>0.02820</td>\n",
       "    </tr>\n",
       "    <tr>\n",
       "      <th>7864</th>\n",
       "      <td>PF00012900</td>\n",
       "      <td>NaN</td>\n",
       "      <td>1</td>\n",
       "      <td>1</td>\n",
       "      <td>2015-06-15</td>\n",
       "      <td>2.200000e+07</td>\n",
       "      <td>Z</td>\n",
       "      <td>-0.00057</td>\n",
       "      <td>1</td>\n",
       "      <td>0.172437</td>\n",
       "      <td>2.195700e+07</td>\n",
       "      <td>2015-06-11</td>\n",
       "      <td>0</td>\n",
       "      <td>2015-07-15</td>\n",
       "      <td>H</td>\n",
       "      <td>0</td>\n",
       "      <td>0</td>\n",
       "      <td>0.02820</td>\n",
       "    </tr>\n",
       "    <tr>\n",
       "      <th>7924</th>\n",
       "      <td>PF00013242</td>\n",
       "      <td>NaN</td>\n",
       "      <td>1</td>\n",
       "      <td>1</td>\n",
       "      <td>2015-09-17</td>\n",
       "      <td>2.200000e+07</td>\n",
       "      <td>Z</td>\n",
       "      <td>-0.00099</td>\n",
       "      <td>1</td>\n",
       "      <td>0.141111</td>\n",
       "      <td>2.195395e+07</td>\n",
       "      <td>2015-09-15</td>\n",
       "      <td>0</td>\n",
       "      <td>2015-10-19</td>\n",
       "      <td>H</td>\n",
       "      <td>0</td>\n",
       "      <td>0</td>\n",
       "      <td>0.02832</td>\n",
       "    </tr>\n",
       "    <tr>\n",
       "      <th>8008</th>\n",
       "      <td>PF00012910</td>\n",
       "      <td>NaN</td>\n",
       "      <td>1</td>\n",
       "      <td>1</td>\n",
       "      <td>2015-06-18</td>\n",
       "      <td>3.300000e+07</td>\n",
       "      <td>Z</td>\n",
       "      <td>-0.00057</td>\n",
       "      <td>1</td>\n",
       "      <td>0.172437</td>\n",
       "      <td>3.293121e+07</td>\n",
       "      <td>2015-06-16</td>\n",
       "      <td>0</td>\n",
       "      <td>2015-07-20</td>\n",
       "      <td>H</td>\n",
       "      <td>0</td>\n",
       "      <td>0</td>\n",
       "      <td>0.02820</td>\n",
       "    </tr>\n",
       "    <tr>\n",
       "      <th>8177</th>\n",
       "      <td>PF00013444</td>\n",
       "      <td>NaN</td>\n",
       "      <td>1</td>\n",
       "      <td>1</td>\n",
       "      <td>2015-11-19</td>\n",
       "      <td>2.200000e+07</td>\n",
       "      <td>Z</td>\n",
       "      <td>-0.00119</td>\n",
       "      <td>1</td>\n",
       "      <td>0.068843</td>\n",
       "      <td>2.195453e+07</td>\n",
       "      <td>2015-11-17</td>\n",
       "      <td>0</td>\n",
       "      <td>2015-12-21</td>\n",
       "      <td>H</td>\n",
       "      <td>0</td>\n",
       "      <td>0</td>\n",
       "      <td>0.02796</td>\n",
       "    </tr>\n",
       "    <tr>\n",
       "      <th>8787</th>\n",
       "      <td>PF00013148</td>\n",
       "      <td>NaN</td>\n",
       "      <td>1</td>\n",
       "      <td>1</td>\n",
       "      <td>2015-08-17</td>\n",
       "      <td>2.200000e+07</td>\n",
       "      <td>Z</td>\n",
       "      <td>-0.00078</td>\n",
       "      <td>1</td>\n",
       "      <td>0.151360</td>\n",
       "      <td>2.195557e+07</td>\n",
       "      <td>2015-08-13</td>\n",
       "      <td>0</td>\n",
       "      <td>2015-09-17</td>\n",
       "      <td>H</td>\n",
       "      <td>0</td>\n",
       "      <td>0</td>\n",
       "      <td>0.02820</td>\n",
       "    </tr>\n",
       "    <tr>\n",
       "      <th>9242</th>\n",
       "      <td>PF00013033</td>\n",
       "      <td>NaN</td>\n",
       "      <td>1</td>\n",
       "      <td>1</td>\n",
       "      <td>2015-07-20</td>\n",
       "      <td>3.300000e+07</td>\n",
       "      <td>Z</td>\n",
       "      <td>-0.00064</td>\n",
       "      <td>1</td>\n",
       "      <td>0.167049</td>\n",
       "      <td>3.293307e+07</td>\n",
       "      <td>2015-07-16</td>\n",
       "      <td>0</td>\n",
       "      <td>2015-08-20</td>\n",
       "      <td>H</td>\n",
       "      <td>0</td>\n",
       "      <td>0</td>\n",
       "      <td>0.02832</td>\n",
       "    </tr>\n",
       "  </tbody>\n",
       "</table>\n",
       "<p>481 rows × 18 columns</p>\n",
       "</div>"
      ],
      "text/plain": [
       "     portfolio_id      desk_id  office_id  pf_category  start_date  \\\n",
       "2644   PF00005033  DSK00004453          0            0  2010-06-15   \n",
       "2645   PF00005035  DSK00004455          0            3  2010-06-15   \n",
       "2646   PF00005036  DSK00004456          0            3  2010-06-15   \n",
       "2647   PF00005037  DSK00004457          0            3  2010-06-15   \n",
       "2648   PF00005038  DSK00004459          0            3  2010-06-15   \n",
       "2649   PF00005039  DSK00004458          0            3  2010-04-16   \n",
       "2652   PF00005048  DSK00004462          0            3  2010-04-21   \n",
       "2653   PF00005051  DSK00004465          0            3  2010-06-15   \n",
       "2654   PF00005053  DSK00004467          0            3  2010-06-15   \n",
       "2655   PF00005054  DSK00004467          0            3  2010-06-15   \n",
       "2656   PF00005057  DSK00004468          0            3  2010-04-21   \n",
       "2657   PF00005058  DSK00004469          0            3  2010-05-06   \n",
       "2658   PF00005068  DSK00004474          0            3  2010-04-16   \n",
       "2659   PF00005060  DSK00004470          0            3  2010-06-15   \n",
       "2660   PF00005062  DSK00004470          0            3  2010-06-15   \n",
       "2661   PF00005063  DSK00004470          0            3  2010-06-15   \n",
       "2662   PF00005065  DSK00004471          0            3  2010-04-16   \n",
       "2663   PF00005067  DSK00004473          0            0  2010-04-13   \n",
       "2664   PF00005071  DSK00004477          0            3  2010-05-31   \n",
       "2665   PF00005073  DSK00004477          0            3  2010-05-31   \n",
       "2666   PF00005074  DSK00004477          0            3  2010-05-31   \n",
       "2667   PF00005075  DSK00004478          0            4  2010-06-15   \n",
       "2668   PF00005076  DSK00004479          0            4  2010-06-15   \n",
       "2669   PF00005077  DSK00004480          0            3  2010-06-16   \n",
       "2670   PF00005078  DSK00004480          0            3  2010-06-16   \n",
       "2671   PF00005080  DSK00004481          0            3  2010-06-16   \n",
       "2672   PF00005081  DSK00004482          0            3  2010-05-31   \n",
       "2673   PF00005082  DSK00004482          0            3  2010-06-16   \n",
       "2674   PF00005083  DSK00004482          0            3  2010-06-16   \n",
       "2675   PF00005084  DSK00004483          0            3  2010-06-16   \n",
       "...           ...          ...        ...          ...         ...   \n",
       "4650   PF00008285  DSK00005931          0            3  2011-11-24   \n",
       "4651   PF00008291  DSK00005935          0            3  2011-11-25   \n",
       "4652   PF00008292  DSK00005936          0            3  2011-11-25   \n",
       "4653   PF00008293  DSK00005937          0            3  2011-11-25   \n",
       "4661   PF00008307  DSK00005940          0            3  2011-11-28   \n",
       "4663   PF00008319  DSK00005942          0            3  2011-11-29   \n",
       "4669   PF00008342  DSK00005949          0            3  2011-12-01   \n",
       "4670   PF00008343  DSK00005950          0            3  2011-12-01   \n",
       "4682   PF00008053  DSK00005850          0            3  2011-11-03   \n",
       "4683   PF00008054  DSK00005850          0            3  2011-11-03   \n",
       "4684   PF00008056  DSK00005851          0            3  2011-11-03   \n",
       "4685   PF00008150  DSK00005883          0            3  2011-11-14   \n",
       "4705   PF00008367  DSK00005956          0            3  2011-12-05   \n",
       "4706   PF00008368  DSK00005957          0            3  2011-12-05   \n",
       "4707   PF00008370  DSK00005959          0            3  2011-12-05   \n",
       "4708   PF00008372  DSK00005961          0            3  2011-12-05   \n",
       "5257   PF00008432  DSK00005983          0            3  2011-12-12   \n",
       "5258   PF00008433  DSK00005984          0            3  2011-12-12   \n",
       "5472   PF00008430  DSK00005981          0            3  2011-12-12   \n",
       "5473   PF00008445  DSK00005988          0            3  2011-12-13   \n",
       "6326   PF00008468  DSK00005993          0            3  2011-12-15   \n",
       "6327   PF00008469  DSK00005994          0            3  2011-12-15   \n",
       "7109   PF00008431  DSK00005982          0            3  2011-12-12   \n",
       "7762   PF00012796          NaN          1            1  2015-05-15   \n",
       "7864   PF00012900          NaN          1            1  2015-06-15   \n",
       "7924   PF00013242          NaN          1            1  2015-09-17   \n",
       "8008   PF00012910          NaN          1            1  2015-06-18   \n",
       "8177   PF00013444          NaN          1            1  2015-11-19   \n",
       "8787   PF00013148          NaN          1            1  2015-08-17   \n",
       "9242   PF00013033          NaN          1            1  2015-07-20   \n",
       "\n",
       "              sold country_code  euribor_rate  currency  libor_rate  \\\n",
       "2644  8.251100e+07            Z       0.00428         1    1.079023   \n",
       "2645  3.465440e+07            Z       0.00428         1    1.079023   \n",
       "2646  6.963000e+08            Z       0.00428         1    1.079023   \n",
       "2647  3.465000e+07            Z       0.00428         1    1.079023   \n",
       "2648  7.316100e+08            Z       0.00428         1    1.079023   \n",
       "2649  1.383613e+08            Z       0.00428         1    1.079023   \n",
       "2652  1.537426e+08            Z       0.00428         1    1.079023   \n",
       "2653  7.311700e+08            Z       0.00428         1    1.079023   \n",
       "2654  2.090000e+07            Z       0.00428         1    1.079023   \n",
       "2655  2.618000e+08            Z       0.00428         1    1.079023   \n",
       "2656  1.176692e+08            Z       0.00428         1    1.079023   \n",
       "2657  7.062000e+07            Z       0.00428         1    1.079023   \n",
       "2658  1.173810e+07            Z       0.00428         1    1.079023   \n",
       "2659  1.100000e+07            Z       0.00428         1    1.079023   \n",
       "2660  4.213000e+08            Z       0.00428         1    1.079023   \n",
       "2661  3.300000e+07            Z       0.00428         1    1.079023   \n",
       "2662  3.345430e+07            Z       0.00428         1    1.079023   \n",
       "2663  5.106200e+08            Z       0.00428         1    1.079023   \n",
       "2664  8.690000e+07            Z       0.00428         1    1.079023   \n",
       "2665  4.400000e+06            Z       0.00428         1    1.079023   \n",
       "2666  5.170000e+07            Z       0.00428         1    1.079023   \n",
       "2667  1.445498e+08            Z       0.00428         1    1.079023   \n",
       "2668  1.366377e+08            Z       0.00428         1    1.079023   \n",
       "2669  7.700000e+07            Z       0.00428         1    0.488864   \n",
       "2670  2.200000e+07            Z       0.00428         1    0.488864   \n",
       "2671  8.217000e+07            Z       0.00428         1    0.488864   \n",
       "2672  1.100000e+07            Z       0.00428         1    0.488864   \n",
       "2673  1.650000e+07            Z       0.00428         1    0.488864   \n",
       "2674  8.250000e+07            Z       0.00428         1    0.488864   \n",
       "2675  2.970000e+07            Z       0.00428         1    0.488864   \n",
       "...            ...          ...           ...       ...         ...   \n",
       "4650  8.250000e+07            Z       0.01362         1    1.000305   \n",
       "4651  9.900000e+07            Z       0.01362         1    0.512106   \n",
       "4652  3.685000e+07            Z       0.01362         1    0.512106   \n",
       "4653  1.174800e+08            Z       0.01362         1    0.512106   \n",
       "4661  1.629100e+08            Z       0.01362         1    0.544653   \n",
       "4663  1.651100e+08            Z       0.01362         1    0.414467   \n",
       "4669  7.920000e+07            Z       0.01205         1    0.505961   \n",
       "4670  8.250000e+07            Z       0.01205         1    0.505961   \n",
       "4682  4.840000e+07            Z       0.01362         1    0.430740   \n",
       "4683  3.300000e+07            Z       0.01362         1    0.430740   \n",
       "4684  8.250000e+07            Z       0.01362         1    0.430740   \n",
       "4685  1.651100e+08            Z       0.01362         1    0.430740   \n",
       "4705  1.063700e+08            Z       0.01205         1    0.495872   \n",
       "4706  1.689600e+08            Z       0.01205         1    0.495872   \n",
       "4707  4.411000e+07            Z       0.01205         1    0.495872   \n",
       "4708  1.629100e+08            Z       0.01205         1    0.495872   \n",
       "5257  3.685000e+07            Z       0.01205         1    0.576584   \n",
       "5258  1.174800e+08            Z       0.01205         1    0.576584   \n",
       "5472  4.906000e+07            Z       0.01205         1    0.576584   \n",
       "5473  3.009600e+08            Z       0.01205         1    0.529502   \n",
       "6326  1.623600e+08            Z       0.01205         1    0.717831   \n",
       "6327  4.389000e+07            Z       0.01205         1    0.717831   \n",
       "7109  1.390400e+08            Z       0.01205         1    0.576584   \n",
       "7762  2.200000e+07            Z      -0.00042         1    0.156735   \n",
       "7864  2.200000e+07            Z      -0.00057         1    0.172437   \n",
       "7924  2.200000e+07            Z      -0.00099         1    0.141111   \n",
       "8008  3.300000e+07            Z      -0.00057         1    0.172437   \n",
       "8177  2.200000e+07            Z      -0.00119         1    0.068843   \n",
       "8787  2.200000e+07            Z      -0.00078         1    0.151360   \n",
       "9242  3.300000e+07            Z      -0.00064         1    0.167049   \n",
       "\n",
       "            bought creation_date  indicator_code   sell_date type  \\\n",
       "2644  8.222149e+07    2010-06-15               1  2010-02-05    E   \n",
       "2645  3.453281e+07    2010-06-15               1  2010-02-05    E   \n",
       "2646  6.939046e+08    2010-06-15               1  2010-03-05    E   \n",
       "2647  3.453080e+07    2010-06-15               1  2010-03-05    E   \n",
       "2648  7.284458e+08    2010-06-15               1  2010-04-09    E   \n",
       "2649  1.378310e+08    2010-06-15               1  2010-04-12    E   \n",
       "2652  1.532125e+08    2010-06-15               1  2010-03-12    E   \n",
       "2653  7.285210e+08    2010-06-15               1  2010-05-07    E   \n",
       "2654  2.081620e+07    2010-06-15               1  2010-05-17    E   \n",
       "2655  2.607503e+08    2010-06-15               1  2010-05-17    E   \n",
       "2656  1.172635e+08    2010-06-15               1  2010-03-12    E   \n",
       "2657  7.034421e+07    2010-06-15               1  2010-05-12    E   \n",
       "2658  1.169311e+07    2010-06-15               1  2010-04-12    E   \n",
       "2659  1.095256e+07    2010-06-15               1  2010-06-07    E   \n",
       "2660  4.194830e+08    2010-06-15               1  2010-06-07    E   \n",
       "2661  3.285768e+07    2010-06-15               1  2010-06-07    E   \n",
       "2662  3.332608e+07    2010-06-15               1  2010-04-12    E   \n",
       "2663  5.087134e+08    2010-06-15               1  2010-04-16    E   \n",
       "2664  8.648751e+07    2010-06-15               1  2010-06-15    E   \n",
       "2665  4.379318e+06    2010-06-15               1  2010-06-15    E   \n",
       "2666  5.145698e+07    2010-06-15               1  2010-06-15    E   \n",
       "2667  1.428498e+08    2010-06-15               1  2010-03-22    E   \n",
       "2668  1.345280e+08    2010-06-15               1  2010-06-21    E   \n",
       "2669  7.665390e+07    2010-06-16               1  2010-07-05    E   \n",
       "2670  2.190207e+07    2010-06-16               1  2010-07-05    E   \n",
       "2671  8.180022e+07    2010-06-16               1  2010-06-21    E   \n",
       "2672  1.095578e+07    2010-06-16               1  2010-06-15    E   \n",
       "2673  1.643406e+07    2010-06-16               1  2010-06-15    E   \n",
       "2674  8.216510e+07    2010-06-16               1  2010-06-15    E   \n",
       "2675  2.957691e+07    2010-06-16               1  2010-06-03    E   \n",
       "...            ...           ...             ...         ...  ...   \n",
       "4650  8.242033e+07    2011-11-24               1  2011-12-02    E   \n",
       "4651  9.890232e+07    2011-11-25               1  2011-12-05    E   \n",
       "4652  3.680950e+07    2011-11-25               1  2011-12-06    E   \n",
       "4653  1.173509e+08    2011-11-25               1  2011-12-06    E   \n",
       "4661  1.627493e+08    2011-11-28               1  2011-12-06    E   \n",
       "4663  1.649496e+08    2011-11-29               1  2011-12-07    E   \n",
       "4669  7.916721e+07    2011-12-01               1  2011-12-05    E   \n",
       "4670  8.246584e+07    2011-12-01               1  2011-12-05    E   \n",
       "4682  4.818498e+07    2011-11-03               1  2011-12-05    E   \n",
       "4683  3.285339e+07    2011-11-03               1  2011-12-05    E   \n",
       "4684  8.240897e+07    2011-11-03               1  2011-11-11    E   \n",
       "4685  1.649267e+08    2011-11-11               1  2011-11-22    E   \n",
       "4705  1.062685e+08    2011-12-05               1  2011-12-12    E   \n",
       "4706  1.687988e+08    2011-12-05               1  2011-12-12    E   \n",
       "4707  4.405406e+07    2011-12-05               1  2011-12-15    E   \n",
       "4708  1.627034e+08    2011-12-05               1  2011-12-15    E   \n",
       "5257  3.681962e+07    2011-12-12               1  2011-12-19    E   \n",
       "5258  1.173831e+08    2011-12-12               1  2011-12-19    E   \n",
       "5472  4.903421e+07    2011-12-12               1  2011-12-16    E   \n",
       "5473  3.008797e+08    2011-12-13               1  2011-12-16    E   \n",
       "6326  1.622746e+08    2011-12-15               1  2011-12-19    E   \n",
       "6327  4.386692e+07    2011-12-15               1  2011-12-19    E   \n",
       "7109  1.389669e+08    2011-12-12               1  2011-12-16    E   \n",
       "7762  2.195557e+07    2015-05-13               0  2015-06-15    H   \n",
       "7864  2.195700e+07    2015-06-11               0  2015-07-15    H   \n",
       "7924  2.195395e+07    2015-09-15               0  2015-10-19    H   \n",
       "8008  3.293121e+07    2015-06-16               0  2015-07-20    H   \n",
       "8177  2.195453e+07    2015-11-17               0  2015-12-21    H   \n",
       "8787  2.195557e+07    2015-08-13               0  2015-09-17    H   \n",
       "9242  3.293307e+07    2015-07-16               0  2015-08-20    H   \n",
       "\n",
       "      hedge_value  status   return  \n",
       "2644            0       1  0.05508  \n",
       "2645            0       1  0.05508  \n",
       "2646            0       1  0.05400  \n",
       "2647            0       1  0.05400  \n",
       "2648            0       1  0.05436  \n",
       "2649            0       1  0.05436  \n",
       "2652            0       1  0.05412  \n",
       "2653            0       1  0.05688  \n",
       "2654            0       1  0.05688  \n",
       "2655            0       1  0.05688  \n",
       "2656            0       1  0.05412  \n",
       "2657            0       1  0.05724  \n",
       "2658            0       1  0.05436  \n",
       "2659            0       1  0.06120  \n",
       "2660            0       1  0.06120  \n",
       "2661            0       1  0.06120  \n",
       "2662            0       1  0.05436  \n",
       "2663            0       1  0.05472  \n",
       "2664            0       1  0.06144  \n",
       "2665            0       1  0.06084  \n",
       "2666            0       1  0.06084  \n",
       "2667            0       1  0.05728  \n",
       "2668            0       1  0.07548  \n",
       "2669            0       1  0.06180  \n",
       "2670            0       1  0.06120  \n",
       "2671            0       1  0.06000  \n",
       "2672            0       1  0.06096  \n",
       "2673            0       1  0.06060  \n",
       "2674            0       1  0.06156  \n",
       "2675            0       1  0.05880  \n",
       "...           ...     ...      ...  \n",
       "4650            0       1  0.06048  \n",
       "4651            0       1  0.06180  \n",
       "4652            0       1  0.06024  \n",
       "4653            0       1  0.06024  \n",
       "4661            0       1  0.06180  \n",
       "4663            0       1  0.06084  \n",
       "4669            0       1  0.06048  \n",
       "4670            0       1  0.06048  \n",
       "4682            0       1  0.06108  \n",
       "4683            0       1  0.06108  \n",
       "4684            0       1  0.06048  \n",
       "4685            0       1  0.06084  \n",
       "4705            0       1  0.05976  \n",
       "4706            0       1  0.05976  \n",
       "4707            0       1  0.06180  \n",
       "4708            0       1  0.06180  \n",
       "5257            0       1  0.06024  \n",
       "5258            0       1  0.06024  \n",
       "5472            0       1  0.05760  \n",
       "5473            0       1  0.05844  \n",
       "6326            0       1  0.05760  \n",
       "6327            0       1  0.05760  \n",
       "7109            0       1  0.05760  \n",
       "7762            0       0  0.02820  \n",
       "7864            0       0  0.02820  \n",
       "7924            0       0  0.02832  \n",
       "8008            0       0  0.02820  \n",
       "8177            0       0  0.02796  \n",
       "8787            0       0  0.02820  \n",
       "9242            0       0  0.02832  \n",
       "\n",
       "[481 rows x 18 columns]"
      ]
     },
     "execution_count": 53,
     "metadata": {},
     "output_type": "execute_result"
    }
   ],
   "source": [
    "return_df[return_df['currency'] == 1]"
   ]
  },
  {
   "cell_type": "code",
   "execution_count": 54,
   "metadata": {},
   "outputs": [
    {
     "data": {
      "text/html": [
       "<div>\n",
       "<style>\n",
       "    .dataframe thead tr:only-child th {\n",
       "        text-align: right;\n",
       "    }\n",
       "\n",
       "    .dataframe thead th {\n",
       "        text-align: left;\n",
       "    }\n",
       "\n",
       "    .dataframe tbody tr th {\n",
       "        vertical-align: top;\n",
       "    }\n",
       "</style>\n",
       "<table border=\"1\" class=\"dataframe\">\n",
       "  <thead>\n",
       "    <tr style=\"text-align: right;\">\n",
       "      <th></th>\n",
       "      <th>portfolio_id</th>\n",
       "      <th>desk_id</th>\n",
       "      <th>office_id</th>\n",
       "      <th>pf_category</th>\n",
       "      <th>start_date</th>\n",
       "      <th>sold</th>\n",
       "      <th>country_code</th>\n",
       "      <th>euribor_rate</th>\n",
       "      <th>currency</th>\n",
       "      <th>libor_rate</th>\n",
       "      <th>bought</th>\n",
       "      <th>creation_date</th>\n",
       "      <th>indicator_code</th>\n",
       "      <th>sell_date</th>\n",
       "      <th>type</th>\n",
       "      <th>hedge_value</th>\n",
       "      <th>status</th>\n",
       "      <th>return</th>\n",
       "    </tr>\n",
       "  </thead>\n",
       "  <tbody>\n",
       "    <tr>\n",
       "      <th>0</th>\n",
       "      <td>PF00001002</td>\n",
       "      <td>DSK00001001</td>\n",
       "      <td>1</td>\n",
       "      <td>1</td>\n",
       "      <td>2004-07-20</td>\n",
       "      <td>110000000.0</td>\n",
       "      <td>T</td>\n",
       "      <td>0.02074</td>\n",
       "      <td>4</td>\n",
       "      <td>2.332216</td>\n",
       "      <td>1.098097e+08</td>\n",
       "      <td>2004-07-20</td>\n",
       "      <td>1</td>\n",
       "      <td>2004-08-12</td>\n",
       "      <td>B</td>\n",
       "      <td>0</td>\n",
       "      <td>1</td>\n",
       "      <td>0.02496</td>\n",
       "    </tr>\n",
       "    <tr>\n",
       "      <th>1</th>\n",
       "      <td>PF00001003</td>\n",
       "      <td>DSK00001002</td>\n",
       "      <td>0</td>\n",
       "      <td>0</td>\n",
       "      <td>2004-07-09</td>\n",
       "      <td>176671000.0</td>\n",
       "      <td>N</td>\n",
       "      <td>0.02074</td>\n",
       "      <td>2</td>\n",
       "      <td>5.269617</td>\n",
       "      <td>1.760084e+08</td>\n",
       "      <td>2004-07-23</td>\n",
       "      <td>1</td>\n",
       "      <td>2004-08-12</td>\n",
       "      <td>C</td>\n",
       "      <td>0</td>\n",
       "      <td>1</td>\n",
       "      <td>0.05496</td>\n",
       "    </tr>\n",
       "    <tr>\n",
       "      <th>2</th>\n",
       "      <td>PF00001005</td>\n",
       "      <td>DSK00001004</td>\n",
       "      <td>0</td>\n",
       "      <td>0</td>\n",
       "      <td>2004-07-23</td>\n",
       "      <td>56474000.0</td>\n",
       "      <td>T</td>\n",
       "      <td>0.02074</td>\n",
       "      <td>4</td>\n",
       "      <td>2.332216</td>\n",
       "      <td>5.637953e+07</td>\n",
       "      <td>2004-07-23</td>\n",
       "      <td>1</td>\n",
       "      <td>2004-08-17</td>\n",
       "      <td>A</td>\n",
       "      <td>0</td>\n",
       "      <td>1</td>\n",
       "      <td>0.02496</td>\n",
       "    </tr>\n",
       "    <tr>\n",
       "      <th>3</th>\n",
       "      <td>PF00001006</td>\n",
       "      <td>DSK00001005</td>\n",
       "      <td>0</td>\n",
       "      <td>0</td>\n",
       "      <td>2004-06-09</td>\n",
       "      <td>164813000.0</td>\n",
       "      <td>T</td>\n",
       "      <td>0.02074</td>\n",
       "      <td>4</td>\n",
       "      <td>2.332216</td>\n",
       "      <td>1.645088e+08</td>\n",
       "      <td>2004-07-23</td>\n",
       "      <td>1</td>\n",
       "      <td>2004-07-13</td>\n",
       "      <td>A</td>\n",
       "      <td>0</td>\n",
       "      <td>1</td>\n",
       "      <td>0.02496</td>\n",
       "    </tr>\n",
       "    <tr>\n",
       "      <th>4</th>\n",
       "      <td>PF00001007</td>\n",
       "      <td>DSK00001005</td>\n",
       "      <td>1</td>\n",
       "      <td>1</td>\n",
       "      <td>2004-06-09</td>\n",
       "      <td>140800000.0</td>\n",
       "      <td>T</td>\n",
       "      <td>0.02074</td>\n",
       "      <td>4</td>\n",
       "      <td>2.332216</td>\n",
       "      <td>1.405402e+08</td>\n",
       "      <td>2004-07-23</td>\n",
       "      <td>1</td>\n",
       "      <td>2004-07-13</td>\n",
       "      <td>B</td>\n",
       "      <td>0</td>\n",
       "      <td>1</td>\n",
       "      <td>0.02496</td>\n",
       "    </tr>\n",
       "  </tbody>\n",
       "</table>\n",
       "</div>"
      ],
      "text/plain": [
       "  portfolio_id      desk_id  office_id  pf_category  start_date         sold  \\\n",
       "0   PF00001002  DSK00001001          1            1  2004-07-20  110000000.0   \n",
       "1   PF00001003  DSK00001002          0            0  2004-07-09  176671000.0   \n",
       "2   PF00001005  DSK00001004          0            0  2004-07-23   56474000.0   \n",
       "3   PF00001006  DSK00001005          0            0  2004-06-09  164813000.0   \n",
       "4   PF00001007  DSK00001005          1            1  2004-06-09  140800000.0   \n",
       "\n",
       "  country_code  euribor_rate  currency  libor_rate        bought  \\\n",
       "0            T       0.02074         4    2.332216  1.098097e+08   \n",
       "1            N       0.02074         2    5.269617  1.760084e+08   \n",
       "2            T       0.02074         4    2.332216  5.637953e+07   \n",
       "3            T       0.02074         4    2.332216  1.645088e+08   \n",
       "4            T       0.02074         4    2.332216  1.405402e+08   \n",
       "\n",
       "  creation_date  indicator_code   sell_date type  hedge_value  status   return  \n",
       "0    2004-07-20               1  2004-08-12    B            0       1  0.02496  \n",
       "1    2004-07-23               1  2004-08-12    C            0       1  0.05496  \n",
       "2    2004-07-23               1  2004-08-17    A            0       1  0.02496  \n",
       "3    2004-07-23               1  2004-07-13    A            0       1  0.02496  \n",
       "4    2004-07-23               1  2004-07-13    B            0       1  0.02496  "
      ]
     },
     "execution_count": 54,
     "metadata": {},
     "output_type": "execute_result"
    }
   ],
   "source": [
    "return_df.head()"
   ]
  },
  {
   "cell_type": "code",
   "execution_count": 55,
   "metadata": {},
   "outputs": [
    {
     "data": {
      "text/plain": [
       "<matplotlib.collections.PathCollection at 0x21c6f439160>"
      ]
     },
     "execution_count": 55,
     "metadata": {},
     "output_type": "execute_result"
    },
    {
     "data": {
      "image/png": "[encoded data removed]",
      "text/plain": [
       "<matplotlib.figure.Figure at 0x21c6f45c128>"
      ]
     },
     "metadata": {},
     "output_type": "display_data"
    }
   ],
   "source": [
    "plt.scatter(return_df.currency,return_df['return'])"
   ]
  },
  {
   "cell_type": "code",
   "execution_count": 56,
   "metadata": {},
   "outputs": [
    {
     "data": {
      "text/plain": [
       "<matplotlib.collections.PathCollection at 0x21c6f2f7780>"
      ]
     },
     "execution_count": 56,
     "metadata": {},
     "output_type": "execute_result"
    },
    {
     "data": {
      "image/png": "[encoded data removed]",
      "text/plain": [
       "<matplotlib.figure.Figure at 0x21c6f432ba8>"
      ]
     },
     "metadata": {},
     "output_type": "display_data"
    }
   ],
   "source": [
    "plt.scatter(return_df.bought,return_df.sold)"
   ]
  },
  {
   "cell_type": "code",
   "execution_count": 57,
   "metadata": {
    "collapsed": true
   },
   "outputs": [],
   "source": [
    "return_df['type'] = lb.fit_transform(return_df.type.astype('str'))\n",
    "test_df['type'] = lb.fit_transform(test_df.type.astype('str'))"
   ]
  },
  {
   "cell_type": "code",
   "execution_count": 58,
   "metadata": {},
   "outputs": [
    {
     "data": {
      "text/plain": [
       "<matplotlib.collections.PathCollection at 0x21c6f355780>"
      ]
     },
     "execution_count": 58,
     "metadata": {},
     "output_type": "execute_result"
    },
    {
     "data": {
      "image/png": "[encoded data removed]",
      "text/plain": [
       "<matplotlib.figure.Figure at 0x21c6f48a2e8>"
      ]
     },
     "metadata": {},
     "output_type": "display_data"
    }
   ],
   "source": [
    "plt.scatter(return_df.type,return_df['return'])"
   ]
  },
  {
   "cell_type": "code",
   "execution_count": 59,
   "metadata": {
    "collapsed": true
   },
   "outputs": [],
   "source": [
    "return_df['duration'] = [(date2-date1).days for date1,date2 in zip(return_df.creation_date,return_df.sell_date)]\n",
    "test_df['duration'] = [(date2-date1).days for date1,date2 in zip(test_df.creation_date,test_df.sell_date)]"
   ]
  },
  {
   "cell_type": "code",
   "execution_count": 60,
   "metadata": {},
   "outputs": [
    {
     "data": {
      "text/plain": [
       "<matplotlib.collections.PathCollection at 0x21c6f3c0550>"
      ]
     },
     "execution_count": 60,
     "metadata": {},
     "output_type": "execute_result"
    },
    {
     "data": {
      "image/png": "[encoded data removed]",
      "text/plain": [
       "<matplotlib.figure.Figure at 0x21c6f475208>"
      ]
     },
     "metadata": {},
     "output_type": "display_data"
    }
   ],
   "source": [
    "plt.scatter(return_df.duration,return_df['return'])"
   ]
  },
  {
   "cell_type": "code",
   "execution_count": 61,
   "metadata": {
    "collapsed": true
   },
   "outputs": [],
   "source": [
    "return_df = return_df[return_df['return'] != return_df['return'].max()]"
   ]
  },
  {
   "cell_type": "raw",
   "metadata": {},
   "source": [
    "   "
   ]
  },
  {
   "cell_type": "code",
   "execution_count": 62,
   "metadata": {},
   "outputs": [
    {
     "data": {
      "text/html": [
       "<div>\n",
       "<style>\n",
       "    .dataframe thead tr:only-child th {\n",
       "        text-align: right;\n",
       "    }\n",
       "\n",
       "    .dataframe thead th {\n",
       "        text-align: left;\n",
       "    }\n",
       "\n",
       "    .dataframe tbody tr th {\n",
       "        vertical-align: top;\n",
       "    }\n",
       "</style>\n",
       "<table border=\"1\" class=\"dataframe\">\n",
       "  <thead>\n",
       "    <tr style=\"text-align: right;\">\n",
       "      <th></th>\n",
       "      <th>portfolio_id</th>\n",
       "      <th>desk_id</th>\n",
       "      <th>office_id</th>\n",
       "      <th>pf_category</th>\n",
       "      <th>start_date</th>\n",
       "      <th>sold</th>\n",
       "      <th>country_code</th>\n",
       "      <th>euribor_rate</th>\n",
       "      <th>currency</th>\n",
       "      <th>libor_rate</th>\n",
       "      <th>bought</th>\n",
       "      <th>creation_date</th>\n",
       "      <th>indicator_code</th>\n",
       "      <th>sell_date</th>\n",
       "      <th>type</th>\n",
       "      <th>hedge_value</th>\n",
       "      <th>status</th>\n",
       "      <th>return</th>\n",
       "      <th>duration</th>\n",
       "    </tr>\n",
       "  </thead>\n",
       "  <tbody>\n",
       "    <tr>\n",
       "      <th>0</th>\n",
       "      <td>PF00001002</td>\n",
       "      <td>DSK00001001</td>\n",
       "      <td>1</td>\n",
       "      <td>1</td>\n",
       "      <td>2004-07-20</td>\n",
       "      <td>110000000.0</td>\n",
       "      <td>T</td>\n",
       "      <td>0.02074</td>\n",
       "      <td>4</td>\n",
       "      <td>2.332216</td>\n",
       "      <td>1.098097e+08</td>\n",
       "      <td>2004-07-20</td>\n",
       "      <td>1</td>\n",
       "      <td>2004-08-12</td>\n",
       "      <td>1</td>\n",
       "      <td>0</td>\n",
       "      <td>1</td>\n",
       "      <td>0.02496</td>\n",
       "      <td>23</td>\n",
       "    </tr>\n",
       "    <tr>\n",
       "      <th>1</th>\n",
       "      <td>PF00001003</td>\n",
       "      <td>DSK00001002</td>\n",
       "      <td>0</td>\n",
       "      <td>0</td>\n",
       "      <td>2004-07-09</td>\n",
       "      <td>176671000.0</td>\n",
       "      <td>N</td>\n",
       "      <td>0.02074</td>\n",
       "      <td>2</td>\n",
       "      <td>5.269617</td>\n",
       "      <td>1.760084e+08</td>\n",
       "      <td>2004-07-23</td>\n",
       "      <td>1</td>\n",
       "      <td>2004-08-12</td>\n",
       "      <td>2</td>\n",
       "      <td>0</td>\n",
       "      <td>1</td>\n",
       "      <td>0.05496</td>\n",
       "      <td>20</td>\n",
       "    </tr>\n",
       "    <tr>\n",
       "      <th>2</th>\n",
       "      <td>PF00001005</td>\n",
       "      <td>DSK00001004</td>\n",
       "      <td>0</td>\n",
       "      <td>0</td>\n",
       "      <td>2004-07-23</td>\n",
       "      <td>56474000.0</td>\n",
       "      <td>T</td>\n",
       "      <td>0.02074</td>\n",
       "      <td>4</td>\n",
       "      <td>2.332216</td>\n",
       "      <td>5.637953e+07</td>\n",
       "      <td>2004-07-23</td>\n",
       "      <td>1</td>\n",
       "      <td>2004-08-17</td>\n",
       "      <td>0</td>\n",
       "      <td>0</td>\n",
       "      <td>1</td>\n",
       "      <td>0.02496</td>\n",
       "      <td>25</td>\n",
       "    </tr>\n",
       "    <tr>\n",
       "      <th>3</th>\n",
       "      <td>PF00001006</td>\n",
       "      <td>DSK00001005</td>\n",
       "      <td>0</td>\n",
       "      <td>0</td>\n",
       "      <td>2004-06-09</td>\n",
       "      <td>164813000.0</td>\n",
       "      <td>T</td>\n",
       "      <td>0.02074</td>\n",
       "      <td>4</td>\n",
       "      <td>2.332216</td>\n",
       "      <td>1.645088e+08</td>\n",
       "      <td>2004-07-23</td>\n",
       "      <td>1</td>\n",
       "      <td>2004-07-13</td>\n",
       "      <td>0</td>\n",
       "      <td>0</td>\n",
       "      <td>1</td>\n",
       "      <td>0.02496</td>\n",
       "      <td>-10</td>\n",
       "    </tr>\n",
       "    <tr>\n",
       "      <th>4</th>\n",
       "      <td>PF00001007</td>\n",
       "      <td>DSK00001005</td>\n",
       "      <td>1</td>\n",
       "      <td>1</td>\n",
       "      <td>2004-06-09</td>\n",
       "      <td>140800000.0</td>\n",
       "      <td>T</td>\n",
       "      <td>0.02074</td>\n",
       "      <td>4</td>\n",
       "      <td>2.332216</td>\n",
       "      <td>1.405402e+08</td>\n",
       "      <td>2004-07-23</td>\n",
       "      <td>1</td>\n",
       "      <td>2004-07-13</td>\n",
       "      <td>1</td>\n",
       "      <td>0</td>\n",
       "      <td>1</td>\n",
       "      <td>0.02496</td>\n",
       "      <td>-10</td>\n",
       "    </tr>\n",
       "  </tbody>\n",
       "</table>\n",
       "</div>"
      ],
      "text/plain": [
       "  portfolio_id      desk_id  office_id  pf_category  start_date         sold  \\\n",
       "0   PF00001002  DSK00001001          1            1  2004-07-20  110000000.0   \n",
       "1   PF00001003  DSK00001002          0            0  2004-07-09  176671000.0   \n",
       "2   PF00001005  DSK00001004          0            0  2004-07-23   56474000.0   \n",
       "3   PF00001006  DSK00001005          0            0  2004-06-09  164813000.0   \n",
       "4   PF00001007  DSK00001005          1            1  2004-06-09  140800000.0   \n",
       "\n",
       "  country_code  euribor_rate  currency  libor_rate        bought  \\\n",
       "0            T       0.02074         4    2.332216  1.098097e+08   \n",
       "1            N       0.02074         2    5.269617  1.760084e+08   \n",
       "2            T       0.02074         4    2.332216  5.637953e+07   \n",
       "3            T       0.02074         4    2.332216  1.645088e+08   \n",
       "4            T       0.02074         4    2.332216  1.405402e+08   \n",
       "\n",
       "  creation_date  indicator_code   sell_date  type  hedge_value  status  \\\n",
       "0    2004-07-20               1  2004-08-12     1            0       1   \n",
       "1    2004-07-23               1  2004-08-12     2            0       1   \n",
       "2    2004-07-23               1  2004-08-17     0            0       1   \n",
       "3    2004-07-23               1  2004-07-13     0            0       1   \n",
       "4    2004-07-23               1  2004-07-13     1            0       1   \n",
       "\n",
       "    return  duration  \n",
       "0  0.02496        23  \n",
       "1  0.05496        20  \n",
       "2  0.02496        25  \n",
       "3  0.02496       -10  \n",
       "4  0.02496       -10  "
      ]
     },
     "execution_count": 62,
     "metadata": {},
     "output_type": "execute_result"
    }
   ],
   "source": [
    "return_df.head()"
   ]
  },
  {
   "cell_type": "code",
   "execution_count": 63,
   "metadata": {
    "collapsed": true
   },
   "outputs": [],
   "source": [
    "euro_train_X = return_df[return_df.currency == 1]\n",
    "rest_data_X = return_df[~(return_df.currency == 1)]"
   ]
  },
  {
   "cell_type": "code",
   "execution_count": null,
   "metadata": {
    "collapsed": true
   },
   "outputs": [],
   "source": []
  },
  {
   "cell_type": "code",
   "execution_count": 64,
   "metadata": {
    "collapsed": true
   },
   "outputs": [],
   "source": [
    "train_sub_set_X = return_df[['office_id','pf_category','sold','euribor_rate','currency','libor_rate','indicator_code','type','hedge_value','duration']]\n",
    "train_sub_set_target = return_df[['return']]"
   ]
  },
  {
   "cell_type": "code",
   "execution_count": 65,
   "metadata": {
    "collapsed": true
   },
   "outputs": [],
   "source": [
    "euro_sub_set_X = euro_train_X[['office_id','pf_category','sold','euribor_rate','indicator_code','type','duration']]\n",
    "euro_sub_set_target = euro_train_X[['return']]"
   ]
  },
  {
   "cell_type": "code",
   "execution_count": 66,
   "metadata": {
    "collapsed": true
   },
   "outputs": [],
   "source": [
    "rest_data_sub_set_X = rest_data_X[['office_id','pf_category','sold','euribor_rate','currency','libor_rate','indicator_code','type','hedge_value','duration']]\n",
    "rest_data_sub_set_target = rest_data_X[['return']]"
   ]
  },
  {
   "cell_type": "code",
   "execution_count": null,
   "metadata": {
    "collapsed": true
   },
   "outputs": [],
   "source": []
  },
  {
   "cell_type": "code",
   "execution_count": 67,
   "metadata": {},
   "outputs": [
    {
     "data": {
      "text/plain": [
       "array([ 0.0767616])"
      ]
     },
     "execution_count": 67,
     "metadata": {},
     "output_type": "execute_result"
    }
   ],
   "source": [
    "return_df[['return']].values[1666]"
   ]
  },
  {
   "cell_type": "code",
   "execution_count": 68,
   "metadata": {
    "collapsed": true
   },
   "outputs": [],
   "source": [
    "def normalize_data_frame(df):\n",
    "    df_norm = (df - df.mean()) / (df.max() - df.min())\n",
    "    return df_norm"
   ]
  },
  {
   "cell_type": "code",
   "execution_count": 69,
   "metadata": {
    "collapsed": true
   },
   "outputs": [],
   "source": [
    "X_normed = normalize_data_frame(train_sub_set_X)\n",
    "euro_sub_set_X_normed = normalize_data_frame(euro_sub_set_X)\n",
    "rest_data_sub_set_X_normed = normalize_data_frame(rest_data_sub_set_X)"
   ]
  },
  {
   "cell_type": "code",
   "execution_count": 70,
   "metadata": {
    "collapsed": true
   },
   "outputs": [],
   "source": [
    "euro_sub_set_X_normed['duration'] = euro_sub_set_X_normed['duration']**2"
   ]
  },
  {
   "cell_type": "code",
   "execution_count": 71,
   "metadata": {
    "collapsed": true
   },
   "outputs": [],
   "source": [
    "rest_data_sub_set_X_normed['duration'] = rest_data_sub_set_X_normed['duration']**2"
   ]
  },
  {
   "cell_type": "code",
   "execution_count": 72,
   "metadata": {
    "collapsed": true
   },
   "outputs": [],
   "source": [
    "gradient_euro_x = euro_train_X\n",
    "gradient_rest_x = rest_data_X"
   ]
  },
  {
   "cell_type": "code",
   "execution_count": 73,
   "metadata": {
    "collapsed": true
   },
   "outputs": [],
   "source": [
    "explained_variance = []\n",
    "for comp in range(2,8):\n",
    "    pca = PCA(n_components=comp)\n",
    "    X_pca = pca.fit_transform(X_normed)\n",
    "    explained_variance.append(pca.explained_variance_ratio_.sum())\n",
    "    \n",
    "        "
   ]
  },
  {
   "cell_type": "code",
   "execution_count": 74,
   "metadata": {},
   "outputs": [
    {
     "data": {
      "text/plain": [
       "[<matplotlib.lines.Line2D at 0x21c6f4de7b8>]"
      ]
     },
     "execution_count": 74,
     "metadata": {},
     "output_type": "execute_result"
    },
    {
     "data": {
      "image/png": "[encoded data removed]",
      "text/plain": [
       "<matplotlib.figure.Figure at 0x21c6f493eb8>"
      ]
     },
     "metadata": {},
     "output_type": "display_data"
    }
   ],
   "source": [
    "plt.plot(explained_variance)"
   ]
  },
  {
   "cell_type": "code",
   "execution_count": null,
   "metadata": {
    "collapsed": true
   },
   "outputs": [],
   "source": []
  },
  {
   "cell_type": "code",
   "execution_count": 75,
   "metadata": {},
   "outputs": [
    {
     "data": {
      "text/plain": [
       "[<matplotlib.lines.Line2D at 0x21c72b54358>]"
      ]
     },
     "execution_count": 75,
     "metadata": {},
     "output_type": "execute_result"
    },
    {
     "data": {
      "image/png": "[encoded data removed]",
      "text/plain": [
       "<matplotlib.figure.Figure at 0x21c6f4a5da0>"
      ]
     },
     "metadata": {},
     "output_type": "display_data"
    }
   ],
   "source": [
    "explained_variance1 = []\n",
    "for comp in range(2,8):\n",
    "    pca = PCA(n_components=comp)\n",
    "    euro_pca = pca.fit_transform(euro_sub_set_X_normed)\n",
    "    explained_variance1.append(pca.explained_variance_ratio_.sum())\n",
    "    \n",
    "plt.plot(explained_variance1)"
   ]
  },
  {
   "cell_type": "code",
   "execution_count": 76,
   "metadata": {},
   "outputs": [
    {
     "data": {
      "text/plain": [
       "[<matplotlib.lines.Line2D at 0x21c72bb9630>]"
      ]
     },
     "execution_count": 76,
     "metadata": {},
     "output_type": "execute_result"
    },
    {
     "data": {
      "image/png": "[encoded data removed]",
      "text/plain": [
       "<matplotlib.figure.Figure at 0x21c6f4d1668>"
      ]
     },
     "metadata": {},
     "output_type": "display_data"
    }
   ],
   "source": [
    "explained_variance1 = []\n",
    "for comp in range(2,8):\n",
    "    pca = PCA(n_components=comp)\n",
    "    rest_data_pca = pca.fit_transform(rest_data_sub_set_X_normed)\n",
    "    explained_variance1.append(pca.explained_variance_ratio_.sum())\n",
    "    \n",
    "plt.plot(explained_variance1)"
   ]
  },
  {
   "cell_type": "code",
   "execution_count": 77,
   "metadata": {},
   "outputs": [
    {
     "data": {
      "text/plain": [
       "[0.8445861489484725,\n",
       " 0.91956503217201946,\n",
       " 0.95513306707943513,\n",
       " 0.98921497340736608,\n",
       " 0.99533783409206911,\n",
       " 0.99789955440708622]"
      ]
     },
     "execution_count": 77,
     "metadata": {},
     "output_type": "execute_result"
    }
   ],
   "source": [
    "explained_variance1"
   ]
  },
  {
   "cell_type": "code",
   "execution_count": 78,
   "metadata": {
    "collapsed": true
   },
   "outputs": [],
   "source": [
    "#taking 4 as number of principle components\n",
    "pca = PCA(n_components=4)\n",
    "X_pca = pca.fit_transform(X_normed)\n",
    "pca = PCA(n_components=2)\n",
    "euro_X_pca = pca.fit_transform(euro_sub_set_X_normed)\n",
    "pca = PCA(n_components=3)\n",
    "rest_X_pca = pca.fit_transform(rest_data_sub_set_X_normed)"
   ]
  },
  {
   "cell_type": "code",
   "execution_count": 79,
   "metadata": {
    "collapsed": true
   },
   "outputs": [],
   "source": [
    "lr = LinearRegression()"
   ]
  },
  {
   "cell_type": "code",
   "execution_count": 80,
   "metadata": {
    "collapsed": true
   },
   "outputs": [],
   "source": [
    "linear_fit = lr.fit(X_pca,train_sub_set_target)"
   ]
  },
  {
   "cell_type": "code",
   "execution_count": 81,
   "metadata": {
    "collapsed": true
   },
   "outputs": [],
   "source": [
    "def get_mean_residual(fit,test_X,test_Y):\n",
    "    return np.mean((fit.predict(test_X)-test_Y)**2)"
   ]
  },
  {
   "cell_type": "code",
   "execution_count": 82,
   "metadata": {},
   "outputs": [
    {
     "data": {
      "text/plain": [
       "return    0.000195\n",
       "dtype: float64"
      ]
     },
     "execution_count": 82,
     "metadata": {},
     "output_type": "execute_result"
    }
   ],
   "source": [
    "get_mean_residual(linear_fit,X_pca,train_sub_set_target)"
   ]
  },
  {
   "cell_type": "code",
   "execution_count": 83,
   "metadata": {
    "collapsed": true
   },
   "outputs": [],
   "source": [
    "test_df_X = test_df[['office_id','pf_category','sold','euribor_rate','currency','libor_rate','indicator_code','type','hedge_value','duration']]\n",
    "test_normed = normalize_data_frame(test_df_X)\n",
    "test_normed['duration'] = test_normed['duration']**2"
   ]
  },
  {
   "cell_type": "code",
   "execution_count": null,
   "metadata": {
    "collapsed": true
   },
   "outputs": [],
   "source": []
  },
  {
   "cell_type": "code",
   "execution_count": 84,
   "metadata": {
    "collapsed": true
   },
   "outputs": [],
   "source": [
    "pca_test = PCA(n_components=4)\n",
    "test_x_pca = pca_test.fit_transform(test_normed)\n"
   ]
  },
  {
   "cell_type": "code",
   "execution_count": 85,
   "metadata": {
    "collapsed": true
   },
   "outputs": [],
   "source": [
    "return_result = linear_fit.predict(test_x_pca)"
   ]
  },
  {
   "cell_type": "code",
   "execution_count": 86,
   "metadata": {},
   "outputs": [
    {
     "data": {
      "text/plain": [
       "array([[ 0.03140054],\n",
       "       [ 0.00776938],\n",
       "       [ 0.03137059],\n",
       "       ..., \n",
       "       [-0.00375564],\n",
       "       [ 0.00017083],\n",
       "       [ 0.00017523]])"
      ]
     },
     "execution_count": 86,
     "metadata": {},
     "output_type": "execute_result"
    }
   ],
   "source": [
    "return_result"
   ]
  },
  {
   "cell_type": "code",
   "execution_count": 87,
   "metadata": {
    "collapsed": true
   },
   "outputs": [],
   "source": [
    "portfolio_id_test = test_df[['portfolio_id']]"
   ]
  },
  {
   "cell_type": "code",
   "execution_count": 88,
   "metadata": {},
   "outputs": [
    {
     "name": "stderr",
     "output_type": "stream",
     "text": [
      "C:\\Users\\imamk\\Anaconda3\\lib\\site-packages\\ipykernel_launcher.py:1: SettingWithCopyWarning: \n",
      "A value is trying to be set on a copy of a slice from a DataFrame.\n",
      "Try using .loc[row_indexer,col_indexer] = value instead\n",
      "\n",
      "See the caveats in the documentation: http://pandas.pydata.org/pandas-docs/stable/indexing.html#indexing-view-versus-copy\n",
      "  \"\"\"Entry point for launching an IPython kernel.\n"
     ]
    }
   ],
   "source": [
    "portfolio_id_test['return'] = return_result"
   ]
  },
  {
   "cell_type": "code",
   "execution_count": 89,
   "metadata": {
    "collapsed": true
   },
   "outputs": [],
   "source": [
    "portfolio_id_test.set_index('portfolio_id',inplace=True)"
   ]
  },
  {
   "cell_type": "code",
   "execution_count": 90,
   "metadata": {
    "collapsed": true
   },
   "outputs": [],
   "source": [
    "portfolio_id_test.to_csv(\"Result.csv\")"
   ]
  },
  {
   "cell_type": "code",
   "execution_count": 91,
   "metadata": {
    "collapsed": true
   },
   "outputs": [],
   "source": [
    "def cv_optimize(clf,parameters,Xtrain,Ytrain,nfolds,score_func,njobs=1):\n",
    "    print (njobs)\n",
    "    if(score_func):\n",
    "        gs = GridSearchCV(clf,param_grid=parameters,cv=nfolds,n_jobs=njobs,scoring=score_func)\n",
    "    else:\n",
    "        gs = GridSearchCV(clf,param_grid=parameters,cv=nfolds,n_jobs=njobs)\n",
    "    gs.fit(Xtrain,Ytrain)\n",
    "    print (gs.best_params_,gs.best_score_,gs.grid_scores_)\n",
    "    best = gs.best_estimator_\n",
    "    return best,gs.grid_scores_"
   ]
  },
  {
   "cell_type": "code",
   "execution_count": 92,
   "metadata": {
    "collapsed": true
   },
   "outputs": [],
   "source": [
    "def do_classify(clf,parameters,indf,featurenames,targetname,mask,njobs = 1,score_func=None,nfolds = 10):\n",
    "    subdf = indf[featurenames]\n",
    "    X = subdf.values\n",
    "    y = indf[targetname].values\n",
    "    if mask[0]!=None:\n",
    "        print (\"using Mask\")\n",
    "        Xtrain,Ytrain,Xtest,Ytest = X[mask],y[mask],X[~mask],y[~mask]\n",
    "    else:\n",
    "        print (\"mask not found\")\n",
    "    grid_score = None\n",
    "    if parameters:\n",
    "        clf,grid_score = cv_optimize(clf,parameters,Xtrain,Ytrain,njobs=njobs,nfolds = nfolds,score_func = score_func)\n",
    "    clf_on_train = clf.fit(Xtrain,Ytrain)\n",
    "    training_accuracy = clf_on_train.score(Xtrain,Ytrain)\n",
    "    test_accuracy = clf_on_train.score(Xtest,Ytest)\n",
    "    print (test_accuracy)\n",
    "    clf_on_total = clf.fit(X,y)\n",
    "    \n",
    "    return clf_on_train,grid_score"
   ]
  },
  {
   "cell_type": "code",
   "execution_count": 93,
   "metadata": {
    "collapsed": true
   },
   "outputs": [],
   "source": [
    "data_now = X_normed"
   ]
  },
  {
   "cell_type": "code",
   "execution_count": 94,
   "metadata": {
    "collapsed": true
   },
   "outputs": [],
   "source": [
    "data_after_pca = pd.DataFrame()\n",
    "euro_data_after_pca = pd.DataFrame()\n",
    "rest_data_after_pca = pd.DataFrame()"
   ]
  },
  {
   "cell_type": "code",
   "execution_count": 95,
   "metadata": {
    "collapsed": true
   },
   "outputs": [],
   "source": [
    "data_after_pca['c1']= X_pca[:,0]\n",
    "data_after_pca['c2']= X_pca[:,1]\n",
    "data_after_pca['c3']= X_pca[:,2]\n",
    "data_after_pca['c4']= X_pca[:,3]\n",
    "data_after_pca['return'] = return_df[['return']].values"
   ]
  },
  {
   "cell_type": "code",
   "execution_count": 96,
   "metadata": {
    "collapsed": true
   },
   "outputs": [],
   "source": [
    "euro_data_after_pca['c1']= euro_X_pca[:,0]\n",
    "euro_data_after_pca['c2']= euro_X_pca[:,1]\n",
    "euro_data_after_pca['return'] = euro_sub_set_target[['return']].values"
   ]
  },
  {
   "cell_type": "code",
   "execution_count": 97,
   "metadata": {
    "collapsed": true
   },
   "outputs": [],
   "source": [
    "rest_data_after_pca['c1']= rest_X_pca[:,0]\n",
    "rest_data_after_pca['c2']= rest_X_pca[:,1]\n",
    "rest_data_after_pca['c3']= rest_X_pca[:,2]\n",
    "rest_data_after_pca['return'] = rest_data_sub_set_target[['return']].values"
   ]
  },
  {
   "cell_type": "code",
   "execution_count": 98,
   "metadata": {
    "collapsed": true
   },
   "outputs": [],
   "source": [
    "itrain, itest = train_test_split(range(data_after_pca.shape[0]), train_size=0.7)\n",
    "mask=np.ones(data_after_pca.shape[0], dtype='int')\n",
    "mask[itrain]=1\n",
    "mask[itest]=0\n",
    "mask = (mask==1)"
   ]
  },
  {
   "cell_type": "code",
   "execution_count": 99,
   "metadata": {
    "collapsed": true
   },
   "outputs": [],
   "source": [
    "eurtrain, eurtest = train_test_split(range(euro_data_after_pca.shape[0]),train_size = 0.7)\n",
    "mask_eur=np.ones(euro_data_after_pca.shape[0], dtype='int')\n",
    "mask_eur[eurtrain]=1\n",
    "mask_eur[eurtest]=0\n",
    "mask_eur = (mask_eur==1)"
   ]
  },
  {
   "cell_type": "code",
   "execution_count": 100,
   "metadata": {
    "collapsed": true
   },
   "outputs": [],
   "source": [
    "resttrain, resttest = train_test_split(range(rest_data_after_pca.shape[0]),train_size = 0.7)\n",
    "mask_rest=np.ones(rest_data_after_pca.shape[0], dtype='int')\n",
    "mask_rest[resttrain]=1\n",
    "mask_rest[resttest]=0\n",
    "mask_rest = (mask_rest==1)"
   ]
  },
  {
   "cell_type": "code",
   "execution_count": 101,
   "metadata": {},
   "outputs": [
    {
     "data": {
      "text/plain": [
       "0.076761600000000013"
      ]
     },
     "execution_count": 101,
     "metadata": {},
     "output_type": "execute_result"
    }
   ],
   "source": [
    "data_after_pca['return'].values[1666]"
   ]
  },
  {
   "cell_type": "code",
   "execution_count": 102,
   "metadata": {},
   "outputs": [
    {
     "data": {
      "text/plain": [
       "0.054960000000000002"
      ]
     },
     "execution_count": 102,
     "metadata": {},
     "output_type": "execute_result"
    }
   ],
   "source": [
    "data_after_pca['return'].values[1]"
   ]
  },
  {
   "cell_type": "code",
   "execution_count": 103,
   "metadata": {},
   "outputs": [
    {
     "data": {
      "text/plain": [
       "array([ 0.0767616])"
      ]
     },
     "execution_count": 103,
     "metadata": {},
     "output_type": "execute_result"
    }
   ],
   "source": [
    "return_df[['return']].values[1666]"
   ]
  },
  {
   "cell_type": "code",
   "execution_count": 104,
   "metadata": {},
   "outputs": [
    {
     "data": {
      "text/plain": [
       "array([ 0.05496])"
      ]
     },
     "execution_count": 104,
     "metadata": {},
     "output_type": "execute_result"
    }
   ],
   "source": [
    "return_df[['return']].values[1]"
   ]
  },
  {
   "cell_type": "code",
   "execution_count": 105,
   "metadata": {
    "collapsed": true
   },
   "outputs": [],
   "source": [
    "ridge_model = Ridge()\n",
    "parameters = { \"alpha\":[0,0.001,0.01,0.1,0.3,0.5,0.8,0.9,0.99,1.0]}\n",
    "featurenames = ['c1','c2','c3','c4']\n",
    "eurfeaturenames = ['c1','c2']\n",
    "restfeatures = ['c1','c2','c3']"
   ]
  },
  {
   "cell_type": "code",
   "execution_count": 106,
   "metadata": {},
   "outputs": [
    {
     "name": "stdout",
     "output_type": "stream",
     "text": [
      "using Mask\n",
      "1\n",
      "{'alpha': 1.0} -1.9549587913508721 [mean: -1.96078, std: 2.10379, params: {'alpha': 0}, mean: -1.96077, std: 2.10379, params: {'alpha': 0.001}, mean: -1.96072, std: 2.10372, params: {'alpha': 0.01}, mean: -1.96019, std: 2.10311, params: {'alpha': 0.1}, mean: -1.95903, std: 2.10174, params: {'alpha': 0.3}, mean: -1.95786, std: 2.10038, params: {'alpha': 0.5}, mean: -1.95612, std: 2.09833, params: {'alpha': 0.8}, mean: -1.95554, std: 2.09765, params: {'alpha': 0.9}, mean: -1.95502, std: 2.09704, params: {'alpha': 0.99}, mean: -1.95496, std: 2.09697, params: {'alpha': 1.0}]\n",
      "0.447259822863\n",
      "using Mask\n",
      "5\n",
      "{'alpha': 0} -25.2247506574098 [mean: -25.22475, std: 62.71510, params: {'alpha': 0}, mean: -25.22529, std: 62.71697, params: {'alpha': 0.001}, mean: -25.23063, std: 62.73358, params: {'alpha': 0.01}, mean: -25.30559, std: 62.88883, params: {'alpha': 0.1}, mean: -25.47839, std: 63.21966, params: {'alpha': 0.3}, mean: -25.63523, std: 63.54184, params: {'alpha': 0.5}, mean: -25.85203, std: 64.00565, params: {'alpha': 0.8}, mean: -25.92081, std: 64.15481, params: {'alpha': 0.9}, mean: -25.98150, std: 64.28673, params: {'alpha': 0.99}, mean: -25.98818, std: 64.30126, params: {'alpha': 1.0}]\n",
      "0.767634363125\n",
      "using Mask\n",
      "10\n",
      "{'alpha': 1.0} -7.7538722492078165 [mean: -7.76336, std: 9.37450, params: {'alpha': 0}, mean: -7.76335, std: 9.37450, params: {'alpha': 0.001}, mean: -7.76326, std: 9.37446, params: {'alpha': 0.01}, mean: -7.76241, std: 9.37406, params: {'alpha': 0.1}, mean: -7.76050, std: 9.37318, params: {'alpha': 0.3}, mean: -7.75861, std: 9.37230, params: {'alpha': 0.5}, mean: -7.75576, std: 9.37098, params: {'alpha': 0.8}, mean: -7.75482, std: 9.37054, params: {'alpha': 0.9}, mean: -7.75397, std: 9.37015, params: {'alpha': 0.99}, mean: -7.75387, std: 9.37010, params: {'alpha': 1.0}]\n",
      "0.431524093897\n"
     ]
    }
   ],
   "source": [
    "ridge_model_fit,grid_score = do_classify(ridge_model,parameters,data_after_pca,featurenames,'return',mask,njobs=1,nfolds=10)\n",
    "eur_model_fit,grid_score = do_classify(ridge_model,parameters,euro_data_after_pca,eurfeaturenames,'return',mask_eur,njobs=5)\n",
    "rest_model_fit,grid_score = do_classify(ridge_model,parameters,rest_data_after_pca,restfeatures,'return',mask_rest,njobs=10)"
   ]
  },
  {
   "cell_type": "code",
   "execution_count": null,
   "metadata": {
    "collapsed": true
   },
   "outputs": [],
   "source": []
  },
  {
   "cell_type": "code",
   "execution_count": 107,
   "metadata": {},
   "outputs": [],
   "source": [
    "result = ridge_model_fit.predict(test_x_pca)"
   ]
  },
  {
   "cell_type": "code",
   "execution_count": 108,
   "metadata": {
    "collapsed": true
   },
   "outputs": [],
   "source": [
    "euro_test = test_df[test_df.currency == 1]\n",
    "rest_test = test_df[~(test_df.currency == 1)]\n"
   ]
  },
  {
   "cell_type": "code",
   "execution_count": null,
   "metadata": {
    "collapsed": true
   },
   "outputs": [],
   "source": []
  },
  {
   "cell_type": "code",
   "execution_count": 109,
   "metadata": {
    "collapsed": true
   },
   "outputs": [],
   "source": [
    "euro_test_portfolio_list = euro_test.portfolio_id.values\n",
    "rest_test_portfolio_list = rest_test.portfolio_id.values"
   ]
  },
  {
   "cell_type": "code",
   "execution_count": 110,
   "metadata": {
    "collapsed": true
   },
   "outputs": [],
   "source": [
    "euro_test_df_X =euro_test[['office_id','pf_category','sold','euribor_rate','indicator_code','type','duration']]\n",
    "euro_test_normed = normalize_data_frame(euro_test_df_X)"
   ]
  },
  {
   "cell_type": "code",
   "execution_count": 111,
   "metadata": {
    "collapsed": true
   },
   "outputs": [],
   "source": [
    "rest_test_df_X = rest_test[['office_id','pf_category','sold','currency','euribor_rate','libor_rate','indicator_code','type','hedge_value','duration']]\n",
    "rest_test_normed = normalize_data_frame(rest_test_df_X)"
   ]
  },
  {
   "cell_type": "code",
   "execution_count": 112,
   "metadata": {
    "collapsed": true
   },
   "outputs": [],
   "source": [
    "euro_pca_test = PCA(n_components=2)\n",
    "euro_test_x_pca = euro_pca_test.fit_transform(euro_test_normed)\n",
    "\n",
    "rest_pca_test = PCA(n_components=3)\n",
    "rest_test_x_pca = rest_pca_test.fit_transform(rest_test_normed)\n",
    "\n"
   ]
  },
  {
   "cell_type": "code",
   "execution_count": 113,
   "metadata": {},
   "outputs": [],
   "source": [
    "euro_prediction = eur_model_fit.predict(euro_test_x_pca)\n",
    "rest_prediction = rest_model_fit.predict(rest_test_x_pca)"
   ]
  },
  {
   "cell_type": "code",
   "execution_count": 114,
   "metadata": {},
   "outputs": [
    {
     "name": "stdout",
     "output_type": "stream",
     "text": [
      "(268, 2) (4533, 3)\n"
     ]
    }
   ],
   "source": [
    "print (euro_test_x_pca.shape, rest_test_x_pca.shape)"
   ]
  },
  {
   "cell_type": "code",
   "execution_count": 115,
   "metadata": {},
   "outputs": [
    {
     "data": {
      "text/plain": [
       "4533"
      ]
     },
     "execution_count": 115,
     "metadata": {},
     "output_type": "execute_result"
    }
   ],
   "source": [
    "rest_prediction.size"
   ]
  },
  {
   "cell_type": "code",
   "execution_count": 116,
   "metadata": {},
   "outputs": [],
   "source": [
    "restdf = pd.DataFrame()\n",
    "eurdf = pd.DataFrame()\n",
    "eurdf['portfolio_id'] = euro_test_portfolio_list\n",
    "eurdf['return'] = euro_prediction\n",
    "restdf['portfolio_id'] = rest_test_portfolio_list\n",
    "restdf['return'] = rest_prediction\n",
    "eurdf.set_index('portfolio_id',inplace=True)\n",
    "restdf.set_index('portfolio_id',inplace=True)\n",
    "result= eurdf.append(restdf)\n",
    "result.sort_index(inplace=True)"
   ]
  },
  {
   "cell_type": "code",
   "execution_count": null,
   "metadata": {
    "collapsed": true
   },
   "outputs": [],
   "source": []
  },
  {
   "cell_type": "code",
   "execution_count": null,
   "metadata": {
    "collapsed": true
   },
   "outputs": [],
   "source": []
  },
  {
   "cell_type": "code",
   "execution_count": null,
   "metadata": {
    "collapsed": true
   },
   "outputs": [],
   "source": []
  },
  {
   "cell_type": "code",
   "execution_count": null,
   "metadata": {
    "collapsed": true
   },
   "outputs": [],
   "source": []
  },
  {
   "cell_type": "code",
   "execution_count": 117,
   "metadata": {},
   "outputs": [
    {
     "name": "stderr",
     "output_type": "stream",
     "text": [
      "C:\\Users\\imamk\\Anaconda3\\lib\\site-packages\\ipykernel_launcher.py:2: SettingWithCopyWarning: \n",
      "A value is trying to be set on a copy of a slice from a DataFrame.\n",
      "Try using .loc[row_indexer,col_indexer] = value instead\n",
      "\n",
      "See the caveats in the documentation: http://pandas.pydata.org/pandas-docs/stable/indexing.html#indexing-view-versus-copy\n",
      "  \n"
     ]
    }
   ],
   "source": [
    "portfolio_id_test = test_df[['portfolio_id']]\n",
    "portfolio_id_test['return'] = result\n",
    "portfolio_id_test.set_index('portfolio_id',inplace=True)\n",
    "portfolio_id_test.to_csv(\"Result.csv\")"
   ]
  },
  {
   "cell_type": "code",
   "execution_count": 118,
   "metadata": {},
   "outputs": [],
   "source": [
    "result.to_csv(\"Result.csv\")"
   ]
  },
  {
   "cell_type": "code",
   "execution_count": 119,
   "metadata": {},
   "outputs": [
    {
     "data": {
      "text/html": [
       "<div>\n",
       "<style>\n",
       "    .dataframe thead tr:only-child th {\n",
       "        text-align: right;\n",
       "    }\n",
       "\n",
       "    .dataframe thead th {\n",
       "        text-align: left;\n",
       "    }\n",
       "\n",
       "    .dataframe tbody tr th {\n",
       "        vertical-align: top;\n",
       "    }\n",
       "</style>\n",
       "<table border=\"1\" class=\"dataframe\">\n",
       "  <thead>\n",
       "    <tr style=\"text-align: right;\">\n",
       "      <th></th>\n",
       "      <th>portfolio_id</th>\n",
       "      <th>desk_id</th>\n",
       "      <th>office_id</th>\n",
       "      <th>pf_category</th>\n",
       "      <th>start_date</th>\n",
       "      <th>sold</th>\n",
       "      <th>country_code</th>\n",
       "      <th>euribor_rate</th>\n",
       "      <th>currency</th>\n",
       "      <th>libor_rate</th>\n",
       "      <th>bought</th>\n",
       "      <th>creation_date</th>\n",
       "      <th>indicator_code</th>\n",
       "      <th>sell_date</th>\n",
       "      <th>type</th>\n",
       "      <th>hedge_value</th>\n",
       "      <th>status</th>\n",
       "      <th>return</th>\n",
       "      <th>duration</th>\n",
       "    </tr>\n",
       "  </thead>\n",
       "  <tbody>\n",
       "    <tr>\n",
       "      <th>2644</th>\n",
       "      <td>PF00005033</td>\n",
       "      <td>DSK00004453</td>\n",
       "      <td>0</td>\n",
       "      <td>0</td>\n",
       "      <td>2010-06-15</td>\n",
       "      <td>82511000.0</td>\n",
       "      <td>Z</td>\n",
       "      <td>0.00428</td>\n",
       "      <td>1</td>\n",
       "      <td>1.079023</td>\n",
       "      <td>8.222149e+07</td>\n",
       "      <td>2010-06-15</td>\n",
       "      <td>1</td>\n",
       "      <td>2010-02-05</td>\n",
       "      <td>4</td>\n",
       "      <td>0</td>\n",
       "      <td>1</td>\n",
       "      <td>0.05508</td>\n",
       "      <td>-130</td>\n",
       "    </tr>\n",
       "    <tr>\n",
       "      <th>2645</th>\n",
       "      <td>PF00005035</td>\n",
       "      <td>DSK00004455</td>\n",
       "      <td>0</td>\n",
       "      <td>3</td>\n",
       "      <td>2010-06-15</td>\n",
       "      <td>34654400.0</td>\n",
       "      <td>Z</td>\n",
       "      <td>0.00428</td>\n",
       "      <td>1</td>\n",
       "      <td>1.079023</td>\n",
       "      <td>3.453281e+07</td>\n",
       "      <td>2010-06-15</td>\n",
       "      <td>1</td>\n",
       "      <td>2010-02-05</td>\n",
       "      <td>4</td>\n",
       "      <td>0</td>\n",
       "      <td>1</td>\n",
       "      <td>0.05508</td>\n",
       "      <td>-130</td>\n",
       "    </tr>\n",
       "    <tr>\n",
       "      <th>2646</th>\n",
       "      <td>PF00005036</td>\n",
       "      <td>DSK00004456</td>\n",
       "      <td>0</td>\n",
       "      <td>3</td>\n",
       "      <td>2010-06-15</td>\n",
       "      <td>696300000.0</td>\n",
       "      <td>Z</td>\n",
       "      <td>0.00428</td>\n",
       "      <td>1</td>\n",
       "      <td>1.079023</td>\n",
       "      <td>6.939046e+08</td>\n",
       "      <td>2010-06-15</td>\n",
       "      <td>1</td>\n",
       "      <td>2010-03-05</td>\n",
       "      <td>4</td>\n",
       "      <td>0</td>\n",
       "      <td>1</td>\n",
       "      <td>0.05400</td>\n",
       "      <td>-102</td>\n",
       "    </tr>\n",
       "    <tr>\n",
       "      <th>2647</th>\n",
       "      <td>PF00005037</td>\n",
       "      <td>DSK00004457</td>\n",
       "      <td>0</td>\n",
       "      <td>3</td>\n",
       "      <td>2010-06-15</td>\n",
       "      <td>34650000.0</td>\n",
       "      <td>Z</td>\n",
       "      <td>0.00428</td>\n",
       "      <td>1</td>\n",
       "      <td>1.079023</td>\n",
       "      <td>3.453080e+07</td>\n",
       "      <td>2010-06-15</td>\n",
       "      <td>1</td>\n",
       "      <td>2010-03-05</td>\n",
       "      <td>4</td>\n",
       "      <td>0</td>\n",
       "      <td>1</td>\n",
       "      <td>0.05400</td>\n",
       "      <td>-102</td>\n",
       "    </tr>\n",
       "    <tr>\n",
       "      <th>2648</th>\n",
       "      <td>PF00005038</td>\n",
       "      <td>DSK00004459</td>\n",
       "      <td>0</td>\n",
       "      <td>3</td>\n",
       "      <td>2010-06-15</td>\n",
       "      <td>731610000.0</td>\n",
       "      <td>Z</td>\n",
       "      <td>0.00428</td>\n",
       "      <td>1</td>\n",
       "      <td>1.079023</td>\n",
       "      <td>7.284458e+08</td>\n",
       "      <td>2010-06-15</td>\n",
       "      <td>1</td>\n",
       "      <td>2010-04-09</td>\n",
       "      <td>4</td>\n",
       "      <td>0</td>\n",
       "      <td>1</td>\n",
       "      <td>0.05436</td>\n",
       "      <td>-67</td>\n",
       "    </tr>\n",
       "  </tbody>\n",
       "</table>\n",
       "</div>"
      ],
      "text/plain": [
       "     portfolio_id      desk_id  office_id  pf_category  start_date  \\\n",
       "2644   PF00005033  DSK00004453          0            0  2010-06-15   \n",
       "2645   PF00005035  DSK00004455          0            3  2010-06-15   \n",
       "2646   PF00005036  DSK00004456          0            3  2010-06-15   \n",
       "2647   PF00005037  DSK00004457          0            3  2010-06-15   \n",
       "2648   PF00005038  DSK00004459          0            3  2010-06-15   \n",
       "\n",
       "             sold country_code  euribor_rate  currency  libor_rate  \\\n",
       "2644   82511000.0            Z       0.00428         1    1.079023   \n",
       "2645   34654400.0            Z       0.00428         1    1.079023   \n",
       "2646  696300000.0            Z       0.00428         1    1.079023   \n",
       "2647   34650000.0            Z       0.00428         1    1.079023   \n",
       "2648  731610000.0            Z       0.00428         1    1.079023   \n",
       "\n",
       "            bought creation_date  indicator_code   sell_date  type  \\\n",
       "2644  8.222149e+07    2010-06-15               1  2010-02-05     4   \n",
       "2645  3.453281e+07    2010-06-15               1  2010-02-05     4   \n",
       "2646  6.939046e+08    2010-06-15               1  2010-03-05     4   \n",
       "2647  3.453080e+07    2010-06-15               1  2010-03-05     4   \n",
       "2648  7.284458e+08    2010-06-15               1  2010-04-09     4   \n",
       "\n",
       "      hedge_value  status   return  duration  \n",
       "2644            0       1  0.05508      -130  \n",
       "2645            0       1  0.05508      -130  \n",
       "2646            0       1  0.05400      -102  \n",
       "2647            0       1  0.05400      -102  \n",
       "2648            0       1  0.05436       -67  "
      ]
     },
     "execution_count": 119,
     "metadata": {},
     "output_type": "execute_result"
    }
   ],
   "source": [
    "gradient_euro_x.head()"
   ]
  },
  {
   "cell_type": "code",
   "execution_count": 120,
   "metadata": {},
   "outputs": [
    {
     "data": {
      "text/html": [
       "<div>\n",
       "<style>\n",
       "    .dataframe thead tr:only-child th {\n",
       "        text-align: right;\n",
       "    }\n",
       "\n",
       "    .dataframe thead th {\n",
       "        text-align: left;\n",
       "    }\n",
       "\n",
       "    .dataframe tbody tr th {\n",
       "        vertical-align: top;\n",
       "    }\n",
       "</style>\n",
       "<table border=\"1\" class=\"dataframe\">\n",
       "  <thead>\n",
       "    <tr style=\"text-align: right;\">\n",
       "      <th></th>\n",
       "      <th>portfolio_id</th>\n",
       "      <th>desk_id</th>\n",
       "      <th>office_id</th>\n",
       "      <th>pf_category</th>\n",
       "      <th>start_date</th>\n",
       "      <th>sold</th>\n",
       "      <th>country_code</th>\n",
       "      <th>euribor_rate</th>\n",
       "      <th>currency</th>\n",
       "      <th>libor_rate</th>\n",
       "      <th>bought</th>\n",
       "      <th>creation_date</th>\n",
       "      <th>indicator_code</th>\n",
       "      <th>sell_date</th>\n",
       "      <th>type</th>\n",
       "      <th>hedge_value</th>\n",
       "      <th>status</th>\n",
       "      <th>return</th>\n",
       "      <th>duration</th>\n",
       "    </tr>\n",
       "  </thead>\n",
       "  <tbody>\n",
       "    <tr>\n",
       "      <th>0</th>\n",
       "      <td>PF00001002</td>\n",
       "      <td>DSK00001001</td>\n",
       "      <td>1</td>\n",
       "      <td>1</td>\n",
       "      <td>2004-07-20</td>\n",
       "      <td>110000000.0</td>\n",
       "      <td>T</td>\n",
       "      <td>0.02074</td>\n",
       "      <td>4</td>\n",
       "      <td>2.332216</td>\n",
       "      <td>1.098097e+08</td>\n",
       "      <td>2004-07-20</td>\n",
       "      <td>1</td>\n",
       "      <td>2004-08-12</td>\n",
       "      <td>1</td>\n",
       "      <td>0</td>\n",
       "      <td>1</td>\n",
       "      <td>0.02496</td>\n",
       "      <td>23</td>\n",
       "    </tr>\n",
       "    <tr>\n",
       "      <th>1</th>\n",
       "      <td>PF00001003</td>\n",
       "      <td>DSK00001002</td>\n",
       "      <td>0</td>\n",
       "      <td>0</td>\n",
       "      <td>2004-07-09</td>\n",
       "      <td>176671000.0</td>\n",
       "      <td>N</td>\n",
       "      <td>0.02074</td>\n",
       "      <td>2</td>\n",
       "      <td>5.269617</td>\n",
       "      <td>1.760084e+08</td>\n",
       "      <td>2004-07-23</td>\n",
       "      <td>1</td>\n",
       "      <td>2004-08-12</td>\n",
       "      <td>2</td>\n",
       "      <td>0</td>\n",
       "      <td>1</td>\n",
       "      <td>0.05496</td>\n",
       "      <td>20</td>\n",
       "    </tr>\n",
       "    <tr>\n",
       "      <th>2</th>\n",
       "      <td>PF00001005</td>\n",
       "      <td>DSK00001004</td>\n",
       "      <td>0</td>\n",
       "      <td>0</td>\n",
       "      <td>2004-07-23</td>\n",
       "      <td>56474000.0</td>\n",
       "      <td>T</td>\n",
       "      <td>0.02074</td>\n",
       "      <td>4</td>\n",
       "      <td>2.332216</td>\n",
       "      <td>5.637953e+07</td>\n",
       "      <td>2004-07-23</td>\n",
       "      <td>1</td>\n",
       "      <td>2004-08-17</td>\n",
       "      <td>0</td>\n",
       "      <td>0</td>\n",
       "      <td>1</td>\n",
       "      <td>0.02496</td>\n",
       "      <td>25</td>\n",
       "    </tr>\n",
       "    <tr>\n",
       "      <th>3</th>\n",
       "      <td>PF00001006</td>\n",
       "      <td>DSK00001005</td>\n",
       "      <td>0</td>\n",
       "      <td>0</td>\n",
       "      <td>2004-06-09</td>\n",
       "      <td>164813000.0</td>\n",
       "      <td>T</td>\n",
       "      <td>0.02074</td>\n",
       "      <td>4</td>\n",
       "      <td>2.332216</td>\n",
       "      <td>1.645088e+08</td>\n",
       "      <td>2004-07-23</td>\n",
       "      <td>1</td>\n",
       "      <td>2004-07-13</td>\n",
       "      <td>0</td>\n",
       "      <td>0</td>\n",
       "      <td>1</td>\n",
       "      <td>0.02496</td>\n",
       "      <td>-10</td>\n",
       "    </tr>\n",
       "    <tr>\n",
       "      <th>4</th>\n",
       "      <td>PF00001007</td>\n",
       "      <td>DSK00001005</td>\n",
       "      <td>1</td>\n",
       "      <td>1</td>\n",
       "      <td>2004-06-09</td>\n",
       "      <td>140800000.0</td>\n",
       "      <td>T</td>\n",
       "      <td>0.02074</td>\n",
       "      <td>4</td>\n",
       "      <td>2.332216</td>\n",
       "      <td>1.405402e+08</td>\n",
       "      <td>2004-07-23</td>\n",
       "      <td>1</td>\n",
       "      <td>2004-07-13</td>\n",
       "      <td>1</td>\n",
       "      <td>0</td>\n",
       "      <td>1</td>\n",
       "      <td>0.02496</td>\n",
       "      <td>-10</td>\n",
       "    </tr>\n",
       "  </tbody>\n",
       "</table>\n",
       "</div>"
      ],
      "text/plain": [
       "  portfolio_id      desk_id  office_id  pf_category  start_date         sold  \\\n",
       "0   PF00001002  DSK00001001          1            1  2004-07-20  110000000.0   \n",
       "1   PF00001003  DSK00001002          0            0  2004-07-09  176671000.0   \n",
       "2   PF00001005  DSK00001004          0            0  2004-07-23   56474000.0   \n",
       "3   PF00001006  DSK00001005          0            0  2004-06-09  164813000.0   \n",
       "4   PF00001007  DSK00001005          1            1  2004-06-09  140800000.0   \n",
       "\n",
       "  country_code  euribor_rate  currency  libor_rate        bought  \\\n",
       "0            T       0.02074         4    2.332216  1.098097e+08   \n",
       "1            N       0.02074         2    5.269617  1.760084e+08   \n",
       "2            T       0.02074         4    2.332216  5.637953e+07   \n",
       "3            T       0.02074         4    2.332216  1.645088e+08   \n",
       "4            T       0.02074         4    2.332216  1.405402e+08   \n",
       "\n",
       "  creation_date  indicator_code   sell_date  type  hedge_value  status  \\\n",
       "0    2004-07-20               1  2004-08-12     1            0       1   \n",
       "1    2004-07-23               1  2004-08-12     2            0       1   \n",
       "2    2004-07-23               1  2004-08-17     0            0       1   \n",
       "3    2004-07-23               1  2004-07-13     0            0       1   \n",
       "4    2004-07-23               1  2004-07-13     1            0       1   \n",
       "\n",
       "    return  duration  \n",
       "0  0.02496        23  \n",
       "1  0.05496        20  \n",
       "2  0.02496        25  \n",
       "3  0.02496       -10  \n",
       "4  0.02496       -10  "
      ]
     },
     "execution_count": 120,
     "metadata": {},
     "output_type": "execute_result"
    }
   ],
   "source": [
    "gradient_rest_x.head()"
   ]
  },
  {
   "cell_type": "code",
   "execution_count": 121,
   "metadata": {
    "collapsed": true
   },
   "outputs": [],
   "source": [
    "gb_model = GradientBoostingRegressor(random_state=10)\n",
    "gb_model2 = GradientBoostingRegressor(random_state=10)\n",
    "parameters = { \"alpha\":[0,0.001,0.01,0.1,0.3,0.5,0.8,0.9,0.99,1.0]}\n",
    "eurfeaturenames = ['office_id','pf_category','sold','euribor_rate','indicator_code','type','duration']\n",
    "restfeatures = ['office_id','pf_category','sold','euribor_rate','currency','libor_rate','indicator_code','hedge_value','type','duration']\n"
   ]
  },
  {
   "cell_type": "code",
   "execution_count": 122,
   "metadata": {},
   "outputs": [
    {
     "name": "stdout",
     "output_type": "stream",
     "text": [
      "using Mask\n",
      "0.902672654386\n"
     ]
    }
   ],
   "source": [
    "clf_euro,grid_score = do_classify(clf=gb_model,featurenames=eurfeaturenames,indf=gradient_euro_x,mask=mask_eur,nfolds=5,njobs=1,parameters=None,targetname='return')"
   ]
  },
  {
   "cell_type": "code",
   "execution_count": 123,
   "metadata": {},
   "outputs": [
    {
     "name": "stdout",
     "output_type": "stream",
     "text": [
      "using Mask\n",
      "0.88458783612\n"
     ]
    }
   ],
   "source": [
    "clf_rest,grid_score = do_classify(clf=gb_model2,featurenames=restfeatures,indf=gradient_rest_x,mask=mask_rest,nfolds=10,njobs=1,parameters=None,targetname='return')"
   ]
  },
  {
   "cell_type": "code",
   "execution_count": 124,
   "metadata": {},
   "outputs": [],
   "source": [
    "euro_prediction = clf_euro.predict(euro_test_df_X)"
   ]
  },
  {
   "cell_type": "code",
   "execution_count": 125,
   "metadata": {},
   "outputs": [],
   "source": [
    "rest_prediction = clf_rest.predict(rest_test_df_X)"
   ]
  },
  {
   "cell_type": "code",
   "execution_count": 126,
   "metadata": {},
   "outputs": [],
   "source": [
    "restdf = pd.DataFrame()\n",
    "eurdf = pd.DataFrame()\n",
    "eurdf['portfolio_id'] = euro_test_portfolio_list\n",
    "eurdf['return'] = euro_prediction\n",
    "restdf['portfolio_id'] = rest_test_portfolio_list\n",
    "restdf['return'] = rest_prediction\n",
    "eurdf.set_index('portfolio_id',inplace=True)\n",
    "restdf.set_index('portfolio_id',inplace=True)\n",
    "result1 = eurdf.append(restdf)\n",
    "result1.sort_index(inplace=True)"
   ]
  },
  {
   "cell_type": "raw",
   "metadata": {},
   "source": [
    "    "
   ]
  },
  {
   "cell_type": "code",
   "execution_count": 127,
   "metadata": {},
   "outputs": [],
   "source": [
    "result1.to_csv(\"Result1.csv\")"
   ]
  },
  {
   "cell_type": "code",
   "execution_count": 128,
   "metadata": {
    "collapsed": true
   },
   "outputs": [],
   "source": [
    "gradient_input = train_sub_set_X"
   ]
  },
  {
   "cell_type": "code",
   "execution_count": 129,
   "metadata": {},
   "outputs": [
    {
     "name": "stderr",
     "output_type": "stream",
     "text": [
      "C:\\Users\\imamk\\Anaconda3\\lib\\site-packages\\ipykernel_launcher.py:1: SettingWithCopyWarning: \n",
      "A value is trying to be set on a copy of a slice from a DataFrame.\n",
      "Try using .loc[row_indexer,col_indexer] = value instead\n",
      "\n",
      "See the caveats in the documentation: http://pandas.pydata.org/pandas-docs/stable/indexing.html#indexing-view-versus-copy\n",
      "  \"\"\"Entry point for launching an IPython kernel.\n"
     ]
    }
   ],
   "source": [
    "gradient_input['return'] = train_sub_set_target.values"
   ]
  },
  {
   "cell_type": "code",
   "execution_count": 130,
   "metadata": {},
   "outputs": [
    {
     "data": {
      "text/plain": [
       "Index(['office_id', 'pf_category', 'sold', 'euribor_rate', 'currency',\n",
       "       'libor_rate', 'indicator_code', 'type', 'hedge_value', 'duration',\n",
       "       'return'],\n",
       "      dtype='object')"
      ]
     },
     "execution_count": 130,
     "metadata": {},
     "output_type": "execute_result"
    }
   ],
   "source": [
    "gradient_input.columns"
   ]
  },
  {
   "cell_type": "code",
   "execution_count": 131,
   "metadata": {
    "collapsed": true
   },
   "outputs": [],
   "source": [
    "clf = GradientBoostingRegressor(random_state=10)\n",
    "feature_names = ['office_id', 'pf_category', 'sold', 'euribor_rate', 'currency',\n",
    "       'libor_rate', 'indicator_code', 'type', 'hedge_value', 'duration']"
   ]
  },
  {
   "cell_type": "code",
   "execution_count": 132,
   "metadata": {},
   "outputs": [
    {
     "name": "stdout",
     "output_type": "stream",
     "text": [
      "using Mask\n",
      "0.951059751721\n"
     ]
    }
   ],
   "source": [
    "clf,grid_score = do_classify(clf=clf,featurenames=feature_names,indf=gradient_input,mask=mask,nfolds=10,njobs=1,parameters=None,targetname='return')"
   ]
  },
  {
   "cell_type": "code",
   "execution_count": 165,
   "metadata": {},
   "outputs": [],
   "source": [
    "result1 = clf.predict(test_df_X)"
   ]
  },
  {
   "cell_type": "code",
   "execution_count": 166,
   "metadata": {
    "collapsed": true
   },
   "outputs": [],
   "source": [
    "result_df = test_df[['portfolio_id']]"
   ]
  },
  {
   "cell_type": "code",
   "execution_count": 167,
   "metadata": {},
   "outputs": [
    {
     "name": "stderr",
     "output_type": "stream",
     "text": [
      "C:\\Users\\imamk\\Anaconda3\\lib\\site-packages\\ipykernel_launcher.py:1: SettingWithCopyWarning: \n",
      "A value is trying to be set on a copy of a slice from a DataFrame.\n",
      "Try using .loc[row_indexer,col_indexer] = value instead\n",
      "\n",
      "See the caveats in the documentation: http://pandas.pydata.org/pandas-docs/stable/indexing.html#indexing-view-versus-copy\n",
      "  \"\"\"Entry point for launching an IPython kernel.\n"
     ]
    }
   ],
   "source": [
    "result_df['return'] = result1"
   ]
  },
  {
   "cell_type": "code",
   "execution_count": 168,
   "metadata": {
    "collapsed": true
   },
   "outputs": [],
   "source": [
    "result_df.set_index('portfolio_id',inplace=True)"
   ]
  },
  {
   "cell_type": "code",
   "execution_count": 169,
   "metadata": {
    "collapsed": true
   },
   "outputs": [],
   "source": [
    "result_df.to_csv(\"Result1.csv\")"
   ]
  },
  {
   "cell_type": "code",
   "execution_count": 138,
   "metadata": {
    "collapsed": true
   },
   "outputs": [],
   "source": [
    "parameters = {\"n_estimators\": [ 150,180,200] }"
   ]
  },
  {
   "cell_type": "code",
   "execution_count": 139,
   "metadata": {
    "collapsed": true
   },
   "outputs": [],
   "source": [
    "#clf = GradientBoostingRegressor(learning_rate=0.1,max_depth=4,min_samples_split=500,random_state=10,max_features='sqrt',min_samples_leaf=50)\n",
    "#clf,grid_score = do_classify(clf,featurenames=feature_names,indf=gradient_input,mask=mask,nfolds=10,njobs=4,parameters=parameters,targetname='return',score_func='r2')"
   ]
  },
  {
   "cell_type": "code",
   "execution_count": 140,
   "metadata": {
    "collapsed": true
   },
   "outputs": [],
   "source": [
    "GradientBoostingRegressor?"
   ]
  },
  {
   "cell_type": "code",
   "execution_count": 141,
   "metadata": {
    "collapsed": true
   },
   "outputs": [],
   "source": [
    "grid_score"
   ]
  },
  {
   "cell_type": "code",
   "execution_count": 142,
   "metadata": {
    "collapsed": true
   },
   "outputs": [],
   "source": [
    "n_estimators = 180"
   ]
  },
  {
   "cell_type": "code",
   "execution_count": 143,
   "metadata": {
    "collapsed": true
   },
   "outputs": [],
   "source": [
    "parameters = {\"max_depth\": [5,10,12,15 ],\"min_samples_split\" : [200,400,600,1000] }"
   ]
  },
  {
   "cell_type": "code",
   "execution_count": 144,
   "metadata": {
    "collapsed": true
   },
   "outputs": [],
   "source": [
    "#clf = GradientBoostingRegressor(learning_rate=0.1,n_estimators=180,random_state=10,max_features='sqrt',min_samples_leaf=50)\n",
    "#clf,grid_score = do_classify(clf,featurenames=feature_names,indf=gradient_input,mask=mask,nfolds=10,njobs=4,parameters=parameters,targetname='return',score_func='r2')"
   ]
  },
  {
   "cell_type": "code",
   "execution_count": 145,
   "metadata": {
    "collapsed": true
   },
   "outputs": [],
   "source": [
    "grid_score"
   ]
  },
  {
   "cell_type": "code",
   "execution_count": 146,
   "metadata": {
    "collapsed": true
   },
   "outputs": [],
   "source": [
    "max_depth = 10\n",
    "parameters = {\"min_samples_split\" : [10,20,25]}"
   ]
  },
  {
   "cell_type": "code",
   "execution_count": 147,
   "metadata": {
    "collapsed": true
   },
   "outputs": [],
   "source": [
    "#clf = GradientBoostingRegressor(max_depth=10,learning_rate=0.1,n_estimators=180,random_state=10,max_features='sqrt',min_samples_leaf=50)\n",
    "#clf,grid_score = do_classify(clf,featurenames=feature_names,indf=gradient_input,mask=mask,nfolds=10,njobs=4,parameters=parameters,targetname='return',score_func='r2')"
   ]
  },
  {
   "cell_type": "code",
   "execution_count": 148,
   "metadata": {
    "collapsed": true
   },
   "outputs": [],
   "source": [
    "grid_score"
   ]
  },
  {
   "cell_type": "code",
   "execution_count": 149,
   "metadata": {
    "collapsed": true
   },
   "outputs": [],
   "source": [
    "min_samples_split = 50"
   ]
  },
  {
   "cell_type": "code",
   "execution_count": 150,
   "metadata": {
    "collapsed": true
   },
   "outputs": [],
   "source": [
    "parameters = { \"min_samples_split\":[50,75,100],\"min_samples_leaf\":[5,10,20,50]}"
   ]
  },
  {
   "cell_type": "code",
   "execution_count": 151,
   "metadata": {
    "collapsed": true
   },
   "outputs": [],
   "source": [
    "#clf = GradientBoostingRegressor(max_depth=10,learning_rate=0.1,n_estimators=180,random_state=10,max_features='sqrt')\n",
    "#clf,grid_score = do_classify(clf,featurenames=feature_names,indf=gradient_input,mask=mask,nfolds=10,njobs=4,parameters=parameters,targetname='return',score_func='r2')"
   ]
  },
  {
   "cell_type": "code",
   "execution_count": 152,
   "metadata": {
    "collapsed": true
   },
   "outputs": [],
   "source": [
    "grid_score"
   ]
  },
  {
   "cell_type": "code",
   "execution_count": 153,
   "metadata": {
    "collapsed": true
   },
   "outputs": [],
   "source": [
    "min_sample_split = 50\n",
    "min_samples_leaf = 10"
   ]
  },
  {
   "cell_type": "code",
   "execution_count": 154,
   "metadata": {
    "collapsed": true
   },
   "outputs": [],
   "source": [
    "#clf = GradientBoostingRegressor(max_depth=10,learning_rate=0.1,n_estimators=180,random_state=10,max_features='sqrt',min_samples_split=min_sample_split,min_samples_leaf=min_samples_leaf)\n",
    "#clf,grid_score = do_classify(clf,featurenames=feature_names,indf=gradient_input,mask=mask,nfolds=10,parameters=None,njobs=4,targetname='return',score_func='r2')"
   ]
  },
  {
   "cell_type": "code",
   "execution_count": 155,
   "metadata": {
    "collapsed": true
   },
   "outputs": [],
   "source": [
    "parameters = {\"subsample\": [0.7,0.8,0.85,0.9]}"
   ]
  },
  {
   "cell_type": "code",
   "execution_count": 156,
   "metadata": {},
   "outputs": [
    {
     "name": "stderr",
     "output_type": "stream",
     "text": [
      "C:\\Users\\imamk\\Anaconda3\\lib\\site-packages\\ipykernel_launcher.py:2: SettingWithCopyWarning: \n",
      "A value is trying to be set on a copy of a slice from a DataFrame.\n",
      "Try using .loc[row_indexer,col_indexer] = value instead\n",
      "\n",
      "See the caveats in the documentation: http://pandas.pydata.org/pandas-docs/stable/indexing.html#indexing-view-versus-copy\n",
      "  \n"
     ]
    }
   ],
   "source": [
    "duration_store = gradient_input['duration']\n",
    "gradient_input['duration'] = duration_store**2"
   ]
  },
  {
   "cell_type": "code",
   "execution_count": 164,
   "metadata": {},
   "outputs": [
    {
     "name": "stderr",
     "output_type": "stream",
     "text": [
      "C:\\Users\\imamk\\Anaconda3\\lib\\site-packages\\ipykernel_launcher.py:2: SettingWithCopyWarning: \n",
      "A value is trying to be set on a copy of a slice from a DataFrame.\n",
      "Try using .loc[row_indexer,col_indexer] = value instead\n",
      "\n",
      "See the caveats in the documentation: http://pandas.pydata.org/pandas-docs/stable/indexing.html#indexing-view-versus-copy\n",
      "  \n"
     ]
    }
   ],
   "source": [
    "duration_store_test = test_df_X['duration']\n",
    "test_df_X['duration'] = duration_store_test**2"
   ]
  },
  {
   "cell_type": "code",
   "execution_count": 157,
   "metadata": {},
   "outputs": [
    {
     "name": "stdout",
     "output_type": "stream",
     "text": [
      "using Mask\n",
      "0.959565637477\n"
     ]
    }
   ],
   "source": [
    "clf = GradientBoostingRegressor(max_depth=10,learning_rate=0.1,n_estimators=180,random_state=10,max_features='sqrt',min_samples_split=min_sample_split,min_samples_leaf=min_samples_leaf)\n",
    "clf,grid_score = do_classify(clf,featurenames=feature_names,indf=gradient_input,mask=mask,nfolds=10,parameters=None,njobs=4,targetname='return',score_func='r2')"
   ]
  },
  {
   "cell_type": "code",
   "execution_count": 158,
   "metadata": {},
   "outputs": [],
   "source": [
    "grid_score"
   ]
  },
  {
   "cell_type": "code",
   "execution_count": 159,
   "metadata": {
    "collapsed": true
   },
   "outputs": [],
   "source": [
    "#clf = GradientBoostingRegressor(max_depth=10,learning_rate=0.05,n_estimators=360,random_state=10,max_features='sqrt',min_samples_split=min_sample_split,min_samples_leaf=min_samples_leaf,subsample=0.80)\n",
    "#clf,grid_score = do_classify(clf,featurenames=feature_names,indf=gradient_input,mask=mask,nfolds=10,parameters=None,njobs=4,targetname='return',score_func='r2')"
   ]
  },
  {
   "cell_type": "code",
   "execution_count": null,
   "metadata": {
    "collapsed": true
   },
   "outputs": [],
   "source": []
  },
  {
   "cell_type": "code",
   "execution_count": 160,
   "metadata": {},
   "outputs": [
    {
     "data": {
      "text/plain": [
       "(array([   1.,    0.,    0.,    0.,    0.,    0.,    0.,    0.,    0.,\n",
       "           0.,    0.,    0.,    0.,    0.,    0.,    0.,    0.,    0.,\n",
       "           0.,    0.,    0.,    0.,    0.,    0.,    0.,    0.,    0.,\n",
       "           0.,    0.,    0.,    0.,    0.,    0.,    0.,    0.,    0.,\n",
       "           0.,    0.,    0.,   10.,    1.,    0.,    7.,    1.,    5.,\n",
       "           0.,    3.,    1.,    9.,   10.,    7.,    4.,    3.,    4.,\n",
       "           7.,    6.,    8.,   20.,   14.,   25.,   14.,   23.,   47.,\n",
       "          25.,   53.,   44.,  141.,   78.,  147.,  338.,  177.,  281.,\n",
       "         541.,  449.,  785.,  771.,  973.,  746.,  689.,  848.,  546.,\n",
       "         435.,  300.,  244.,  184.,  137.,   84.,   54.,   28.,   23.,\n",
       "          11.,    2.,    0.,    0.,    0.,    0.,    0.,    0.,    0.,    1.]),\n",
       " array([  0.04139269,   0.1421845 ,   0.24297631,   0.34376812,\n",
       "          0.44455994,   0.54535175,   0.64614356,   0.74693537,\n",
       "          0.84772718,   0.948519  ,   1.04931081,   1.15010262,\n",
       "          1.25089443,   1.35168625,   1.45247806,   1.55326987,\n",
       "          1.65406168,   1.7548535 ,   1.85564531,   1.95643712,\n",
       "          2.05722893,   2.15802075,   2.25881256,   2.35960437,\n",
       "          2.46039618,   2.561188  ,   2.66197981,   2.76277162,\n",
       "          2.86356343,   2.96435525,   3.06514706,   3.16593887,\n",
       "          3.26673068,   3.3675225 ,   3.46831431,   3.56910612,\n",
       "          3.66989793,   3.77068975,   3.87148156,   3.97227337,\n",
       "          4.07306518,   4.173857  ,   4.27464881,   4.37544062,\n",
       "          4.47623243,   4.57702425,   4.67781606,   4.77860787,\n",
       "          4.87939968,   4.9801915 ,   5.08098331,   5.18177512,\n",
       "          5.28256693,   5.38335875,   5.48415056,   5.58494237,\n",
       "          5.68573418,   5.786526  ,   5.88731781,   5.98810962,\n",
       "          6.08890143,   6.18969325,   6.29048506,   6.39127687,\n",
       "          6.49206868,   6.5928605 ,   6.69365231,   6.79444412,\n",
       "          6.89523593,   6.99602774,   7.09681956,   7.19761137,\n",
       "          7.29840318,   7.39919499,   7.49998681,   7.60077862,\n",
       "          7.70157043,   7.80236224,   7.90315406,   8.00394587,\n",
       "          8.10473768,   8.20552949,   8.30632131,   8.40711312,\n",
       "          8.50790493,   8.60869674,   8.70948856,   8.81028037,\n",
       "          8.91107218,   9.01186399,   9.11265581,   9.21344762,\n",
       "          9.31423943,   9.41503124,   9.51582306,   9.61661487,\n",
       "          9.71740668,   9.81819849,   9.91899031,  10.01978212,  10.12057393]),\n",
       " <a list of 100 Patch objects>)"
      ]
     },
     "execution_count": 160,
     "metadata": {},
     "output_type": "execute_result"
    },
    {
     "data": {
      "image/png": "[encoded data removed]",
      "text/plain": [
       "<matplotlib.figure.Figure at 0x21c72cdd710>"
      ]
     },
     "metadata": {},
     "output_type": "display_data"
    }
   ],
   "source": [
    "plt.hist(np.log10(gradient_input['sold']),bins=100)"
   ]
  },
  {
   "cell_type": "code",
   "execution_count": 161,
   "metadata": {},
   "outputs": [
    {
     "data": {
      "text/plain": [
       "\"\\nduration_store_test = test_df_X['duration']\\ntest_df_X['duration'] = duration_store_test**2\\n\""
      ]
     },
     "execution_count": 161,
     "metadata": {},
     "output_type": "execute_result"
    }
   ],
   "source": [
    "'''\n",
    "\n",
    "'''\n"
   ]
  },
  {
   "cell_type": "code",
   "execution_count": 162,
   "metadata": {},
   "outputs": [
    {
     "data": {
      "text/plain": [
       "\"\\nsold_store = gradient_input['sold']\\ngradient_input['sold'] = np.log10(sold_store)\\n\""
      ]
     },
     "execution_count": 162,
     "metadata": {},
     "output_type": "execute_result"
    }
   ],
   "source": [
    "'''\n",
    "sold_store = gradient_input['sold']\n",
    "gradient_input['sold'] = np.log10(sold_store)\n",
    "'''\n"
   ]
  },
  {
   "cell_type": "code",
   "execution_count": 163,
   "metadata": {},
   "outputs": [
    {
     "data": {
      "text/plain": [
       "\"\\ntest_sold_store = test_df_X['sold']\\ntest_df_X['sold'] =  np.log10(test_sold_store)\\n\""
      ]
     },
     "execution_count": 163,
     "metadata": {},
     "output_type": "execute_result"
    }
   ],
   "source": [
    "'''\n",
    "test_sold_store = test_df_X['sold']\n",
    "test_df_X['sold'] =  np.log10(test_sold_store)\n",
    "'''\n"
   ]
  },
  {
   "cell_type": "code",
   "execution_count": null,
   "metadata": {
    "collapsed": true
   },
   "outputs": [],
   "source": []
  }
 ],
 "metadata": {
  "kernelspec": {
   "display_name": "Python 3",
   "language": "python",
   "name": "python3"
  },
  "language_info": {
   "codemirror_mode": {
    "name": "ipython",
    "version": 3
   },
   "file_extension": ".py",
   "mimetype": "text/x-python",
   "name": "python",
   "nbconvert_exporter": "python",
   "pygments_lexer": "ipython3",
   "version": "3.6.3"
  }
 },
 "nbformat": 4,
 "nbformat_minor": 2
}
