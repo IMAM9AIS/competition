{
 "cells": [
  {
   "cell_type": "code",
   "execution_count": 213,
   "metadata": {},
   "outputs": [],
   "source": [
    "\n",
    "#pandas\n",
    "import pandas as pd\n",
    "from pandas import Series,DataFrame\n",
    "\n",
    "#numpy\n",
    "import numpy as np\n",
    "import matplotlib.pyplot as plt\n",
    "import seaborn as sns\n",
    "sns.set_style('whitegrid')\n",
    "%matplotlib inline\n",
    "\n",
    "from datetime import datetime\n",
    "import math\n",
    "from sklearn.preprocessing import LabelEncoder\n",
    "#machine learning\n",
    "from sklearn.linear_model import LinearRegression\n",
    "from sklearn.linear_model import LogisticRegression\n",
    "from sklearn.linear_model import Ridge\n",
    "from sklearn.cluster import KMeans\n",
    "from sklearn.linear_model import Lasso\n",
    "from sklearn.svm import SVC,LinearSVC\n",
    "from sklearn.ensemble import RandomForestClassifier\n",
    "from sklearn.neighbors import KNeighborsClassifier\n",
    "from sklearn.naive_bayes import GaussianNB\n",
    "from sklearn.decomposition import PCA\n",
    "from sklearn.grid_search import GridSearchCV\n",
    "from sklearn.cross_validation import train_test_split\n",
    "from sklearn.ensemble import GradientBoostingRegressor\n",
    "from sklearn.ensemble import GradientBoostingClassifier\n",
    "from sklearn.metrics import confusion_matrix\n",
    "from sklearn.metrics import precision_recall_curve,accuracy_score,mean_squared_log_error\n",
    "from sklearn.metrics import roc_curve, auc,roc_auc_score,mean_squared_error\n",
    "import xgboost as xgb\n",
    "from numpy.linalg import inv\n",
    "from xgboost.sklearn import XGBClassifier\n",
    "from sklearn.kernel_ridge import KernelRidge\n",
    "import matplotlib.dates\n",
    "import pylab as p\n",
    "#import matplotlib.axes3d as p3\n",
    "import mpl_toolkits.mplot3d.axes3d as p3"
   ]
  },
  {
   "cell_type": "code",
   "execution_count": 214,
   "metadata": {
    "collapsed": true
   },
   "outputs": [],
   "source": [
    "train_data = pd.read_csv(\"train.csv\")\n",
    "test_data = pd.read_csv(\"test.csv\")"
   ]
  },
  {
   "cell_type": "code",
   "execution_count": 215,
   "metadata": {},
   "outputs": [
    {
     "data": {
      "text/plain": [
       "(2400, 14)"
      ]
     },
     "execution_count": 215,
     "metadata": {},
     "output_type": "execute_result"
    }
   ],
   "source": [
    "train_data.shape"
   ]
  },
  {
   "cell_type": "code",
   "execution_count": 216,
   "metadata": {},
   "outputs": [
    {
     "data": {
      "text/plain": [
       "(600, 12)"
      ]
     },
     "execution_count": 216,
     "metadata": {},
     "output_type": "execute_result"
    }
   ],
   "source": [
    "test_data.shape"
   ]
  },
  {
   "cell_type": "code",
   "execution_count": 217,
   "metadata": {},
   "outputs": [
    {
     "name": "stdout",
     "output_type": "stream",
     "text": [
      ">>>  #=======================================================\n",
      "\n",
      "0\n",
      ">>>  #Created using the Atomic Simulation Environment (ASE)\n",
      "\n",
      "1\n",
      ">>>  #=======================================================\n",
      "\n",
      "2\n",
      ">>>  lattice_vector 9.9520877199999997 -0.0472482400000000 -0.0346579300000000 \n",
      "\n",
      "3\n",
      ">>>  lattice_vector 0.0403159900000000 8.5511748500000007 -0.0095337700000000 \n",
      "\n",
      "4\n",
      ">>>  lattice_vector 0.0316403800000000 0.0096659200000000 9.1774391200000007 \n",
      "\n",
      "5\n",
      ">>>  atom 1.6088879366700000 7.2764162181499996 6.3831551912900002 Ga\n",
      "\n",
      "6\n",
      ">>>  atom 6.5849317966699994 7.2527920981499996 6.3658262262900003 Al\n",
      "\n",
      "7\n",
      ">>>  atom 3.4357584130499994 1.2597758443300000 1.7946126469900001 Al\n",
      "\n",
      "8\n",
      ">>>  atom 8.4118022730499984 1.2361517243300000 1.7772836819900002 Ga\n",
      "\n",
      "9\n",
      ">>>  atom 0.9558803130300000 2.9989252240300002 1.8013513079500003 Ga\n",
      "\n",
      "10\n",
      ">>>  atom 5.9319241730299996 2.9753011040300001 1.7840223429500002 Al\n",
      "\n",
      "11\n",
      ">>>  atom 4.0887660366900000 5.5372668384500008 6.3764165303300002 Al\n",
      "\n",
      "12\n",
      ">>>  atom 9.0648098966900008 5.5136427184500008 6.3590875653300003 Al\n",
      "\n",
      "13\n",
      ">>>  atom 0.9172397723600000 5.6224443338200008 -0.0093751053950000 Al\n",
      "\n",
      "14\n",
      ">>>  atom 5.8932836323599993 5.5988202138200007 -0.0267040703950000 Ga\n",
      "\n",
      "15\n",
      ">>>  atom 4.1149402676400006 2.9099393561800007 4.5712319303950002 Ga\n",
      "\n",
      "16\n",
      ">>>  atom 9.0909841276399987 2.8863152361800006 4.5539029653950003 Al\n",
      "\n",
      "17\n",
      ">>>  atom 1.6195001954799997 1.3483352437800002 4.5816506265750006 Al\n",
      "\n",
      "18\n",
      ">>>  atom 6.5955440554799996 1.3247111237800002 4.5643216615750006 Ga\n",
      "\n",
      "19\n",
      ">>>  atom 3.4443202245200002 7.1937143662200000 9.1576453184250006 Al\n",
      "\n",
      "20\n",
      ">>>  atom 8.4203640845200010 7.1700902462200000 9.1403163534250016 Ga\n",
      "\n",
      "21\n",
      ">>>  atom 0.8687935877999999 0.2622226474200000 9.1650644016600005 Ga\n",
      "\n",
      "22\n",
      ">>>  atom 5.8448374477999998 0.2385985274200000 9.1477354366600014 Al\n",
      "\n",
      "23\n",
      ">>>  atom 4.1949635514399999 8.2798076307400006 4.5558766651000004 Ga\n",
      "\n",
      "24\n",
      ">>>  atom 9.1710074114399998 8.2561835107399997 4.5385477001000005 Al\n",
      "\n",
      "25\n",
      ">>>  atom 1.6892025858400002 4.5291027567400013 4.5687360064000000 Ga\n",
      "\n",
      "26\n",
      ">>>  atom 6.6652464458400003 4.5054786367400013 4.5514070414000001 Al\n",
      "\n",
      "27\n",
      ">>>  atom 3.3745545534000003 4.0129275214200000 9.1522050603600000 Al\n",
      "\n",
      "28\n",
      ">>>  atom 8.3505984133999984 3.9893034014200000 9.1348760953600010 Al\n",
      "\n",
      "29\n",
      ">>>  atom 3.4398206335900001 1.3339590082900001 7.2092774445250010 Ga\n",
      "\n",
      "30\n",
      ">>>  atom 8.4158644935900000 1.3103348882900001 7.1919484795250010 Al\n",
      "\n",
      "31\n",
      ">>>  atom 1.6105209845299999 7.2039729197900000 2.6204294353550002 Al\n",
      "\n",
      "32\n",
      ">>>  atom 6.5865648445299998 7.1803487997900000 2.6031004703549998 Al\n",
      "\n",
      "33\n",
      ">>>  atom 4.0910441403900002 5.6016423376900004 2.6135382340750000 Al\n",
      "\n",
      "34\n",
      ">>>  atom 9.0670880003900010 5.5780182176900004 2.5962092690750000 Ga\n",
      "\n",
      "35\n",
      ">>>  atom 0.9592974777300000 2.9362895903900008 7.2161686458050012 Al\n",
      "\n",
      "36\n",
      ">>>  atom 5.9353413377299997 2.9126654703900008 7.1988396808050013 Al\n",
      "\n",
      "37\n",
      ">>>  atom 4.1803666165899989 5.7097832457300015 8.1747093300450011 O\n",
      "\n",
      "38\n",
      ">>>  atom 9.1564104765900005 5.6861591257300015 8.1573803650450003 O\n",
      "\n",
      "39\n",
      ">>>  atom 0.8766827620900001 2.8301978573900004 3.6006146432750006 O\n",
      "\n",
      "40\n",
      ">>>  atom 5.8527266220900005 2.8065737373900004 3.5832856782750002 O\n",
      "\n",
      "41\n",
      ">>>  atom 3.3581735017100005 1.4330954716900004 3.5934946315150005 O\n",
      "\n",
      "42\n",
      ">>>  atom 8.3342173617099995 1.4094713516900004 3.5761656665150006 O\n",
      "\n",
      "43\n",
      ">>>  atom 1.6988758769700001 7.1068856314300000 8.1818293418050008 O\n",
      "\n",
      "44\n",
      ">>>  atom 6.6749197369699997 7.0832615114299999 8.1645003768050000 O\n",
      "\n",
      "45\n",
      ">>>  atom 2.6326876694300001 0.0706377743300000 5.7634256959250001 O\n",
      "\n",
      "46\n",
      ">>>  atom 7.6087315294299991 0.0470136543300000 5.7460967309250002 O\n",
      "\n",
      "47\n",
      ">>>  atom 2.4076555886100000 8.4642397230300013 1.1662104220350000 O\n",
      "\n",
      "48\n",
      ">>>  atom 7.3836994486100007 8.4406156030300004 1.1488814570350001 O\n",
      "\n",
      "49\n",
      ">>>  atom 4.8762452114299997 4.3307613853300007 1.1621412166750000 O\n",
      "\n",
      "50\n",
      ">>>  atom 9.8522890714300004 4.3071372653300006 1.1448122516750001 O\n",
      "\n",
      "51\n",
      ">>>  atom 0.1640980466100000 4.2041161120300004 5.7674949012850005 O\n",
      "\n",
      "52\n",
      ">>>  atom 5.1401419066100003 4.1804919920300003 5.7501659362850006 O\n",
      "\n",
      "53\n",
      ">>>  atom 0.1118104676100000 7.0726368154699992 1.1023257712550001 O\n",
      "\n",
      "54\n",
      ">>>  atom 5.0878543276099997 7.0490126954699992 1.0849968062550002 O\n",
      "\n",
      "55\n",
      ">>>  atom 4.9280265443499998 1.4620860271700000 5.6804713207850002 O\n",
      "\n",
      "56\n",
      ">>>  atom 9.9040704043499996 1.4384619071700002 5.6631423557850002 O\n",
      "\n",
      "57\n",
      ">>>  atom 2.4462132768100000 2.7907790140700004 5.6876676027050008 O\n",
      "\n",
      "58\n",
      ">>>  atom 7.4222571368100008 2.7671548940700004 5.6703386377050000 O\n",
      "\n",
      "59\n",
      ">>>  atom 2.5936237351500000 5.7439438285700009 1.0951294893350001 O\n",
      "\n",
      "60\n",
      ">>>  atom 7.5696675951499985 5.7203197085700008 1.0778005243350000 O\n",
      "\n",
      "61\n",
      ">>>  atom 4.8905650460099999 7.1234352120700004 5.8304017066300009 O\n",
      "\n",
      "62\n",
      ">>>  atom 9.8666089060099988 7.0998110920700004 5.8130727416300010 O\n",
      "\n",
      "63\n",
      ">>>  atom 0.1503477388700000 1.4116162718500003 1.2644283154900002 O\n",
      "\n",
      "64\n",
      ">>>  atom 5.1263915988699997 1.3879921518500002 1.2470993504900003 O\n",
      "\n",
      "65\n",
      ">>>  atom 2.6452233871700002 2.8535039363500005 1.2541430920900003 O\n",
      "\n",
      "66\n",
      ">>>  atom 7.6212672471699996 2.8298798163500005 1.2368141270900002 O\n",
      "\n",
      "67\n",
      ">>>  atom 2.3956893977100000 5.6815475475700010 5.8406869300300004 O\n",
      "\n",
      "68\n",
      ">>>  atom 7.3717332577099999 5.6579234275700010 5.8233579650300005 O\n",
      "\n",
      "69\n",
      ">>>  atom 1.8306061208400000 1.4535421039000003 7.9397857806550007 O\n",
      "\n",
      "70\n",
      ">>>  atom 6.8066499808400005 1.4299179839000002 7.9224568156550008 O\n",
      "\n",
      "71\n",
      ">>>  atom 3.2247346773200003 7.0859170395400000 3.3399564801850001 O\n",
      "\n",
      "72\n",
      ">>>  atom 8.2007785373199997 7.0622929195399999 3.3226275151850002 O\n",
      "\n",
      "73\n",
      ">>>  atom 0.7302621889199999 5.7295411235400016 3.3501463658850001 O\n",
      "\n",
      "74\n",
      ">>>  atom 5.7063060489200002 5.7059170035400015 3.3328174008850002 O\n",
      "\n",
      "75\n",
      ">>>  atom 4.3250786092399993 2.8099180199000005 7.9295958949550007 O\n",
      "\n",
      "76\n",
      ">>>  atom 9.3011224692399992 2.7862938999000009 7.9122669299550008 O\n",
      "\n",
      "77\n",
      ">>>  atom 4.1884893249499999 -0.0024992614700000 8.2451986594900006 O\n",
      "\n",
      "78\n",
      ">>>  atom 9.1645331849500007 -0.0261233814700000 8.2278696944900016 O\n",
      "\n",
      "79\n",
      ">>>  atom 0.8690030190500000 8.5426156874700006 3.6586094615100007 O\n",
      "\n",
      "80\n",
      ">>>  atom 5.8450468790499999 8.5189915674700014 3.6412804965100003 O\n",
      "\n",
      "81\n",
      ">>>  atom 3.3369475860300000 4.2723185521699998 3.6546927964700004 O\n",
      "\n",
      "82\n",
      ">>>  atom 8.3129914460300007 4.2486944321699998 3.6373638314700005 O\n",
      "\n",
      "83\n",
      ">>>  atom 1.7205447579699999 4.2677978738300002 8.2491153245300008 O\n",
      "\n",
      "84\n",
      ">>>  atom 6.6965886179700007 4.2441737538300002 8.2317863595300000 O\n",
      "\n",
      "85\n"
     ]
    }
   ],
   "source": [
    "filename = \"train/1/geometry.xyz\"\n",
    "size =0 \n",
    "xyz_test = open(filename, \"r\")\n",
    "for line in xyz_test:\n",
    "    print( '>>> ', line)\n",
    "    print(size)\n",
    "    size+=1\n",
    "xyz_test.close()"
   ]
  },
  {
   "cell_type": "code",
   "execution_count": 218,
   "metadata": {},
   "outputs": [
    {
     "data": {
      "text/html": [
       "<div>\n",
       "<style>\n",
       "    .dataframe thead tr:only-child th {\n",
       "        text-align: right;\n",
       "    }\n",
       "\n",
       "    .dataframe thead th {\n",
       "        text-align: left;\n",
       "    }\n",
       "\n",
       "    .dataframe tbody tr th {\n",
       "        vertical-align: top;\n",
       "    }\n",
       "</style>\n",
       "<table border=\"1\" class=\"dataframe\">\n",
       "  <thead>\n",
       "    <tr style=\"text-align: right;\">\n",
       "      <th></th>\n",
       "      <th>id</th>\n",
       "      <th>spacegroup</th>\n",
       "      <th>number_of_total_atoms</th>\n",
       "      <th>percent_atom_al</th>\n",
       "      <th>percent_atom_ga</th>\n",
       "      <th>percent_atom_in</th>\n",
       "      <th>lattice_vector_1_ang</th>\n",
       "      <th>lattice_vector_2_ang</th>\n",
       "      <th>lattice_vector_3_ang</th>\n",
       "      <th>lattice_angle_alpha_degree</th>\n",
       "      <th>lattice_angle_beta_degree</th>\n",
       "      <th>lattice_angle_gamma_degree</th>\n",
       "      <th>formation_energy_ev_natom</th>\n",
       "      <th>bandgap_energy_ev</th>\n",
       "    </tr>\n",
       "  </thead>\n",
       "  <tbody>\n",
       "    <tr>\n",
       "      <th>count</th>\n",
       "      <td>2400.000000</td>\n",
       "      <td>2400.000000</td>\n",
       "      <td>2400.000000</td>\n",
       "      <td>2400.000000</td>\n",
       "      <td>2400.000000</td>\n",
       "      <td>2400.000000</td>\n",
       "      <td>2400.000000</td>\n",
       "      <td>2400.000000</td>\n",
       "      <td>2400.000000</td>\n",
       "      <td>2400.000000</td>\n",
       "      <td>2400.000000</td>\n",
       "      <td>2400.000000</td>\n",
       "      <td>2400.000000</td>\n",
       "      <td>2400.000000</td>\n",
       "    </tr>\n",
       "    <tr>\n",
       "      <th>mean</th>\n",
       "      <td>1200.500000</td>\n",
       "      <td>141.517917</td>\n",
       "      <td>61.679167</td>\n",
       "      <td>0.385439</td>\n",
       "      <td>0.308601</td>\n",
       "      <td>0.305958</td>\n",
       "      <td>10.030005</td>\n",
       "      <td>7.086977</td>\n",
       "      <td>12.593288</td>\n",
       "      <td>90.243666</td>\n",
       "      <td>92.398971</td>\n",
       "      <td>94.787600</td>\n",
       "      <td>0.187614</td>\n",
       "      <td>2.077205</td>\n",
       "    </tr>\n",
       "    <tr>\n",
       "      <th>std</th>\n",
       "      <td>692.964646</td>\n",
       "      <td>84.715548</td>\n",
       "      <td>22.598337</td>\n",
       "      <td>0.265566</td>\n",
       "      <td>0.233717</td>\n",
       "      <td>0.263198</td>\n",
       "      <td>5.645457</td>\n",
       "      <td>1.890330</td>\n",
       "      <td>5.450746</td>\n",
       "      <td>1.333655</td>\n",
       "      <td>5.299734</td>\n",
       "      <td>25.868516</td>\n",
       "      <td>0.104100</td>\n",
       "      <td>1.006845</td>\n",
       "    </tr>\n",
       "    <tr>\n",
       "      <th>min</th>\n",
       "      <td>1.000000</td>\n",
       "      <td>12.000000</td>\n",
       "      <td>10.000000</td>\n",
       "      <td>0.000000</td>\n",
       "      <td>0.000000</td>\n",
       "      <td>0.000000</td>\n",
       "      <td>3.037000</td>\n",
       "      <td>2.942300</td>\n",
       "      <td>5.672500</td>\n",
       "      <td>82.744100</td>\n",
       "      <td>81.641300</td>\n",
       "      <td>29.727400</td>\n",
       "      <td>0.000000</td>\n",
       "      <td>0.000100</td>\n",
       "    </tr>\n",
       "    <tr>\n",
       "      <th>25%</th>\n",
       "      <td>600.750000</td>\n",
       "      <td>33.000000</td>\n",
       "      <td>40.000000</td>\n",
       "      <td>0.166700</td>\n",
       "      <td>0.093800</td>\n",
       "      <td>0.062500</td>\n",
       "      <td>6.141100</td>\n",
       "      <td>5.833625</td>\n",
       "      <td>9.298000</td>\n",
       "      <td>89.999700</td>\n",
       "      <td>90.000900</td>\n",
       "      <td>89.998700</td>\n",
       "      <td>0.105600</td>\n",
       "      <td>1.278500</td>\n",
       "    </tr>\n",
       "    <tr>\n",
       "      <th>50%</th>\n",
       "      <td>1200.500000</td>\n",
       "      <td>194.000000</td>\n",
       "      <td>80.000000</td>\n",
       "      <td>0.375000</td>\n",
       "      <td>0.281200</td>\n",
       "      <td>0.250000</td>\n",
       "      <td>9.537450</td>\n",
       "      <td>6.382950</td>\n",
       "      <td>10.125000</td>\n",
       "      <td>90.001700</td>\n",
       "      <td>90.003550</td>\n",
       "      <td>90.000400</td>\n",
       "      <td>0.181800</td>\n",
       "      <td>1.907850</td>\n",
       "    </tr>\n",
       "    <tr>\n",
       "      <th>75%</th>\n",
       "      <td>1800.250000</td>\n",
       "      <td>206.000000</td>\n",
       "      <td>80.000000</td>\n",
       "      <td>0.583300</td>\n",
       "      <td>0.468800</td>\n",
       "      <td>0.468800</td>\n",
       "      <td>10.292100</td>\n",
       "      <td>9.093450</td>\n",
       "      <td>14.372050</td>\n",
       "      <td>90.006200</td>\n",
       "      <td>90.014400</td>\n",
       "      <td>119.998325</td>\n",
       "      <td>0.256275</td>\n",
       "      <td>2.761950</td>\n",
       "    </tr>\n",
       "    <tr>\n",
       "      <th>max</th>\n",
       "      <td>2400.000000</td>\n",
       "      <td>227.000000</td>\n",
       "      <td>80.000000</td>\n",
       "      <td>1.000000</td>\n",
       "      <td>1.000000</td>\n",
       "      <td>1.000000</td>\n",
       "      <td>24.913400</td>\n",
       "      <td>10.290300</td>\n",
       "      <td>25.346000</td>\n",
       "      <td>101.229800</td>\n",
       "      <td>106.168200</td>\n",
       "      <td>120.053500</td>\n",
       "      <td>0.657200</td>\n",
       "      <td>5.286100</td>\n",
       "    </tr>\n",
       "  </tbody>\n",
       "</table>\n",
       "</div>"
      ],
      "text/plain": [
       "                id   spacegroup  number_of_total_atoms  percent_atom_al  \\\n",
       "count  2400.000000  2400.000000            2400.000000      2400.000000   \n",
       "mean   1200.500000   141.517917              61.679167         0.385439   \n",
       "std     692.964646    84.715548              22.598337         0.265566   \n",
       "min       1.000000    12.000000              10.000000         0.000000   \n",
       "25%     600.750000    33.000000              40.000000         0.166700   \n",
       "50%    1200.500000   194.000000              80.000000         0.375000   \n",
       "75%    1800.250000   206.000000              80.000000         0.583300   \n",
       "max    2400.000000   227.000000              80.000000         1.000000   \n",
       "\n",
       "       percent_atom_ga  percent_atom_in  lattice_vector_1_ang  \\\n",
       "count      2400.000000      2400.000000           2400.000000   \n",
       "mean          0.308601         0.305958             10.030005   \n",
       "std           0.233717         0.263198              5.645457   \n",
       "min           0.000000         0.000000              3.037000   \n",
       "25%           0.093800         0.062500              6.141100   \n",
       "50%           0.281200         0.250000              9.537450   \n",
       "75%           0.468800         0.468800             10.292100   \n",
       "max           1.000000         1.000000             24.913400   \n",
       "\n",
       "       lattice_vector_2_ang  lattice_vector_3_ang  lattice_angle_alpha_degree  \\\n",
       "count           2400.000000           2400.000000                 2400.000000   \n",
       "mean               7.086977             12.593288                   90.243666   \n",
       "std                1.890330              5.450746                    1.333655   \n",
       "min                2.942300              5.672500                   82.744100   \n",
       "25%                5.833625              9.298000                   89.999700   \n",
       "50%                6.382950             10.125000                   90.001700   \n",
       "75%                9.093450             14.372050                   90.006200   \n",
       "max               10.290300             25.346000                  101.229800   \n",
       "\n",
       "       lattice_angle_beta_degree  lattice_angle_gamma_degree  \\\n",
       "count                2400.000000                 2400.000000   \n",
       "mean                   92.398971                   94.787600   \n",
       "std                     5.299734                   25.868516   \n",
       "min                    81.641300                   29.727400   \n",
       "25%                    90.000900                   89.998700   \n",
       "50%                    90.003550                   90.000400   \n",
       "75%                    90.014400                  119.998325   \n",
       "max                   106.168200                  120.053500   \n",
       "\n",
       "       formation_energy_ev_natom  bandgap_energy_ev  \n",
       "count                2400.000000        2400.000000  \n",
       "mean                    0.187614           2.077205  \n",
       "std                     0.104100           1.006845  \n",
       "min                     0.000000           0.000100  \n",
       "25%                     0.105600           1.278500  \n",
       "50%                     0.181800           1.907850  \n",
       "75%                     0.256275           2.761950  \n",
       "max                     0.657200           5.286100  "
      ]
     },
     "execution_count": 218,
     "metadata": {},
     "output_type": "execute_result"
    }
   ],
   "source": [
    "train_data.describe()"
   ]
  },
  {
   "cell_type": "code",
   "execution_count": 219,
   "metadata": {},
   "outputs": [
    {
     "data": {
      "text/plain": [
       "Index(['id', 'spacegroup', 'number_of_total_atoms', 'percent_atom_al',\n",
       "       'percent_atom_ga', 'percent_atom_in', 'lattice_vector_1_ang',\n",
       "       'lattice_vector_2_ang', 'lattice_vector_3_ang',\n",
       "       'lattice_angle_alpha_degree', 'lattice_angle_beta_degree',\n",
       "       'lattice_angle_gamma_degree', 'formation_energy_ev_natom',\n",
       "       'bandgap_energy_ev'],\n",
       "      dtype='object')"
      ]
     },
     "execution_count": 219,
     "metadata": {},
     "output_type": "execute_result"
    }
   ],
   "source": [
    "train_data.columns"
   ]
  },
  {
   "cell_type": "code",
   "execution_count": 220,
   "metadata": {
    "collapsed": true
   },
   "outputs": [],
   "source": [
    "lattice_columns = ['lattice_vector_1_ang','lattice_vector_2_ang', 'lattice_vector_3_ang','lattice_angle_alpha_degree', 'lattice_angle_beta_degree',\n",
    "       'lattice_angle_gamma_degree']"
   ]
  },
  {
   "cell_type": "code",
   "execution_count": 221,
   "metadata": {
    "collapsed": true
   },
   "outputs": [],
   "source": [
    "def get_xyz_data(filename):\n",
    "    pos_data = []\n",
    "    lat_data = []\n",
    "    with open(filename) as f:\n",
    "        for line in f.readlines():\n",
    "            x = line.split()\n",
    "            if x[0] == 'atom':\n",
    "                pos_data.append([np.array(x[1:4], dtype=np.float),x[4]])\n",
    "            elif x[0] == 'lattice_vector':\n",
    "                lat_data.append(np.array(x[1:4], dtype=np.float))\n",
    "    return pos_data, np.array(lat_data)"
   ]
  },
  {
   "cell_type": "code",
   "execution_count": 222,
   "metadata": {},
   "outputs": [
    {
     "data": {
      "text/html": [
       "<div>\n",
       "<style>\n",
       "    .dataframe thead tr:only-child th {\n",
       "        text-align: right;\n",
       "    }\n",
       "\n",
       "    .dataframe thead th {\n",
       "        text-align: left;\n",
       "    }\n",
       "\n",
       "    .dataframe tbody tr th {\n",
       "        vertical-align: top;\n",
       "    }\n",
       "</style>\n",
       "<table border=\"1\" class=\"dataframe\">\n",
       "  <thead>\n",
       "    <tr style=\"text-align: right;\">\n",
       "      <th></th>\n",
       "      <th>id</th>\n",
       "      <th>spacegroup</th>\n",
       "      <th>number_of_total_atoms</th>\n",
       "      <th>percent_atom_al</th>\n",
       "      <th>percent_atom_ga</th>\n",
       "      <th>percent_atom_in</th>\n",
       "      <th>lattice_vector_1_ang</th>\n",
       "      <th>lattice_vector_2_ang</th>\n",
       "      <th>lattice_vector_3_ang</th>\n",
       "      <th>lattice_angle_alpha_degree</th>\n",
       "      <th>lattice_angle_beta_degree</th>\n",
       "      <th>lattice_angle_gamma_degree</th>\n",
       "      <th>formation_energy_ev_natom</th>\n",
       "      <th>bandgap_energy_ev</th>\n",
       "    </tr>\n",
       "  </thead>\n",
       "  <tbody>\n",
       "    <tr>\n",
       "      <th>2395</th>\n",
       "      <td>2396</td>\n",
       "      <td>33</td>\n",
       "      <td>40.0</td>\n",
       "      <td>0.7500</td>\n",
       "      <td>0.2500</td>\n",
       "      <td>0.0000</td>\n",
       "      <td>4.9469</td>\n",
       "      <td>8.5014</td>\n",
       "      <td>9.1298</td>\n",
       "      <td>90.0038</td>\n",
       "      <td>90.0023</td>\n",
       "      <td>90.0015</td>\n",
       "      <td>0.0381</td>\n",
       "      <td>3.7349</td>\n",
       "    </tr>\n",
       "    <tr>\n",
       "      <th>2396</th>\n",
       "      <td>2397</td>\n",
       "      <td>167</td>\n",
       "      <td>30.0</td>\n",
       "      <td>0.4167</td>\n",
       "      <td>0.5833</td>\n",
       "      <td>0.0000</td>\n",
       "      <td>4.9566</td>\n",
       "      <td>4.9562</td>\n",
       "      <td>13.4178</td>\n",
       "      <td>89.9938</td>\n",
       "      <td>90.0075</td>\n",
       "      <td>120.0007</td>\n",
       "      <td>0.0670</td>\n",
       "      <td>3.4915</td>\n",
       "    </tr>\n",
       "    <tr>\n",
       "      <th>2397</th>\n",
       "      <td>2398</td>\n",
       "      <td>206</td>\n",
       "      <td>80.0</td>\n",
       "      <td>0.4375</td>\n",
       "      <td>0.5625</td>\n",
       "      <td>0.0000</td>\n",
       "      <td>9.2204</td>\n",
       "      <td>9.2200</td>\n",
       "      <td>9.2199</td>\n",
       "      <td>90.0047</td>\n",
       "      <td>90.0046</td>\n",
       "      <td>89.9954</td>\n",
       "      <td>0.0906</td>\n",
       "      <td>3.2750</td>\n",
       "    </tr>\n",
       "    <tr>\n",
       "      <th>2398</th>\n",
       "      <td>2399</td>\n",
       "      <td>33</td>\n",
       "      <td>80.0</td>\n",
       "      <td>0.3125</td>\n",
       "      <td>0.1875</td>\n",
       "      <td>0.5000</td>\n",
       "      <td>10.6529</td>\n",
       "      <td>9.0954</td>\n",
       "      <td>9.7210</td>\n",
       "      <td>90.0015</td>\n",
       "      <td>89.9996</td>\n",
       "      <td>90.0004</td>\n",
       "      <td>0.2566</td>\n",
       "      <td>1.3915</td>\n",
       "    </tr>\n",
       "    <tr>\n",
       "      <th>2399</th>\n",
       "      <td>2400</td>\n",
       "      <td>206</td>\n",
       "      <td>80.0</td>\n",
       "      <td>0.8750</td>\n",
       "      <td>0.0938</td>\n",
       "      <td>0.0312</td>\n",
       "      <td>9.0648</td>\n",
       "      <td>9.0641</td>\n",
       "      <td>9.0643</td>\n",
       "      <td>90.0027</td>\n",
       "      <td>90.0037</td>\n",
       "      <td>89.9987</td>\n",
       "      <td>0.1135</td>\n",
       "      <td>4.2107</td>\n",
       "    </tr>\n",
       "  </tbody>\n",
       "</table>\n",
       "</div>"
      ],
      "text/plain": [
       "        id  spacegroup  number_of_total_atoms  percent_atom_al  \\\n",
       "2395  2396          33                   40.0           0.7500   \n",
       "2396  2397         167                   30.0           0.4167   \n",
       "2397  2398         206                   80.0           0.4375   \n",
       "2398  2399          33                   80.0           0.3125   \n",
       "2399  2400         206                   80.0           0.8750   \n",
       "\n",
       "      percent_atom_ga  percent_atom_in  lattice_vector_1_ang  \\\n",
       "2395           0.2500           0.0000                4.9469   \n",
       "2396           0.5833           0.0000                4.9566   \n",
       "2397           0.5625           0.0000                9.2204   \n",
       "2398           0.1875           0.5000               10.6529   \n",
       "2399           0.0938           0.0312                9.0648   \n",
       "\n",
       "      lattice_vector_2_ang  lattice_vector_3_ang  lattice_angle_alpha_degree  \\\n",
       "2395                8.5014                9.1298                     90.0038   \n",
       "2396                4.9562               13.4178                     89.9938   \n",
       "2397                9.2200                9.2199                     90.0047   \n",
       "2398                9.0954                9.7210                     90.0015   \n",
       "2399                9.0641                9.0643                     90.0027   \n",
       "\n",
       "      lattice_angle_beta_degree  lattice_angle_gamma_degree  \\\n",
       "2395                    90.0023                     90.0015   \n",
       "2396                    90.0075                    120.0007   \n",
       "2397                    90.0046                     89.9954   \n",
       "2398                    89.9996                     90.0004   \n",
       "2399                    90.0037                     89.9987   \n",
       "\n",
       "      formation_energy_ev_natom  bandgap_energy_ev  \n",
       "2395                     0.0381             3.7349  \n",
       "2396                     0.0670             3.4915  \n",
       "2397                     0.0906             3.2750  \n",
       "2398                     0.2566             1.3915  \n",
       "2399                     0.1135             4.2107  "
      ]
     },
     "execution_count": 222,
     "metadata": {},
     "output_type": "execute_result"
    }
   ],
   "source": [
    "train_data.tail()"
   ]
  },
  {
   "cell_type": "code",
   "execution_count": 223,
   "metadata": {
    "collapsed": true
   },
   "outputs": [],
   "source": [
    "crystal_positions_dict = {}\n",
    "crystal_lattice_dict = {}\n",
    "for id_ in range(1,2401):\n",
    "    row_id = id_ \n",
    "    fn = \"train/{}/geometry.xyz\".format(row_id)\n",
    "    crystal_xyz, crystal_lat = get_xyz_data(fn)\n",
    "    crystal_positions_dict[row_id] = crystal_xyz\n",
    "    crystal_lattice_dict[row_id] = crystal_lat"
   ]
  },
  {
   "cell_type": "code",
   "execution_count": 224,
   "metadata": {
    "collapsed": true
   },
   "outputs": [],
   "source": [
    "crystal_positions_dict_test = {}\n",
    "crystal_lattice_dict_test = {}\n",
    "for id_ in range(1,601):\n",
    "    row_id = id_ \n",
    "    fn = \"test/{}/geometry.xyz\".format(row_id)\n",
    "    crystal_xyz, crystal_lat = get_xyz_data(fn)\n",
    "    crystal_positions_dict_test[row_id] = crystal_xyz\n",
    "    crystal_lattice_dict_test[row_id] = crystal_lat"
   ]
  },
  {
   "cell_type": "code",
   "execution_count": 225,
   "metadata": {
    "collapsed": true
   },
   "outputs": [],
   "source": [
    "def reduce_vector(vector_positions,lattice_vector,composition):\n",
    "    Inverse_A = inv(lattice_vector.T)\n",
    "    reduced_vector_positions = pd.DataFrame(columns=['x','y','z','element','composition'])\n",
    "    s1 = [] \n",
    "    s2 = []\n",
    "    s3 = []\n",
    "    s4 = []\n",
    "    for vector in vector_positions:\n",
    "        r_vector = np.matmul(Inverse_A,vector[0].reshape(3,1))\n",
    "        s1.append(r_vector[0][0])\n",
    "        s2.append(r_vector[1][0])\n",
    "        s3.append(r_vector[2][0])\n",
    "        s4.append(vector[1])\n",
    "    reduced_vector_positions['x'] = s1\n",
    "    reduced_vector_positions['y'] = s2\n",
    "    reduced_vector_positions['z'] = s3\n",
    "    reduced_vector_positions['element'] = s4\n",
    "    reduced_vector_positions['composition'] = composition\n",
    "    return reduced_vector_positions\n",
    "    \n",
    "    "
   ]
  },
  {
   "cell_type": "code",
   "execution_count": 226,
   "metadata": {},
   "outputs": [
    {
     "name": "stdout",
     "output_type": "stream",
     "text": [
      "(80, 5)\n",
      "(80, 5)\n",
      "(160, 5)\n"
     ]
    },
    {
     "data": {
      "text/html": [
       "<div>\n",
       "<style>\n",
       "    .dataframe thead tr:only-child th {\n",
       "        text-align: right;\n",
       "    }\n",
       "\n",
       "    .dataframe thead th {\n",
       "        text-align: left;\n",
       "    }\n",
       "\n",
       "    .dataframe tbody tr th {\n",
       "        vertical-align: top;\n",
       "    }\n",
       "</style>\n",
       "<table border=\"1\" class=\"dataframe\">\n",
       "  <thead>\n",
       "    <tr style=\"text-align: right;\">\n",
       "      <th></th>\n",
       "      <th>x</th>\n",
       "      <th>y</th>\n",
       "      <th>z</th>\n",
       "      <th>element</th>\n",
       "      <th>composition</th>\n",
       "    </tr>\n",
       "  </thead>\n",
       "  <tbody>\n",
       "    <tr>\n",
       "      <th>75</th>\n",
       "      <td>1.0</td>\n",
       "      <td>5.000000e-01</td>\n",
       "      <td>0.875</td>\n",
       "      <td>O</td>\n",
       "      <td>2</td>\n",
       "    </tr>\n",
       "    <tr>\n",
       "      <th>76</th>\n",
       "      <td>0.5</td>\n",
       "      <td>5.204170e-18</td>\n",
       "      <td>0.375</td>\n",
       "      <td>O</td>\n",
       "      <td>2</td>\n",
       "    </tr>\n",
       "    <tr>\n",
       "      <th>77</th>\n",
       "      <td>0.5</td>\n",
       "      <td>1.040834e-17</td>\n",
       "      <td>0.875</td>\n",
       "      <td>O</td>\n",
       "      <td>2</td>\n",
       "    </tr>\n",
       "    <tr>\n",
       "      <th>78</th>\n",
       "      <td>0.5</td>\n",
       "      <td>5.000000e-01</td>\n",
       "      <td>0.375</td>\n",
       "      <td>O</td>\n",
       "      <td>2</td>\n",
       "    </tr>\n",
       "    <tr>\n",
       "      <th>79</th>\n",
       "      <td>0.5</td>\n",
       "      <td>5.000000e-01</td>\n",
       "      <td>0.875</td>\n",
       "      <td>O</td>\n",
       "      <td>2</td>\n",
       "    </tr>\n",
       "  </tbody>\n",
       "</table>\n",
       "</div>"
      ],
      "text/plain": [
       "      x             y      z element  composition\n",
       "75  1.0  5.000000e-01  0.875       O            2\n",
       "76  0.5  5.204170e-18  0.375       O            2\n",
       "77  0.5  1.040834e-17  0.875       O            2\n",
       "78  0.5  5.000000e-01  0.375       O            2\n",
       "79  0.5  5.000000e-01  0.875       O            2"
      ]
     },
     "execution_count": 226,
     "metadata": {},
     "output_type": "execute_result"
    }
   ],
   "source": [
    "df1 = reduce_vector(crystal_positions_dict[1],crystal_lattice_dict[1],1)\n",
    "df2 =  reduce_vector(crystal_positions_dict[2],crystal_lattice_dict[2],2)\n",
    "print(df1.shape)\n",
    "print(df2.shape)\n",
    "newdf = (pd.concat([df1,df2]))\n",
    "print (newdf.shape)\n",
    "newdf.tail()"
   ]
  },
  {
   "cell_type": "code",
   "execution_count": 227,
   "metadata": {},
   "outputs": [
    {
     "name": "stdout",
     "output_type": "stream",
     "text": [
      "(148030, 5)\n"
     ]
    }
   ],
   "source": [
    "train_final_df = pd.DataFrame()\n",
    "for i in range(1,2401):\n",
    "    df = reduce_vector(crystal_positions_dict[i],crystal_lattice_dict[i],i)\n",
    "    train_final_df = pd.concat([train_final_df,df])\n",
    "print(train_final_df.shape)\n",
    "    "
   ]
  },
  {
   "cell_type": "code",
   "execution_count": 228,
   "metadata": {},
   "outputs": [
    {
     "name": "stdout",
     "output_type": "stream",
     "text": [
      "(37590, 5)\n"
     ]
    }
   ],
   "source": [
    "test_final_df = pd.DataFrame()\n",
    "for i in range(1,601):\n",
    "    df = reduce_vector(crystal_positions_dict[i],crystal_lattice_dict[i],i)\n",
    "    test_final_df = pd.concat([test_final_df,df])\n",
    "print(test_final_df.shape)\n",
    "    "
   ]
  },
  {
   "cell_type": "code",
   "execution_count": 229,
   "metadata": {
    "scrolled": true
   },
   "outputs": [
    {
     "data": {
      "text/html": [
       "<div>\n",
       "<style>\n",
       "    .dataframe thead tr:only-child th {\n",
       "        text-align: right;\n",
       "    }\n",
       "\n",
       "    .dataframe thead th {\n",
       "        text-align: left;\n",
       "    }\n",
       "\n",
       "    .dataframe tbody tr th {\n",
       "        vertical-align: top;\n",
       "    }\n",
       "</style>\n",
       "<table border=\"1\" class=\"dataframe\">\n",
       "  <thead>\n",
       "    <tr style=\"text-align: right;\">\n",
       "      <th></th>\n",
       "      <th>Al</th>\n",
       "      <th>Ga</th>\n",
       "      <th>In</th>\n",
       "      <th>O</th>\n",
       "    </tr>\n",
       "  </thead>\n",
       "  <tbody>\n",
       "    <tr>\n",
       "      <th>0</th>\n",
       "      <td>0</td>\n",
       "      <td>1</td>\n",
       "      <td>0</td>\n",
       "      <td>0</td>\n",
       "    </tr>\n",
       "    <tr>\n",
       "      <th>1</th>\n",
       "      <td>1</td>\n",
       "      <td>0</td>\n",
       "      <td>0</td>\n",
       "      <td>0</td>\n",
       "    </tr>\n",
       "    <tr>\n",
       "      <th>2</th>\n",
       "      <td>1</td>\n",
       "      <td>0</td>\n",
       "      <td>0</td>\n",
       "      <td>0</td>\n",
       "    </tr>\n",
       "    <tr>\n",
       "      <th>3</th>\n",
       "      <td>0</td>\n",
       "      <td>1</td>\n",
       "      <td>0</td>\n",
       "      <td>0</td>\n",
       "    </tr>\n",
       "    <tr>\n",
       "      <th>4</th>\n",
       "      <td>0</td>\n",
       "      <td>1</td>\n",
       "      <td>0</td>\n",
       "      <td>0</td>\n",
       "    </tr>\n",
       "  </tbody>\n",
       "</table>\n",
       "</div>"
      ],
      "text/plain": [
       "   Al  Ga  In  O\n",
       "0   0   1   0  0\n",
       "1   1   0   0  0\n",
       "2   1   0   0  0\n",
       "3   0   1   0  0\n",
       "4   0   1   0  0"
      ]
     },
     "execution_count": 229,
     "metadata": {},
     "output_type": "execute_result"
    }
   ],
   "source": [
    "sr = pd.Series(train_final_df['element'])\n",
    "t= pd.get_dummies(sr)\n",
    "t.head()"
   ]
  },
  {
   "cell_type": "code",
   "execution_count": 230,
   "metadata": {},
   "outputs": [],
   "source": [
    "def label_element(df):\n",
    "    sr = pd.Series(df['element'])\n",
    "    t= pd.get_dummies(sr)\n",
    "    df['Al'] = t['Al']\n",
    "    df['Ga'] = t['Ga']\n",
    "    df['In'] = t['In']\n",
    "    df['O'] = t['O']\n",
    "    return df"
   ]
  },
  {
   "cell_type": "code",
   "execution_count": 231,
   "metadata": {
    "collapsed": true
   },
   "outputs": [],
   "source": [
    "test_final_df = label_element(test_final_df)"
   ]
  },
  {
   "cell_type": "code",
   "execution_count": 232,
   "metadata": {},
   "outputs": [
    {
     "data": {
      "text/plain": [
       "Index(['x', 'y', 'z', 'element', 'composition', 'Al', 'Ga', 'In', 'O'], dtype='object')"
      ]
     },
     "execution_count": 232,
     "metadata": {},
     "output_type": "execute_result"
    }
   ],
   "source": [
    "train_final_df =  label_element(train_final_df)\n",
    "train_final_df.columns"
   ]
  },
  {
   "cell_type": "code",
   "execution_count": 233,
   "metadata": {},
   "outputs": [
    {
     "data": {
      "text/plain": [
       "3"
      ]
     },
     "execution_count": 233,
     "metadata": {},
     "output_type": "execute_result"
    }
   ],
   "source": [
    "test_df = pd.DataFrame()\n",
    "test_df['col1'] = [True,True,True,False,False]\n",
    "np.sum(test_df['col1'])"
   ]
  },
  {
   "cell_type": "code",
   "execution_count": 234,
   "metadata": {},
   "outputs": [
    {
     "data": {
      "text/html": [
       "<div>\n",
       "<style>\n",
       "    .dataframe thead tr:only-child th {\n",
       "        text-align: right;\n",
       "    }\n",
       "\n",
       "    .dataframe thead th {\n",
       "        text-align: left;\n",
       "    }\n",
       "\n",
       "    .dataframe tbody tr th {\n",
       "        vertical-align: top;\n",
       "    }\n",
       "</style>\n",
       "<table border=\"1\" class=\"dataframe\">\n",
       "  <thead>\n",
       "    <tr style=\"text-align: right;\">\n",
       "      <th></th>\n",
       "      <th>x</th>\n",
       "      <th>y</th>\n",
       "      <th>z</th>\n",
       "      <th>element</th>\n",
       "      <th>composition</th>\n",
       "      <th>Al</th>\n",
       "      <th>Ga</th>\n",
       "      <th>In</th>\n",
       "      <th>O</th>\n",
       "    </tr>\n",
       "  </thead>\n",
       "  <tbody>\n",
       "    <tr>\n",
       "      <th>75</th>\n",
       "      <td>0.656</td>\n",
       "      <td>0.880</td>\n",
       "      <td>0.891</td>\n",
       "      <td>O</td>\n",
       "      <td>2400</td>\n",
       "      <td>0</td>\n",
       "      <td>0</td>\n",
       "      <td>0</td>\n",
       "      <td>1</td>\n",
       "    </tr>\n",
       "    <tr>\n",
       "      <th>76</th>\n",
       "      <td>0.109</td>\n",
       "      <td>0.844</td>\n",
       "      <td>0.880</td>\n",
       "      <td>O</td>\n",
       "      <td>2400</td>\n",
       "      <td>0</td>\n",
       "      <td>0</td>\n",
       "      <td>0</td>\n",
       "      <td>1</td>\n",
       "    </tr>\n",
       "    <tr>\n",
       "      <th>77</th>\n",
       "      <td>0.609</td>\n",
       "      <td>0.656</td>\n",
       "      <td>0.120</td>\n",
       "      <td>O</td>\n",
       "      <td>2400</td>\n",
       "      <td>0</td>\n",
       "      <td>0</td>\n",
       "      <td>0</td>\n",
       "      <td>1</td>\n",
       "    </tr>\n",
       "    <tr>\n",
       "      <th>78</th>\n",
       "      <td>0.891</td>\n",
       "      <td>0.344</td>\n",
       "      <td>0.620</td>\n",
       "      <td>O</td>\n",
       "      <td>2400</td>\n",
       "      <td>0</td>\n",
       "      <td>0</td>\n",
       "      <td>0</td>\n",
       "      <td>1</td>\n",
       "    </tr>\n",
       "    <tr>\n",
       "      <th>79</th>\n",
       "      <td>0.891</td>\n",
       "      <td>0.656</td>\n",
       "      <td>0.880</td>\n",
       "      <td>O</td>\n",
       "      <td>2400</td>\n",
       "      <td>0</td>\n",
       "      <td>0</td>\n",
       "      <td>0</td>\n",
       "      <td>1</td>\n",
       "    </tr>\n",
       "  </tbody>\n",
       "</table>\n",
       "</div>"
      ],
      "text/plain": [
       "        x      y      z element  composition  Al  Ga  In  O\n",
       "75  0.656  0.880  0.891       O         2400   0   0   0  1\n",
       "76  0.109  0.844  0.880       O         2400   0   0   0  1\n",
       "77  0.609  0.656  0.120       O         2400   0   0   0  1\n",
       "78  0.891  0.344  0.620       O         2400   0   0   0  1\n",
       "79  0.891  0.656  0.880       O         2400   0   0   0  1"
      ]
     },
     "execution_count": 234,
     "metadata": {},
     "output_type": "execute_result"
    }
   ],
   "source": [
    "train_final_df.tail()"
   ]
  },
  {
   "cell_type": "code",
   "execution_count": 235,
   "metadata": {
    "collapsed": true
   },
   "outputs": [],
   "source": [
    "def find_error(error_df):\n",
    "    total_error = 0\n",
    "    #print(\"here:\")\n",
    "    for composition in range(1,1601):\n",
    "        clusters_comp = error_df[error_df['composition'] == composition]\n",
    "        maximum_occur = clusters_comp['clusters_for_data'].value_counts().idxmax()\n",
    "        #print(maximum_occur)\n",
    "        #error_temp = np.sum(clusters_comp[clusters_comp['clusters_for_data'] != maximum_occur].values)\n",
    "        #print(error_temp)\n",
    "        total_error += np.sum(clusters_comp[clusters_comp['clusters_for_data'] != maximum_occur].values)\n",
    "    return total_error"
   ]
  },
  {
   "cell_type": "code",
   "execution_count": null,
   "metadata": {
    "collapsed": true
   },
   "outputs": [],
   "source": []
  },
  {
   "cell_type": "raw",
   "metadata": {},
   "source": [
    "df.head()"
   ]
  },
  {
   "cell_type": "code",
   "execution_count": 236,
   "metadata": {},
   "outputs": [],
   "source": [
    "def find_optimum(features,df1):\n",
    "    errors = []\n",
    "    for i in range(25,75):\n",
    "        print(i)\n",
    "        kmeans1 = KMeans(n_clusters=i,random_state=i).fit(df1[features])\n",
    "        clusters_for_data = kmeans1.predict(df1[features])\n",
    "        error_df = df1[['composition']]\n",
    "        error_df['clusters_for_data'] = clusters_for_data\n",
    "        #print(error_df)\n",
    "        error = find_error(error_df)\n",
    "        errors.append(error)\n",
    "    plt.plot(errors)\n",
    "    \n",
    "\n",
    "    \n",
    "\n"
   ]
  },
  {
   "cell_type": "code",
   "execution_count": 158,
   "metadata": {
    "scrolled": true
   },
   "outputs": [
    {
     "name": "stdout",
     "output_type": "stream",
     "text": [
      "25\n"
     ]
    },
    {
     "name": "stderr",
     "output_type": "stream",
     "text": [
      "C:\\Users\\imamk\\Anaconda3\\lib\\site-packages\\ipykernel_launcher.py:8: SettingWithCopyWarning: \n",
      "A value is trying to be set on a copy of a slice from a DataFrame.\n",
      "Try using .loc[row_indexer,col_indexer] = value instead\n",
      "\n",
      "See the caveats in the documentation: http://pandas.pydata.org/pandas-docs/stable/indexing.html#indexing-view-versus-copy\n",
      "  \n"
     ]
    },
    {
     "name": "stdout",
     "output_type": "stream",
     "text": [
      "26\n",
      "27\n",
      "28\n",
      "29\n",
      "30\n",
      "31\n",
      "32\n",
      "33\n",
      "34\n",
      "35\n",
      "36\n",
      "37\n",
      "38\n",
      "39\n",
      "40\n",
      "41\n",
      "42\n",
      "43\n",
      "44\n",
      "45\n",
      "46\n",
      "47\n",
      "48\n",
      "49\n",
      "50\n",
      "51\n",
      "52\n",
      "53\n",
      "54\n",
      "55\n",
      "56\n",
      "57\n",
      "58\n",
      "59\n",
      "60\n",
      "61\n",
      "62\n",
      "63\n",
      "64\n",
      "65\n",
      "66\n",
      "67\n",
      "68\n",
      "69\n",
      "70\n",
      "71\n",
      "72\n",
      "73\n",
      "74\n"
     ]
    },
    {
     "data": {
      "image/png": "[encoded data removed]",
      "text/plain": [
       "<matplotlib.figure.Figure at 0x28f497a6a58>"
      ]
     },
     "metadata": {},
     "output_type": "display_data"
    }
   ],
   "source": [
    "features = ['x', 'y', 'z', 'Al', 'Ga', 'In', 'O']\n",
    "find_optimum(features,train_final_df)"
   ]
  },
  {
   "cell_type": "code",
   "execution_count": 237,
   "metadata": {},
   "outputs": [
    {
     "data": {
      "text/html": [
       "<div>\n",
       "<style>\n",
       "    .dataframe thead tr:only-child th {\n",
       "        text-align: right;\n",
       "    }\n",
       "\n",
       "    .dataframe thead th {\n",
       "        text-align: left;\n",
       "    }\n",
       "\n",
       "    .dataframe tbody tr th {\n",
       "        vertical-align: top;\n",
       "    }\n",
       "</style>\n",
       "<table border=\"1\" class=\"dataframe\">\n",
       "  <thead>\n",
       "    <tr style=\"text-align: right;\">\n",
       "      <th></th>\n",
       "      <th>x</th>\n",
       "      <th>y</th>\n",
       "      <th>z</th>\n",
       "      <th>element</th>\n",
       "      <th>composition</th>\n",
       "      <th>Al</th>\n",
       "      <th>Ga</th>\n",
       "      <th>In</th>\n",
       "      <th>O</th>\n",
       "    </tr>\n",
       "  </thead>\n",
       "  <tbody>\n",
       "    <tr>\n",
       "      <th>0</th>\n",
       "      <td>0.1560</td>\n",
       "      <td>0.851</td>\n",
       "      <td>6.970000e-01</td>\n",
       "      <td>Ga</td>\n",
       "      <td>1</td>\n",
       "      <td>0</td>\n",
       "      <td>1</td>\n",
       "      <td>0</td>\n",
       "      <td>0</td>\n",
       "    </tr>\n",
       "    <tr>\n",
       "      <th>1</th>\n",
       "      <td>0.6560</td>\n",
       "      <td>0.851</td>\n",
       "      <td>6.970000e-01</td>\n",
       "      <td>Al</td>\n",
       "      <td>1</td>\n",
       "      <td>1</td>\n",
       "      <td>0</td>\n",
       "      <td>0</td>\n",
       "      <td>0</td>\n",
       "    </tr>\n",
       "    <tr>\n",
       "      <th>2</th>\n",
       "      <td>0.3440</td>\n",
       "      <td>0.149</td>\n",
       "      <td>1.970000e-01</td>\n",
       "      <td>Al</td>\n",
       "      <td>1</td>\n",
       "      <td>1</td>\n",
       "      <td>0</td>\n",
       "      <td>0</td>\n",
       "      <td>0</td>\n",
       "    </tr>\n",
       "    <tr>\n",
       "      <th>3</th>\n",
       "      <td>0.8440</td>\n",
       "      <td>0.149</td>\n",
       "      <td>1.970000e-01</td>\n",
       "      <td>Ga</td>\n",
       "      <td>1</td>\n",
       "      <td>0</td>\n",
       "      <td>1</td>\n",
       "      <td>0</td>\n",
       "      <td>0</td>\n",
       "    </tr>\n",
       "    <tr>\n",
       "      <th>4</th>\n",
       "      <td>0.0940</td>\n",
       "      <td>0.351</td>\n",
       "      <td>1.970000e-01</td>\n",
       "      <td>Ga</td>\n",
       "      <td>1</td>\n",
       "      <td>0</td>\n",
       "      <td>1</td>\n",
       "      <td>0</td>\n",
       "      <td>0</td>\n",
       "    </tr>\n",
       "    <tr>\n",
       "      <th>5</th>\n",
       "      <td>0.5940</td>\n",
       "      <td>0.351</td>\n",
       "      <td>1.970000e-01</td>\n",
       "      <td>Al</td>\n",
       "      <td>1</td>\n",
       "      <td>1</td>\n",
       "      <td>0</td>\n",
       "      <td>0</td>\n",
       "      <td>0</td>\n",
       "    </tr>\n",
       "    <tr>\n",
       "      <th>6</th>\n",
       "      <td>0.4060</td>\n",
       "      <td>0.649</td>\n",
       "      <td>6.970000e-01</td>\n",
       "      <td>Al</td>\n",
       "      <td>1</td>\n",
       "      <td>1</td>\n",
       "      <td>0</td>\n",
       "      <td>0</td>\n",
       "      <td>0</td>\n",
       "    </tr>\n",
       "    <tr>\n",
       "      <th>7</th>\n",
       "      <td>0.9060</td>\n",
       "      <td>0.649</td>\n",
       "      <td>6.970000e-01</td>\n",
       "      <td>Al</td>\n",
       "      <td>1</td>\n",
       "      <td>1</td>\n",
       "      <td>0</td>\n",
       "      <td>0</td>\n",
       "      <td>0</td>\n",
       "    </tr>\n",
       "    <tr>\n",
       "      <th>8</th>\n",
       "      <td>0.0895</td>\n",
       "      <td>0.658</td>\n",
       "      <td>0.000000e+00</td>\n",
       "      <td>Al</td>\n",
       "      <td>1</td>\n",
       "      <td>1</td>\n",
       "      <td>0</td>\n",
       "      <td>0</td>\n",
       "      <td>0</td>\n",
       "    </tr>\n",
       "    <tr>\n",
       "      <th>9</th>\n",
       "      <td>0.5895</td>\n",
       "      <td>0.658</td>\n",
       "      <td>-4.336809e-19</td>\n",
       "      <td>Ga</td>\n",
       "      <td>1</td>\n",
       "      <td>0</td>\n",
       "      <td>1</td>\n",
       "      <td>0</td>\n",
       "      <td>0</td>\n",
       "    </tr>\n",
       "    <tr>\n",
       "      <th>10</th>\n",
       "      <td>0.4105</td>\n",
       "      <td>0.342</td>\n",
       "      <td>5.000000e-01</td>\n",
       "      <td>Ga</td>\n",
       "      <td>1</td>\n",
       "      <td>0</td>\n",
       "      <td>1</td>\n",
       "      <td>0</td>\n",
       "      <td>0</td>\n",
       "    </tr>\n",
       "    <tr>\n",
       "      <th>11</th>\n",
       "      <td>0.9105</td>\n",
       "      <td>0.342</td>\n",
       "      <td>5.000000e-01</td>\n",
       "      <td>Al</td>\n",
       "      <td>1</td>\n",
       "      <td>1</td>\n",
       "      <td>0</td>\n",
       "      <td>0</td>\n",
       "      <td>0</td>\n",
       "    </tr>\n",
       "    <tr>\n",
       "      <th>12</th>\n",
       "      <td>0.1605</td>\n",
       "      <td>0.158</td>\n",
       "      <td>5.000000e-01</td>\n",
       "      <td>Al</td>\n",
       "      <td>1</td>\n",
       "      <td>1</td>\n",
       "      <td>0</td>\n",
       "      <td>0</td>\n",
       "      <td>0</td>\n",
       "    </tr>\n",
       "    <tr>\n",
       "      <th>13</th>\n",
       "      <td>0.6605</td>\n",
       "      <td>0.158</td>\n",
       "      <td>5.000000e-01</td>\n",
       "      <td>Ga</td>\n",
       "      <td>1</td>\n",
       "      <td>0</td>\n",
       "      <td>1</td>\n",
       "      <td>0</td>\n",
       "      <td>0</td>\n",
       "    </tr>\n",
       "    <tr>\n",
       "      <th>14</th>\n",
       "      <td>0.3395</td>\n",
       "      <td>0.842</td>\n",
       "      <td>1.000000e+00</td>\n",
       "      <td>Al</td>\n",
       "      <td>1</td>\n",
       "      <td>1</td>\n",
       "      <td>0</td>\n",
       "      <td>0</td>\n",
       "      <td>0</td>\n",
       "    </tr>\n",
       "    <tr>\n",
       "      <th>15</th>\n",
       "      <td>0.8395</td>\n",
       "      <td>0.842</td>\n",
       "      <td>1.000000e+00</td>\n",
       "      <td>Ga</td>\n",
       "      <td>1</td>\n",
       "      <td>0</td>\n",
       "      <td>1</td>\n",
       "      <td>0</td>\n",
       "      <td>0</td>\n",
       "    </tr>\n",
       "    <tr>\n",
       "      <th>16</th>\n",
       "      <td>0.0840</td>\n",
       "      <td>0.030</td>\n",
       "      <td>9.990000e-01</td>\n",
       "      <td>Ga</td>\n",
       "      <td>1</td>\n",
       "      <td>0</td>\n",
       "      <td>1</td>\n",
       "      <td>0</td>\n",
       "      <td>0</td>\n",
       "    </tr>\n",
       "    <tr>\n",
       "      <th>17</th>\n",
       "      <td>0.5840</td>\n",
       "      <td>0.030</td>\n",
       "      <td>9.990000e-01</td>\n",
       "      <td>Al</td>\n",
       "      <td>1</td>\n",
       "      <td>1</td>\n",
       "      <td>0</td>\n",
       "      <td>0</td>\n",
       "      <td>0</td>\n",
       "    </tr>\n",
       "    <tr>\n",
       "      <th>18</th>\n",
       "      <td>0.4160</td>\n",
       "      <td>0.970</td>\n",
       "      <td>4.990000e-01</td>\n",
       "      <td>Ga</td>\n",
       "      <td>1</td>\n",
       "      <td>0</td>\n",
       "      <td>1</td>\n",
       "      <td>0</td>\n",
       "      <td>0</td>\n",
       "    </tr>\n",
       "    <tr>\n",
       "      <th>19</th>\n",
       "      <td>0.9160</td>\n",
       "      <td>0.970</td>\n",
       "      <td>4.990000e-01</td>\n",
       "      <td>Al</td>\n",
       "      <td>1</td>\n",
       "      <td>1</td>\n",
       "      <td>0</td>\n",
       "      <td>0</td>\n",
       "      <td>0</td>\n",
       "    </tr>\n",
       "    <tr>\n",
       "      <th>20</th>\n",
       "      <td>0.1660</td>\n",
       "      <td>0.530</td>\n",
       "      <td>4.990000e-01</td>\n",
       "      <td>Ga</td>\n",
       "      <td>1</td>\n",
       "      <td>0</td>\n",
       "      <td>1</td>\n",
       "      <td>0</td>\n",
       "      <td>0</td>\n",
       "    </tr>\n",
       "    <tr>\n",
       "      <th>21</th>\n",
       "      <td>0.6660</td>\n",
       "      <td>0.530</td>\n",
       "      <td>4.990000e-01</td>\n",
       "      <td>Al</td>\n",
       "      <td>1</td>\n",
       "      <td>1</td>\n",
       "      <td>0</td>\n",
       "      <td>0</td>\n",
       "      <td>0</td>\n",
       "    </tr>\n",
       "    <tr>\n",
       "      <th>22</th>\n",
       "      <td>0.3340</td>\n",
       "      <td>0.470</td>\n",
       "      <td>9.990000e-01</td>\n",
       "      <td>Al</td>\n",
       "      <td>1</td>\n",
       "      <td>1</td>\n",
       "      <td>0</td>\n",
       "      <td>0</td>\n",
       "      <td>0</td>\n",
       "    </tr>\n",
       "    <tr>\n",
       "      <th>23</th>\n",
       "      <td>0.8340</td>\n",
       "      <td>0.470</td>\n",
       "      <td>9.990000e-01</td>\n",
       "      <td>Al</td>\n",
       "      <td>1</td>\n",
       "      <td>1</td>\n",
       "      <td>0</td>\n",
       "      <td>0</td>\n",
       "      <td>0</td>\n",
       "    </tr>\n",
       "    <tr>\n",
       "      <th>24</th>\n",
       "      <td>0.3425</td>\n",
       "      <td>0.157</td>\n",
       "      <td>7.870000e-01</td>\n",
       "      <td>Ga</td>\n",
       "      <td>1</td>\n",
       "      <td>0</td>\n",
       "      <td>1</td>\n",
       "      <td>0</td>\n",
       "      <td>0</td>\n",
       "    </tr>\n",
       "    <tr>\n",
       "      <th>25</th>\n",
       "      <td>0.8425</td>\n",
       "      <td>0.157</td>\n",
       "      <td>7.870000e-01</td>\n",
       "      <td>Al</td>\n",
       "      <td>1</td>\n",
       "      <td>1</td>\n",
       "      <td>0</td>\n",
       "      <td>0</td>\n",
       "      <td>0</td>\n",
       "    </tr>\n",
       "    <tr>\n",
       "      <th>26</th>\n",
       "      <td>0.1575</td>\n",
       "      <td>0.843</td>\n",
       "      <td>2.870000e-01</td>\n",
       "      <td>Al</td>\n",
       "      <td>1</td>\n",
       "      <td>1</td>\n",
       "      <td>0</td>\n",
       "      <td>0</td>\n",
       "      <td>0</td>\n",
       "    </tr>\n",
       "    <tr>\n",
       "      <th>27</th>\n",
       "      <td>0.6575</td>\n",
       "      <td>0.843</td>\n",
       "      <td>2.870000e-01</td>\n",
       "      <td>Al</td>\n",
       "      <td>1</td>\n",
       "      <td>1</td>\n",
       "      <td>0</td>\n",
       "      <td>0</td>\n",
       "      <td>0</td>\n",
       "    </tr>\n",
       "    <tr>\n",
       "      <th>28</th>\n",
       "      <td>0.4075</td>\n",
       "      <td>0.657</td>\n",
       "      <td>2.870000e-01</td>\n",
       "      <td>Al</td>\n",
       "      <td>1</td>\n",
       "      <td>1</td>\n",
       "      <td>0</td>\n",
       "      <td>0</td>\n",
       "      <td>0</td>\n",
       "    </tr>\n",
       "    <tr>\n",
       "      <th>29</th>\n",
       "      <td>0.9075</td>\n",
       "      <td>0.657</td>\n",
       "      <td>2.870000e-01</td>\n",
       "      <td>Ga</td>\n",
       "      <td>1</td>\n",
       "      <td>0</td>\n",
       "      <td>1</td>\n",
       "      <td>0</td>\n",
       "      <td>0</td>\n",
       "    </tr>\n",
       "    <tr>\n",
       "      <th>...</th>\n",
       "      <td>...</td>\n",
       "      <td>...</td>\n",
       "      <td>...</td>\n",
       "      <td>...</td>\n",
       "      <td>...</td>\n",
       "      <td>...</td>\n",
       "      <td>...</td>\n",
       "      <td>...</td>\n",
       "      <td>...</td>\n",
       "    </tr>\n",
       "    <tr>\n",
       "      <th>50</th>\n",
       "      <td>0.8440</td>\n",
       "      <td>0.120</td>\n",
       "      <td>3.910000e-01</td>\n",
       "      <td>O</td>\n",
       "      <td>2400</td>\n",
       "      <td>0</td>\n",
       "      <td>0</td>\n",
       "      <td>0</td>\n",
       "      <td>1</td>\n",
       "    </tr>\n",
       "    <tr>\n",
       "      <th>51</th>\n",
       "      <td>0.1560</td>\n",
       "      <td>0.380</td>\n",
       "      <td>3.910000e-01</td>\n",
       "      <td>O</td>\n",
       "      <td>2400</td>\n",
       "      <td>0</td>\n",
       "      <td>0</td>\n",
       "      <td>0</td>\n",
       "      <td>1</td>\n",
       "    </tr>\n",
       "    <tr>\n",
       "      <th>52</th>\n",
       "      <td>0.6090</td>\n",
       "      <td>0.344</td>\n",
       "      <td>3.800000e-01</td>\n",
       "      <td>O</td>\n",
       "      <td>2400</td>\n",
       "      <td>0</td>\n",
       "      <td>0</td>\n",
       "      <td>0</td>\n",
       "      <td>1</td>\n",
       "    </tr>\n",
       "    <tr>\n",
       "      <th>53</th>\n",
       "      <td>0.1090</td>\n",
       "      <td>0.156</td>\n",
       "      <td>6.200000e-01</td>\n",
       "      <td>O</td>\n",
       "      <td>2400</td>\n",
       "      <td>0</td>\n",
       "      <td>0</td>\n",
       "      <td>0</td>\n",
       "      <td>1</td>\n",
       "    </tr>\n",
       "    <tr>\n",
       "      <th>54</th>\n",
       "      <td>0.3910</td>\n",
       "      <td>0.844</td>\n",
       "      <td>1.200000e-01</td>\n",
       "      <td>O</td>\n",
       "      <td>2400</td>\n",
       "      <td>0</td>\n",
       "      <td>0</td>\n",
       "      <td>0</td>\n",
       "      <td>1</td>\n",
       "    </tr>\n",
       "    <tr>\n",
       "      <th>55</th>\n",
       "      <td>0.3910</td>\n",
       "      <td>0.156</td>\n",
       "      <td>3.800000e-01</td>\n",
       "      <td>O</td>\n",
       "      <td>2400</td>\n",
       "      <td>0</td>\n",
       "      <td>0</td>\n",
       "      <td>0</td>\n",
       "      <td>1</td>\n",
       "    </tr>\n",
       "    <tr>\n",
       "      <th>56</th>\n",
       "      <td>0.1200</td>\n",
       "      <td>0.891</td>\n",
       "      <td>1.560000e-01</td>\n",
       "      <td>O</td>\n",
       "      <td>2400</td>\n",
       "      <td>0</td>\n",
       "      <td>0</td>\n",
       "      <td>0</td>\n",
       "      <td>1</td>\n",
       "    </tr>\n",
       "    <tr>\n",
       "      <th>57</th>\n",
       "      <td>0.8800</td>\n",
       "      <td>0.391</td>\n",
       "      <td>3.440000e-01</td>\n",
       "      <td>O</td>\n",
       "      <td>2400</td>\n",
       "      <td>0</td>\n",
       "      <td>0</td>\n",
       "      <td>0</td>\n",
       "      <td>1</td>\n",
       "    </tr>\n",
       "    <tr>\n",
       "      <th>58</th>\n",
       "      <td>0.3800</td>\n",
       "      <td>0.109</td>\n",
       "      <td>6.560000e-01</td>\n",
       "      <td>O</td>\n",
       "      <td>2400</td>\n",
       "      <td>0</td>\n",
       "      <td>0</td>\n",
       "      <td>0</td>\n",
       "      <td>1</td>\n",
       "    </tr>\n",
       "    <tr>\n",
       "      <th>59</th>\n",
       "      <td>0.1200</td>\n",
       "      <td>0.109</td>\n",
       "      <td>3.440000e-01</td>\n",
       "      <td>O</td>\n",
       "      <td>2400</td>\n",
       "      <td>0</td>\n",
       "      <td>0</td>\n",
       "      <td>0</td>\n",
       "      <td>1</td>\n",
       "    </tr>\n",
       "    <tr>\n",
       "      <th>60</th>\n",
       "      <td>0.1560</td>\n",
       "      <td>0.120</td>\n",
       "      <td>8.910000e-01</td>\n",
       "      <td>O</td>\n",
       "      <td>2400</td>\n",
       "      <td>0</td>\n",
       "      <td>0</td>\n",
       "      <td>0</td>\n",
       "      <td>1</td>\n",
       "    </tr>\n",
       "    <tr>\n",
       "      <th>61</th>\n",
       "      <td>0.3440</td>\n",
       "      <td>0.880</td>\n",
       "      <td>3.910000e-01</td>\n",
       "      <td>O</td>\n",
       "      <td>2400</td>\n",
       "      <td>0</td>\n",
       "      <td>0</td>\n",
       "      <td>0</td>\n",
       "      <td>1</td>\n",
       "    </tr>\n",
       "    <tr>\n",
       "      <th>62</th>\n",
       "      <td>0.6560</td>\n",
       "      <td>0.380</td>\n",
       "      <td>1.090000e-01</td>\n",
       "      <td>O</td>\n",
       "      <td>2400</td>\n",
       "      <td>0</td>\n",
       "      <td>0</td>\n",
       "      <td>0</td>\n",
       "      <td>1</td>\n",
       "    </tr>\n",
       "    <tr>\n",
       "      <th>63</th>\n",
       "      <td>0.3440</td>\n",
       "      <td>0.120</td>\n",
       "      <td>1.090000e-01</td>\n",
       "      <td>O</td>\n",
       "      <td>2400</td>\n",
       "      <td>0</td>\n",
       "      <td>0</td>\n",
       "      <td>0</td>\n",
       "      <td>1</td>\n",
       "    </tr>\n",
       "    <tr>\n",
       "      <th>64</th>\n",
       "      <td>0.8910</td>\n",
       "      <td>0.156</td>\n",
       "      <td>1.200000e-01</td>\n",
       "      <td>O</td>\n",
       "      <td>2400</td>\n",
       "      <td>0</td>\n",
       "      <td>0</td>\n",
       "      <td>0</td>\n",
       "      <td>1</td>\n",
       "    </tr>\n",
       "    <tr>\n",
       "      <th>65</th>\n",
       "      <td>0.3910</td>\n",
       "      <td>0.344</td>\n",
       "      <td>8.800000e-01</td>\n",
       "      <td>O</td>\n",
       "      <td>2400</td>\n",
       "      <td>0</td>\n",
       "      <td>0</td>\n",
       "      <td>0</td>\n",
       "      <td>1</td>\n",
       "    </tr>\n",
       "    <tr>\n",
       "      <th>66</th>\n",
       "      <td>0.1090</td>\n",
       "      <td>0.656</td>\n",
       "      <td>3.800000e-01</td>\n",
       "      <td>O</td>\n",
       "      <td>2400</td>\n",
       "      <td>0</td>\n",
       "      <td>0</td>\n",
       "      <td>0</td>\n",
       "      <td>1</td>\n",
       "    </tr>\n",
       "    <tr>\n",
       "      <th>67</th>\n",
       "      <td>0.1090</td>\n",
       "      <td>0.344</td>\n",
       "      <td>1.200000e-01</td>\n",
       "      <td>O</td>\n",
       "      <td>2400</td>\n",
       "      <td>0</td>\n",
       "      <td>0</td>\n",
       "      <td>0</td>\n",
       "      <td>1</td>\n",
       "    </tr>\n",
       "    <tr>\n",
       "      <th>68</th>\n",
       "      <td>0.8800</td>\n",
       "      <td>0.109</td>\n",
       "      <td>8.440000e-01</td>\n",
       "      <td>O</td>\n",
       "      <td>2400</td>\n",
       "      <td>0</td>\n",
       "      <td>0</td>\n",
       "      <td>0</td>\n",
       "      <td>1</td>\n",
       "    </tr>\n",
       "    <tr>\n",
       "      <th>69</th>\n",
       "      <td>0.1200</td>\n",
       "      <td>0.609</td>\n",
       "      <td>6.560000e-01</td>\n",
       "      <td>O</td>\n",
       "      <td>2400</td>\n",
       "      <td>0</td>\n",
       "      <td>0</td>\n",
       "      <td>0</td>\n",
       "      <td>1</td>\n",
       "    </tr>\n",
       "    <tr>\n",
       "      <th>70</th>\n",
       "      <td>0.6200</td>\n",
       "      <td>0.891</td>\n",
       "      <td>3.440000e-01</td>\n",
       "      <td>O</td>\n",
       "      <td>2400</td>\n",
       "      <td>0</td>\n",
       "      <td>0</td>\n",
       "      <td>0</td>\n",
       "      <td>1</td>\n",
       "    </tr>\n",
       "    <tr>\n",
       "      <th>71</th>\n",
       "      <td>0.8800</td>\n",
       "      <td>0.891</td>\n",
       "      <td>6.560000e-01</td>\n",
       "      <td>O</td>\n",
       "      <td>2400</td>\n",
       "      <td>0</td>\n",
       "      <td>0</td>\n",
       "      <td>0</td>\n",
       "      <td>1</td>\n",
       "    </tr>\n",
       "    <tr>\n",
       "      <th>72</th>\n",
       "      <td>0.8440</td>\n",
       "      <td>0.880</td>\n",
       "      <td>1.090000e-01</td>\n",
       "      <td>O</td>\n",
       "      <td>2400</td>\n",
       "      <td>0</td>\n",
       "      <td>0</td>\n",
       "      <td>0</td>\n",
       "      <td>1</td>\n",
       "    </tr>\n",
       "    <tr>\n",
       "      <th>73</th>\n",
       "      <td>0.6560</td>\n",
       "      <td>0.120</td>\n",
       "      <td>6.090000e-01</td>\n",
       "      <td>O</td>\n",
       "      <td>2400</td>\n",
       "      <td>0</td>\n",
       "      <td>0</td>\n",
       "      <td>0</td>\n",
       "      <td>1</td>\n",
       "    </tr>\n",
       "    <tr>\n",
       "      <th>74</th>\n",
       "      <td>0.3440</td>\n",
       "      <td>0.620</td>\n",
       "      <td>8.910000e-01</td>\n",
       "      <td>O</td>\n",
       "      <td>2400</td>\n",
       "      <td>0</td>\n",
       "      <td>0</td>\n",
       "      <td>0</td>\n",
       "      <td>1</td>\n",
       "    </tr>\n",
       "    <tr>\n",
       "      <th>75</th>\n",
       "      <td>0.6560</td>\n",
       "      <td>0.880</td>\n",
       "      <td>8.910000e-01</td>\n",
       "      <td>O</td>\n",
       "      <td>2400</td>\n",
       "      <td>0</td>\n",
       "      <td>0</td>\n",
       "      <td>0</td>\n",
       "      <td>1</td>\n",
       "    </tr>\n",
       "    <tr>\n",
       "      <th>76</th>\n",
       "      <td>0.1090</td>\n",
       "      <td>0.844</td>\n",
       "      <td>8.800000e-01</td>\n",
       "      <td>O</td>\n",
       "      <td>2400</td>\n",
       "      <td>0</td>\n",
       "      <td>0</td>\n",
       "      <td>0</td>\n",
       "      <td>1</td>\n",
       "    </tr>\n",
       "    <tr>\n",
       "      <th>77</th>\n",
       "      <td>0.6090</td>\n",
       "      <td>0.656</td>\n",
       "      <td>1.200000e-01</td>\n",
       "      <td>O</td>\n",
       "      <td>2400</td>\n",
       "      <td>0</td>\n",
       "      <td>0</td>\n",
       "      <td>0</td>\n",
       "      <td>1</td>\n",
       "    </tr>\n",
       "    <tr>\n",
       "      <th>78</th>\n",
       "      <td>0.8910</td>\n",
       "      <td>0.344</td>\n",
       "      <td>6.200000e-01</td>\n",
       "      <td>O</td>\n",
       "      <td>2400</td>\n",
       "      <td>0</td>\n",
       "      <td>0</td>\n",
       "      <td>0</td>\n",
       "      <td>1</td>\n",
       "    </tr>\n",
       "    <tr>\n",
       "      <th>79</th>\n",
       "      <td>0.8910</td>\n",
       "      <td>0.656</td>\n",
       "      <td>8.800000e-01</td>\n",
       "      <td>O</td>\n",
       "      <td>2400</td>\n",
       "      <td>0</td>\n",
       "      <td>0</td>\n",
       "      <td>0</td>\n",
       "      <td>1</td>\n",
       "    </tr>\n",
       "  </tbody>\n",
       "</table>\n",
       "<p>148030 rows × 9 columns</p>\n",
       "</div>"
      ],
      "text/plain": [
       "         x      y             z element  composition  Al  Ga  In  O\n",
       "0   0.1560  0.851  6.970000e-01      Ga            1   0   1   0  0\n",
       "1   0.6560  0.851  6.970000e-01      Al            1   1   0   0  0\n",
       "2   0.3440  0.149  1.970000e-01      Al            1   1   0   0  0\n",
       "3   0.8440  0.149  1.970000e-01      Ga            1   0   1   0  0\n",
       "4   0.0940  0.351  1.970000e-01      Ga            1   0   1   0  0\n",
       "5   0.5940  0.351  1.970000e-01      Al            1   1   0   0  0\n",
       "6   0.4060  0.649  6.970000e-01      Al            1   1   0   0  0\n",
       "7   0.9060  0.649  6.970000e-01      Al            1   1   0   0  0\n",
       "8   0.0895  0.658  0.000000e+00      Al            1   1   0   0  0\n",
       "9   0.5895  0.658 -4.336809e-19      Ga            1   0   1   0  0\n",
       "10  0.4105  0.342  5.000000e-01      Ga            1   0   1   0  0\n",
       "11  0.9105  0.342  5.000000e-01      Al            1   1   0   0  0\n",
       "12  0.1605  0.158  5.000000e-01      Al            1   1   0   0  0\n",
       "13  0.6605  0.158  5.000000e-01      Ga            1   0   1   0  0\n",
       "14  0.3395  0.842  1.000000e+00      Al            1   1   0   0  0\n",
       "15  0.8395  0.842  1.000000e+00      Ga            1   0   1   0  0\n",
       "16  0.0840  0.030  9.990000e-01      Ga            1   0   1   0  0\n",
       "17  0.5840  0.030  9.990000e-01      Al            1   1   0   0  0\n",
       "18  0.4160  0.970  4.990000e-01      Ga            1   0   1   0  0\n",
       "19  0.9160  0.970  4.990000e-01      Al            1   1   0   0  0\n",
       "20  0.1660  0.530  4.990000e-01      Ga            1   0   1   0  0\n",
       "21  0.6660  0.530  4.990000e-01      Al            1   1   0   0  0\n",
       "22  0.3340  0.470  9.990000e-01      Al            1   1   0   0  0\n",
       "23  0.8340  0.470  9.990000e-01      Al            1   1   0   0  0\n",
       "24  0.3425  0.157  7.870000e-01      Ga            1   0   1   0  0\n",
       "25  0.8425  0.157  7.870000e-01      Al            1   1   0   0  0\n",
       "26  0.1575  0.843  2.870000e-01      Al            1   1   0   0  0\n",
       "27  0.6575  0.843  2.870000e-01      Al            1   1   0   0  0\n",
       "28  0.4075  0.657  2.870000e-01      Al            1   1   0   0  0\n",
       "29  0.9075  0.657  2.870000e-01      Ga            1   0   1   0  0\n",
       "..     ...    ...           ...     ...          ...  ..  ..  .. ..\n",
       "50  0.8440  0.120  3.910000e-01       O         2400   0   0   0  1\n",
       "51  0.1560  0.380  3.910000e-01       O         2400   0   0   0  1\n",
       "52  0.6090  0.344  3.800000e-01       O         2400   0   0   0  1\n",
       "53  0.1090  0.156  6.200000e-01       O         2400   0   0   0  1\n",
       "54  0.3910  0.844  1.200000e-01       O         2400   0   0   0  1\n",
       "55  0.3910  0.156  3.800000e-01       O         2400   0   0   0  1\n",
       "56  0.1200  0.891  1.560000e-01       O         2400   0   0   0  1\n",
       "57  0.8800  0.391  3.440000e-01       O         2400   0   0   0  1\n",
       "58  0.3800  0.109  6.560000e-01       O         2400   0   0   0  1\n",
       "59  0.1200  0.109  3.440000e-01       O         2400   0   0   0  1\n",
       "60  0.1560  0.120  8.910000e-01       O         2400   0   0   0  1\n",
       "61  0.3440  0.880  3.910000e-01       O         2400   0   0   0  1\n",
       "62  0.6560  0.380  1.090000e-01       O         2400   0   0   0  1\n",
       "63  0.3440  0.120  1.090000e-01       O         2400   0   0   0  1\n",
       "64  0.8910  0.156  1.200000e-01       O         2400   0   0   0  1\n",
       "65  0.3910  0.344  8.800000e-01       O         2400   0   0   0  1\n",
       "66  0.1090  0.656  3.800000e-01       O         2400   0   0   0  1\n",
       "67  0.1090  0.344  1.200000e-01       O         2400   0   0   0  1\n",
       "68  0.8800  0.109  8.440000e-01       O         2400   0   0   0  1\n",
       "69  0.1200  0.609  6.560000e-01       O         2400   0   0   0  1\n",
       "70  0.6200  0.891  3.440000e-01       O         2400   0   0   0  1\n",
       "71  0.8800  0.891  6.560000e-01       O         2400   0   0   0  1\n",
       "72  0.8440  0.880  1.090000e-01       O         2400   0   0   0  1\n",
       "73  0.6560  0.120  6.090000e-01       O         2400   0   0   0  1\n",
       "74  0.3440  0.620  8.910000e-01       O         2400   0   0   0  1\n",
       "75  0.6560  0.880  8.910000e-01       O         2400   0   0   0  1\n",
       "76  0.1090  0.844  8.800000e-01       O         2400   0   0   0  1\n",
       "77  0.6090  0.656  1.200000e-01       O         2400   0   0   0  1\n",
       "78  0.8910  0.344  6.200000e-01       O         2400   0   0   0  1\n",
       "79  0.8910  0.656  8.800000e-01       O         2400   0   0   0  1\n",
       "\n",
       "[148030 rows x 9 columns]"
      ]
     },
     "execution_count": 237,
     "metadata": {},
     "output_type": "execute_result"
    }
   ],
   "source": [
    "train_final_df"
   ]
  },
  {
   "cell_type": "code",
   "execution_count": 238,
   "metadata": {},
   "outputs": [],
   "source": [
    "features = ['x', 'y', 'z', 'Al', 'Ga', 'In', 'O','composition']\n",
    "kmeans=KMeans(n_clusters=10,random_state=0).fit(train_final_df[features])\n",
    "clusters_for_data = kmeans.predict(train_final_df[features])\n",
    "train_final_df['clusters'] = clusters_for_data"
   ]
  },
  {
   "cell_type": "code",
   "execution_count": 239,
   "metadata": {
    "collapsed": true
   },
   "outputs": [],
   "source": [
    "clusters_for_test_data = kmeans.predict(test_final_df[features])\n",
    "test_final_df['clusters'] = clusters_for_test_data"
   ]
  },
  {
   "cell_type": "code",
   "execution_count": 247,
   "metadata": {},
   "outputs": [],
   "source": [
    "train_composition = train_final_df[['composition','clusters']]\n",
    "train_composition_grouped = train_composition.groupby('composition')"
   ]
  },
  {
   "cell_type": "code",
   "execution_count": 248,
   "metadata": {
    "collapsed": true
   },
   "outputs": [],
   "source": [
    "test_composition = test_final_df[['composition','clusters']]\n",
    "test_composition_grouped = test_composition.groupby('composition')"
   ]
  },
  {
   "cell_type": "code",
   "execution_count": 242,
   "metadata": {},
   "outputs": [
    {
     "name": "stderr",
     "output_type": "stream",
     "text": [
      "C:\\Users\\imamk\\Anaconda3\\lib\\site-packages\\ipykernel_launcher.py:3: SettingWithCopyWarning: \n",
      "A value is trying to be set on a copy of a slice from a DataFrame.\n",
      "Try using .loc[row_indexer,col_indexer] = value instead\n",
      "\n",
      "See the caveats in the documentation: http://pandas.pydata.org/pandas-docs/stable/indexing.html#indexing-view-versus-copy\n",
      "  This is separate from the ipykernel package so we can avoid doing imports until\n"
     ]
    }
   ],
   "source": [
    "#for i in range(1,2401):\n",
    " #   train_composition_part = train_composition[train_composition['composition'] == i]\n",
    " #   train_composition[train_composition['composition']==i]['final_cluster']=train_composition_part['clusters'].value_counts().idxmax()"
   ]
  },
  {
   "cell_type": "code",
   "execution_count": 249,
   "metadata": {},
   "outputs": [
    {
     "name": "stderr",
     "output_type": "stream",
     "text": [
      "C:\\Users\\imamk\\Anaconda3\\lib\\site-packages\\ipykernel_launcher.py:1: SettingWithCopyWarning: \n",
      "A value is trying to be set on a copy of a slice from a DataFrame.\n",
      "Try using .loc[row_indexer,col_indexer] = value instead\n",
      "\n",
      "See the caveats in the documentation: http://pandas.pydata.org/pandas-docs/stable/indexing.html#indexing-view-versus-copy\n",
      "  \"\"\"Entry point for launching an IPython kernel.\n"
     ]
    }
   ],
   "source": [
    "train_composition['final_cluster'] = train_composition['clusters']"
   ]
  },
  {
   "cell_type": "code",
   "execution_count": 250,
   "metadata": {},
   "outputs": [
    {
     "name": "stderr",
     "output_type": "stream",
     "text": [
      "C:\\Users\\imamk\\Anaconda3\\lib\\site-packages\\ipykernel_launcher.py:1: SettingWithCopyWarning: \n",
      "A value is trying to be set on a copy of a slice from a DataFrame.\n",
      "Try using .loc[row_indexer,col_indexer] = value instead\n",
      "\n",
      "See the caveats in the documentation: http://pandas.pydata.org/pandas-docs/stable/indexing.html#indexing-view-versus-copy\n",
      "  \"\"\"Entry point for launching an IPython kernel.\n"
     ]
    }
   ],
   "source": [
    "test_composition['final_cluster'] = test_composition['clusters']"
   ]
  },
  {
   "cell_type": "code",
   "execution_count": 251,
   "metadata": {},
   "outputs": [],
   "source": [
    "train_composition = train_composition[['composition','final_cluster']]"
   ]
  },
  {
   "cell_type": "code",
   "execution_count": 252,
   "metadata": {
    "collapsed": true
   },
   "outputs": [],
   "source": [
    "test_composition = train_composition[['composition','final_cluster']]\n",
    "test_composition.drop_duplicates(inplace=True)"
   ]
  },
  {
   "cell_type": "code",
   "execution_count": 253,
   "metadata": {},
   "outputs": [
    {
     "name": "stderr",
     "output_type": "stream",
     "text": [
      "C:\\Users\\imamk\\Anaconda3\\lib\\site-packages\\ipykernel_launcher.py:1: SettingWithCopyWarning: \n",
      "A value is trying to be set on a copy of a slice from a DataFrame\n",
      "\n",
      "See the caveats in the documentation: http://pandas.pydata.org/pandas-docs/stable/indexing.html#indexing-view-versus-copy\n",
      "  \"\"\"Entry point for launching an IPython kernel.\n"
     ]
    }
   ],
   "source": [
    "train_composition.drop_duplicates(inplace=True)"
   ]
  },
  {
   "cell_type": "code",
   "execution_count": 203,
   "metadata": {},
   "outputs": [
    {
     "data": {
      "text/plain": [
       "<matplotlib.collections.PathCollection at 0x28f49155160>"
      ]
     },
     "execution_count": 203,
     "metadata": {},
     "output_type": "execute_result"
    },
    {
     "data": {
      "image/png": "[encoded data removed]",
      "text/plain": [
       "<matplotlib.figure.Figure at 0x28f4916a8d0>"
      ]
     },
     "metadata": {},
     "output_type": "display_data"
    }
   ],
   "source": [
    "plt.scatter(train_composition['composition'],train_composition['final_cluster'])"
   ]
  },
  {
   "cell_type": "code",
   "execution_count": 254,
   "metadata": {},
   "outputs": [],
   "source": [
    "train_composition.to_csv(\"train_composition_final_cluster.csv\",index=False)\n",
    "test_composition.to_csv(\"test_composition_final_cluster.csv\",index=False)"
   ]
  },
  {
   "cell_type": "code",
   "execution_count": 205,
   "metadata": {},
   "outputs": [
    {
     "ename": "AttributeError",
     "evalue": "'Figure' object has no attribute 'sub_plot'",
     "output_type": "error",
     "traceback": [
      "\u001b[1;31m---------------------------------------------------------------------------\u001b[0m",
      "\u001b[1;31mAttributeError\u001b[0m                            Traceback (most recent call last)",
      "\u001b[1;32m<ipython-input-205-e7b5d9068a04>\u001b[0m in \u001b[0;36m<module>\u001b[1;34m()\u001b[0m\n\u001b[1;32m----> 1\u001b[1;33m \u001b[0mplt\u001b[0m\u001b[1;33m.\u001b[0m\u001b[0mfigure\u001b[0m\u001b[1;33m(\u001b[0m\u001b[1;33m)\u001b[0m\u001b[1;33m.\u001b[0m\u001b[0msub_plot\u001b[0m\u001b[1;33m\u001b[0m\u001b[0m\n\u001b[0m",
      "\u001b[1;31mAttributeError\u001b[0m: 'Figure' object has no attribute 'sub_plot'"
     ]
    },
    {
     "data": {
      "text/plain": [
       "<matplotlib.figure.Figure at 0x28f4915cd30>"
      ]
     },
     "metadata": {},
     "output_type": "display_data"
    }
   ],
   "source": [
    "plt.figure().sub_plot"
   ]
  },
  {
   "cell_type": "code",
   "execution_count": null,
   "metadata": {},
   "outputs": [],
   "source": [
    "fig=p.figure()\n",
    "ax = p3.Axes3D(fig)\n",
    "ax.scatter3D(train_final_df['x'], train_final_df['y'], train_final_df['z'],s=train_final_df['composition'])\n",
    "ax.set_xlabel('X')\n",
    "ax.set_ylabel('Y')\n",
    "ax.set_zlabel('Z')\n",
    "p.show()"
   ]
  },
  {
   "cell_type": "code",
   "execution_count": null,
   "metadata": {},
   "outputs": [],
   "source": [
    "fig = plt.figure()\n",
    "fig.add_subplot?\n",
    "ax = fig.add_subplot(111, projection='3d')\n",
    "ax.scatter(train_final_df['x'], train_final_df['y'], train_final_df['z'], c=train_final_df['composition'], cmap='viridis', linewidth=0.5);"
   ]
  },
  {
   "cell_type": "code",
   "execution_count": null,
   "metadata": {
    "collapsed": true
   },
   "outputs": [],
   "source": [
    "def calculate_distace(vector1,vector2):\n",
    "    x2 = (np.power((vector1[0][0] - vector2[0][0]),2))\n",
    "    y2 = (np.power((vector1[0][1]- vector2[0][1]),2))\n",
    "    z2 = (np.power((vector1[0][2]- vector2[0][2]),2))\n",
    "    return(np.sqrt(x2+y2+z2))"
   ]
  },
  {
   "cell_type": "code",
   "execution_count": null,
   "metadata": {
    "collapsed": true
   },
   "outputs": [],
   "source": [
    "def reduce_vector_and_get_distance(vector_positions_with_element,lattice_vector):\n",
    "    average_Al = np.zeros((1,3))\n",
    "    average_Ga = np.zeros((1,3))\n",
    "    average_In = np.zeros((1,3))\n",
    "    average_O  = np.zeros((1,3))\n",
    "    (count_Al,count_In,count_Ga,count_O) = (0,0,0,0)\n",
    "    Inverse_A = inv(lattice_vector.T)\n",
    "    for vector in vector_positions_with_element:\n",
    "        if(vector[1] == 'Al'):\n",
    "            vector_value = np.matmul(Inverse_A,vector[0].reshape(3,1))\n",
    "            vector_value = vector[0].reshape(1,3)\n",
    "            average_Al = np.add(average_Al,vector_value)\n",
    "            count_Al+=1\n",
    "        elif(vector[1] == 'Ga'):\n",
    "            vector_value = np.matmul(Inverse_A,vector[0].reshape(3,1))\n",
    "            vector_value = vector[0].reshape(1,3)\n",
    "            average_Ga = np.add(average_Al,vector_value)\n",
    "            count_Ga+=1\n",
    "        elif(vector[1] == 'In'):\n",
    "            vector_value = np.matmul(Inverse_A,vector[0].reshape(3,1))\n",
    "            vector_value = vector[0].reshape(1,3)\n",
    "            average_In = np.add(average_Al,vector_value)\n",
    "            count_In+=1\n",
    "        elif(vector[1] == 'O'):\n",
    "            vector_value = np.matmul(Inverse_A,vector[0].reshape(3,1))\n",
    "            vector_value = vector[0].reshape(1,3)\n",
    "            average_O = np.add(average_Al,vector_value)\n",
    "            count_O+=1\n",
    "    if(count_Al):\n",
    "        average_Al = average_Al/count_Al\n",
    "    if(count_Ga):\n",
    "        average_Ga = average_Ga/count_Ga\n",
    "    if(count_In):\n",
    "        average_In = average_In/count_In\n",
    "    if(count_O):\n",
    "        average_O  = average_O/count_O\n",
    "    \n",
    "    average_first_Al_Ga_In= np.add(np.add(average_Al,average_Ga),average_In)/3\n",
    "    Al_Ga = int(calculate_distace(average_Al,average_Ga))\n",
    "    Al_In = int(calculate_distace(average_Al,average_In))\n",
    "    Ga_In = int(calculate_distace(average_Ga,average_In))\n",
    "    \n",
    "    AlGaIn_O = int(calculate_distace(average_first_Al_Ga_In,average_O))\n",
    "    return [Al_Ga,Al_In,Ga_In,AlGaIn_O]\n",
    "            \n",
    "            "
   ]
  },
  {
   "cell_type": "code",
   "execution_count": null,
   "metadata": {},
   "outputs": [],
   "source": [
    "reduce_vector_and_get_distance(crystal_positions_dict[1],crystal_lattice_dict[1])"
   ]
  },
  {
   "cell_type": "code",
   "execution_count": null,
   "metadata": {
    "collapsed": true
   },
   "outputs": [],
   "source": [
    "transform_train = train_data\n",
    "a_dist = transform_train['id'].map(lambda row: reduce_vector_and_get_distance(crystal_positions_dict[row],crystal_lattice_dict[row]))"
   ]
  },
  {
   "cell_type": "code",
   "execution_count": null,
   "metadata": {
    "collapsed": true
   },
   "outputs": [],
   "source": [
    "transform_train['Al_Ga'] = transform_train['id'].map(lambda id_: a_dist[id_-1][0])\n",
    "transform_train['Al_In'] = transform_train['id'].map(lambda id_: a_dist[id_-1][1])\n",
    "transform_train['Ga_In'] = transform_train['id'].map(lambda id_: a_dist[id_-1][2])\n",
    "transform_train['AlGaIn_O'] = transform_train['id'].map(lambda id_: a_dist[id_-1][3])\n"
   ]
  },
  {
   "cell_type": "code",
   "execution_count": null,
   "metadata": {
    "collapsed": true
   },
   "outputs": [],
   "source": [
    "transform_test = test_data\n",
    "a_dist = transform_test['id'].map(lambda row: reduce_vector_and_get_distance(crystal_positions_dict_test[row],crystal_lattice_dict_test[row]))"
   ]
  },
  {
   "cell_type": "code",
   "execution_count": null,
   "metadata": {
    "collapsed": true
   },
   "outputs": [],
   "source": [
    "transform_test['Al_Ga'] = transform_test['id'].map(lambda id_: a_dist[id_-1][0])\n",
    "transform_test['Al_In'] = transform_test['id'].map(lambda id_: a_dist[id_-1][1])\n",
    "transform_test['Ga_In'] = transform_test['id'].map(lambda id_: a_dist[id_-1][2])\n",
    "transform_test['AlGaIn_O'] = transform_test['id'].map(lambda id_: a_dist[id_-1][3])\n"
   ]
  },
  {
   "cell_type": "code",
   "execution_count": null,
   "metadata": {
    "collapsed": true
   },
   "outputs": [],
   "source": [
    "transform_train['n_atom_al'] = transform_train.apply(lambda row: int(row['number_of_total_atoms']*row['percent_atom_al']),axis=1)\n",
    "transform_train['n_atom_ga'] = transform_train.apply(lambda row: int(row['number_of_total_atoms']*row['percent_atom_ga']),axis=1)\n",
    "transform_train['n_atom_in'] = transform_train.apply(lambda row: int(row['number_of_total_atoms']*row['percent_atom_in']),axis=1)\n",
    "#transform_train['n_atom_al'] = transform_train.apply(lambda row: int(row['number_of_total_atoms']*row['percent_atom_al']),axis=1)"
   ]
  },
  {
   "cell_type": "code",
   "execution_count": null,
   "metadata": {
    "collapsed": true
   },
   "outputs": [],
   "source": [
    "transform_train['lattice_vector_1_ang'] = transform_train.apply(lambda row: int(row['lattice_vector_1_ang']),axis=1)\n",
    "transform_train['lattice_vector_2_ang'] = transform_train.apply(lambda row: int(row['lattice_vector_2_ang']),axis=1)\n",
    "transform_train['lattice_vector_3_ang'] = transform_train.apply(lambda row: int(row['lattice_vector_3_ang']),axis=1)\n",
    "transform_train['lattice_angle_alpha_degree'] = transform_train.apply(lambda row: int(row['lattice_angle_alpha_degree']),axis=1)\n",
    "transform_train['lattice_angle_beta_degree'] = transform_train.apply(lambda row: int(row['lattice_angle_beta_degree']),axis=1)\n",
    "transform_train['lattice_angle_gamma_degree'] = transform_train.apply(lambda row: int(row['lattice_angle_gamma_degree']),axis=1)"
   ]
  },
  {
   "cell_type": "code",
   "execution_count": null,
   "metadata": {
    "collapsed": true
   },
   "outputs": [],
   "source": [
    "transform_test['lattice_vector_1_ang'] = transform_test.apply(lambda row: int(row['lattice_vector_1_ang']),axis=1)\n",
    "transform_test['lattice_vector_2_ang'] = transform_test.apply(lambda row: int(row['lattice_vector_2_ang']),axis=1)\n",
    "transform_test['lattice_vector_3_ang'] = transform_test.apply(lambda row: int(row['lattice_vector_3_ang']),axis=1)\n",
    "transform_test['lattice_angle_alpha_degree'] = transform_test.apply(lambda row: int(row['lattice_angle_alpha_degree']),axis=1)\n",
    "transform_test['lattice_angle_beta_degree'] = transform_test.apply(lambda row: int(row['lattice_angle_beta_degree']),axis=1)\n",
    "transform_test['lattice_angle_gamma_degree'] = transform_test.apply(lambda row: int(row['lattice_angle_gamma_degree']),axis=1)"
   ]
  },
  {
   "cell_type": "code",
   "execution_count": null,
   "metadata": {},
   "outputs": [],
   "source": [
    "lb = LabelEncoder()\n",
    "transform_train['spacegroup'] = "
   ]
  },
  {
   "cell_type": "code",
   "execution_count": null,
   "metadata": {
    "collapsed": true
   },
   "outputs": [],
   "source": [
    "transform_test['n_atom_al'] = transform_test.apply(lambda row: int(row['number_of_total_atoms']*row['percent_atom_al']),axis=1)\n",
    "transform_test['n_atom_ga'] = transform_test.apply(lambda row: int(row['number_of_total_atoms']*row['percent_atom_ga']),axis=1)\n",
    "transform_test['n_atom_in'] = transform_test.apply(lambda row: int(row['number_of_total_atoms']*row['percent_atom_in']),axis=1)\n"
   ]
  },
  {
   "cell_type": "code",
   "execution_count": null,
   "metadata": {},
   "outputs": [],
   "source": [
    "transform_test.head()"
   ]
  },
  {
   "cell_type": "code",
   "execution_count": null,
   "metadata": {
    "collapsed": true
   },
   "outputs": [],
   "source": [
    "transform_train.to_csv(\"transform_train.csv\",index=False)\n",
    "transform_test.to_csv(\"transform_test.csv\",index=False)"
   ]
  },
  {
   "cell_type": "code",
   "execution_count": null,
   "metadata": {
    "collapsed": true
   },
   "outputs": [],
   "source": [
    "transform_train['formation_energy_ev_natom'] = np.log1p(transform_train['formation_energy_ev_natom'].values)\n",
    "transform_train['bandgap_energy_ev'] = np.log1p(transform_train['bandgap_energy_ev'].values)"
   ]
  },
  {
   "cell_type": "code",
   "execution_count": null,
   "metadata": {
    "collapsed": true
   },
   "outputs": [],
   "source": [
    "dsf"
   ]
  },
  {
   "cell_type": "code",
   "execution_count": null,
   "metadata": {
    "collapsed": true
   },
   "outputs": [],
   "source": [
    "features = ['spacegroup','number_of_total_atoms','lattice_vector_1_ang','lattice_vector_2_ang','lattice_vector_3_ang','lattice_angle_alpha_degree','lattice_angle_beta_degree','lattice_angle_gamma_degree','Al_Ga','Al_In','AlGaIn_O','Ga_In','n_atom_al','n_atom_ga','n_atom_in']"
   ]
  },
  {
   "cell_type": "code",
   "execution_count": null,
   "metadata": {
    "collapsed": true
   },
   "outputs": [],
   "source": [
    "target = 'bandgap_energy_ev'\n",
    "features1 =['spacegroup','lattice_vector_3_ang','Al_Ga','Al_In','AlGaIn_O','Ga_In','n_atom_al','n_atom_ga','n_atom_in']"
   ]
  },
  {
   "cell_type": "code",
   "execution_count": null,
   "metadata": {
    "collapsed": true
   },
   "outputs": [],
   "source": [
    "def RidgeModel(kernel,alpha,train,features,target,test):\n",
    "    clf = KernelRidge(kernel=kernel,alpha=alpha)\n",
    "    train1 =  train[features]\n",
    "    train_X = train1.as_matrix()\n",
    "    clf.fit(train_X,train[target].values)\n",
    "    pred1 =  clf.predict(train_X)\n",
    "    rsme_valid1 = np.sqrt(mean_squared_error(train[target].values,pred1))\n",
    "    print(rsme_valid1)\n",
    "    y_prediction = clf.predict(test[features].as_matrix())\n",
    "    y_pred1 = np.exp(y_prediction)-1\n",
    "    return y_pred1\n",
    "    "
   ]
  },
  {
   "cell_type": "code",
   "execution_count": null,
   "metadata": {
    "collapsed": true
   },
   "outputs": [],
   "source": [
    "bandgap_pred = RidgeModel(kernel=\"polynomial\",alpha=1.0,train=transform_train,features=features,target=target,test=transform_test)"
   ]
  },
  {
   "cell_type": "code",
   "execution_count": null,
   "metadata": {
    "collapsed": true
   },
   "outputs": [],
   "source": [
    "def modelfit(alg, dtrain, predictors,target,useTrainCV=True, cv_folds=5, early_stopping_rounds=50):\n",
    "    \n",
    "    if useTrainCV:\n",
    "        xgb_param = alg.get_xgb_params()\n",
    "        xgtrain = xgb.DMatrix(dtrain[predictors].values,(dtrain[target].values))\n",
    "        cvresult = xgb.cv(xgb_param, xgtrain, num_boost_round=alg.get_params()['n_estimators'], nfold=cv_folds,\n",
    "            metrics='rmse', early_stopping_rounds=early_stopping_rounds,verbose_eval=False)\n",
    "        alg.set_params(n_estimators=cvresult.shape[0])\n",
    "    \n",
    "    #Fit the algorithm on the data\n",
    "    alg.fit(dtrain[predictors], dtrain[target],eval_metric='rmse')\n",
    "        \n",
    "    #Predict training set:\n",
    "    dtrain_predictions = alg.predict(dtrain[predictors])\n",
    "    #dtrain_predprob = alg.predict_proba(dtrain[predictors])[:,1]\n",
    "    \n",
    "    #Print model report:\n",
    "    print (\"\\nModel Report\")\n",
    "    print (\"Accuracy : %.4g\" % mean_squared_error(dtrain[target].values, dtrain_predictions))\n",
    "    #print (\"AUC Score (Train): %f\" % roc_auc_score(dtrain[target], dtrain_predprob))\n",
    "\n",
    "    #feat_imp = pd.Series(alg.booster().get_fscore()).sort_values(ascending=False)\n",
    "    #feat_imp.plot(kind='bar', title='Feature Importances')\n",
    "    #plt.ylabel('Feature Importance Score')\n",
    "    return alg"
   ]
  },
  {
   "cell_type": "code",
   "execution_count": null,
   "metadata": {
    "collapsed": true
   },
   "outputs": [],
   "source": [
    "xgb1 = XGBClassifier(learning_rate=0.1,n_estimators=100,max_depth=8,min_child_weight=5,gamma=0,subsample=0.8,colsample_bytree=0.8,objective='reg:linear',nthread=4,scale_pos_weight=1,seed=27) \n",
    "xgbFit = modelfit(xgb1,transform_train,features1,target,useTrainCV=False)"
   ]
  },
  {
   "cell_type": "code",
   "execution_count": null,
   "metadata": {
    "collapsed": true
   },
   "outputs": [],
   "source": [
    "target2 = 'formation_energy_ev_natom'\n",
    "xgb2 = XGBClassifier(learning_rate=0.1,n_estimators=100,max_depth=8,min_child_weight=1,gamma=0,subsample=1,colsample_bytree=1,objective='reg:linear',nthread=4,scale_pos_weight=1,seed=27) \n",
    "xgbFit2 = modelfit(xgb2,transform_train,features,target2,useTrainCV=True)"
   ]
  },
  {
   "cell_type": "code",
   "execution_count": null,
   "metadata": {
    "collapsed": true
   },
   "outputs": [],
   "source": [
    "xgbFit2.get_params"
   ]
  },
  {
   "cell_type": "code",
   "execution_count": null,
   "metadata": {
    "collapsed": true
   },
   "outputs": [],
   "source": [
    "xgbFit.get_params"
   ]
  },
  {
   "cell_type": "code",
   "execution_count": null,
   "metadata": {
    "collapsed": true
   },
   "outputs": [],
   "source": []
  },
  {
   "cell_type": "code",
   "execution_count": null,
   "metadata": {
    "collapsed": true
   },
   "outputs": [],
   "source": [
    "#min child weight -> min sum of instances weight (In LR -> number of instances)\n",
    "param_test1 = {\n",
    "    'max_depth': [8,10,12],\n",
    "    'min_child_weight': [2,3,4]\n",
    "}\n",
    "gsearch1 = GridSearchCV(estimator=XGBClassifier(learning_rate=0.1,n_estimators=56,max_depth=5,min_child_weight=1,gamma=0,subsample=0.8,colsample_bytree=0.8,objective='reg:linear',nthread=4,scale_pos_weight=1,seed=27),param_grid=param_test1,scoring='neg_mean_squared_log_error',n_jobs=4,iid=False,cv=5)\n",
    "gsearch1.fit(transform_train[features],transform_train[target])\n",
    "gsearch1.grid_scores_, gsearch1.best_params_, gsearch1.best_score_"
   ]
  },
  {
   "cell_type": "code",
   "execution_count": null,
   "metadata": {
    "collapsed": true
   },
   "outputs": [],
   "source": [
    "test1 = crystal_positions_dict[1][1][0].reshape(1,3)\n",
    "np.add(test1,average1)"
   ]
  },
  {
   "cell_type": "code",
   "execution_count": null,
   "metadata": {
    "collapsed": true
   },
   "outputs": [],
   "source": [
    "GridSearchCV?"
   ]
  },
  {
   "cell_type": "code",
   "execution_count": null,
   "metadata": {
    "collapsed": true
   },
   "outputs": [],
   "source": [
    "sample_sub = pd.read_csv(\"sample_submission.csv\")"
   ]
  },
  {
   "cell_type": "code",
   "execution_count": null,
   "metadata": {
    "collapsed": true
   },
   "outputs": [],
   "source": [
    "sample_sub.head()"
   ]
  },
  {
   "cell_type": "code",
   "execution_count": null,
   "metadata": {
    "collapsed": true
   },
   "outputs": [],
   "source": [
    "formation_energy_ev_natom =  xgbFit2.predict(transform_test[features])"
   ]
  },
  {
   "cell_type": "code",
   "execution_count": null,
   "metadata": {
    "collapsed": true
   },
   "outputs": [],
   "source": [
    "hamse_na_ho_payega1 = transform_test[['id']]"
   ]
  },
  {
   "cell_type": "code",
   "execution_count": null,
   "metadata": {
    "collapsed": true
   },
   "outputs": [],
   "source": [
    "hamse_na_ho_payega1['formation_energy_ev_natom']  = formation_energy_ev_natom"
   ]
  },
  {
   "cell_type": "code",
   "execution_count": null,
   "metadata": {
    "collapsed": true
   },
   "outputs": [],
   "source": [
    "bandgap_energy_ev = xgbFit.predict(transform_test[features])"
   ]
  },
  {
   "cell_type": "code",
   "execution_count": null,
   "metadata": {
    "collapsed": true
   },
   "outputs": [],
   "source": [
    "formation_energy_ev_natom.shape"
   ]
  },
  {
   "cell_type": "code",
   "execution_count": null,
   "metadata": {
    "collapsed": true
   },
   "outputs": [],
   "source": [
    "bandgap_pred.reshape(600,1)"
   ]
  },
  {
   "cell_type": "code",
   "execution_count": null,
   "metadata": {
    "collapsed": true
   },
   "outputs": [],
   "source": [
    "hamse_na_ho_payega1['bandgap_energy_ev'] =  bandgap_pred"
   ]
  },
  {
   "cell_type": "code",
   "execution_count": null,
   "metadata": {
    "collapsed": true
   },
   "outputs": [],
   "source": [
    "hamse_na_ho_payega1.head()"
   ]
  },
  {
   "cell_type": "code",
   "execution_count": null,
   "metadata": {
    "collapsed": true
   },
   "outputs": [],
   "source": [
    "hamse_na_ho_payega1.to_csv(\"hamse_na_ho_payega.csv\",index=False)"
   ]
  },
  {
   "cell_type": "code",
   "execution_count": null,
   "metadata": {
    "collapsed": true
   },
   "outputs": [],
   "source": [
    "hamse_na_ho_payega1[hamse_na_ho_payega1['bandgap_energy_ev'] < 0]"
   ]
  },
  {
   "cell_type": "code",
   "execution_count": null,
   "metadata": {
    "collapsed": true
   },
   "outputs": [],
   "source": [
    "hamse_na_ho_payega1['bandgap_energy_ev'] = hamse_na_ho_payega1.apply(lambda row: (row['bandgap_energy_ev'] = 0) if(row['bandgap_energy_ev'] <0) ,axis=1 )"
   ]
  },
  {
   "cell_type": "code",
   "execution_count": null,
   "metadata": {
    "collapsed": true
   },
   "outputs": [],
   "source": []
  }
 ],
 "metadata": {
  "kernelspec": {
   "display_name": "Python 3",
   "language": "python",
   "name": "python3"
  },
  "language_info": {
   "codemirror_mode": {
    "name": "ipython",
    "version": 3
   },
   "file_extension": ".py",
   "mimetype": "text/x-python",
   "name": "python",
   "nbconvert_exporter": "python",
   "pygments_lexer": "ipython3",
   "version": "3.6.3"
  }
 },
 "nbformat": 4,
 "nbformat_minor": 2
}
