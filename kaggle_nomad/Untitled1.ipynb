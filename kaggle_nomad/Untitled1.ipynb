{
 "cells": [
  {
   "cell_type": "code",
   "execution_count": 1,
   "metadata": {},
   "outputs": [
    {
     "name": "stderr",
     "output_type": "stream",
     "text": [
      "C:\\Users\\imamk\\Anaconda3\\lib\\site-packages\\sklearn\\cross_validation.py:41: DeprecationWarning: This module was deprecated in version 0.18 in favor of the model_selection module into which all the refactored classes and functions are moved. Also note that the interface of the new CV iterators are different from that of this module. This module will be removed in 0.20.\n",
      "  \"This module will be removed in 0.20.\", DeprecationWarning)\n",
      "C:\\Users\\imamk\\Anaconda3\\lib\\site-packages\\sklearn\\grid_search.py:42: DeprecationWarning: This module was deprecated in version 0.18 in favor of the model_selection module into which all the refactored classes and functions are moved. This module will be removed in 0.20.\n",
      "  DeprecationWarning)\n"
     ]
    }
   ],
   "source": [
    "\n",
    "#pandas\n",
    "import pandas as pd\n",
    "from pandas import Series,DataFrame\n",
    "\n",
    "#numpy\n",
    "import numpy as np\n",
    "import matplotlib.pyplot as plt\n",
    "import seaborn as sns\n",
    "sns.set_style('whitegrid')\n",
    "%matplotlib inline\n",
    "\n",
    "from datetime import datetime\n",
    "import math\n",
    "from sklearn.preprocessing import LabelEncoder\n",
    "#machine learning\n",
    "from sklearn.linear_model import LinearRegression\n",
    "from sklearn.linear_model import LogisticRegression\n",
    "from sklearn.linear_model import Ridge\n",
    "from sklearn.linear_model import Lasso\n",
    "from sklearn.svm import SVC,LinearSVC\n",
    "from sklearn.ensemble import RandomForestClassifier\n",
    "from sklearn.neighbors import KNeighborsClassifier\n",
    "from sklearn.naive_bayes import GaussianNB\n",
    "from sklearn.decomposition import PCA\n",
    "from sklearn.grid_search import GridSearchCV\n",
    "from sklearn.cross_validation import train_test_split\n",
    "from sklearn.ensemble import GradientBoostingRegressor\n",
    "from sklearn.ensemble import GradientBoostingClassifier\n",
    "from sklearn.metrics import confusion_matrix\n",
    "from sklearn.metrics import precision_recall_curve,accuracy_score,mean_squared_log_error\n",
    "from sklearn.metrics import roc_curve, auc,roc_auc_score,mean_squared_error\n",
    "import xgboost as xgb\n",
    "from numpy.linalg import inv\n",
    "from xgboost.sklearn import XGBClassifier,XGBRegressor\n",
    "from sklearn.kernel_ridge import KernelRidge\n",
    "import matplotlib.dates\n",
    "import operator"
   ]
  },
  {
   "cell_type": "code",
   "execution_count": 2,
   "metadata": {
    "collapsed": true
   },
   "outputs": [],
   "source": [
    "train = pd.read_csv(\"transform_train.csv\")\n",
    "test = pd.read_csv(\"transform_test.csv\")"
   ]
  },
  {
   "cell_type": "code",
   "execution_count": null,
   "metadata": {
    "collapsed": true
   },
   "outputs": [],
   "source": []
  },
  {
   "cell_type": "code",
   "execution_count": 3,
   "metadata": {
    "collapsed": true
   },
   "outputs": [],
   "source": [
    "train_cluster = pd.read_csv(\"train_composition_final_cluster.csv\")\n",
    "test_cluter = pd.read_csv(\"test_composition_final_cluster.csv\")"
   ]
  },
  {
   "cell_type": "code",
   "execution_count": 4,
   "metadata": {},
   "outputs": [
    {
     "data": {
      "text/html": [
       "<div>\n",
       "<style>\n",
       "    .dataframe thead tr:only-child th {\n",
       "        text-align: right;\n",
       "    }\n",
       "\n",
       "    .dataframe thead th {\n",
       "        text-align: left;\n",
       "    }\n",
       "\n",
       "    .dataframe tbody tr th {\n",
       "        vertical-align: top;\n",
       "    }\n",
       "</style>\n",
       "<table border=\"1\" class=\"dataframe\">\n",
       "  <thead>\n",
       "    <tr style=\"text-align: right;\">\n",
       "      <th></th>\n",
       "      <th>id</th>\n",
       "      <th>spacegroup</th>\n",
       "      <th>number_of_total_atoms</th>\n",
       "      <th>percent_atom_al</th>\n",
       "      <th>percent_atom_ga</th>\n",
       "      <th>percent_atom_in</th>\n",
       "      <th>lattice_vector_1_ang</th>\n",
       "      <th>lattice_vector_2_ang</th>\n",
       "      <th>lattice_vector_3_ang</th>\n",
       "      <th>lattice_angle_alpha_degree</th>\n",
       "      <th>...</th>\n",
       "      <th>lattice_angle_gamma_degree</th>\n",
       "      <th>formation_energy_ev_natom</th>\n",
       "      <th>bandgap_energy_ev</th>\n",
       "      <th>Al_Ga</th>\n",
       "      <th>Al_In</th>\n",
       "      <th>Ga_In</th>\n",
       "      <th>AlGaIn_O</th>\n",
       "      <th>n_atom_al</th>\n",
       "      <th>n_atom_ga</th>\n",
       "      <th>n_atom_in</th>\n",
       "    </tr>\n",
       "  </thead>\n",
       "  <tbody>\n",
       "    <tr>\n",
       "      <th>2395</th>\n",
       "      <td>2396</td>\n",
       "      <td>33</td>\n",
       "      <td>40.0</td>\n",
       "      <td>0.7500</td>\n",
       "      <td>0.2500</td>\n",
       "      <td>0.0000</td>\n",
       "      <td>4</td>\n",
       "      <td>8</td>\n",
       "      <td>9</td>\n",
       "      <td>90</td>\n",
       "      <td>...</td>\n",
       "      <td>90</td>\n",
       "      <td>0.0381</td>\n",
       "      <td>3.7349</td>\n",
       "      <td>8</td>\n",
       "      <td>7</td>\n",
       "      <td>15</td>\n",
       "      <td>3</td>\n",
       "      <td>30</td>\n",
       "      <td>10</td>\n",
       "      <td>0</td>\n",
       "    </tr>\n",
       "    <tr>\n",
       "      <th>2396</th>\n",
       "      <td>2397</td>\n",
       "      <td>167</td>\n",
       "      <td>30.0</td>\n",
       "      <td>0.4167</td>\n",
       "      <td>0.5833</td>\n",
       "      <td>0.0000</td>\n",
       "      <td>4</td>\n",
       "      <td>4</td>\n",
       "      <td>13</td>\n",
       "      <td>89</td>\n",
       "      <td>...</td>\n",
       "      <td>120</td>\n",
       "      <td>0.0670</td>\n",
       "      <td>3.4915</td>\n",
       "      <td>2</td>\n",
       "      <td>9</td>\n",
       "      <td>6</td>\n",
       "      <td>2</td>\n",
       "      <td>12</td>\n",
       "      <td>17</td>\n",
       "      <td>0</td>\n",
       "    </tr>\n",
       "    <tr>\n",
       "      <th>2397</th>\n",
       "      <td>2398</td>\n",
       "      <td>206</td>\n",
       "      <td>80.0</td>\n",
       "      <td>0.4375</td>\n",
       "      <td>0.5625</td>\n",
       "      <td>0.0000</td>\n",
       "      <td>9</td>\n",
       "      <td>9</td>\n",
       "      <td>9</td>\n",
       "      <td>90</td>\n",
       "      <td>...</td>\n",
       "      <td>89</td>\n",
       "      <td>0.0906</td>\n",
       "      <td>3.2750</td>\n",
       "      <td>1</td>\n",
       "      <td>7</td>\n",
       "      <td>6</td>\n",
       "      <td>2</td>\n",
       "      <td>35</td>\n",
       "      <td>45</td>\n",
       "      <td>0</td>\n",
       "    </tr>\n",
       "    <tr>\n",
       "      <th>2398</th>\n",
       "      <td>2399</td>\n",
       "      <td>33</td>\n",
       "      <td>80.0</td>\n",
       "      <td>0.3125</td>\n",
       "      <td>0.1875</td>\n",
       "      <td>0.5000</td>\n",
       "      <td>10</td>\n",
       "      <td>9</td>\n",
       "      <td>9</td>\n",
       "      <td>90</td>\n",
       "      <td>...</td>\n",
       "      <td>90</td>\n",
       "      <td>0.2566</td>\n",
       "      <td>1.3915</td>\n",
       "      <td>5</td>\n",
       "      <td>4</td>\n",
       "      <td>10</td>\n",
       "      <td>7</td>\n",
       "      <td>25</td>\n",
       "      <td>15</td>\n",
       "      <td>40</td>\n",
       "    </tr>\n",
       "    <tr>\n",
       "      <th>2399</th>\n",
       "      <td>2400</td>\n",
       "      <td>206</td>\n",
       "      <td>80.0</td>\n",
       "      <td>0.8750</td>\n",
       "      <td>0.0938</td>\n",
       "      <td>0.0312</td>\n",
       "      <td>9</td>\n",
       "      <td>9</td>\n",
       "      <td>9</td>\n",
       "      <td>90</td>\n",
       "      <td>...</td>\n",
       "      <td>89</td>\n",
       "      <td>0.1135</td>\n",
       "      <td>4.2107</td>\n",
       "      <td>43</td>\n",
       "      <td>64</td>\n",
       "      <td>22</td>\n",
       "      <td>38</td>\n",
       "      <td>70</td>\n",
       "      <td>7</td>\n",
       "      <td>2</td>\n",
       "    </tr>\n",
       "  </tbody>\n",
       "</table>\n",
       "<p>5 rows × 21 columns</p>\n",
       "</div>"
      ],
      "text/plain": [
       "        id  spacegroup  number_of_total_atoms  percent_atom_al  \\\n",
       "2395  2396          33                   40.0           0.7500   \n",
       "2396  2397         167                   30.0           0.4167   \n",
       "2397  2398         206                   80.0           0.4375   \n",
       "2398  2399          33                   80.0           0.3125   \n",
       "2399  2400         206                   80.0           0.8750   \n",
       "\n",
       "      percent_atom_ga  percent_atom_in  lattice_vector_1_ang  \\\n",
       "2395           0.2500           0.0000                     4   \n",
       "2396           0.5833           0.0000                     4   \n",
       "2397           0.5625           0.0000                     9   \n",
       "2398           0.1875           0.5000                    10   \n",
       "2399           0.0938           0.0312                     9   \n",
       "\n",
       "      lattice_vector_2_ang  lattice_vector_3_ang  lattice_angle_alpha_degree  \\\n",
       "2395                     8                     9                          90   \n",
       "2396                     4                    13                          89   \n",
       "2397                     9                     9                          90   \n",
       "2398                     9                     9                          90   \n",
       "2399                     9                     9                          90   \n",
       "\n",
       "        ...      lattice_angle_gamma_degree  formation_energy_ev_natom  \\\n",
       "2395    ...                              90                     0.0381   \n",
       "2396    ...                             120                     0.0670   \n",
       "2397    ...                              89                     0.0906   \n",
       "2398    ...                              90                     0.2566   \n",
       "2399    ...                              89                     0.1135   \n",
       "\n",
       "      bandgap_energy_ev  Al_Ga  Al_In  Ga_In  AlGaIn_O  n_atom_al  n_atom_ga  \\\n",
       "2395             3.7349      8      7     15         3         30         10   \n",
       "2396             3.4915      2      9      6         2         12         17   \n",
       "2397             3.2750      1      7      6         2         35         45   \n",
       "2398             1.3915      5      4     10         7         25         15   \n",
       "2399             4.2107     43     64     22        38         70          7   \n",
       "\n",
       "      n_atom_in  \n",
       "2395          0  \n",
       "2396          0  \n",
       "2397          0  \n",
       "2398         40  \n",
       "2399          2  \n",
       "\n",
       "[5 rows x 21 columns]"
      ]
     },
     "execution_count": 4,
     "metadata": {},
     "output_type": "execute_result"
    }
   ],
   "source": [
    "train.tail()"
   ]
  },
  {
   "cell_type": "code",
   "execution_count": 5,
   "metadata": {},
   "outputs": [
    {
     "data": {
      "text/html": [
       "<div>\n",
       "<style>\n",
       "    .dataframe thead tr:only-child th {\n",
       "        text-align: right;\n",
       "    }\n",
       "\n",
       "    .dataframe thead th {\n",
       "        text-align: left;\n",
       "    }\n",
       "\n",
       "    .dataframe tbody tr th {\n",
       "        vertical-align: top;\n",
       "    }\n",
       "</style>\n",
       "<table border=\"1\" class=\"dataframe\">\n",
       "  <thead>\n",
       "    <tr style=\"text-align: right;\">\n",
       "      <th></th>\n",
       "      <th>composition</th>\n",
       "      <th>final_cluster</th>\n",
       "    </tr>\n",
       "  </thead>\n",
       "  <tbody>\n",
       "    <tr>\n",
       "      <th>2395</th>\n",
       "      <td>2396</td>\n",
       "      <td>9</td>\n",
       "    </tr>\n",
       "    <tr>\n",
       "      <th>2396</th>\n",
       "      <td>2397</td>\n",
       "      <td>9</td>\n",
       "    </tr>\n",
       "    <tr>\n",
       "      <th>2397</th>\n",
       "      <td>2398</td>\n",
       "      <td>9</td>\n",
       "    </tr>\n",
       "    <tr>\n",
       "      <th>2398</th>\n",
       "      <td>2399</td>\n",
       "      <td>9</td>\n",
       "    </tr>\n",
       "    <tr>\n",
       "      <th>2399</th>\n",
       "      <td>2400</td>\n",
       "      <td>9</td>\n",
       "    </tr>\n",
       "  </tbody>\n",
       "</table>\n",
       "</div>"
      ],
      "text/plain": [
       "      composition  final_cluster\n",
       "2395         2396              9\n",
       "2396         2397              9\n",
       "2397         2398              9\n",
       "2398         2399              9\n",
       "2399         2400              9"
      ]
     },
     "execution_count": 5,
     "metadata": {},
     "output_type": "execute_result"
    }
   ],
   "source": [
    "train_cluster.tail()"
   ]
  },
  {
   "cell_type": "code",
   "execution_count": 6,
   "metadata": {
    "collapsed": true
   },
   "outputs": [],
   "source": [
    "def label_spacegroup(df):\n",
    "    sr = pd.Series(df['spacegroup'])\n",
    "    t= pd.get_dummies(sr)\n",
    "    df['t12'] = t[12]\n",
    "    df['t33'] = t[33]\n",
    "    df['t167'] = t[167]\n",
    "    df['t194'] = t[194]\n",
    "    df['t206'] = t[206]\n",
    "    df['t227'] = t[227]\n",
    "    return df\n"
   ]
  },
  {
   "cell_type": "code",
   "execution_count": 7,
   "metadata": {
    "collapsed": true
   },
   "outputs": [],
   "source": [
    "def label_final_cluster(df):\n",
    "    sr = pd.Series(df['final_cluster'])\n",
    "    t= pd.get_dummies(sr)\n",
    "    df['c0'] = t[0]\n",
    "    df['c1'] = t[1]\n",
    "    df['c2'] = t[2]\n",
    "    df['c3'] = t[3]\n",
    "    df['c4'] = t[4]\n",
    "    df['c5'] = t[5]\n",
    "    df['c6'] = t[6]\n",
    "    df['c7'] = t[7]\n",
    "    df['c8'] = t[8]\n",
    "    df['c9'] = t[9]\n",
    "    return df\n"
   ]
  },
  {
   "cell_type": "code",
   "execution_count": 8,
   "metadata": {
    "collapsed": true
   },
   "outputs": [],
   "source": [
    "#sr = pd.Series(train['final_cluster'])\n",
    "#t= pd.get_dummies(sr)\n",
    "#t"
   ]
  },
  {
   "cell_type": "code",
   "execution_count": 9,
   "metadata": {
    "collapsed": true
   },
   "outputs": [],
   "source": [
    "train = label_spacegroup(train)\n",
    "test = label_spacegroup(test)"
   ]
  },
  {
   "cell_type": "code",
   "execution_count": 10,
   "metadata": {},
   "outputs": [
    {
     "data": {
      "text/html": [
       "<div>\n",
       "<style>\n",
       "    .dataframe thead tr:only-child th {\n",
       "        text-align: right;\n",
       "    }\n",
       "\n",
       "    .dataframe thead th {\n",
       "        text-align: left;\n",
       "    }\n",
       "\n",
       "    .dataframe tbody tr th {\n",
       "        vertical-align: top;\n",
       "    }\n",
       "</style>\n",
       "<table border=\"1\" class=\"dataframe\">\n",
       "  <thead>\n",
       "    <tr style=\"text-align: right;\">\n",
       "      <th></th>\n",
       "      <th>id</th>\n",
       "      <th>spacegroup</th>\n",
       "      <th>number_of_total_atoms</th>\n",
       "      <th>percent_atom_al</th>\n",
       "      <th>percent_atom_ga</th>\n",
       "      <th>percent_atom_in</th>\n",
       "      <th>lattice_vector_1_ang</th>\n",
       "      <th>lattice_vector_2_ang</th>\n",
       "      <th>lattice_vector_3_ang</th>\n",
       "      <th>lattice_angle_alpha_degree</th>\n",
       "      <th>...</th>\n",
       "      <th>AlGaIn_O</th>\n",
       "      <th>n_atom_al</th>\n",
       "      <th>n_atom_ga</th>\n",
       "      <th>n_atom_in</th>\n",
       "      <th>t12</th>\n",
       "      <th>t33</th>\n",
       "      <th>t167</th>\n",
       "      <th>t194</th>\n",
       "      <th>t206</th>\n",
       "      <th>t227</th>\n",
       "    </tr>\n",
       "  </thead>\n",
       "  <tbody>\n",
       "    <tr>\n",
       "      <th>0</th>\n",
       "      <td>1</td>\n",
       "      <td>33</td>\n",
       "      <td>80.0</td>\n",
       "      <td>0.6250</td>\n",
       "      <td>0.3750</td>\n",
       "      <td>0.000</td>\n",
       "      <td>9</td>\n",
       "      <td>8</td>\n",
       "      <td>9</td>\n",
       "      <td>90</td>\n",
       "      <td>...</td>\n",
       "      <td>3</td>\n",
       "      <td>50</td>\n",
       "      <td>30</td>\n",
       "      <td>0</td>\n",
       "      <td>0</td>\n",
       "      <td>1</td>\n",
       "      <td>0</td>\n",
       "      <td>0</td>\n",
       "      <td>0</td>\n",
       "      <td>0</td>\n",
       "    </tr>\n",
       "    <tr>\n",
       "      <th>1</th>\n",
       "      <td>2</td>\n",
       "      <td>194</td>\n",
       "      <td>80.0</td>\n",
       "      <td>0.6250</td>\n",
       "      <td>0.3750</td>\n",
       "      <td>0.000</td>\n",
       "      <td>6</td>\n",
       "      <td>6</td>\n",
       "      <td>23</td>\n",
       "      <td>90</td>\n",
       "      <td>...</td>\n",
       "      <td>4</td>\n",
       "      <td>50</td>\n",
       "      <td>30</td>\n",
       "      <td>0</td>\n",
       "      <td>0</td>\n",
       "      <td>0</td>\n",
       "      <td>0</td>\n",
       "      <td>1</td>\n",
       "      <td>0</td>\n",
       "      <td>0</td>\n",
       "    </tr>\n",
       "    <tr>\n",
       "      <th>2</th>\n",
       "      <td>3</td>\n",
       "      <td>227</td>\n",
       "      <td>40.0</td>\n",
       "      <td>0.8125</td>\n",
       "      <td>0.1875</td>\n",
       "      <td>0.000</td>\n",
       "      <td>9</td>\n",
       "      <td>5</td>\n",
       "      <td>13</td>\n",
       "      <td>90</td>\n",
       "      <td>...</td>\n",
       "      <td>1</td>\n",
       "      <td>32</td>\n",
       "      <td>7</td>\n",
       "      <td>0</td>\n",
       "      <td>0</td>\n",
       "      <td>0</td>\n",
       "      <td>0</td>\n",
       "      <td>0</td>\n",
       "      <td>0</td>\n",
       "      <td>1</td>\n",
       "    </tr>\n",
       "    <tr>\n",
       "      <th>3</th>\n",
       "      <td>4</td>\n",
       "      <td>167</td>\n",
       "      <td>30.0</td>\n",
       "      <td>0.7500</td>\n",
       "      <td>0.0000</td>\n",
       "      <td>0.250</td>\n",
       "      <td>5</td>\n",
       "      <td>5</td>\n",
       "      <td>13</td>\n",
       "      <td>89</td>\n",
       "      <td>...</td>\n",
       "      <td>2</td>\n",
       "      <td>22</td>\n",
       "      <td>0</td>\n",
       "      <td>7</td>\n",
       "      <td>0</td>\n",
       "      <td>0</td>\n",
       "      <td>1</td>\n",
       "      <td>0</td>\n",
       "      <td>0</td>\n",
       "      <td>0</td>\n",
       "    </tr>\n",
       "    <tr>\n",
       "      <th>4</th>\n",
       "      <td>5</td>\n",
       "      <td>194</td>\n",
       "      <td>80.0</td>\n",
       "      <td>0.0000</td>\n",
       "      <td>0.6250</td>\n",
       "      <td>0.375</td>\n",
       "      <td>6</td>\n",
       "      <td>6</td>\n",
       "      <td>24</td>\n",
       "      <td>89</td>\n",
       "      <td>...</td>\n",
       "      <td>0</td>\n",
       "      <td>0</td>\n",
       "      <td>50</td>\n",
       "      <td>30</td>\n",
       "      <td>0</td>\n",
       "      <td>0</td>\n",
       "      <td>0</td>\n",
       "      <td>1</td>\n",
       "      <td>0</td>\n",
       "      <td>0</td>\n",
       "    </tr>\n",
       "  </tbody>\n",
       "</table>\n",
       "<p>5 rows × 27 columns</p>\n",
       "</div>"
      ],
      "text/plain": [
       "   id  spacegroup  number_of_total_atoms  percent_atom_al  percent_atom_ga  \\\n",
       "0   1          33                   80.0           0.6250           0.3750   \n",
       "1   2         194                   80.0           0.6250           0.3750   \n",
       "2   3         227                   40.0           0.8125           0.1875   \n",
       "3   4         167                   30.0           0.7500           0.0000   \n",
       "4   5         194                   80.0           0.0000           0.6250   \n",
       "\n",
       "   percent_atom_in  lattice_vector_1_ang  lattice_vector_2_ang  \\\n",
       "0            0.000                     9                     8   \n",
       "1            0.000                     6                     6   \n",
       "2            0.000                     9                     5   \n",
       "3            0.250                     5                     5   \n",
       "4            0.375                     6                     6   \n",
       "\n",
       "   lattice_vector_3_ang  lattice_angle_alpha_degree  ...   AlGaIn_O  \\\n",
       "0                     9                          90  ...          3   \n",
       "1                    23                          90  ...          4   \n",
       "2                    13                          90  ...          1   \n",
       "3                    13                          89  ...          2   \n",
       "4                    24                          89  ...          0   \n",
       "\n",
       "   n_atom_al  n_atom_ga  n_atom_in  t12  t33  t167  t194  t206  t227  \n",
       "0         50         30          0    0    1     0     0     0     0  \n",
       "1         50         30          0    0    0     0     1     0     0  \n",
       "2         32          7          0    0    0     0     0     0     1  \n",
       "3         22          0          7    0    0     1     0     0     0  \n",
       "4          0         50         30    0    0     0     1     0     0  \n",
       "\n",
       "[5 rows x 27 columns]"
      ]
     },
     "execution_count": 10,
     "metadata": {},
     "output_type": "execute_result"
    }
   ],
   "source": [
    "train.head()"
   ]
  },
  {
   "cell_type": "code",
   "execution_count": null,
   "metadata": {
    "collapsed": true
   },
   "outputs": [],
   "source": []
  },
  {
   "cell_type": "code",
   "execution_count": 11,
   "metadata": {
    "collapsed": true
   },
   "outputs": [],
   "source": [
    "train = pd.merge(train,train_cluster,how='left',left_on='id',right_on='composition')"
   ]
  },
  {
   "cell_type": "code",
   "execution_count": 12,
   "metadata": {
    "collapsed": true
   },
   "outputs": [],
   "source": [
    "test = pd.merge(test,test_cluter,how='left',left_on='id',right_on='composition')"
   ]
  },
  {
   "cell_type": "code",
   "execution_count": 13,
   "metadata": {},
   "outputs": [
    {
     "data": {
      "text/html": [
       "<div>\n",
       "<style>\n",
       "    .dataframe thead tr:only-child th {\n",
       "        text-align: right;\n",
       "    }\n",
       "\n",
       "    .dataframe thead th {\n",
       "        text-align: left;\n",
       "    }\n",
       "\n",
       "    .dataframe tbody tr th {\n",
       "        vertical-align: top;\n",
       "    }\n",
       "</style>\n",
       "<table border=\"1\" class=\"dataframe\">\n",
       "  <thead>\n",
       "    <tr style=\"text-align: right;\">\n",
       "      <th></th>\n",
       "      <th>id</th>\n",
       "      <th>spacegroup</th>\n",
       "      <th>number_of_total_atoms</th>\n",
       "      <th>percent_atom_al</th>\n",
       "      <th>percent_atom_ga</th>\n",
       "      <th>percent_atom_in</th>\n",
       "      <th>lattice_vector_1_ang</th>\n",
       "      <th>lattice_vector_2_ang</th>\n",
       "      <th>lattice_vector_3_ang</th>\n",
       "      <th>lattice_angle_alpha_degree</th>\n",
       "      <th>...</th>\n",
       "      <th>n_atom_ga</th>\n",
       "      <th>n_atom_in</th>\n",
       "      <th>t12</th>\n",
       "      <th>t33</th>\n",
       "      <th>t167</th>\n",
       "      <th>t194</th>\n",
       "      <th>t206</th>\n",
       "      <th>t227</th>\n",
       "      <th>composition</th>\n",
       "      <th>final_cluster</th>\n",
       "    </tr>\n",
       "  </thead>\n",
       "  <tbody>\n",
       "    <tr>\n",
       "      <th>0</th>\n",
       "      <td>1</td>\n",
       "      <td>33</td>\n",
       "      <td>80.0</td>\n",
       "      <td>0.6250</td>\n",
       "      <td>0.3750</td>\n",
       "      <td>0.000</td>\n",
       "      <td>9</td>\n",
       "      <td>8</td>\n",
       "      <td>9</td>\n",
       "      <td>90</td>\n",
       "      <td>...</td>\n",
       "      <td>30</td>\n",
       "      <td>0</td>\n",
       "      <td>0</td>\n",
       "      <td>1</td>\n",
       "      <td>0</td>\n",
       "      <td>0</td>\n",
       "      <td>0</td>\n",
       "      <td>0</td>\n",
       "      <td>1</td>\n",
       "      <td>8</td>\n",
       "    </tr>\n",
       "    <tr>\n",
       "      <th>1</th>\n",
       "      <td>2</td>\n",
       "      <td>194</td>\n",
       "      <td>80.0</td>\n",
       "      <td>0.6250</td>\n",
       "      <td>0.3750</td>\n",
       "      <td>0.000</td>\n",
       "      <td>6</td>\n",
       "      <td>6</td>\n",
       "      <td>23</td>\n",
       "      <td>90</td>\n",
       "      <td>...</td>\n",
       "      <td>30</td>\n",
       "      <td>0</td>\n",
       "      <td>0</td>\n",
       "      <td>0</td>\n",
       "      <td>0</td>\n",
       "      <td>1</td>\n",
       "      <td>0</td>\n",
       "      <td>0</td>\n",
       "      <td>2</td>\n",
       "      <td>8</td>\n",
       "    </tr>\n",
       "    <tr>\n",
       "      <th>2</th>\n",
       "      <td>3</td>\n",
       "      <td>227</td>\n",
       "      <td>40.0</td>\n",
       "      <td>0.8125</td>\n",
       "      <td>0.1875</td>\n",
       "      <td>0.000</td>\n",
       "      <td>9</td>\n",
       "      <td>5</td>\n",
       "      <td>13</td>\n",
       "      <td>90</td>\n",
       "      <td>...</td>\n",
       "      <td>7</td>\n",
       "      <td>0</td>\n",
       "      <td>0</td>\n",
       "      <td>0</td>\n",
       "      <td>0</td>\n",
       "      <td>0</td>\n",
       "      <td>0</td>\n",
       "      <td>1</td>\n",
       "      <td>3</td>\n",
       "      <td>8</td>\n",
       "    </tr>\n",
       "    <tr>\n",
       "      <th>3</th>\n",
       "      <td>4</td>\n",
       "      <td>167</td>\n",
       "      <td>30.0</td>\n",
       "      <td>0.7500</td>\n",
       "      <td>0.0000</td>\n",
       "      <td>0.250</td>\n",
       "      <td>5</td>\n",
       "      <td>5</td>\n",
       "      <td>13</td>\n",
       "      <td>89</td>\n",
       "      <td>...</td>\n",
       "      <td>0</td>\n",
       "      <td>7</td>\n",
       "      <td>0</td>\n",
       "      <td>0</td>\n",
       "      <td>1</td>\n",
       "      <td>0</td>\n",
       "      <td>0</td>\n",
       "      <td>0</td>\n",
       "      <td>4</td>\n",
       "      <td>8</td>\n",
       "    </tr>\n",
       "    <tr>\n",
       "      <th>4</th>\n",
       "      <td>5</td>\n",
       "      <td>194</td>\n",
       "      <td>80.0</td>\n",
       "      <td>0.0000</td>\n",
       "      <td>0.6250</td>\n",
       "      <td>0.375</td>\n",
       "      <td>6</td>\n",
       "      <td>6</td>\n",
       "      <td>24</td>\n",
       "      <td>89</td>\n",
       "      <td>...</td>\n",
       "      <td>50</td>\n",
       "      <td>30</td>\n",
       "      <td>0</td>\n",
       "      <td>0</td>\n",
       "      <td>0</td>\n",
       "      <td>1</td>\n",
       "      <td>0</td>\n",
       "      <td>0</td>\n",
       "      <td>5</td>\n",
       "      <td>8</td>\n",
       "    </tr>\n",
       "  </tbody>\n",
       "</table>\n",
       "<p>5 rows × 29 columns</p>\n",
       "</div>"
      ],
      "text/plain": [
       "   id  spacegroup  number_of_total_atoms  percent_atom_al  percent_atom_ga  \\\n",
       "0   1          33                   80.0           0.6250           0.3750   \n",
       "1   2         194                   80.0           0.6250           0.3750   \n",
       "2   3         227                   40.0           0.8125           0.1875   \n",
       "3   4         167                   30.0           0.7500           0.0000   \n",
       "4   5         194                   80.0           0.0000           0.6250   \n",
       "\n",
       "   percent_atom_in  lattice_vector_1_ang  lattice_vector_2_ang  \\\n",
       "0            0.000                     9                     8   \n",
       "1            0.000                     6                     6   \n",
       "2            0.000                     9                     5   \n",
       "3            0.250                     5                     5   \n",
       "4            0.375                     6                     6   \n",
       "\n",
       "   lattice_vector_3_ang  lattice_angle_alpha_degree      ...        n_atom_ga  \\\n",
       "0                     9                          90      ...               30   \n",
       "1                    23                          90      ...               30   \n",
       "2                    13                          90      ...                7   \n",
       "3                    13                          89      ...                0   \n",
       "4                    24                          89      ...               50   \n",
       "\n",
       "   n_atom_in  t12  t33  t167  t194  t206  t227  composition  final_cluster  \n",
       "0          0    0    1     0     0     0     0            1              8  \n",
       "1          0    0    0     0     1     0     0            2              8  \n",
       "2          0    0    0     0     0     0     1            3              8  \n",
       "3          7    0    0     1     0     0     0            4              8  \n",
       "4         30    0    0     0     1     0     0            5              8  \n",
       "\n",
       "[5 rows x 29 columns]"
      ]
     },
     "execution_count": 13,
     "metadata": {},
     "output_type": "execute_result"
    }
   ],
   "source": [
    "train.head()"
   ]
  },
  {
   "cell_type": "code",
   "execution_count": 14,
   "metadata": {
    "collapsed": true
   },
   "outputs": [],
   "source": [
    "#train = label_final_cluster(train)\n",
    "#test = label_final_cluster(test)"
   ]
  },
  {
   "cell_type": "code",
   "execution_count": 15,
   "metadata": {},
   "outputs": [
    {
     "data": {
      "text/plain": [
       "Index(['id', 'spacegroup', 'number_of_total_atoms', 'percent_atom_al',\n",
       "       'percent_atom_ga', 'percent_atom_in', 'lattice_vector_1_ang',\n",
       "       'lattice_vector_2_ang', 'lattice_vector_3_ang',\n",
       "       'lattice_angle_alpha_degree', 'lattice_angle_beta_degree',\n",
       "       'lattice_angle_gamma_degree', 'formation_energy_ev_natom',\n",
       "       'bandgap_energy_ev', 'Al_Ga', 'Al_In', 'Ga_In', 'AlGaIn_O', 'n_atom_al',\n",
       "       'n_atom_ga', 'n_atom_in', 't12', 't33', 't167', 't194', 't206', 't227',\n",
       "       'composition', 'final_cluster'],\n",
       "      dtype='object')"
      ]
     },
     "execution_count": 15,
     "metadata": {},
     "output_type": "execute_result"
    }
   ],
   "source": [
    "train.columns"
   ]
  },
  {
   "cell_type": "code",
   "execution_count": 16,
   "metadata": {
    "collapsed": true
   },
   "outputs": [],
   "source": [
    "itrain,itest = train_test_split(range(train.shape[0]),train_size=0.8,random_state = 2017)\n",
    "mask = np.ones(train.shape[0],dtype='int')\n",
    "mask[itrain] = 1\n",
    "mask[itest] = 0\n",
    "mask = (mask==1)"
   ]
  },
  {
   "cell_type": "code",
   "execution_count": 17,
   "metadata": {
    "collapsed": true
   },
   "outputs": [],
   "source": [
    "features = ['number_of_total_atoms','lattice_vector_1_ang','lattice_vector_2_ang','lattice_vector_3_ang','lattice_angle_alpha_degree','lattice_angle_beta_degree','lattice_angle_gamma_degree','Al_Ga','Al_In','AlGaIn_O','Ga_In','n_atom_al','n_atom_ga','n_atom_in','t12', 't33', 't167', 't194','t206', 't227','final_cluster']\n",
    "target1 = 'bandgap_energy_ev'\n",
    "target2 = 'formation_energy_ev_natom'"
   ]
  },
  {
   "cell_type": "code",
   "execution_count": 18,
   "metadata": {
    "collapsed": true
   },
   "outputs": [],
   "source": [
    "def calculate_rmsle(y_predicted,y_actual):\n",
    "    return (np.sqrt(np.mean((np.log1p(y_predicted) - np.log1p(y_actual))**2)))"
   ]
  },
  {
   "cell_type": "code",
   "execution_count": 19,
   "metadata": {
    "collapsed": true
   },
   "outputs": [],
   "source": [
    "def try_Kernel_Ridge(train,mask,features,target,kernel = \"linear\",alpha = 1.0,degree = 2,gamma = 3):\n",
    "    clf = KernelRidge(kernel=kernel,alpha=alpha,degree=degree,gamma=gamma)\n",
    "    X = train[features]\n",
    "    Y = train[target]\n",
    "    train_x = X[mask].values\n",
    "    test_x  = X[~mask].values\n",
    "    train_y = Y[mask].values\n",
    "    test_y = Y[~mask].values\n",
    "    train_y = np.log1p(train_y)\n",
    "    test_y = np.log1p(test_y)\n",
    "    clf.fit(train_x,train_y)\n",
    "    \n",
    "    train_prediction = clf.predict(train_x)\n",
    "    test_prediction = clf.predict(test_x)\n",
    "    \n",
    "    print(np.sqrt(mean_squared_error(train_prediction,train_y)))\n",
    "    print(np.sqrt(mean_squared_error(test_prediction,test_y)))\n",
    "    return clf\n",
    "    "
   ]
  },
  {
   "cell_type": "code",
   "execution_count": 20,
   "metadata": {},
   "outputs": [
    {
     "name": "stdout",
     "output_type": "stream",
     "text": [
      "bandgap linear\n",
      "0.12970267857\n",
      "0.137975293206\n",
      "formation linear\n",
      "0.0569786998358\n",
      "0.0565456996524\n"
     ]
    }
   ],
   "source": [
    "print(\"bandgap linear\")\n",
    "clf1 = try_Kernel_Ridge(train,mask,features,target1)\n",
    "print(\"formation linear\")\n",
    "clf2 = try_Kernel_Ridge(train,mask,features,target2)"
   ]
  },
  {
   "cell_type": "code",
   "execution_count": 21,
   "metadata": {
    "collapsed": true
   },
   "outputs": [],
   "source": [
    "test_predictions_band_linear = np.exp(clf1.predict(test[features].values)) -1\n",
    "test_predictions_form_linear = np.exp(clf2.predict(test[features].values))-1\n",
    "new_pred = []\n",
    "for i in test_predictions_form_linear:\n",
    "    if i <0 :\n",
    "        i = 0.0001\n",
    "    new_pred.append(i)\n",
    "test_predictions_form_linear = new_pred"
   ]
  },
  {
   "cell_type": "code",
   "execution_count": 24,
   "metadata": {},
   "outputs": [
    {
     "name": "stdout",
     "output_type": "stream",
     "text": [
      "bandgap polynomial\n"
     ]
    },
    {
     "name": "stderr",
     "output_type": "stream",
     "text": [
      "C:\\Users\\imamk\\Anaconda3\\lib\\site-packages\\scipy\\linalg\\basic.py:223: RuntimeWarning: scipy.linalg.solve\n",
      "Ill-conditioned matrix detected. Result is not guaranteed to be accurate.\n",
      "Reciprocal condition number: 1.9304975060412552e-19\n",
      "  ' condition number: {}'.format(rcond), RuntimeWarning)\n"
     ]
    },
    {
     "name": "stdout",
     "output_type": "stream",
     "text": [
      "0.076249814456\n",
      "0.0930473813342\n",
      "formation polynomial\n",
      "0.0326836886597\n",
      "0.0394880225387\n"
     ]
    }
   ],
   "source": [
    "print(\"bandgap polynomial\")\n",
    "clf1 = try_Kernel_Ridge(train,mask,features,target1,kernel=\"polynomial\",alpha=0.001,degree =2 )\n",
    "print(\"formation polynomial\")\n",
    "clf2 = try_Kernel_Ridge(train,mask,features,target2,kernel = \"polynomial\",alpha=4,degree =2)"
   ]
  },
  {
   "cell_type": "code",
   "execution_count": 25,
   "metadata": {},
   "outputs": [
    {
     "name": "stdout",
     "output_type": "stream",
     "text": [
      "bandgap rbf\n",
      "0.076546161049\n",
      "0.0903510951418\n",
      "formation rbf\n",
      "0.0328645619226\n",
      "0.0394262033004\n"
     ]
    }
   ],
   "source": [
    "print(\"bandgap rbf\")\n",
    "clf1 = try_Kernel_Ridge(train,mask,features,target1,kernel=\"polynomial\",alpha=4,gamma = 2)\n",
    "print(\"formation rbf\")\n",
    "clf2 = try_Kernel_Ridge(train,mask,features,target2,kernel = \"polynomial\",alpha=4,gamma=2)"
   ]
  },
  {
   "cell_type": "code",
   "execution_count": 376,
   "metadata": {
    "collapsed": true
   },
   "outputs": [],
   "source": [
    "KernelRidge?"
   ]
  },
  {
   "cell_type": "code",
   "execution_count": 26,
   "metadata": {},
   "outputs": [
    {
     "name": "stdout",
     "output_type": "stream",
     "text": [
      "bandgap rbf\n",
      "0.558662926405\n",
      "1.0926783324\n",
      "formation rbf\n",
      "0.093978842661\n",
      "0.19108643014\n"
     ]
    }
   ],
   "source": [
    "print(\"bandgap rbf\")\n",
    "clf1 = try_Kernel_Ridge(train,mask,features,target1,kernel=\"rbf\",alpha=1)\n",
    "print(\"formation rbf\")\n",
    "clf2 = try_Kernel_Ridge(train,mask,features,target2,kernel = \"rbf\",alpha=1)"
   ]
  },
  {
   "cell_type": "code",
   "execution_count": 27,
   "metadata": {
    "collapsed": true
   },
   "outputs": [],
   "source": [
    "def modelfit(alg, dtrain,dtest,predictors,target,useTrainCV=True, cv_folds=5, early_stopping_rounds=5):\n",
    "    \n",
    "    if useTrainCV:\n",
    "        xgb_param = alg.get_xgb_params()\n",
    "        xgtrain = xgb.DMatrix(dtrain[predictors].values,(dtrain[target].values))\n",
    "        cvresult = xgb.cv(xgb_param, xgtrain, num_boost_round=alg.get_params()['n_estimators'], nfold=cv_folds,\n",
    "            metrics='rmse', early_stopping_rounds=early_stopping_rounds,verbose_eval=False)\n",
    "        alg.set_params(n_estimators=cvresult.shape[0])\n",
    "    \n",
    "    #Fit the algorithm on the data\n",
    "    alg.fit(dtrain[predictors], dtrain[target],eval_metric='rmse')\n",
    "        \n",
    "    #Predict training set:\n",
    "    dtrain_predictions = alg.predict(dtrain[predictors])\n",
    "    dtest_predictions  = alg.predict(dtest[predictors])\n",
    "    #dtrain_predprob = alg.predict_proba(dtrain[predictors])[:,1]\n",
    "    \n",
    "    #Print model report:\n",
    "    print (\"\\nModel Report\")\n",
    "    print (\"Accuracy train: %.4g\" % np.sqrt(mean_squared_error(dtrain[target].values, dtrain_predictions)))\n",
    "    print (\"Accuracy test : %.4g\" % np.sqrt(mean_squared_error(dtest[target].values, dtest_predictions)))\n",
    "    #print (\"AUC Score (Train): %f\" % roc_auc_score(dtrain[target], dtrain_predprob))\n",
    "    \n",
    "    feat_imp = pd.Series(alg.booster().get_fscore()).sort_values(ascending=False)\n",
    "    feat_imp.plot(kind='bar', title='Feature Importances')\n",
    "    plt.ylabel('Feature Importance Score')\n",
    "    return alg"
   ]
  },
  {
   "cell_type": "code",
   "execution_count": 28,
   "metadata": {},
   "outputs": [
    {
     "name": "stderr",
     "output_type": "stream",
     "text": [
      "C:\\Users\\imamk\\Anaconda3\\lib\\site-packages\\ipykernel_launcher.py:3: SettingWithCopyWarning: \n",
      "A value is trying to be set on a copy of a slice from a DataFrame.\n",
      "Try using .loc[row_indexer,col_indexer] = value instead\n",
      "\n",
      "See the caveats in the documentation: http://pandas.pydata.org/pandas-docs/stable/indexing.html#indexing-view-versus-copy\n",
      "  This is separate from the ipykernel package so we can avoid doing imports until\n",
      "C:\\Users\\imamk\\Anaconda3\\lib\\site-packages\\ipykernel_launcher.py:4: SettingWithCopyWarning: \n",
      "A value is trying to be set on a copy of a slice from a DataFrame.\n",
      "Try using .loc[row_indexer,col_indexer] = value instead\n",
      "\n",
      "See the caveats in the documentation: http://pandas.pydata.org/pandas-docs/stable/indexing.html#indexing-view-versus-copy\n",
      "  after removing the cwd from sys.path.\n",
      "C:\\Users\\imamk\\Anaconda3\\lib\\site-packages\\ipykernel_launcher.py:5: SettingWithCopyWarning: \n",
      "A value is trying to be set on a copy of a slice from a DataFrame.\n",
      "Try using .loc[row_indexer,col_indexer] = value instead\n",
      "\n",
      "See the caveats in the documentation: http://pandas.pydata.org/pandas-docs/stable/indexing.html#indexing-view-versus-copy\n",
      "  \"\"\"\n",
      "C:\\Users\\imamk\\Anaconda3\\lib\\site-packages\\ipykernel_launcher.py:6: SettingWithCopyWarning: \n",
      "A value is trying to be set on a copy of a slice from a DataFrame.\n",
      "Try using .loc[row_indexer,col_indexer] = value instead\n",
      "\n",
      "See the caveats in the documentation: http://pandas.pydata.org/pandas-docs/stable/indexing.html#indexing-view-versus-copy\n",
      "  \n"
     ]
    }
   ],
   "source": [
    "dtrain = train[mask]\n",
    "dtest  = train[~mask]\n",
    "dtrain[target1]  = np.log1p(dtrain[target1])\n",
    "dtest[target1]   = np.log1p(dtest[target1])\n",
    "dtrain[target2]  = np.log1p(dtrain[target2])\n",
    "dtest[target2]   = np.log1p(dtest[target2])\n"
   ]
  },
  {
   "cell_type": "code",
   "execution_count": 405,
   "metadata": {},
   "outputs": [
    {
     "name": "stdout",
     "output_type": "stream",
     "text": [
      "\n",
      "Model Report\n",
      "Accuracy train: 0.03141\n",
      "Accuracy test : 0.1065\n"
     ]
    },
    {
     "data": {
      "image/png": "[encoded data removed]",
      "text/plain": [
       "<matplotlib.figure.Figure at 0x26e10c29978>"
      ]
     },
     "metadata": {},
     "output_type": "display_data"
    }
   ],
   "source": [
    "xgb_target1 = XGBRegressor(learning_rate=0.1,n_estimators=1000,max_depth=8,min_child_weight=1,gamma=0,subsample=0.8,colsample_bytree=0.8,objective='reg:linear',nthread=4,scale_pos_weight=1,seed=27) \n",
    "xgb_target1_fit = modelfit(xgb_target1,dtrain,dtest,features,target1,useTrainCV=True)"
   ]
  },
  {
   "cell_type": "code",
   "execution_count": 398,
   "metadata": {},
   "outputs": [
    {
     "data": {
      "text/plain": [
       "<bound method XGBModel.get_xgb_params of XGBRegressor(base_score=0.5, colsample_bylevel=1, colsample_bytree=0.8,\n",
       "       gamma=0, learning_rate=0.1, max_delta_step=0, max_depth=8,\n",
       "       min_child_weight=1, missing=None, n_estimators=56, nthread=4,\n",
       "       objective='reg:linear', reg_alpha=0, reg_lambda=1,\n",
       "       scale_pos_weight=1, seed=27, silent=True, subsample=0.8)>"
      ]
     },
     "execution_count": 398,
     "metadata": {},
     "output_type": "execute_result"
    }
   ],
   "source": [
    "xgb_target1_fit.get_xgb_params"
   ]
  },
  {
   "cell_type": "code",
   "execution_count": 406,
   "metadata": {},
   "outputs": [
    {
     "data": {
      "text/plain": [
       "([mean: -0.00884, std: 0.00146, params: {'max_depth': 5, 'min_child_weight': 1},\n",
       "  mean: -0.00895, std: 0.00136, params: {'max_depth': 5, 'min_child_weight': 2},\n",
       "  mean: -0.00909, std: 0.00137, params: {'max_depth': 5, 'min_child_weight': 3},\n",
       "  mean: -0.00883, std: 0.00131, params: {'max_depth': 5, 'min_child_weight': 4},\n",
       "  mean: -0.00903, std: 0.00119, params: {'max_depth': 5, 'min_child_weight': 5},\n",
       "  mean: -0.00898, std: 0.00130, params: {'max_depth': 5, 'min_child_weight': 6},\n",
       "  mean: -0.00902, std: 0.00143, params: {'max_depth': 6, 'min_child_weight': 1},\n",
       "  mean: -0.00898, std: 0.00132, params: {'max_depth': 6, 'min_child_weight': 2},\n",
       "  mean: -0.00891, std: 0.00129, params: {'max_depth': 6, 'min_child_weight': 3},\n",
       "  mean: -0.00896, std: 0.00132, params: {'max_depth': 6, 'min_child_weight': 4},\n",
       "  mean: -0.00900, std: 0.00126, params: {'max_depth': 6, 'min_child_weight': 5},\n",
       "  mean: -0.00877, std: 0.00124, params: {'max_depth': 6, 'min_child_weight': 6},\n",
       "  mean: -0.00917, std: 0.00126, params: {'max_depth': 7, 'min_child_weight': 1},\n",
       "  mean: -0.00920, std: 0.00111, params: {'max_depth': 7, 'min_child_weight': 2},\n",
       "  mean: -0.00905, std: 0.00113, params: {'max_depth': 7, 'min_child_weight': 3},\n",
       "  mean: -0.00916, std: 0.00129, params: {'max_depth': 7, 'min_child_weight': 4},\n",
       "  mean: -0.00907, std: 0.00129, params: {'max_depth': 7, 'min_child_weight': 5},\n",
       "  mean: -0.00905, std: 0.00126, params: {'max_depth': 7, 'min_child_weight': 6},\n",
       "  mean: -0.00916, std: 0.00139, params: {'max_depth': 8, 'min_child_weight': 1},\n",
       "  mean: -0.00913, std: 0.00127, params: {'max_depth': 8, 'min_child_weight': 2},\n",
       "  mean: -0.00912, std: 0.00135, params: {'max_depth': 8, 'min_child_weight': 3},\n",
       "  mean: -0.00889, std: 0.00130, params: {'max_depth': 8, 'min_child_weight': 4},\n",
       "  mean: -0.00917, std: 0.00136, params: {'max_depth': 8, 'min_child_weight': 5},\n",
       "  mean: -0.00897, std: 0.00113, params: {'max_depth': 8, 'min_child_weight': 6},\n",
       "  mean: -0.00932, std: 0.00155, params: {'max_depth': 9, 'min_child_weight': 1},\n",
       "  mean: -0.00898, std: 0.00114, params: {'max_depth': 9, 'min_child_weight': 2},\n",
       "  mean: -0.00906, std: 0.00094, params: {'max_depth': 9, 'min_child_weight': 3},\n",
       "  mean: -0.00902, std: 0.00121, params: {'max_depth': 9, 'min_child_weight': 4},\n",
       "  mean: -0.00915, std: 0.00120, params: {'max_depth': 9, 'min_child_weight': 5},\n",
       "  mean: -0.00903, std: 0.00131, params: {'max_depth': 9, 'min_child_weight': 6}],\n",
       " {'max_depth': 6, 'min_child_weight': 6},\n",
       " -0.008768948829420638)"
      ]
     },
     "execution_count": 406,
     "metadata": {},
     "output_type": "execute_result"
    }
   ],
   "source": [
    "param_test1 = {\n",
    "    'max_depth': [5,6,7,8,9],\n",
    "    'min_child_weight': [1,2,3,4,5,6],\n",
    "}\n",
    "gsearch1 = GridSearchCV(estimator=XGBRegressor(learning_rate=0.1,n_estimators=60,max_depth=5,min_child_weight=1,gamma=0,subsample=0.8,colsample_bytree=0.8,objective='reg:linear',nthread=4,scale_pos_weight=1,seed=27),param_grid=param_test1,scoring='mean_squared_error',n_jobs=4,iid=False,cv=5)\n",
    "gsearch1.fit(dtrain[features],dtrain[target1])\n",
    "gsearch1.grid_scores_, gsearch1.best_params_, gsearch1.best_score_"
   ]
  },
  {
   "cell_type": "code",
   "execution_count": 326,
   "metadata": {},
   "outputs": [
    {
     "data": {
      "text/plain": [
       "([mean: -0.00850, std: 0.00143, params: {'gamma': 0},\n",
       "  mean: -0.00916, std: 0.00149, params: {'gamma': 0.1},\n",
       "  mean: -0.00984, std: 0.00159, params: {'gamma': 0.2},\n",
       "  mean: -0.01109, std: 0.00208, params: {'gamma': 0.4},\n",
       "  mean: -0.01219, std: 0.00186, params: {'gamma': 0.6},\n",
       "  mean: -0.01319, std: 0.00217, params: {'gamma': 0.8}],\n",
       " {'gamma': 0},\n",
       " -0.008500925795861307)"
      ]
     },
     "execution_count": 326,
     "metadata": {},
     "output_type": "execute_result"
    }
   ],
   "source": [
    "param_test1 = {\n",
    "   'gamma': [0,0.1,0.2,0.4,0.6,0.8]\n",
    "}\n",
    "gsearch1 = GridSearchCV(estimator=XGBRegressor(learning_rate=0.1,n_estimators=75,max_depth=6,min_child_weight=6,gamma=0,subsample=0.8,colsample_bytree=0.8,objective='reg:linear',nthread=4,scale_pos_weight=1,seed=27),param_grid=param_test1,scoring='mean_squared_error',n_jobs=4,iid=False,cv=5)\n",
    "gsearch1.fit(dtrain[features],dtrain[target1])\n",
    "gsearch1.grid_scores_, gsearch1.best_params_, gsearch1.best_score_"
   ]
  },
  {
   "cell_type": "code",
   "execution_count": 407,
   "metadata": {
    "collapsed": true
   },
   "outputs": [],
   "source": [
    "features = ['number_of_total_atoms','lattice_vector_1_ang','lattice_vector_2_ang','lattice_vector_3_ang','lattice_angle_alpha_degree','lattice_angle_beta_degree','lattice_angle_gamma_degree','Al_Ga','Al_In','AlGaIn_O','Ga_In','n_atom_al','n_atom_ga','n_atom_in','final_cluster']"
   ]
  },
  {
   "cell_type": "code",
   "execution_count": 409,
   "metadata": {},
   "outputs": [
    {
     "data": {
      "text/plain": [
       "([mean: -0.00922, std: 0.00152, params: {'colsample_bytree': 0.7, 'subsample': 0.7},\n",
       "  mean: -0.00898, std: 0.00150, params: {'colsample_bytree': 0.7, 'subsample': 0.8},\n",
       "  mean: -0.00889, std: 0.00136, params: {'colsample_bytree': 0.7, 'subsample': 0.9},\n",
       "  mean: -0.00913, std: 0.00147, params: {'colsample_bytree': 0.7, 'subsample': 1},\n",
       "  mean: -0.00888, std: 0.00115, params: {'colsample_bytree': 0.8, 'subsample': 0.7},\n",
       "  mean: -0.00877, std: 0.00124, params: {'colsample_bytree': 0.8, 'subsample': 0.8},\n",
       "  mean: -0.00882, std: 0.00096, params: {'colsample_bytree': 0.8, 'subsample': 0.9},\n",
       "  mean: -0.00901, std: 0.00118, params: {'colsample_bytree': 0.8, 'subsample': 1},\n",
       "  mean: -0.00887, std: 0.00125, params: {'colsample_bytree': 0.9, 'subsample': 0.7},\n",
       "  mean: -0.00891, std: 0.00138, params: {'colsample_bytree': 0.9, 'subsample': 0.8},\n",
       "  mean: -0.00894, std: 0.00139, params: {'colsample_bytree': 0.9, 'subsample': 0.9},\n",
       "  mean: -0.00882, std: 0.00129, params: {'colsample_bytree': 0.9, 'subsample': 1},\n",
       "  mean: -0.00913, std: 0.00134, params: {'colsample_bytree': 1, 'subsample': 0.7},\n",
       "  mean: -0.00877, std: 0.00122, params: {'colsample_bytree': 1, 'subsample': 0.8},\n",
       "  mean: -0.00879, std: 0.00122, params: {'colsample_bytree': 1, 'subsample': 0.9},\n",
       "  mean: -0.00888, std: 0.00134, params: {'colsample_bytree': 1, 'subsample': 1}],\n",
       " {'colsample_bytree': 1, 'subsample': 0.8},\n",
       " -0.008766174025414575)"
      ]
     },
     "execution_count": 409,
     "metadata": {},
     "output_type": "execute_result"
    }
   ],
   "source": [
    "param_test1 = {\n",
    "   'subsample': [0.7,0.8,0.9,1],\n",
    "    'colsample_bytree': [0.7,0.8,0.9,1]\n",
    "}\n",
    "gsearch1 = GridSearchCV(estimator=XGBRegressor(learning_rate=0.1,n_estimators=60,max_depth=6,min_child_weight=6,gamma=0,subsample=0.8,colsample_bytree=0.8,objective='reg:linear',nthread=4,scale_pos_weight=1,seed=27),param_grid=param_test1,scoring='mean_squared_error',n_jobs=4,iid=False,cv=5)\n",
    "gsearch1.fit(dtrain[features],dtrain[target1])\n",
    "gsearch1.grid_scores_, gsearch1.best_params_, gsearch1.best_score_"
   ]
  },
  {
   "cell_type": "code",
   "execution_count": 332,
   "metadata": {},
   "outputs": [
    {
     "data": {
      "text/plain": [
       "([mean: -0.00850, std: 0.00143, params: {'reg_lambda': 1},\n",
       "  mean: -0.00877, std: 0.00112, params: {'reg_lambda': 1.33},\n",
       "  mean: -0.00876, std: 0.00126, params: {'reg_lambda': 1.66}],\n",
       " {'reg_lambda': 1},\n",
       " -0.008500925795861307)"
      ]
     },
     "execution_count": 332,
     "metadata": {},
     "output_type": "execute_result"
    }
   ],
   "source": [
    "param_test1 = {\n",
    " 'reg_lambda':[1,1.33,1.66]\n",
    "}\n",
    "gsearch1 = GridSearchCV(estimator=XGBRegressor(learning_rate=0.1,n_estimators=75,max_depth=7,min_child_weight=3,gamma=0,subsample=0.8,colsample_bytree=0.8,objective='reg:linear',nthread=4,scale_pos_weight=1,reg_alpha=0,reg_lambda=0.01,seed=27),param_grid=param_test1,scoring='mean_squared_error',n_jobs=4,iid=False,cv=5)\n",
    "gsearch1.fit(dtrain[features],dtrain[target1])\n",
    "gsearch1.grid_scores_, gsearch1.best_params_, gsearch1.best_score_"
   ]
  },
  {
   "cell_type": "code",
   "execution_count": 353,
   "metadata": {},
   "outputs": [
    {
     "data": {
      "text/plain": [
       "['number_of_total_atoms',\n",
       " 'lattice_vector_1_ang',\n",
       " 'lattice_vector_2_ang',\n",
       " 'lattice_vector_3_ang',\n",
       " 'lattice_angle_alpha_degree',\n",
       " 'lattice_angle_beta_degree',\n",
       " 'lattice_angle_gamma_degree',\n",
       " 'Al_Ga',\n",
       " 'Al_In',\n",
       " 'AlGaIn_O',\n",
       " 'Ga_In',\n",
       " 'n_atom_al',\n",
       " 'n_atom_ga',\n",
       " 'n_atom_in',\n",
       " 't12',\n",
       " 't33',\n",
       " 't167',\n",
       " 't194',\n",
       " 't206',\n",
       " 't227',\n",
       " 'final_cluster']"
      ]
     },
     "execution_count": 353,
     "metadata": {},
     "output_type": "execute_result"
    }
   ],
   "source": [
    "features = "
   ]
  },
  {
   "cell_type": "code",
   "execution_count": 402,
   "metadata": {},
   "outputs": [
    {
     "name": "stdout",
     "output_type": "stream",
     "text": [
      "\n",
      "Model Report\n",
      "Accuracy train: 0.06093\n",
      "Accuracy test : 0.1056\n"
     ]
    },
    {
     "data": {
      "image/png": "[encoded data removed]",
      "text/plain": [
       "<matplotlib.figure.Figure at 0x26e11125160>"
      ]
     },
     "metadata": {},
     "output_type": "display_data"
    }
   ],
   "source": [
    "xgbRegressor_1 = XGBRegressor(learning_rate=0.1,n_estimators=75,max_depth=7,min_child_weight=3,gamma=0,subsample=0.6,colsample_bytree=0.7,objective='reg:linear',nthread=4,reg_alpha=0,reg_lambda=10,seed=27)\n",
    "xgbFit1 = modelfit(xgbRegressor_1,dtrain,dtest,features,target1,useTrainCV=False,early_stopping_rounds=5)"
   ]
  },
  {
   "cell_type": "code",
   "execution_count": 350,
   "metadata": {},
   "outputs": [
    {
     "data": {
      "text/plain": [
       "<matplotlib.axes._subplots.AxesSubplot at 0x26e11108668>"
      ]
     },
     "execution_count": 350,
     "metadata": {},
     "output_type": "execute_result"
    },
    {
     "data": {
      "text/plain": [
       "<matplotlib.figure.Figure at 0x26e112657f0>"
      ]
     },
     "metadata": {},
     "output_type": "display_data"
    },
    {
     "data": {
      "image/png": "[encoded data removed]",
      "text/plain": [
       "<matplotlib.figure.Figure at 0x26e0f3f37b8>"
      ]
     },
     "metadata": {},
     "output_type": "display_data"
    }
   ],
   "source": [
    "\n",
    "importance = xgbFit1.booster().get_fscore()\n",
    "importance = sorted(importance.items(), key=operator.itemgetter(1))\n",
    "\n",
    "df = pd.DataFrame(importance, columns=['feature', 'fscore'])\n",
    "df['fscore'] = df['fscore'] / df['fscore'].sum()\n",
    "\n",
    "plt.figure()\n",
    "df.plot()"
   ]
  },
  {
   "cell_type": "code",
   "execution_count": null,
   "metadata": {
    "collapsed": true
   },
   "outputs": [],
   "source": [
    "xgbFit1.booster().get_fscore"
   ]
  },
  {
   "cell_type": "code",
   "execution_count": null,
   "metadata": {
    "collapsed": true
   },
   "outputs": [],
   "source": [
    "xgbFit1.booster().get_fscore"
   ]
  },
  {
   "cell_type": "code",
   "execution_count": 403,
   "metadata": {},
   "outputs": [
    {
     "name": "stdout",
     "output_type": "stream",
     "text": [
      "\n",
      "Model Report\n",
      "Accuracy train: 0.01808\n",
      "Accuracy test : 0.03052\n"
     ]
    },
    {
     "data": {
      "image/png": "[encoded data removed]",
      "text/plain": [
       "<matplotlib.figure.Figure at 0x26e10ef5a90>"
      ]
     },
     "metadata": {},
     "output_type": "display_data"
    }
   ],
   "source": [
    "xgb_target2 = XGBRegressor(learning_rate=0.1,n_estimators=1000,max_depth=8,min_child_weight=3,gamma=0,subsample=0.8,colsample_bytree=0.8,objective='reg:linear',nthread=4,scale_pos_weight=1,seed=27) \n",
    "xgb_target2_fit = modelfit(xgb_target2,dtrain,dtest,features,target2,useTrainCV=True)"
   ]
  },
  {
   "cell_type": "code",
   "execution_count": 115,
   "metadata": {},
   "outputs": [
    {
     "data": {
      "text/plain": [
       "<bound method XGBModel.get_xgb_params of XGBRegressor(base_score=0.5, colsample_bylevel=1, colsample_bytree=0.8,\n",
       "       gamma=0, learning_rate=0.1, max_delta_step=0, max_depth=8,\n",
       "       min_child_weight=3, missing=None, n_estimators=53, nthread=4,\n",
       "       objective='reg:linear', reg_alpha=0, reg_lambda=1,\n",
       "       scale_pos_weight=1, seed=27, silent=True, subsample=0.8)>"
      ]
     },
     "execution_count": 115,
     "metadata": {},
     "output_type": "execute_result"
    }
   ],
   "source": [
    "xgb_target2_fit.get_xgb_params"
   ]
  },
  {
   "cell_type": "code",
   "execution_count": 114,
   "metadata": {},
   "outputs": [
    {
     "data": {
      "text/plain": [
       "([mean: -0.00116, std: 0.00008, params: {'max_depth': 7, 'min_child_weight': 1},\n",
       "  mean: -0.00115, std: 0.00007, params: {'max_depth': 7, 'min_child_weight': 2},\n",
       "  mean: -0.00116, std: 0.00009, params: {'max_depth': 7, 'min_child_weight': 3},\n",
       "  mean: -0.00116, std: 0.00008, params: {'max_depth': 7, 'min_child_weight': 4},\n",
       "  mean: -0.00117, std: 0.00007, params: {'max_depth': 8, 'min_child_weight': 1},\n",
       "  mean: -0.00117, std: 0.00009, params: {'max_depth': 8, 'min_child_weight': 2},\n",
       "  mean: -0.00118, std: 0.00009, params: {'max_depth': 8, 'min_child_weight': 3},\n",
       "  mean: -0.00116, std: 0.00007, params: {'max_depth': 8, 'min_child_weight': 4},\n",
       "  mean: -0.00121, std: 0.00009, params: {'max_depth': 9, 'min_child_weight': 1},\n",
       "  mean: -0.00119, std: 0.00009, params: {'max_depth': 9, 'min_child_weight': 2},\n",
       "  mean: -0.00119, std: 0.00009, params: {'max_depth': 9, 'min_child_weight': 3},\n",
       "  mean: -0.00118, std: 0.00009, params: {'max_depth': 9, 'min_child_weight': 4}],\n",
       " {'max_depth': 7, 'min_child_weight': 2},\n",
       " -0.001151150295404976)"
      ]
     },
     "execution_count": 114,
     "metadata": {},
     "output_type": "execute_result"
    }
   ],
   "source": [
    "param_test1 = {\n",
    "    'max_depth': [7,8,9],\n",
    "    'min_child_weight': [1,2,3,4],\n",
    "}\n",
    "gsearch1 = GridSearchCV(estimator=XGBRegressor(learning_rate=0.1,n_estimators=55,max_depth=5,min_child_weight=1,gamma=0,subsample=0.8,colsample_bytree=0.8,objective='reg:linear',nthread=4,scale_pos_weight=1,seed=27),param_grid=param_test1,scoring='neg_mean_squared_error',n_jobs=4,iid=False,cv=5)\n",
    "gsearch1.fit(dtrain[features],dtrain[target2])\n",
    "gsearch1.grid_scores_, gsearch1.best_params_, gsearch1.best_score_"
   ]
  },
  {
   "cell_type": "code",
   "execution_count": 116,
   "metadata": {},
   "outputs": [
    {
     "data": {
      "text/plain": [
       "([mean: -0.00115, std: 0.00007, params: {'gamma': 0},\n",
       "  mean: -0.00190, std: 0.00011, params: {'gamma': 0.1},\n",
       "  mean: -0.00245, std: 0.00015, params: {'gamma': 0.2},\n",
       "  mean: -0.00316, std: 0.00022, params: {'gamma': 0.4},\n",
       "  mean: -0.00377, std: 0.00027, params: {'gamma': 0.6},\n",
       "  mean: -0.00430, std: 0.00028, params: {'gamma': 0.8}],\n",
       " {'gamma': 0},\n",
       " -0.001151150295404976)"
      ]
     },
     "execution_count": 116,
     "metadata": {},
     "output_type": "execute_result"
    }
   ],
   "source": [
    "param_test1 = {\n",
    "   'gamma': [0,0.1,0.2,0.4,0.6,0.8]\n",
    "}\n",
    "gsearch1 = GridSearchCV(estimator=XGBRegressor(learning_rate=0.1,n_estimators=55,max_depth=7,min_child_weight=2,gamma=0,subsample=0.8,colsample_bytree=0.8,objective='reg:linear',nthread=4,scale_pos_weight=1,seed=27),param_grid=param_test1,scoring='neg_mean_squared_error',n_jobs=4,iid=False,cv=5)\n",
    "gsearch1.fit(dtrain[features],dtrain[target2])\n",
    "gsearch1.grid_scores_, gsearch1.best_params_, gsearch1.best_score_"
   ]
  },
  {
   "cell_type": "code",
   "execution_count": 121,
   "metadata": {},
   "outputs": [
    {
     "data": {
      "text/plain": [
       "([mean: -0.00117, std: 0.00009, params: {'colsample_bytree': 0.7, 'subsample': 0.7},\n",
       "  mean: -0.00118, std: 0.00009, params: {'colsample_bytree': 0.7, 'subsample': 0.8},\n",
       "  mean: -0.00121, std: 0.00010, params: {'colsample_bytree': 0.7, 'subsample': 1},\n",
       "  mean: -0.00118, std: 0.00009, params: {'colsample_bytree': 0.8, 'subsample': 0.7},\n",
       "  mean: -0.00116, std: 0.00008, params: {'colsample_bytree': 0.8, 'subsample': 0.8},\n",
       "  mean: -0.00120, std: 0.00012, params: {'colsample_bytree': 0.8, 'subsample': 1}],\n",
       " {'colsample_bytree': 0.8, 'subsample': 0.8},\n",
       " -0.0011621105870536807)"
      ]
     },
     "execution_count": 121,
     "metadata": {},
     "output_type": "execute_result"
    }
   ],
   "source": [
    "param_test1 = {\n",
    "   'subsample': [0.7,0.8,1],\n",
    "    'colsample_bytree': [0.7,0.8]\n",
    "}\n",
    "gsearch1 = GridSearchCV(estimator=XGBRegressor(learning_rate=0.1,n_estimators=55,max_depth=7,min_child_weight=1,gamma=0,subsample=0.8,colsample_bytree=0.8,objective='reg:linear',nthread=4,scale_pos_weight=1,seed=27),param_grid=param_test1,scoring='neg_mean_squared_error',n_jobs=4,iid=False,cv=5)\n",
    "gsearch1.fit(dtrain[features],dtrain[target2])\n",
    "gsearch1.grid_scores_, gsearch1.best_params_, gsearch1.best_score_"
   ]
  },
  {
   "cell_type": "code",
   "execution_count": 126,
   "metadata": {},
   "outputs": [
    {
     "data": {
      "text/plain": [
       "([mean: -0.00127, std: 0.00014, params: {'reg_lambda': 0.0002},\n",
       "  mean: -0.00126, std: 0.00015, params: {'reg_lambda': 0.001}],\n",
       " {'reg_lambda': 0.001},\n",
       " -0.0012618686245579106)"
      ]
     },
     "execution_count": 126,
     "metadata": {},
     "output_type": "execute_result"
    }
   ],
   "source": [
    "param_test1 = {\n",
    " 'reg_lambda':[0.0002,0.001]\n",
    "}\n",
    "gsearch1 = GridSearchCV(estimator=XGBRegressor(learning_rate=0.1,n_estimators=55,max_depth=7,min_child_weight=1,gamma=0,subsample=0.8,colsample_bytree=0.8,objective='reg:linear',nthread=4,scale_pos_weight=1,reg_alpha=0,reg_lambda=0.01,seed=27),param_grid=param_test1,scoring='neg_mean_squared_error',n_jobs=4,iid=False,cv=5)\n",
    "gsearch1.fit(dtrain[features],dtrain[target2])\n",
    "gsearch1.grid_scores_, gsearch1.best_params_, gsearch1.best_score_"
   ]
  },
  {
   "cell_type": "code",
   "execution_count": 336,
   "metadata": {},
   "outputs": [
    {
     "name": "stdout",
     "output_type": "stream",
     "text": [
      "\n",
      "Model Report\n",
      "Accuracy train: 0.01419\n",
      "Accuracy test : 0.03184\n"
     ]
    },
    {
     "ename": "AttributeError",
     "evalue": "'XGBRegressor' object has no attribute 'get_fscore'",
     "output_type": "error",
     "traceback": [
      "\u001b[1;31m---------------------------------------------------------------------------\u001b[0m",
      "\u001b[1;31mAttributeError\u001b[0m                            Traceback (most recent call last)",
      "\u001b[1;32m<ipython-input-336-9c659e7bc752>\u001b[0m in \u001b[0;36m<module>\u001b[1;34m()\u001b[0m\n\u001b[0;32m      1\u001b[0m \u001b[0mxgbRegressor_2\u001b[0m \u001b[1;33m=\u001b[0m \u001b[0mXGBRegressor\u001b[0m\u001b[1;33m(\u001b[0m\u001b[0mlearning_rate\u001b[0m\u001b[1;33m=\u001b[0m\u001b[1;36m0.1\u001b[0m\u001b[1;33m,\u001b[0m\u001b[0mn_estimators\u001b[0m\u001b[1;33m=\u001b[0m\u001b[1;36m55\u001b[0m\u001b[1;33m,\u001b[0m\u001b[0mmax_depth\u001b[0m\u001b[1;33m=\u001b[0m\u001b[1;36m7\u001b[0m\u001b[1;33m,\u001b[0m\u001b[0mmin_child_weight\u001b[0m\u001b[1;33m=\u001b[0m\u001b[1;36m1\u001b[0m\u001b[1;33m,\u001b[0m\u001b[0mgamma\u001b[0m\u001b[1;33m=\u001b[0m\u001b[1;36m0\u001b[0m\u001b[1;33m,\u001b[0m\u001b[0msubsample\u001b[0m\u001b[1;33m=\u001b[0m\u001b[1;36m0.8\u001b[0m\u001b[1;33m,\u001b[0m\u001b[0mcolsample_bytree\u001b[0m\u001b[1;33m=\u001b[0m\u001b[1;36m0.8\u001b[0m\u001b[1;33m,\u001b[0m\u001b[0mobjective\u001b[0m\u001b[1;33m=\u001b[0m\u001b[1;34m'reg:linear'\u001b[0m\u001b[1;33m,\u001b[0m\u001b[0mnthread\u001b[0m\u001b[1;33m=\u001b[0m\u001b[1;36m4\u001b[0m\u001b[1;33m,\u001b[0m\u001b[0mreg_alpha\u001b[0m\u001b[1;33m=\u001b[0m\u001b[1;36m0\u001b[0m\u001b[1;33m,\u001b[0m\u001b[0mreg_lambda\u001b[0m\u001b[1;33m=\u001b[0m\u001b[1;36m0.001\u001b[0m\u001b[1;33m,\u001b[0m\u001b[0mseed\u001b[0m\u001b[1;33m=\u001b[0m\u001b[1;36m27\u001b[0m\u001b[1;33m)\u001b[0m\u001b[1;33m\u001b[0m\u001b[0m\n\u001b[1;32m----> 2\u001b[1;33m \u001b[0mxgbFit2\u001b[0m \u001b[1;33m=\u001b[0m \u001b[0mmodelfit\u001b[0m\u001b[1;33m(\u001b[0m\u001b[0mxgbRegressor_2\u001b[0m\u001b[1;33m,\u001b[0m\u001b[0mdtrain\u001b[0m\u001b[1;33m,\u001b[0m\u001b[0mdtest\u001b[0m\u001b[1;33m,\u001b[0m\u001b[0mfeatures\u001b[0m\u001b[1;33m,\u001b[0m\u001b[0mtarget2\u001b[0m\u001b[1;33m,\u001b[0m\u001b[0museTrainCV\u001b[0m\u001b[1;33m=\u001b[0m\u001b[1;32mFalse\u001b[0m\u001b[1;33m,\u001b[0m\u001b[0mearly_stopping_rounds\u001b[0m\u001b[1;33m=\u001b[0m\u001b[1;36m100\u001b[0m\u001b[1;33m)\u001b[0m\u001b[1;33m\u001b[0m\u001b[0m\n\u001b[0m",
      "\u001b[1;32m<ipython-input-335-4ca943b175c4>\u001b[0m in \u001b[0;36mmodelfit\u001b[1;34m(alg, dtrain, dtest, predictors, target, useTrainCV, cv_folds, early_stopping_rounds)\u001b[0m\n\u001b[0;32m     21\u001b[0m     \u001b[0mprint\u001b[0m \u001b[1;33m(\u001b[0m\u001b[1;34m\"Accuracy test : %.4g\"\u001b[0m \u001b[1;33m%\u001b[0m \u001b[0mnp\u001b[0m\u001b[1;33m.\u001b[0m\u001b[0msqrt\u001b[0m\u001b[1;33m(\u001b[0m\u001b[0mmean_squared_error\u001b[0m\u001b[1;33m(\u001b[0m\u001b[0mdtest\u001b[0m\u001b[1;33m[\u001b[0m\u001b[0mtarget\u001b[0m\u001b[1;33m]\u001b[0m\u001b[1;33m.\u001b[0m\u001b[0mvalues\u001b[0m\u001b[1;33m,\u001b[0m \u001b[0mdtest_predictions\u001b[0m\u001b[1;33m)\u001b[0m\u001b[1;33m)\u001b[0m\u001b[1;33m)\u001b[0m\u001b[1;33m\u001b[0m\u001b[0m\n\u001b[0;32m     22\u001b[0m     \u001b[1;31m#print (\"AUC Score (Train): %f\" % roc_auc_score(dtrain[target], dtrain_predprob))\u001b[0m\u001b[1;33m\u001b[0m\u001b[1;33m\u001b[0m\u001b[0m\n\u001b[1;32m---> 23\u001b[1;33m     \u001b[0mimportance\u001b[0m \u001b[1;33m=\u001b[0m \u001b[0malg\u001b[0m\u001b[1;33m.\u001b[0m\u001b[0mget_fscore\u001b[0m\u001b[1;33m(\u001b[0m\u001b[0mfmap\u001b[0m\u001b[1;33m=\u001b[0m\u001b[1;34m'xgb.fmap'\u001b[0m\u001b[1;33m)\u001b[0m\u001b[1;33m\u001b[0m\u001b[0m\n\u001b[0m\u001b[0;32m     24\u001b[0m     \u001b[0mimportance\u001b[0m \u001b[1;33m=\u001b[0m \u001b[0msorted\u001b[0m\u001b[1;33m(\u001b[0m\u001b[0mimportance\u001b[0m\u001b[1;33m.\u001b[0m\u001b[0mitems\u001b[0m\u001b[1;33m(\u001b[0m\u001b[1;33m)\u001b[0m\u001b[1;33m,\u001b[0m \u001b[0mkey\u001b[0m\u001b[1;33m=\u001b[0m\u001b[0moperator\u001b[0m\u001b[1;33m.\u001b[0m\u001b[0mitemgetter\u001b[0m\u001b[1;33m(\u001b[0m\u001b[1;36m1\u001b[0m\u001b[1;33m)\u001b[0m\u001b[1;33m)\u001b[0m\u001b[1;33m\u001b[0m\u001b[0m\n\u001b[0;32m     25\u001b[0m \u001b[1;33m\u001b[0m\u001b[0m\n",
      "\u001b[1;31mAttributeError\u001b[0m: 'XGBRegressor' object has no attribute 'get_fscore'"
     ]
    }
   ],
   "source": [
    "xgbRegressor_2 = XGBRegressor(learning_rate=0.1,n_estimators=55,max_depth=7,min_child_weight=1,gamma=0,subsample=0.8,colsample_bytree=0.8,objective='reg:linear',nthread=4,reg_alpha=0,reg_lambda=0.001,seed=27)\n",
    "xgbFit2 = modelfit(xgbRegressor_2,dtrain,dtest,features,target2,useTrainCV=False,early_stopping_rounds=100)"
   ]
  },
  {
   "cell_type": "code",
   "execution_count": 33,
   "metadata": {},
   "outputs": [
    {
     "name": "stdout",
     "output_type": "stream",
     "text": [
      "\n",
      "Model Report\n",
      "Accuracy train: 0.02835\n",
      "Accuracy test : 0.03013\n"
     ]
    },
    {
     "data": {
      "image/png": "[encoded data removed]",
      "text/plain": [
       "<matplotlib.figure.Figure at 0x2d75c0c5f28>"
      ]
     },
     "metadata": {},
     "output_type": "display_data"
    }
   ],
   "source": [
    "xgbRegressor_2 = XGBRegressor(learning_rate=0.1,n_estimators=60,max_depth=4,min_child_weight=3,gamma=0,subsample=0.8,colsample_bytree=0.9,objective='reg:linear',nthread=4,reg_alpha=0,reg_lambda=0.0001,seed=27)\n",
    "xgbFit2 = modelfit(xgbRegressor_2,dtrain,dtest,features,target2,useTrainCV=False,early_stopping_rounds=100)"
   ]
  },
  {
   "cell_type": "code",
   "execution_count": 34,
   "metadata": {
    "collapsed": true
   },
   "outputs": [],
   "source": [
    "formation_prediction = np.exp(xgbFit2.predict(test[features]))-1"
   ]
  },
  {
   "cell_type": "code",
   "execution_count": 130,
   "metadata": {
    "collapsed": true
   },
   "outputs": [],
   "source": [
    "bandgap_prediction = np.exp(xgbFit1.predict(test[features]))-1"
   ]
  },
  {
   "cell_type": "markdown",
   "metadata": {},
   "source": []
  },
  {
   "cell_type": "code",
   "execution_count": 131,
   "metadata": {},
   "outputs": [
    {
     "name": "stdout",
     "output_type": "stream",
     "text": [
      "0.948895973243\n",
      "0.982031499543\n"
     ]
    }
   ],
   "source": [
    "dtest_prediction = gsearch1.predict(dtest[features])\n",
    "dtrain_prediction = gsearch1.predict(dtrain[features])\n",
    "print(np.sqrt(mean_squared_error(dtest_prediction,dtest[target1])))\n",
    "print(np.sqrt(mean_squared_error(dtrain_prediction,dtrain[target1])))\n"
   ]
  },
  {
   "cell_type": "code",
   "execution_count": null,
   "metadata": {
    "collapsed": true
   },
   "outputs": [],
   "source": [
    "xgb_target2 = XGBClassifier(learning_rate=0.1,n_estimators=1000,max_depth=8,min_child_weight=3,gamma=0,subsample=0.8,colsample_bytree=0.8,objective='reg:linear',nthread=4,scale_pos_weight=1,seed=27) \n",
    "xgb_target1_fit = modelfit(xgb_target2,dtrain,dtest,features,target2,useTrainCV=True)"
   ]
  },
  {
   "cell_type": "code",
   "execution_count": 125,
   "metadata": {
    "collapsed": true
   },
   "outputs": [],
   "source": [
    "XGBRegressor?"
   ]
  },
  {
   "cell_type": "code",
   "execution_count": 95,
   "metadata": {},
   "outputs": [
    {
     "data": {
      "text/plain": [
       "<bound method XGBModel.get_xgb_params of XGBClassifier(base_score=0.5, colsample_bylevel=1, colsample_bytree=0.8,\n",
       "       gamma=0, learning_rate=0.1, max_delta_step=0, max_depth=8,\n",
       "       min_child_weight=3, missing=None, n_estimators=100, nthread=4,\n",
       "       objective='multi:softprob', reg_alpha=0, reg_lambda=1,\n",
       "       scale_pos_weight=1, seed=27, silent=True, subsample=0.8)>"
      ]
     },
     "execution_count": 95,
     "metadata": {},
     "output_type": "execute_result"
    }
   ],
   "source": [
    "xgb_target1_fit.get_xgb_params"
   ]
  },
  {
   "cell_type": "code",
   "execution_count": 155,
   "metadata": {},
   "outputs": [
    {
     "name": "stderr",
     "output_type": "stream",
     "text": [
      "C:\\Users\\imamk\\Anaconda3\\lib\\site-packages\\ipykernel_launcher.py:2: SettingWithCopyWarning: \n",
      "A value is trying to be set on a copy of a slice from a DataFrame.\n",
      "Try using .loc[row_indexer,col_indexer] = value instead\n",
      "\n",
      "See the caveats in the documentation: http://pandas.pydata.org/pandas-docs/stable/indexing.html#indexing-view-versus-copy\n",
      "  \n"
     ]
    }
   ],
   "source": [
    "hamse_ho_jayega = test[['id']]\n",
    "hamse_ho_jayega['bandgap_energy_ev'] = (test_predictions_band_linear+bandgap_prediction)/2\n",
    "#hamse_ho_jayega['formation_energy_ev_natom'] = test_predictions_form_linear"
   ]
  },
  {
   "cell_type": "code",
   "execution_count": 159,
   "metadata": {},
   "outputs": [
    {
     "name": "stderr",
     "output_type": "stream",
     "text": [
      "C:\\Users\\imamk\\Anaconda3\\lib\\site-packages\\ipykernel_launcher.py:3: SettingWithCopyWarning: \n",
      "A value is trying to be set on a copy of a slice from a DataFrame.\n",
      "Try using .loc[row_indexer,col_indexer] = value instead\n",
      "\n",
      "See the caveats in the documentation: http://pandas.pydata.org/pandas-docs/stable/indexing.html#indexing-view-versus-copy\n",
      "  This is separate from the ipykernel package so we can avoid doing imports until\n"
     ]
    }
   ],
   "source": [
    "#hamse_ho_jayega = test[['id']]\n",
    "#hamse_ho_jayega['bandgap_energy_ev'] = bandgap_prediction\n",
    "hamse_ho_jayega['formation_energy_ev_natom'] = (formation_prediction+test_predictions_form_linear)/2.01"
   ]
  },
  {
   "cell_type": "code",
   "execution_count": 35,
   "metadata": {},
   "outputs": [
    {
     "name": "stderr",
     "output_type": "stream",
     "text": [
      "C:\\Users\\imamk\\Anaconda3\\lib\\site-packages\\ipykernel_launcher.py:2: SettingWithCopyWarning: \n",
      "A value is trying to be set on a copy of a slice from a DataFrame.\n",
      "Try using .loc[row_indexer,col_indexer] = value instead\n",
      "\n",
      "See the caveats in the documentation: http://pandas.pydata.org/pandas-docs/stable/indexing.html#indexing-view-versus-copy\n",
      "  \n"
     ]
    }
   ],
   "source": [
    "tingting = test[['id']]\n",
    "tingting['formation_prediction'] = formation_prediction\n",
    "tingting.to_csv(\"formation_prediction.csv\",index = False)"
   ]
  },
  {
   "cell_type": "code",
   "execution_count": 160,
   "metadata": {},
   "outputs": [
    {
     "data": {
      "text/html": [
       "<div>\n",
       "<style>\n",
       "    .dataframe thead tr:only-child th {\n",
       "        text-align: right;\n",
       "    }\n",
       "\n",
       "    .dataframe thead th {\n",
       "        text-align: left;\n",
       "    }\n",
       "\n",
       "    .dataframe tbody tr th {\n",
       "        vertical-align: top;\n",
       "    }\n",
       "</style>\n",
       "<table border=\"1\" class=\"dataframe\">\n",
       "  <thead>\n",
       "    <tr style=\"text-align: right;\">\n",
       "      <th></th>\n",
       "      <th>id</th>\n",
       "      <th>bandgap_energy_ev</th>\n",
       "      <th>formation_energy_ev_natom</th>\n",
       "    </tr>\n",
       "  </thead>\n",
       "  <tbody>\n",
       "  </tbody>\n",
       "</table>\n",
       "</div>"
      ],
      "text/plain": [
       "Empty DataFrame\n",
       "Columns: [id, bandgap_energy_ev, formation_energy_ev_natom]\n",
       "Index: []"
      ]
     },
     "execution_count": 160,
     "metadata": {},
     "output_type": "execute_result"
    }
   ],
   "source": [
    "hamse_ho_jayega[hamse_ho_jayega['bandgap_energy_ev']<0]"
   ]
  },
  {
   "cell_type": "code",
   "execution_count": 161,
   "metadata": {
    "collapsed": true
   },
   "outputs": [],
   "source": [
    "hamse_ho_jayega.to_csv(\"hamse_ho_jayega.csv\",index=False)"
   ]
  },
  {
   "cell_type": "code",
   "execution_count": 75,
   "metadata": {},
   "outputs": [
    {
     "ename": "TypeError",
     "evalue": "'<' not supported between instances of 'list' and 'int'",
     "output_type": "error",
     "traceback": [
      "\u001b[1;31m---------------------------------------------------------------------------\u001b[0m",
      "\u001b[1;31mTypeError\u001b[0m                                 Traceback (most recent call last)",
      "\u001b[1;32m<ipython-input-75-121e1ce46ff9>\u001b[0m in \u001b[0;36m<module>\u001b[1;34m()\u001b[0m\n\u001b[1;32m----> 1\u001b[1;33m \u001b[0mtest_predictions_form_linear\u001b[0m\u001b[1;33m[\u001b[0m\u001b[0mtest_predictions_form_linear\u001b[0m\u001b[1;33m<\u001b[0m\u001b[1;36m0\u001b[0m\u001b[1;33m]\u001b[0m\u001b[1;33m\u001b[0m\u001b[0m\n\u001b[0m",
      "\u001b[1;31mTypeError\u001b[0m: '<' not supported between instances of 'list' and 'int'"
     ]
    }
   ],
   "source": [
    "test_predictions_form_linear[test_predictions_form_linear<0]"
   ]
  },
  {
   "cell_type": "code",
   "execution_count": 77,
   "metadata": {},
   "outputs": [
    {
     "ename": "TypeError",
     "evalue": "'<' not supported between instances of 'list' and 'int'",
     "output_type": "error",
     "traceback": [
      "\u001b[1;31m---------------------------------------------------------------------------\u001b[0m",
      "\u001b[1;31mTypeError\u001b[0m                                 Traceback (most recent call last)",
      "\u001b[1;32m<ipython-input-77-d9775fceffff>\u001b[0m in \u001b[0;36m<module>\u001b[1;34m()\u001b[0m\n\u001b[1;32m----> 1\u001b[1;33m \u001b[0mtest_predictions_form_linear\u001b[0m\u001b[1;33m<\u001b[0m\u001b[1;36m0\u001b[0m\u001b[1;33m\u001b[0m\u001b[0m\n\u001b[0m",
      "\u001b[1;31mTypeError\u001b[0m: '<' not supported between instances of 'list' and 'int'"
     ]
    }
   ],
   "source": []
  },
  {
   "cell_type": "code",
   "execution_count": null,
   "metadata": {
    "collapsed": true
   },
   "outputs": [],
   "source": []
  }
 ],
 "metadata": {
  "kernelspec": {
   "display_name": "Python 3",
   "language": "python",
   "name": "python3"
  },
  "language_info": {
   "codemirror_mode": {
    "name": "ipython",
    "version": 3
   },
   "file_extension": ".py",
   "mimetype": "text/x-python",
   "name": "python",
   "nbconvert_exporter": "python",
   "pygments_lexer": "ipython3",
   "version": "3.6.3"
  }
 },
 "nbformat": 4,
 "nbformat_minor": 2
}
