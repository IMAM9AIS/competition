{
 "cells": [
  {
   "cell_type": "code",
   "execution_count": 2,
   "metadata": {},
   "outputs": [
    {
     "name": "stderr",
     "output_type": "stream",
     "text": [
      "C:\\Users\\imamk\\Anaconda3\\lib\\site-packages\\sklearn\\cross_validation.py:41: DeprecationWarning: This module was deprecated in version 0.18 in favor of the model_selection module into which all the refactored classes and functions are moved. Also note that the interface of the new CV iterators are different from that of this module. This module will be removed in 0.20.\n",
      "  \"This module will be removed in 0.20.\", DeprecationWarning)\n",
      "C:\\Users\\imamk\\Anaconda3\\lib\\site-packages\\sklearn\\grid_search.py:42: DeprecationWarning: This module was deprecated in version 0.18 in favor of the model_selection module into which all the refactored classes and functions are moved. This module will be removed in 0.20.\n",
      "  DeprecationWarning)\n"
     ]
    }
   ],
   "source": [
    "\n",
    "#pandas\n",
    "import pandas as pd\n",
    "from pandas import Series,DataFrame\n",
    "\n",
    "#numpy\n",
    "import numpy as np\n",
    "import matplotlib.pyplot as plt\n",
    "import seaborn as sns\n",
    "sns.set_style('whitegrid')\n",
    "%matplotlib inline\n",
    "\n",
    "from datetime import datetime\n",
    "import math\n",
    "from sklearn.preprocessing import LabelEncoder\n",
    "#machine learning\n",
    "from sklearn.linear_model import LinearRegression\n",
    "from sklearn.linear_model import LogisticRegression\n",
    "from sklearn.linear_model import Ridge\n",
    "from sklearn.linear_model import Lasso\n",
    "from sklearn.svm import SVC,LinearSVC\n",
    "from sklearn.ensemble import RandomForestClassifier\n",
    "from sklearn.neighbors import KNeighborsClassifier\n",
    "from sklearn.naive_bayes import GaussianNB\n",
    "from sklearn.decomposition import PCA\n",
    "from sklearn.grid_search import GridSearchCV\n",
    "from sklearn.cross_validation import train_test_split\n",
    "from sklearn.ensemble import GradientBoostingRegressor\n",
    "from sklearn.ensemble import GradientBoostingClassifier\n",
    "from sklearn.metrics import confusion_matrix\n",
    "from sklearn.metrics import precision_recall_curve,accuracy_score,mean_squared_log_error\n",
    "from sklearn.metrics import roc_curve, auc,roc_auc_score,mean_squared_error\n",
    "import xgboost as xgb\n",
    "from numpy.linalg import inv\n",
    "from xgboost.sklearn import XGBClassifier,XGBRegressor\n",
    "from sklearn.kernel_ridge import KernelRidge\n",
    "import matplotlib.dates\n",
    "import operator\n",
    "from quilt.data.ResidentMario import missingno_data \n",
    "import missingno as msno\n"
   ]
  },
  {
   "cell_type": "code",
   "execution_count": 3,
   "metadata": {},
   "outputs": [],
   "source": [
    "train = pd.read_csv(\"transformed_train1.csv\")\n",
    "test  = pd.read_csv(\"transformed_test1.csv\")"
   ]
  },
  {
   "cell_type": "code",
   "execution_count": 7,
   "metadata": {
    "collapsed": true
   },
   "outputs": [],
   "source": [
    "itrain,itest = train_test_split(range(train.shape[0]),train_size=0.8,random_state = 2017)\n",
    "mask = np.ones(train.shape[0],dtype='int')\n",
    "mask[itrain] = 1\n",
    "mask[itest] = 0\n",
    "mask = (mask==1)"
   ]
  },
  {
   "cell_type": "code",
   "execution_count": 9,
   "metadata": {},
   "outputs": [
    {
     "data": {
      "text/html": [
       "<div>\n",
       "<style>\n",
       "    .dataframe thead tr:only-child th {\n",
       "        text-align: right;\n",
       "    }\n",
       "\n",
       "    .dataframe thead th {\n",
       "        text-align: left;\n",
       "    }\n",
       "\n",
       "    .dataframe tbody tr th {\n",
       "        vertical-align: top;\n",
       "    }\n",
       "</style>\n",
       "<table border=\"1\" class=\"dataframe\">\n",
       "  <thead>\n",
       "    <tr style=\"text-align: right;\">\n",
       "      <th></th>\n",
       "      <th>bandgap_energy_ev</th>\n",
       "      <th>formation_energy_ev_natom</th>\n",
       "      <th>id</th>\n",
       "      <th>lattice_angle_alpha_degree</th>\n",
       "      <th>lattice_angle_beta_degree</th>\n",
       "      <th>lattice_angle_gamma_degree</th>\n",
       "      <th>lattice_vector_1_ang</th>\n",
       "      <th>lattice_vector_2_ang</th>\n",
       "      <th>lattice_vector_3_ang</th>\n",
       "      <th>number_of_total_atoms</th>\n",
       "      <th>...</th>\n",
       "      <th>clusters_of_lattices_9</th>\n",
       "      <th>area</th>\n",
       "      <th>area_bucket</th>\n",
       "      <th>atomic_density</th>\n",
       "      <th>nota_10.0</th>\n",
       "      <th>nota_20.0</th>\n",
       "      <th>nota_30.0</th>\n",
       "      <th>nota_40.0</th>\n",
       "      <th>nota_60.0</th>\n",
       "      <th>nota_80.0</th>\n",
       "    </tr>\n",
       "  </thead>\n",
       "  <tbody>\n",
       "    <tr>\n",
       "      <th>2393</th>\n",
       "      <td>3.7349</td>\n",
       "      <td>0.0381</td>\n",
       "      <td>2396</td>\n",
       "      <td>90.0038</td>\n",
       "      <td>90.0023</td>\n",
       "      <td>90.0015</td>\n",
       "      <td>4.9469</td>\n",
       "      <td>8.5014</td>\n",
       "      <td>9.1298</td>\n",
       "      <td>40.0</td>\n",
       "      <td>...</td>\n",
       "      <td>0</td>\n",
       "      <td>49.581828</td>\n",
       "      <td>1</td>\n",
       "      <td>0.104178</td>\n",
       "      <td>0</td>\n",
       "      <td>0</td>\n",
       "      <td>0</td>\n",
       "      <td>1</td>\n",
       "      <td>0</td>\n",
       "      <td>0</td>\n",
       "    </tr>\n",
       "    <tr>\n",
       "      <th>2394</th>\n",
       "      <td>3.4915</td>\n",
       "      <td>0.0670</td>\n",
       "      <td>2397</td>\n",
       "      <td>89.9938</td>\n",
       "      <td>90.0075</td>\n",
       "      <td>120.0007</td>\n",
       "      <td>4.9566</td>\n",
       "      <td>4.9562</td>\n",
       "      <td>13.4178</td>\n",
       "      <td>30.0</td>\n",
       "      <td>...</td>\n",
       "      <td>0</td>\n",
       "      <td>58.568657</td>\n",
       "      <td>2</td>\n",
       "      <td>0.091014</td>\n",
       "      <td>0</td>\n",
       "      <td>0</td>\n",
       "      <td>1</td>\n",
       "      <td>0</td>\n",
       "      <td>0</td>\n",
       "      <td>0</td>\n",
       "    </tr>\n",
       "    <tr>\n",
       "      <th>2395</th>\n",
       "      <td>3.2750</td>\n",
       "      <td>0.0906</td>\n",
       "      <td>2398</td>\n",
       "      <td>90.0047</td>\n",
       "      <td>90.0046</td>\n",
       "      <td>89.9954</td>\n",
       "      <td>9.2204</td>\n",
       "      <td>9.2200</td>\n",
       "      <td>9.2199</td>\n",
       "      <td>80.0</td>\n",
       "      <td>...</td>\n",
       "      <td>0</td>\n",
       "      <td>73.623044</td>\n",
       "      <td>2</td>\n",
       "      <td>0.102066</td>\n",
       "      <td>0</td>\n",
       "      <td>0</td>\n",
       "      <td>0</td>\n",
       "      <td>0</td>\n",
       "      <td>0</td>\n",
       "      <td>1</td>\n",
       "    </tr>\n",
       "    <tr>\n",
       "      <th>2396</th>\n",
       "      <td>1.3915</td>\n",
       "      <td>0.2566</td>\n",
       "      <td>2399</td>\n",
       "      <td>90.0015</td>\n",
       "      <td>89.9996</td>\n",
       "      <td>90.0004</td>\n",
       "      <td>10.6529</td>\n",
       "      <td>9.0954</td>\n",
       "      <td>9.7210</td>\n",
       "      <td>80.0</td>\n",
       "      <td>...</td>\n",
       "      <td>1</td>\n",
       "      <td>83.561571</td>\n",
       "      <td>3</td>\n",
       "      <td>0.084936</td>\n",
       "      <td>0</td>\n",
       "      <td>0</td>\n",
       "      <td>0</td>\n",
       "      <td>0</td>\n",
       "      <td>0</td>\n",
       "      <td>1</td>\n",
       "    </tr>\n",
       "    <tr>\n",
       "      <th>2397</th>\n",
       "      <td>4.2107</td>\n",
       "      <td>0.1135</td>\n",
       "      <td>2400</td>\n",
       "      <td>90.0027</td>\n",
       "      <td>90.0037</td>\n",
       "      <td>89.9987</td>\n",
       "      <td>9.0648</td>\n",
       "      <td>9.0641</td>\n",
       "      <td>9.0643</td>\n",
       "      <td>80.0</td>\n",
       "      <td>...</td>\n",
       "      <td>0</td>\n",
       "      <td>71.157657</td>\n",
       "      <td>2</td>\n",
       "      <td>0.107417</td>\n",
       "      <td>0</td>\n",
       "      <td>0</td>\n",
       "      <td>0</td>\n",
       "      <td>0</td>\n",
       "      <td>0</td>\n",
       "      <td>1</td>\n",
       "    </tr>\n",
       "  </tbody>\n",
       "</table>\n",
       "<p>5 rows × 40 columns</p>\n",
       "</div>"
      ],
      "text/plain": [
       "      bandgap_energy_ev  formation_energy_ev_natom    id  \\\n",
       "2393             3.7349                     0.0381  2396   \n",
       "2394             3.4915                     0.0670  2397   \n",
       "2395             3.2750                     0.0906  2398   \n",
       "2396             1.3915                     0.2566  2399   \n",
       "2397             4.2107                     0.1135  2400   \n",
       "\n",
       "      lattice_angle_alpha_degree  lattice_angle_beta_degree  \\\n",
       "2393                     90.0038                    90.0023   \n",
       "2394                     89.9938                    90.0075   \n",
       "2395                     90.0047                    90.0046   \n",
       "2396                     90.0015                    89.9996   \n",
       "2397                     90.0027                    90.0037   \n",
       "\n",
       "      lattice_angle_gamma_degree  lattice_vector_1_ang  lattice_vector_2_ang  \\\n",
       "2393                     90.0015                4.9469                8.5014   \n",
       "2394                    120.0007                4.9566                4.9562   \n",
       "2395                     89.9954                9.2204                9.2200   \n",
       "2396                     90.0004               10.6529                9.0954   \n",
       "2397                     89.9987                9.0648                9.0641   \n",
       "\n",
       "      lattice_vector_3_ang  number_of_total_atoms    ...      \\\n",
       "2393                9.1298                   40.0    ...       \n",
       "2394               13.4178                   30.0    ...       \n",
       "2395                9.2199                   80.0    ...       \n",
       "2396                9.7210                   80.0    ...       \n",
       "2397                9.0643                   80.0    ...       \n",
       "\n",
       "      clusters_of_lattices_9       area  area_bucket  atomic_density  \\\n",
       "2393                       0  49.581828            1        0.104178   \n",
       "2394                       0  58.568657            2        0.091014   \n",
       "2395                       0  73.623044            2        0.102066   \n",
       "2396                       1  83.561571            3        0.084936   \n",
       "2397                       0  71.157657            2        0.107417   \n",
       "\n",
       "      nota_10.0  nota_20.0  nota_30.0  nota_40.0  nota_60.0  nota_80.0  \n",
       "2393          0          0          0          1          0          0  \n",
       "2394          0          0          1          0          0          0  \n",
       "2395          0          0          0          0          0          1  \n",
       "2396          0          0          0          0          0          1  \n",
       "2397          0          0          0          0          0          1  \n",
       "\n",
       "[5 rows x 40 columns]"
      ]
     },
     "execution_count": 9,
     "metadata": {},
     "output_type": "execute_result"
    }
   ],
   "source": [
    "train.tail()"
   ]
  },
  {
   "cell_type": "code",
   "execution_count": 10,
   "metadata": {},
   "outputs": [
    {
     "data": {
      "text/plain": [
       "Index(['bandgap_energy_ev', 'formation_energy_ev_natom', 'id',\n",
       "       'lattice_angle_alpha_degree', 'lattice_angle_beta_degree',\n",
       "       'lattice_angle_gamma_degree', 'lattice_vector_1_ang',\n",
       "       'lattice_vector_2_ang', 'lattice_vector_3_ang', 'number_of_total_atoms',\n",
       "       'percent_atom_al', 'percent_atom_ga', 'percent_atom_in', 'spacegroup',\n",
       "       'train_or_not', 'one_to_two', 'one_to_three', 'two_to_three',\n",
       "       'bucket_sg_ratio_1', 'bucket_sg_ratio_2', 'clusters_of_lattices',\n",
       "       'clusters_of_lattices_0', 'clusters_of_lattices_1',\n",
       "       'clusters_of_lattices_2', 'clusters_of_lattices_3',\n",
       "       'clusters_of_lattices_4', 'clusters_of_lattices_5',\n",
       "       'clusters_of_lattices_6', 'clusters_of_lattices_7',\n",
       "       'clusters_of_lattices_8', 'clusters_of_lattices_9', 'area',\n",
       "       'area_bucket', 'atomic_density', 'nota_10.0', 'nota_20.0', 'nota_30.0',\n",
       "       'nota_40.0', 'nota_60.0', 'nota_80.0'],\n",
       "      dtype='object')"
      ]
     },
     "execution_count": 10,
     "metadata": {},
     "output_type": "execute_result"
    }
   ],
   "source": [
    "train.columns"
   ]
  },
  {
   "cell_type": "code",
   "execution_count": 67,
   "metadata": {
    "collapsed": true
   },
   "outputs": [],
   "source": [
    "features = ['lattice_angle_alpha_degree', 'lattice_angle_beta_degree',\n",
    "       'lattice_angle_gamma_degree', 'lattice_vector_1_ang',\n",
    "       'lattice_vector_2_ang', 'lattice_vector_3_ang', 'number_of_total_atoms','spacegroup','one_to_two', 'one_to_three', 'two_to_three',\n",
    "       'bucket_sg_ratio_1', 'bucket_sg_ratio_2', 'clusters_of_lattices',\n",
    "       'clusters_of_lattices_0', 'clusters_of_lattices_1',\n",
    "       'clusters_of_lattices_2', 'clusters_of_lattices_3',\n",
    "       'clusters_of_lattices_4', 'clusters_of_lattices_5',\n",
    "       'clusters_of_lattices_6', 'clusters_of_lattices_7',\n",
    "       'clusters_of_lattices_8', 'clusters_of_lattices_9','area_bucket', 'atomic_density', 'nota_10.0', 'nota_20.0', 'nota_30.0',\n",
    "       'nota_40.0', 'nota_60.0', 'nota_80.0']"
   ]
  },
  {
   "cell_type": "code",
   "execution_count": 12,
   "metadata": {
    "collapsed": true
   },
   "outputs": [],
   "source": [
    "target1 = 'bandgap_energy_ev'\n",
    "target2 = 'formation_energy_ev_natom'"
   ]
  },
  {
   "cell_type": "code",
   "execution_count": 13,
   "metadata": {
    "collapsed": true
   },
   "outputs": [],
   "source": [
    "def calculate_rmsle(y_predicted,y_actual):\n",
    "    return (np.sqrt(np.mean((np.log1p(y_predicted) - np.log1p(y_actual))**2)))"
   ]
  },
  {
   "cell_type": "code",
   "execution_count": 14,
   "metadata": {
    "collapsed": true
   },
   "outputs": [],
   "source": [
    "def try_Kernel_Ridge(train,mask,features,target,kernel = \"linear\",alpha = 1.0,degree = 2,gamma = 3):\n",
    "    clf = KernelRidge(kernel=kernel,alpha=alpha,degree=degree,gamma=gamma)\n",
    "    X = train[features]\n",
    "    Y = train[target]\n",
    "    train_x = X[mask].values\n",
    "    test_x  = X[~mask].values\n",
    "    train_y = Y[mask].values\n",
    "    test_y = Y[~mask].values\n",
    "    train_y = np.log1p(train_y)\n",
    "    test_y = np.log1p(test_y)\n",
    "    clf.fit(train_x,train_y)\n",
    "    \n",
    "    train_prediction = clf.predict(train_x)\n",
    "    test_prediction = clf.predict(test_x)\n",
    "    \n",
    "    print(np.sqrt(mean_squared_error(train_prediction,train_y)))\n",
    "    print(np.sqrt(mean_squared_error(test_prediction,test_y)))\n",
    "    return clf\n",
    "    "
   ]
  },
  {
   "cell_type": "code",
   "execution_count": 15,
   "metadata": {},
   "outputs": [
    {
     "name": "stdout",
     "output_type": "stream",
     "text": [
      "bandgap linear\n",
      "0.105953916788\n",
      "0.111141270923\n",
      "formation linear\n",
      "0.0605247441419\n",
      "0.0619403559809\n"
     ]
    }
   ],
   "source": [
    "print(\"bandgap linear\")\n",
    "clf1 = try_Kernel_Ridge(train,mask,features,target1)\n",
    "print(\"formation linear\")\n",
    "clf2 = try_Kernel_Ridge(train,mask,features,target2)"
   ]
  },
  {
   "cell_type": "code",
   "execution_count": 154,
   "metadata": {},
   "outputs": [
    {
     "name": "stdout",
     "output_type": "stream",
     "text": [
      "bandgap polynomial\n",
      "0.0845843618692\n",
      "0.0925533323152\n",
      "formation polynomial\n",
      "0.0355135479294\n",
      "0.0383664483307\n"
     ]
    }
   ],
   "source": [
    "print(\"bandgap polynomial\")\n",
    "clf1 = try_Kernel_Ridge(train,mask,features,target1,kernel=\"polynomial\",alpha=10,degree =2 )\n",
    "print(\"formation polynomial\")\n",
    "clf2 = try_Kernel_Ridge(train,mask,features,target2,kernel = \"polynomial\",alpha=0.1,degree =2)"
   ]
  },
  {
   "cell_type": "code",
   "execution_count": 184,
   "metadata": {},
   "outputs": [
    {
     "name": "stdout",
     "output_type": "stream",
     "text": [
      "bandgap rbf\n",
      "0.0855092244933\n",
      "0.092456143711\n",
      "formation rbf\n",
      "0.0355135479294\n",
      "0.0383664483307\n"
     ]
    }
   ],
   "source": [
    "print(\"bandgap rbf\")\n",
    "clf1 = try_Kernel_Ridge(train,mask,features,target1,kernel=\"polynomial\",alpha=25,gamma = 2)\n",
    "print(\"formation rbf\")\n",
    "clf2 = try_Kernel_Ridge(train,mask,features,target2,kernel = \"polynomial\",alpha=0.1,gamma=3)"
   ]
  },
  {
   "cell_type": "code",
   "execution_count": 185,
   "metadata": {
    "collapsed": true
   },
   "outputs": [],
   "source": [
    "test_predictions_band_linear = np.exp(clf1.predict(test[features].values)) -1\n",
    "test_predictions_form_linear = np.exp(clf2.predict(test[features].values))-1\n",
    "new_pred = []\n",
    "for i in test_predictions_form_linear:\n",
    "    if i <0 :\n",
    "        i = 0.0001\n",
    "    new_pred.append(i)\n",
    "test_predictions_form_linear = new_pred"
   ]
  },
  {
   "cell_type": "code",
   "execution_count": 24,
   "metadata": {
    "collapsed": true
   },
   "outputs": [],
   "source": [
    "def modelfit(alg, dtrain,dtest,predictors,target,useTrainCV=True, cv_folds=5, early_stopping_rounds=5):\n",
    "    \n",
    "    if useTrainCV:\n",
    "        xgb_param = alg.get_xgb_params()\n",
    "        xgtrain = xgb.DMatrix(dtrain[predictors].values,(dtrain[target].values))\n",
    "        cvresult = xgb.cv(xgb_param, xgtrain, num_boost_round=alg.get_params()['n_estimators'], nfold=cv_folds,\n",
    "            metrics='rmse', early_stopping_rounds=early_stopping_rounds,verbose_eval=False)\n",
    "        alg.set_params(n_estimators=cvresult.shape[0])\n",
    "    \n",
    "    #Fit the algorithm on the data\n",
    "    alg.fit(dtrain[predictors], dtrain[target],eval_metric='rmse')\n",
    "        \n",
    "    #Predict training set:\n",
    "    dtrain_predictions = alg.predict(dtrain[predictors])\n",
    "    dtest_predictions  = alg.predict(dtest[predictors])\n",
    "    #dtrain_predprob = alg.predict_proba(dtrain[predictors])[:,1]\n",
    "    \n",
    "    #Print model report:\n",
    "    print (\"\\nModel Report\")\n",
    "    print (\"Accuracy train: %.4g\" % np.sqrt(mean_squared_error(dtrain[target].values, dtrain_predictions)))\n",
    "    print (\"Accuracy test : %.4g\" % np.sqrt(mean_squared_error(dtest[target].values, dtest_predictions)))\n",
    "    #print (\"AUC Score (Train): %f\" % roc_auc_score(dtrain[target], dtrain_predprob))\n",
    "    \n",
    "    feat_imp = pd.Series(alg.booster().get_fscore()).sort_values(ascending=False)\n",
    "    feat_imp.plot(kind='bar', title='Feature Importances')\n",
    "    plt.ylabel('Feature Importance Score')\n",
    "    return alg"
   ]
  },
  {
   "cell_type": "code",
   "execution_count": 25,
   "metadata": {},
   "outputs": [
    {
     "name": "stderr",
     "output_type": "stream",
     "text": [
      "C:\\Users\\imamk\\Anaconda3\\lib\\site-packages\\ipykernel_launcher.py:3: SettingWithCopyWarning: \n",
      "A value is trying to be set on a copy of a slice from a DataFrame.\n",
      "Try using .loc[row_indexer,col_indexer] = value instead\n",
      "\n",
      "See the caveats in the documentation: http://pandas.pydata.org/pandas-docs/stable/indexing.html#indexing-view-versus-copy\n",
      "  This is separate from the ipykernel package so we can avoid doing imports until\n",
      "C:\\Users\\imamk\\Anaconda3\\lib\\site-packages\\ipykernel_launcher.py:4: SettingWithCopyWarning: \n",
      "A value is trying to be set on a copy of a slice from a DataFrame.\n",
      "Try using .loc[row_indexer,col_indexer] = value instead\n",
      "\n",
      "See the caveats in the documentation: http://pandas.pydata.org/pandas-docs/stable/indexing.html#indexing-view-versus-copy\n",
      "  after removing the cwd from sys.path.\n",
      "C:\\Users\\imamk\\Anaconda3\\lib\\site-packages\\ipykernel_launcher.py:5: SettingWithCopyWarning: \n",
      "A value is trying to be set on a copy of a slice from a DataFrame.\n",
      "Try using .loc[row_indexer,col_indexer] = value instead\n",
      "\n",
      "See the caveats in the documentation: http://pandas.pydata.org/pandas-docs/stable/indexing.html#indexing-view-versus-copy\n",
      "  \"\"\"\n",
      "C:\\Users\\imamk\\Anaconda3\\lib\\site-packages\\ipykernel_launcher.py:6: SettingWithCopyWarning: \n",
      "A value is trying to be set on a copy of a slice from a DataFrame.\n",
      "Try using .loc[row_indexer,col_indexer] = value instead\n",
      "\n",
      "See the caveats in the documentation: http://pandas.pydata.org/pandas-docs/stable/indexing.html#indexing-view-versus-copy\n",
      "  \n"
     ]
    }
   ],
   "source": [
    "dtrain = train[mask]\n",
    "dtest  = train[~mask]\n",
    "dtrain[target1]  = np.log1p(dtrain[target1])\n",
    "dtest[target1]   = np.log1p(dtest[target1])\n",
    "dtrain[target2]  = np.log1p(dtrain[target2])\n",
    "dtest[target2]   = np.log1p(dtest[target2])"
   ]
  },
  {
   "cell_type": "code",
   "execution_count": 26,
   "metadata": {},
   "outputs": [
    {
     "name": "stdout",
     "output_type": "stream",
     "text": [
      "\n",
      "Model Report\n",
      "Accuracy train: 0.04895\n",
      "Accuracy test : 0.097\n"
     ]
    },
    {
     "data": {
      "image/png": "[encoded data removed]",
      "text/plain": [
       "<matplotlib.figure.Figure at 0x1b4bc311a20>"
      ]
     },
     "metadata": {},
     "output_type": "display_data"
    }
   ],
   "source": [
    "xgb_target1 = XGBRegressor(learning_rate=0.1,n_estimators=1000,max_depth=8,min_child_weight=1,gamma=0,subsample=0.8,colsample_bytree=0.8,objective='reg:linear',nthread=4,scale_pos_weight=1,seed=27) \n",
    "xgb_target1_fit = modelfit(xgb_target1,dtrain,dtest,features,target1,useTrainCV=True)"
   ]
  },
  {
   "cell_type": "code",
   "execution_count": 27,
   "metadata": {},
   "outputs": [
    {
     "data": {
      "text/plain": [
       "<bound method XGBModel.get_xgb_params of XGBRegressor(base_score=0.5, colsample_bylevel=1, colsample_bytree=0.8,\n",
       "       gamma=0, learning_rate=0.1, max_delta_step=0, max_depth=8,\n",
       "       min_child_weight=1, missing=None, n_estimators=47, nthread=4,\n",
       "       objective='reg:linear', reg_alpha=0, reg_lambda=1,\n",
       "       scale_pos_weight=1, seed=27, silent=True, subsample=0.8)>"
      ]
     },
     "execution_count": 27,
     "metadata": {},
     "output_type": "execute_result"
    }
   ],
   "source": [
    "xgb_target1_fit.get_xgb_params"
   ]
  },
  {
   "cell_type": "code",
   "execution_count": 48,
   "metadata": {},
   "outputs": [
    {
     "name": "stdout",
     "output_type": "stream",
     "text": [
      "{'max_depth': 5, 'min_child_weight': 3} -0.008091910348804748\n",
      "\n",
      "Model Report\n",
      "Accuracy train: 0.063\n",
      "Accuracy test : 0.09422\n"
     ]
    }
   ],
   "source": [
    "param_test1 = {\n",
    "    'max_depth': [5,6,7,8,9],\n",
    "    'min_child_weight': [1,2,3,4,5,6],\n",
    "}\n",
    "gsearch1 = GridSearchCV(estimator=XGBRegressor(learning_rate=0.1,n_estimators=60,max_depth=5,min_child_weight=1,gamma=0,subsample=0.8,colsample_bytree=0.8,objective='reg:linear',nthread=4,scale_pos_weight=1,seed=27),param_grid=param_test1,scoring='mean_squared_error',n_jobs=4,iid=False,cv=5)\n",
    "gsearch1.fit(dtrain[features],dtrain[target1])\n",
    "print( gsearch1.best_params_, gsearch1.best_score_\n",
    "dtrain_predictions = gsearch1.predict(dtrain[features])\n",
    "dtest_predictions  = gsearch1.predict(dtest[features])\n",
    "    #dtrain_predprob = alg.predict_proba(dtrain[predictors])[:,1]\n",
    "    \n",
    "#Print model report:\n",
    "print (\"\\nModel Report\")\n",
    "print (\"Accuracy train: %.4g\" % np.sqrt(mean_squared_error(dtrain[target1].values, dtrain_predictions)))\n",
    "print (\"Accuracy test : %.4g\" % np.sqrt(mean_squared_error(dtest[target1].values, dtest_predictions)))"
   ]
  },
  {
   "cell_type": "code",
   "execution_count": 38,
   "metadata": {},
   "outputs": [
    {
     "name": "stdout",
     "output_type": "stream",
     "text": [
      "{'gamma': 0} -0.008045887924826352\n",
      "\n",
      "Model Report\n",
      "Accuracy train: 0.05785\n",
      "Accuracy test : 0.09568\n"
     ]
    }
   ],
   "source": [
    "param_test1 = {\n",
    "   'gamma': [0,0.5,1,10,100,1000]\n",
    "}\n",
    "gsearch1 = GridSearchCV(estimator=XGBRegressor(learning_rate=0.1,n_estimators=60,max_depth=6,min_child_weight=3,gamma=0,subsample=0.8,colsample_bytree=0.8,objective='reg:linear',nthread=4,scale_pos_weight=1,seed=27),param_grid=param_test1,scoring='mean_squared_error',n_jobs=4,iid=False,cv=5)\n",
    "gsearch1.fit(dtrain[features],dtrain[target1])\n",
    "print( gsearch1.best_params_, gsearch1.best_score_)\n",
    "dtrain_predictions = gsearch1.predict(dtrain[features])\n",
    "dtest_predictions  = gsearch1.predict(dtest[features])\n",
    "    #dtrain_predprob = alg.predict_proba(dtrain[predictors])[:,1]\n",
    "    \n",
    "#Print model report:\n",
    "print (\"\\nModel Report\")\n",
    "print (\"Accuracy train: %.4g\" % np.sqrt(mean_squared_error(dtrain[target1].values, dtrain_predictions)))\n",
    "print (\"Accuracy test : %.4g\" % np.sqrt(mean_squared_error(dtest[target1].values, dtest_predictions)))"
   ]
  },
  {
   "cell_type": "code",
   "execution_count": 51,
   "metadata": {},
   "outputs": [
    {
     "name": "stdout",
     "output_type": "stream",
     "text": [
      "{'colsample_bytree': 0.8, 'subsample': 0.8} -0.008045887924826352\n",
      "\n",
      "Model Report\n",
      "Accuracy train: 0.05785\n",
      "Accuracy test : 0.09568\n"
     ]
    }
   ],
   "source": [
    "param_test1 = {\n",
    "   'subsample': [0.7,0.8,0.9,1],\n",
    "    'colsample_bytree': [0.7,0.8,0.9,1]\n",
    "}\n",
    "gsearch1 = GridSearchCV(estimator=XGBRegressor(learning_rate=0.1,n_estimators=60,max_depth=6,min_child_weight=3,gamma=0,subsample=0.8,colsample_bytree=0.8,objective='reg:linear',nthread=4,scale_pos_weight=1,seed=27),param_grid=param_test1,scoring='mean_squared_error',n_jobs=4,iid=False,cv=5)\n",
    "gsearch1.fit(dtrain[features],dtrain[target1])\n",
    "print( gsearch1.best_params_, gsearch1.best_score_)\n",
    "dtrain_predictions = gsearch1.predict(dtrain[features])\n",
    "dtest_predictions  = gsearch1.predict(dtest[features])\n",
    "    #dtrain_predprob = alg.predict_proba(dtrain[predictors])[:,1]\n",
    "    \n",
    "#Print model report:\n",
    "print (\"\\nModel Report\")\n",
    "print (\"Accuracy train: %.4g\" % np.sqrt(mean_squared_error(dtrain[target1].values, dtrain_predictions)))\n",
    "print (\"Accuracy test : %.4g\" % np.sqrt(mean_squared_error(dtest[target1].values, dtest_predictions)))"
   ]
  },
  {
   "cell_type": "code",
   "execution_count": 56,
   "metadata": {},
   "outputs": [
    {
     "name": "stdout",
     "output_type": "stream",
     "text": [
      "{'reg_lambda': 5} -0.007945763639617654\n",
      "\n",
      "Model Report\n",
      "Accuracy train: 0.06272\n",
      "Accuracy test : 0.09283\n"
     ]
    }
   ],
   "source": [
    "param_test1 = {\n",
    " 'reg_lambda':[1,1.33,1.66,5,6]\n",
    "}\n",
    "gsearch1 = GridSearchCV(estimator=XGBRegressor(learning_rate=0.1,n_estimators=60,max_depth=6,min_child_weight=3,gamma=0,subsample=0.8,colsample_bytree=0.8,objective='reg:linear',nthread=4,scale_pos_weight=1,reg_alpha=0,reg_lambda=0.01,seed=27),param_grid=param_test1,scoring='mean_squared_error',n_jobs=4,iid=False,cv=5)\n",
    "gsearch1.fit(dtrain[features],dtrain[target1])\n",
    "print( gsearch1.best_params_, gsearch1.best_score_)\n",
    "dtrain_predictions = gsearch1.predict(dtrain[features])\n",
    "dtest_predictions  = gsearch1.predict(dtest[features])\n",
    "    #dtrain_predprob = alg.predict_proba(dtrain[predictors])[:,1]\n",
    "    \n",
    "#Print model report:\n",
    "print (\"\\nModel Report\")\n",
    "print (\"Accuracy train: %.4g\" % np.sqrt(mean_squared_error(dtrain[target1].values, dtrain_predictions)))\n",
    "print (\"Accuracy test : %.4g\" % np.sqrt(mean_squared_error(dtest[target1].values, dtest_predictions)))"
   ]
  },
  {
   "cell_type": "code",
   "execution_count": 59,
   "metadata": {},
   "outputs": [
    {
     "name": "stdout",
     "output_type": "stream",
     "text": [
      "{'reg_alpha': 0} -0.007945763639617654\n",
      "\n",
      "Model Report\n",
      "Accuracy train: 0.06272\n",
      "Accuracy test : 0.09283\n"
     ]
    }
   ],
   "source": [
    "param_test1 = {\n",
    " 'reg_alpha':[0,0.33,0.66,1,1.33,1.66,5,6]\n",
    "}\n",
    "gsearch1 = GridSearchCV(estimator=XGBRegressor(learning_rate=0.1,n_estimators=60,max_depth=6,min_child_weight=3,gamma=0,subsample=0.8,colsample_bytree=0.8,objective='reg:linear',nthread=4,scale_pos_weight=1,reg_alpha=0,reg_lambda=5,seed=27),param_grid=param_test1,scoring='mean_squared_error',n_jobs=4,iid=False,cv=5)\n",
    "gsearch1.fit(dtrain[features],dtrain[target1])\n",
    "print( gsearch1.best_params_, gsearch1.best_score_)\n",
    "dtrain_predictions = gsearch1.predict(dtrain[features])\n",
    "dtest_predictions  = gsearch1.predict(dtest[features])\n",
    "    #dtrain_predprob = alg.predict_proba(dtrain[predictors])[:,1]\n",
    "    \n",
    "#Print model report:\n",
    "print (\"\\nModel Report\")\n",
    "print (\"Accuracy train: %.4g\" % np.sqrt(mean_squared_error(dtrain[target1].values, dtrain_predictions)))\n",
    "print (\"Accuracy test : %.4g\" % np.sqrt(mean_squared_error(dtest[target1].values, dtest_predictions)))"
   ]
  },
  {
   "cell_type": "code",
   "execution_count": 65,
   "metadata": {
    "collapsed": true
   },
   "outputs": [],
   "source": [
    "features = ['lattice_angle_alpha_degree', 'lattice_angle_beta_degree',\n",
    "       'lattice_angle_gamma_degree', 'lattice_vector_1_ang',\n",
    "       'lattice_vector_2_ang', 'lattice_vector_3_ang', 'number_of_total_atoms','one_to_two', 'one_to_three', 'two_to_three',\n",
    "       'bucket_sg_ratio_1', 'bucket_sg_ratio_2', 'clusters_of_lattices',\n",
    "       'clusters_of_lattices_0', 'clusters_of_lattices_1',\n",
    "       'clusters_of_lattices_2', 'clusters_of_lattices_3', 'clusters_of_lattices_7',\n",
    "       'clusters_of_lattices_8', 'clusters_of_lattices_9','area_bucket', 'atomic_density', 'nota_10.0', 'nota_20.0', 'nota_30.0',\n",
    "       'nota_40.0', 'nota_60.0', 'nota_80.0']"
   ]
  },
  {
   "cell_type": "code",
   "execution_count": 66,
   "metadata": {},
   "outputs": [
    {
     "name": "stdout",
     "output_type": "stream",
     "text": [
      "\n",
      "Model Report\n",
      "Accuracy train: 0.06285\n",
      "Accuracy test : 0.09289\n"
     ]
    },
    {
     "data": {
      "image/png": "[encoded data removed]",
      "text/plain": [
       "<matplotlib.figure.Figure at 0x1b4bd5df9b0>"
      ]
     },
     "metadata": {},
     "output_type": "display_data"
    }
   ],
   "source": [
    "xgbRegressor_1 = XGBRegressor(learning_rate=0.1,n_estimators=60,max_depth=6,min_child_weight=3,gamma=0,subsample=0.8,colsample_bytree=0.8,objective='reg:linear',nthread=4,reg_alpha=0,reg_lambda=5,seed=27)\n",
    "xgbFit1 = modelfit(xgbRegressor_1,dtrain,dtest,features,target1,useTrainCV=False,early_stopping_rounds=5)"
   ]
  },
  {
   "cell_type": "code",
   "execution_count": 68,
   "metadata": {},
   "outputs": [
    {
     "name": "stdout",
     "output_type": "stream",
     "text": [
      "\n",
      "Model Report\n",
      "Accuracy train: 0.07059\n",
      "Accuracy test : 0.09208\n"
     ]
    },
    {
     "data": {
      "image/png": "[encoded data removed]",
      "text/plain": [
       "<matplotlib.figure.Figure at 0x1b4bd71c320>"
      ]
     },
     "metadata": {},
     "output_type": "display_data"
    }
   ],
   "source": [
    "xgbRegressor_1 = XGBRegressor(learning_rate=0.07,n_estimators=175,max_depth=4,min_child_weight=20,gamma=0,subsample=0.8,colsample_bytree=0.7,objective='reg:linear',nthread=4,reg_alpha=0,reg_lambda=5,seed=27)\n",
    "xgbFit1 = modelfit(xgbRegressor_1,dtrain,dtest,features,target1,useTrainCV=False,early_stopping_rounds=5)"
   ]
  },
  {
   "cell_type": "code",
   "execution_count": 72,
   "metadata": {},
   "outputs": [
    {
     "name": "stdout",
     "output_type": "stream",
     "text": [
      "\n",
      "Model Report\n",
      "Accuracy train: 0.02375\n",
      "Accuracy test : 0.03882\n"
     ]
    },
    {
     "data": {
      "image/png": "[encoded data removed]",
      "text/plain": [
       "<matplotlib.figure.Figure at 0x1b4bd8d1a90>"
      ]
     },
     "metadata": {},
     "output_type": "display_data"
    }
   ],
   "source": [
    "xgb_target2 = XGBRegressor(learning_rate=0.1,n_estimators=1000,max_depth=8,min_child_weight=3,gamma=0,subsample=0.8,colsample_bytree=0.8,objective='reg:linear',nthread=4,scale_pos_weight=1,seed=27) \n",
    "xgb_target2_fit = modelfit(xgb_target2,dtrain,dtest,features,target2,useTrainCV=True)"
   ]
  },
  {
   "cell_type": "code",
   "execution_count": 73,
   "metadata": {},
   "outputs": [
    {
     "data": {
      "text/plain": [
       "<bound method XGBModel.get_xgb_params of XGBRegressor(base_score=0.5, colsample_bylevel=1, colsample_bytree=0.8,\n",
       "       gamma=0, learning_rate=0.1, max_delta_step=0, max_depth=8,\n",
       "       min_child_weight=3, missing=None, n_estimators=52, nthread=4,\n",
       "       objective='reg:linear', reg_alpha=0, reg_lambda=1,\n",
       "       scale_pos_weight=1, seed=27, silent=True, subsample=0.8)>"
      ]
     },
     "execution_count": 73,
     "metadata": {},
     "output_type": "execute_result"
    }
   ],
   "source": [
    "xgb_target2_fit.get_xgb_params"
   ]
  },
  {
   "cell_type": "code",
   "execution_count": 78,
   "metadata": {},
   "outputs": [
    {
     "name": "stdout",
     "output_type": "stream",
     "text": [
      "{'max_depth': 7, 'min_child_weight': 5} -0.001385824949965411\n",
      "\n",
      "Model Report\n",
      "Accuracy train: 0.02572\n",
      "Accuracy test : 0.03897\n"
     ]
    }
   ],
   "source": [
    "param_test1 = {\n",
    "    'max_depth': [5,6,7,8,9],\n",
    "    'min_child_weight': [1,2,3,4,5,6],\n",
    "}\n",
    "gsearch1 = GridSearchCV(estimator=XGBRegressor(learning_rate=0.1,n_estimators=55,max_depth=8,min_child_weight=3,gamma=0,subsample=0.8,colsample_bytree=0.8,objective='reg:linear',nthread=4,scale_pos_weight=1,seed=27),param_grid=param_test1,scoring='neg_mean_squared_error',n_jobs=4,iid=False,cv=5)\n",
    "gsearch1.fit(dtrain[features],dtrain[target2])\n",
    "print( gsearch1.best_params_, gsearch1.best_score_)\n",
    "dtrain_predictions = gsearch1.predict(dtrain[features])\n",
    "dtest_predictions  = gsearch1.predict(dtest[features])\n",
    "    #dtrain_predprob = alg.predict_proba(dtrain[predictors])[:,1]\n",
    "    \n",
    "#Print model report:\n",
    "print (\"\\nModel Report\")\n",
    "print (\"Accuracy train: %.4g\" % np.sqrt(mean_squared_error(dtrain[target2].values, dtrain_predictions)))\n",
    "print (\"Accuracy test : %.4g\" % np.sqrt(mean_squared_error(dtest[target2].values, dtest_predictions)))"
   ]
  },
  {
   "cell_type": "code",
   "execution_count": 80,
   "metadata": {},
   "outputs": [
    {
     "name": "stdout",
     "output_type": "stream",
     "text": [
      "{'colsample_bytree': 0.9, 'subsample': 0.8} -0.0013773502990339166\n",
      "\n",
      "Model Report\n",
      "Accuracy train: 0.02521\n",
      "Accuracy test : 0.03866\n"
     ]
    }
   ],
   "source": [
    "param_test1 = {\n",
    "   'subsample': [0.7,0.8,0.9,1],\n",
    "    'colsample_bytree': [0.6,0.7,0.8,0.9]\n",
    "}\n",
    "gsearch1 = GridSearchCV(estimator=XGBRegressor(learning_rate=0.1,n_estimators=55,max_depth=7,min_child_weight=5,gamma=0,subsample=0.8,colsample_bytree=0.8,objective='reg:linear',nthread=4,scale_pos_weight=1,seed=27),param_grid=param_test1,scoring='neg_mean_squared_error',n_jobs=4,iid=False,cv=5)\n",
    "gsearch1.fit(dtrain[features],dtrain[target2])\n",
    "print( gsearch1.best_params_, gsearch1.best_score_)\n",
    "dtrain_predictions = gsearch1.predict(dtrain[features])\n",
    "dtest_predictions  = gsearch1.predict(dtest[features])\n",
    "    #dtrain_predprob = alg.predict_proba(dtrain[predictors])[:,1]\n",
    "    \n",
    "#Print model report:\n",
    "print (\"\\nModel Report\")\n",
    "print (\"Accuracy train: %.4g\" % np.sqrt(mean_squared_error(dtrain[target2].values, dtrain_predictions)))\n",
    "print (\"Accuracy test : %.4g\" % np.sqrt(mean_squared_error(dtest[target2].values, dtest_predictions)))"
   ]
  },
  {
   "cell_type": "code",
   "execution_count": 83,
   "metadata": {},
   "outputs": [
    {
     "name": "stdout",
     "output_type": "stream",
     "text": [
      "{'reg_lambda': 1} -0.0013773502990339166\n",
      "\n",
      "Model Report\n",
      "Accuracy train: 0.02521\n",
      "Accuracy test : 0.03866\n"
     ]
    }
   ],
   "source": [
    "param_test1 = {\n",
    " 'reg_lambda':[0.5,0.8,1,3,5,10]\n",
    "}\n",
    "gsearch1 = GridSearchCV(estimator=XGBRegressor(learning_rate=0.1,n_estimators=55,max_depth=7,min_child_weight=5,gamma=0,subsample=0.8,colsample_bytree=0.9,objective='reg:linear',nthread=4,scale_pos_weight=1,seed=27),param_grid=param_test1,scoring='neg_mean_squared_error',n_jobs=4,iid=False,cv=5)\n",
    "gsearch1.fit(dtrain[features],dtrain[target2])\n",
    "print( gsearch1.best_params_, gsearch1.best_score_)\n",
    "dtrain_predictions = gsearch1.predict(dtrain[features])\n",
    "dtest_predictions  = gsearch1.predict(dtest[features])\n",
    "    #dtrain_predprob = alg.predict_proba(dtrain[predictors])[:,1]\n",
    "    \n",
    "#Print model report:\n",
    "print (\"\\nModel Report\")\n",
    "print (\"Accuracy train: %.4g\" % np.sqrt(mean_squared_error(dtrain[target2].values, dtrain_predictions)))\n",
    "print (\"Accuracy test : %.4g\" % np.sqrt(mean_squared_error(dtest[target2].values, dtest_predictions)))"
   ]
  },
  {
   "cell_type": "code",
   "execution_count": 143,
   "metadata": {},
   "outputs": [
    {
     "name": "stdout",
     "output_type": "stream",
     "text": [
      "\n",
      "Model Report\n",
      "Accuracy train: 0.02544\n",
      "Accuracy test : 0.03855\n"
     ]
    },
    {
     "data": {
      "image/png": "[encoded data removed]",
      "text/plain": [
       "<matplotlib.figure.Figure at 0x1b4bd96e9b0>"
      ]
     },
     "metadata": {},
     "output_type": "display_data"
    }
   ],
   "source": [
    "xgbRegressor_2 = XGBRegressor(learning_rate=0.1,n_estimators=57,max_depth=7,min_child_weight=5,gamma=0.001,subsample=0.8,colsample_bytree=0.9,objective='reg:linear',nthread=4,reg_alpha=0,reg_lambda=1,seed=27)\n",
    "xgbFit2 = modelfit(xgbRegressor_2,dtrain,dtest,features,target2,useTrainCV=False,early_stopping_rounds=5)"
   ]
  },
  {
   "cell_type": "code",
   "execution_count": 144,
   "metadata": {
    "collapsed": true
   },
   "outputs": [],
   "source": [
    "formation_prediction = np.exp(xgbFit2.predict(test[features]))-1\n",
    "bandgap_prediction = np.exp(xgbFit1.predict(test[features]))-1"
   ]
  },
  {
   "cell_type": "code",
   "execution_count": 200,
   "metadata": {},
   "outputs": [
    {
     "data": {
      "text/html": [
       "<div>\n",
       "<style>\n",
       "    .dataframe thead tr:only-child th {\n",
       "        text-align: right;\n",
       "    }\n",
       "\n",
       "    .dataframe thead th {\n",
       "        text-align: left;\n",
       "    }\n",
       "\n",
       "    .dataframe tbody tr th {\n",
       "        vertical-align: top;\n",
       "    }\n",
       "</style>\n",
       "<table border=\"1\" class=\"dataframe\">\n",
       "  <thead>\n",
       "    <tr style=\"text-align: right;\">\n",
       "      <th></th>\n",
       "      <th>id</th>\n",
       "      <th>formation_prediction</th>\n",
       "    </tr>\n",
       "  </thead>\n",
       "  <tbody>\n",
       "    <tr>\n",
       "      <th>0</th>\n",
       "      <td>1</td>\n",
       "      <td>0.181465</td>\n",
       "    </tr>\n",
       "    <tr>\n",
       "      <th>1</th>\n",
       "      <td>2</td>\n",
       "      <td>0.058433</td>\n",
       "    </tr>\n",
       "    <tr>\n",
       "      <th>2</th>\n",
       "      <td>3</td>\n",
       "      <td>0.161261</td>\n",
       "    </tr>\n",
       "    <tr>\n",
       "      <th>3</th>\n",
       "      <td>4</td>\n",
       "      <td>0.036078</td>\n",
       "    </tr>\n",
       "    <tr>\n",
       "      <th>4</th>\n",
       "      <td>5</td>\n",
       "      <td>0.143187</td>\n",
       "    </tr>\n",
       "  </tbody>\n",
       "</table>\n",
       "</div>"
      ],
      "text/plain": [
       "   id  formation_prediction\n",
       "0   1              0.181465\n",
       "1   2              0.058433\n",
       "2   3              0.161261\n",
       "3   4              0.036078\n",
       "4   5              0.143187"
      ]
     },
     "execution_count": 200,
     "metadata": {},
     "output_type": "execute_result"
    }
   ],
   "source": [
    "formation_prediction_got = pd.read_csv(\"formation_prediction.csv\")\n",
    "formation_prediction_got.head()"
   ]
  },
  {
   "cell_type": "code",
   "execution_count": 201,
   "metadata": {},
   "outputs": [
    {
     "name": "stderr",
     "output_type": "stream",
     "text": [
      "C:\\Users\\imamk\\Anaconda3\\lib\\site-packages\\ipykernel_launcher.py:2: SettingWithCopyWarning: \n",
      "A value is trying to be set on a copy of a slice from a DataFrame.\n",
      "Try using .loc[row_indexer,col_indexer] = value instead\n",
      "\n",
      "See the caveats in the documentation: http://pandas.pydata.org/pandas-docs/stable/indexing.html#indexing-view-versus-copy\n",
      "  \n"
     ]
    }
   ],
   "source": [
    "hamse_ho_jayega = test[['id']]\n",
    "hamse_ho_jayega['bandgap_energy_ev'] = (bandgap_prediction + test_predictions_band_linear)/2"
   ]
  },
  {
   "cell_type": "code",
   "execution_count": 197,
   "metadata": {},
   "outputs": [
    {
     "data": {
      "text/html": [
       "<div>\n",
       "<style>\n",
       "    .dataframe thead tr:only-child th {\n",
       "        text-align: right;\n",
       "    }\n",
       "\n",
       "    .dataframe thead th {\n",
       "        text-align: left;\n",
       "    }\n",
       "\n",
       "    .dataframe tbody tr th {\n",
       "        vertical-align: top;\n",
       "    }\n",
       "</style>\n",
       "<table border=\"1\" class=\"dataframe\">\n",
       "  <thead>\n",
       "    <tr style=\"text-align: right;\">\n",
       "      <th></th>\n",
       "      <th>id</th>\n",
       "      <th>bandgap_energy_ev</th>\n",
       "      <th>formation_energy_ev_natom</th>\n",
       "    </tr>\n",
       "  </thead>\n",
       "  <tbody>\n",
       "    <tr>\n",
       "      <th>0</th>\n",
       "      <td>1</td>\n",
       "      <td>1.618139</td>\n",
       "      <td>0.181465</td>\n",
       "    </tr>\n",
       "    <tr>\n",
       "      <th>1</th>\n",
       "      <td>2</td>\n",
       "      <td>3.834379</td>\n",
       "      <td>0.058433</td>\n",
       "    </tr>\n",
       "    <tr>\n",
       "      <th>2</th>\n",
       "      <td>3</td>\n",
       "      <td>3.379246</td>\n",
       "      <td>0.161261</td>\n",
       "    </tr>\n",
       "    <tr>\n",
       "      <th>3</th>\n",
       "      <td>4</td>\n",
       "      <td>3.002432</td>\n",
       "      <td>0.036078</td>\n",
       "    </tr>\n",
       "    <tr>\n",
       "      <th>4</th>\n",
       "      <td>5</td>\n",
       "      <td>1.652196</td>\n",
       "      <td>0.143187</td>\n",
       "    </tr>\n",
       "  </tbody>\n",
       "</table>\n",
       "</div>"
      ],
      "text/plain": [
       "   id  bandgap_energy_ev  formation_energy_ev_natom\n",
       "0   1           1.618139                   0.181465\n",
       "1   2           3.834379                   0.058433\n",
       "2   3           3.379246                   0.161261\n",
       "3   4           3.002432                   0.036078\n",
       "4   5           1.652196                   0.143187"
      ]
     },
     "execution_count": 197,
     "metadata": {},
     "output_type": "execute_result"
    }
   ],
   "source": [
    "hamse_ho_jayega.head()"
   ]
  },
  {
   "cell_type": "code",
   "execution_count": 202,
   "metadata": {},
   "outputs": [
    {
     "name": "stderr",
     "output_type": "stream",
     "text": [
      "C:\\Users\\imamk\\Anaconda3\\lib\\site-packages\\ipykernel_launcher.py:1: SettingWithCopyWarning: \n",
      "A value is trying to be set on a copy of a slice from a DataFrame.\n",
      "Try using .loc[row_indexer,col_indexer] = value instead\n",
      "\n",
      "See the caveats in the documentation: http://pandas.pydata.org/pandas-docs/stable/indexing.html#indexing-view-versus-copy\n",
      "  \"\"\"Entry point for launching an IPython kernel.\n"
     ]
    }
   ],
   "source": [
    "hamse_ho_jayega['formation_energy_ev_natom'] = formation_prediction_got['formation_prediction']"
   ]
  },
  {
   "cell_type": "code",
   "execution_count": 187,
   "metadata": {
    "collapsed": true
   },
   "outputs": [],
   "source": [
    "hamse_ho_jayega1 = pd.merge(hamse_ho_jayega,formation_prediction_got,how=\"left\",left_on='id',right_on='id')"
   ]
  },
  {
   "cell_type": "code",
   "execution_count": 190,
   "metadata": {
    "collapsed": true
   },
   "outputs": [],
   "source": [
    "hamse_ho_jayega['formation_energy_ev_natom'] = hamse_ho_jayega['formation_prediction']"
   ]
  },
  {
   "cell_type": "code",
   "execution_count": 191,
   "metadata": {
    "collapsed": true
   },
   "outputs": [],
   "source": [
    "hamse_ho_jayega = hamse_ho_jayega[['bandgap_energy_ev','formation_energy_ev_natom']]"
   ]
  },
  {
   "cell_type": "code",
   "execution_count": 204,
   "metadata": {
    "collapsed": true
   },
   "outputs": [],
   "source": [
    "hamse_ho_jayega.to_csv(\"hamse_ho_jayega.csv\",index=False)"
   ]
  },
  {
   "cell_type": "code",
   "execution_count": 203,
   "metadata": {},
   "outputs": [
    {
     "data": {
      "text/html": [
       "<div>\n",
       "<style>\n",
       "    .dataframe thead tr:only-child th {\n",
       "        text-align: right;\n",
       "    }\n",
       "\n",
       "    .dataframe thead th {\n",
       "        text-align: left;\n",
       "    }\n",
       "\n",
       "    .dataframe tbody tr th {\n",
       "        vertical-align: top;\n",
       "    }\n",
       "</style>\n",
       "<table border=\"1\" class=\"dataframe\">\n",
       "  <thead>\n",
       "    <tr style=\"text-align: right;\">\n",
       "      <th></th>\n",
       "      <th>id</th>\n",
       "      <th>bandgap_energy_ev</th>\n",
       "      <th>formation_energy_ev_natom</th>\n",
       "    </tr>\n",
       "  </thead>\n",
       "  <tbody>\n",
       "    <tr>\n",
       "      <th>595</th>\n",
       "      <td>596</td>\n",
       "      <td>1.354007</td>\n",
       "      <td>0.040028</td>\n",
       "    </tr>\n",
       "    <tr>\n",
       "      <th>596</th>\n",
       "      <td>597</td>\n",
       "      <td>0.936355</td>\n",
       "      <td>0.243379</td>\n",
       "    </tr>\n",
       "    <tr>\n",
       "      <th>597</th>\n",
       "      <td>598</td>\n",
       "      <td>0.711649</td>\n",
       "      <td>0.109272</td>\n",
       "    </tr>\n",
       "    <tr>\n",
       "      <th>598</th>\n",
       "      <td>599</td>\n",
       "      <td>2.216689</td>\n",
       "      <td>0.246124</td>\n",
       "    </tr>\n",
       "    <tr>\n",
       "      <th>599</th>\n",
       "      <td>600</td>\n",
       "      <td>2.169526</td>\n",
       "      <td>0.201883</td>\n",
       "    </tr>\n",
       "  </tbody>\n",
       "</table>\n",
       "</div>"
      ],
      "text/plain": [
       "      id  bandgap_energy_ev  formation_energy_ev_natom\n",
       "595  596           1.354007                   0.040028\n",
       "596  597           0.936355                   0.243379\n",
       "597  598           0.711649                   0.109272\n",
       "598  599           2.216689                   0.246124\n",
       "599  600           2.169526                   0.201883"
      ]
     },
     "execution_count": 203,
     "metadata": {},
     "output_type": "execute_result"
    }
   ],
   "source": [
    "hamse_ho_jayega.tail()"
   ]
  },
  {
   "cell_type": "code",
   "execution_count": 2,
   "metadata": {},
   "outputs": [
    {
     "name": "stdout",
     "output_type": "stream",
     "text": [
      "Collecting tensorflow-gpu\n",
      "  Downloading tensorflow_gpu-1.5.0-cp36-cp36m-win_amd64.whl (82.1MB)\n",
      "Collecting absl-py>=0.1.6 (from tensorflow-gpu)\n",
      "  Downloading absl-py-0.1.10.tar.gz (79kB)\n",
      "Collecting protobuf>=3.4.0 (from tensorflow-gpu)\n",
      "  Downloading protobuf-3.5.1-py2.py3-none-any.whl (388kB)\n",
      "Requirement already satisfied: numpy>=1.12.1 in c:\\users\\imamk\\anaconda3\\lib\\site-packages (from tensorflow-gpu)\n",
      "Collecting tensorflow-tensorboard<1.6.0,>=1.5.0 (from tensorflow-gpu)\n",
      "  Downloading tensorflow_tensorboard-1.5.1-py3-none-any.whl (3.0MB)\n",
      "Requirement already satisfied: wheel>=0.26 in c:\\users\\imamk\\anaconda3\\lib\\site-packages (from tensorflow-gpu)\n",
      "Requirement already satisfied: six>=1.10.0 in c:\\users\\imamk\\anaconda3\\lib\\site-packages (from tensorflow-gpu)\n",
      "Requirement already satisfied: setuptools in c:\\users\\imamk\\anaconda3\\lib\\site-packages (from protobuf>=3.4.0->tensorflow-gpu)\n",
      "Collecting markdown>=2.6.8 (from tensorflow-tensorboard<1.6.0,>=1.5.0->tensorflow-gpu)\n",
      "  Downloading Markdown-2.6.11-py2.py3-none-any.whl (78kB)\n",
      "Collecting bleach==1.5.0 (from tensorflow-tensorboard<1.6.0,>=1.5.0->tensorflow-gpu)\n",
      "  Downloading bleach-1.5.0-py2.py3-none-any.whl\n",
      "Collecting html5lib==0.9999999 (from tensorflow-tensorboard<1.6.0,>=1.5.0->tensorflow-gpu)\n",
      "  Downloading html5lib-0.9999999.tar.gz (889kB)\n",
      "Requirement already satisfied: werkzeug>=0.11.10 in c:\\users\\imamk\\anaconda3\\lib\\site-packages (from tensorflow-tensorboard<1.6.0,>=1.5.0->tensorflow-gpu)\n",
      "Building wheels for collected packages: absl-py, html5lib\n",
      "  Running setup.py bdist_wheel for absl-py: started\n",
      "  Running setup.py bdist_wheel for absl-py: finished with status 'done'\n",
      "  Stored in directory: C:\\Users\\imamk\\AppData\\Local\\pip\\Cache\\wheels\\45\\07\\0e\\6880381ca521796cf6cc18ba4ab502c2232e5777099b4df4ae\n",
      "  Running setup.py bdist_wheel for html5lib: started\n",
      "  Running setup.py bdist_wheel for html5lib: finished with status 'done'\n",
      "  Stored in directory: C:\\Users\\imamk\\AppData\\Local\\pip\\Cache\\wheels\\6f\\85\\6c\\56b8e1292c6214c4eb73b9dda50f53e8e977bf65989373c962\n",
      "Successfully built absl-py html5lib\n",
      "Installing collected packages: absl-py, protobuf, markdown, html5lib, bleach, tensorflow-tensorboard, tensorflow-gpu\n",
      "  Found existing installation: html5lib 0.999999999\n",
      "    Uninstalling html5lib-0.999999999:\n",
      "      Successfully uninstalled html5lib-0.999999999\n",
      "  Found existing installation: bleach 2.0.0\n",
      "    Uninstalling bleach-2.0.0:\n",
      "      Successfully uninstalled bleach-2.0.0\n",
      "Successfully installed absl-py-0.1.10 bleach-1.5.0 html5lib-0.9999999 markdown-2.6.11 protobuf-3.5.1 tensorflow-gpu-1.5.0 tensorflow-tensorboard-1.5.1\n"
     ]
    }
   ],
   "source": [
    "!pip install tensorflow-gpu\n"
   ]
  },
  {
   "cell_type": "code",
   "execution_count": null,
   "metadata": {
    "collapsed": true
   },
   "outputs": [],
   "source": []
  }
 ],
 "metadata": {
  "kernelspec": {
   "display_name": "Python 3",
   "language": "python",
   "name": "python3"
  },
  "language_info": {
   "codemirror_mode": {
    "name": "ipython",
    "version": 3
   },
   "file_extension": ".py",
   "mimetype": "text/x-python",
   "name": "python",
   "nbconvert_exporter": "python",
   "pygments_lexer": "ipython3",
   "version": "3.6.3"
  }
 },
 "nbformat": 4,
 "nbformat_minor": 2
}
