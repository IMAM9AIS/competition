{
 "cells": [
  {
   "cell_type": "code",
   "execution_count": 1,
   "metadata": {},
   "outputs": [
    {
     "name": "stderr",
     "output_type": "stream",
     "text": [
      "C:\\Users\\imamk\\Anaconda3\\lib\\site-packages\\sklearn\\cross_validation.py:41: DeprecationWarning: This module was deprecated in version 0.18 in favor of the model_selection module into which all the refactored classes and functions are moved. Also note that the interface of the new CV iterators are different from that of this module. This module will be removed in 0.20.\n",
      "  \"This module will be removed in 0.20.\", DeprecationWarning)\n",
      "C:\\Users\\imamk\\Anaconda3\\lib\\site-packages\\sklearn\\grid_search.py:42: DeprecationWarning: This module was deprecated in version 0.18 in favor of the model_selection module into which all the refactored classes and functions are moved. This module will be removed in 0.20.\n",
      "  DeprecationWarning)\n"
     ]
    }
   ],
   "source": [
    "#Imports\n",
    "\n",
    "#pandas\n",
    "import pandas as pd\n",
    "from pandas import Series,DataFrame\n",
    "\n",
    "#numpy\n",
    "import numpy as np\n",
    "import matplotlib.pyplot as plt\n",
    "import seaborn as sns\n",
    "sns.set_style('whitegrid')\n",
    "%matplotlib inline\n",
    "\n",
    "from datetime import datetime\n",
    "import math\n",
    "from sklearn.preprocessing import LabelEncoder\n",
    "#machine learning\n",
    "from sklearn.linear_model import LinearRegression\n",
    "from sklearn.linear_model import LogisticRegression\n",
    "from sklearn.linear_model import Ridge\n",
    "from sklearn.linear_model import Lasso\n",
    "from sklearn.svm import SVC,LinearSVC\n",
    "from sklearn.ensemble import RandomForestClassifier\n",
    "from sklearn.neighbors import KNeighborsClassifier\n",
    "from sklearn.naive_bayes import GaussianNB\n",
    "from sklearn.decomposition import PCA\n",
    "from sklearn.grid_search import GridSearchCV\n",
    "from sklearn.cross_validation import train_test_split\n",
    "from sklearn.ensemble import GradientBoostingRegressor\n",
    "from sklearn.ensemble import GradientBoostingClassifier\n",
    "from sklearn.metrics import confusion_matrix\n",
    "from sklearn.metrics import precision_recall_curve,accuracy_score\n",
    "from sklearn.metrics import roc_curve, auc,roc_auc_score\n",
    "import xgboost as xgb\n",
    "from xgboost.sklearn import XGBClassifier"
   ]
  },
  {
   "cell_type": "code",
   "execution_count": 2,
   "metadata": {
    "collapsed": true
   },
   "outputs": [],
   "source": [
    "%matplotlib inline"
   ]
  },
  {
   "cell_type": "code",
   "execution_count": 3,
   "metadata": {
    "collapsed": true
   },
   "outputs": [],
   "source": [
    "train = pd.read_csv(\"criminal_train.csv\")\n",
    "test = pd.read_csv(\"criminal_test.csv\")"
   ]
  },
  {
   "cell_type": "code",
   "execution_count": 4,
   "metadata": {},
   "outputs": [
    {
     "data": {
      "text/html": [
       "<div>\n",
       "<style>\n",
       "    .dataframe thead tr:only-child th {\n",
       "        text-align: right;\n",
       "    }\n",
       "\n",
       "    .dataframe thead th {\n",
       "        text-align: left;\n",
       "    }\n",
       "\n",
       "    .dataframe tbody tr th {\n",
       "        vertical-align: top;\n",
       "    }\n",
       "</style>\n",
       "<table border=\"1\" class=\"dataframe\">\n",
       "  <thead>\n",
       "    <tr style=\"text-align: right;\">\n",
       "      <th></th>\n",
       "      <th>PERID</th>\n",
       "      <th>IFATHER</th>\n",
       "      <th>NRCH17_2</th>\n",
       "      <th>IRHHSIZ2</th>\n",
       "      <th>IIHHSIZ2</th>\n",
       "      <th>IRKI17_2</th>\n",
       "      <th>IIKI17_2</th>\n",
       "      <th>IRHH65_2</th>\n",
       "      <th>IIHH65_2</th>\n",
       "      <th>PRXRETRY</th>\n",
       "      <th>...</th>\n",
       "      <th>TOOLONG</th>\n",
       "      <th>TROUBUND</th>\n",
       "      <th>PDEN10</th>\n",
       "      <th>COUTYP2</th>\n",
       "      <th>MAIIN102</th>\n",
       "      <th>AIIND102</th>\n",
       "      <th>ANALWT_C</th>\n",
       "      <th>VESTR</th>\n",
       "      <th>VEREP</th>\n",
       "      <th>Criminal</th>\n",
       "    </tr>\n",
       "  </thead>\n",
       "  <tbody>\n",
       "    <tr>\n",
       "      <th>0</th>\n",
       "      <td>25095143</td>\n",
       "      <td>4</td>\n",
       "      <td>2</td>\n",
       "      <td>4</td>\n",
       "      <td>1</td>\n",
       "      <td>3</td>\n",
       "      <td>1</td>\n",
       "      <td>1</td>\n",
       "      <td>1</td>\n",
       "      <td>99</td>\n",
       "      <td>...</td>\n",
       "      <td>1</td>\n",
       "      <td>2</td>\n",
       "      <td>1</td>\n",
       "      <td>1</td>\n",
       "      <td>2</td>\n",
       "      <td>2</td>\n",
       "      <td>3884.805998</td>\n",
       "      <td>40026</td>\n",
       "      <td>1</td>\n",
       "      <td>0</td>\n",
       "    </tr>\n",
       "    <tr>\n",
       "      <th>1</th>\n",
       "      <td>13005143</td>\n",
       "      <td>4</td>\n",
       "      <td>1</td>\n",
       "      <td>3</td>\n",
       "      <td>1</td>\n",
       "      <td>2</td>\n",
       "      <td>1</td>\n",
       "      <td>1</td>\n",
       "      <td>1</td>\n",
       "      <td>99</td>\n",
       "      <td>...</td>\n",
       "      <td>2</td>\n",
       "      <td>2</td>\n",
       "      <td>2</td>\n",
       "      <td>3</td>\n",
       "      <td>2</td>\n",
       "      <td>2</td>\n",
       "      <td>1627.108106</td>\n",
       "      <td>40015</td>\n",
       "      <td>2</td>\n",
       "      <td>1</td>\n",
       "    </tr>\n",
       "    <tr>\n",
       "      <th>2</th>\n",
       "      <td>67415143</td>\n",
       "      <td>4</td>\n",
       "      <td>1</td>\n",
       "      <td>2</td>\n",
       "      <td>1</td>\n",
       "      <td>2</td>\n",
       "      <td>1</td>\n",
       "      <td>1</td>\n",
       "      <td>1</td>\n",
       "      <td>99</td>\n",
       "      <td>...</td>\n",
       "      <td>2</td>\n",
       "      <td>2</td>\n",
       "      <td>2</td>\n",
       "      <td>3</td>\n",
       "      <td>2</td>\n",
       "      <td>2</td>\n",
       "      <td>4344.957980</td>\n",
       "      <td>40024</td>\n",
       "      <td>1</td>\n",
       "      <td>0</td>\n",
       "    </tr>\n",
       "    <tr>\n",
       "      <th>3</th>\n",
       "      <td>70925143</td>\n",
       "      <td>4</td>\n",
       "      <td>0</td>\n",
       "      <td>2</td>\n",
       "      <td>1</td>\n",
       "      <td>1</td>\n",
       "      <td>1</td>\n",
       "      <td>1</td>\n",
       "      <td>1</td>\n",
       "      <td>99</td>\n",
       "      <td>...</td>\n",
       "      <td>2</td>\n",
       "      <td>2</td>\n",
       "      <td>1</td>\n",
       "      <td>1</td>\n",
       "      <td>2</td>\n",
       "      <td>2</td>\n",
       "      <td>792.521931</td>\n",
       "      <td>40027</td>\n",
       "      <td>1</td>\n",
       "      <td>0</td>\n",
       "    </tr>\n",
       "    <tr>\n",
       "      <th>4</th>\n",
       "      <td>75235143</td>\n",
       "      <td>1</td>\n",
       "      <td>0</td>\n",
       "      <td>6</td>\n",
       "      <td>1</td>\n",
       "      <td>4</td>\n",
       "      <td>1</td>\n",
       "      <td>1</td>\n",
       "      <td>1</td>\n",
       "      <td>99</td>\n",
       "      <td>...</td>\n",
       "      <td>2</td>\n",
       "      <td>2</td>\n",
       "      <td>2</td>\n",
       "      <td>2</td>\n",
       "      <td>2</td>\n",
       "      <td>2</td>\n",
       "      <td>1518.118526</td>\n",
       "      <td>40001</td>\n",
       "      <td>2</td>\n",
       "      <td>0</td>\n",
       "    </tr>\n",
       "  </tbody>\n",
       "</table>\n",
       "<p>5 rows × 72 columns</p>\n",
       "</div>"
      ],
      "text/plain": [
       "      PERID  IFATHER  NRCH17_2  IRHHSIZ2  IIHHSIZ2  IRKI17_2  IIKI17_2  \\\n",
       "0  25095143        4         2         4         1         3         1   \n",
       "1  13005143        4         1         3         1         2         1   \n",
       "2  67415143        4         1         2         1         2         1   \n",
       "3  70925143        4         0         2         1         1         1   \n",
       "4  75235143        1         0         6         1         4         1   \n",
       "\n",
       "   IRHH65_2  IIHH65_2  PRXRETRY    ...     TOOLONG  TROUBUND  PDEN10  COUTYP2  \\\n",
       "0         1         1        99    ...           1         2       1        1   \n",
       "1         1         1        99    ...           2         2       2        3   \n",
       "2         1         1        99    ...           2         2       2        3   \n",
       "3         1         1        99    ...           2         2       1        1   \n",
       "4         1         1        99    ...           2         2       2        2   \n",
       "\n",
       "   MAIIN102  AIIND102     ANALWT_C  VESTR  VEREP  Criminal  \n",
       "0         2         2  3884.805998  40026      1         0  \n",
       "1         2         2  1627.108106  40015      2         1  \n",
       "2         2         2  4344.957980  40024      1         0  \n",
       "3         2         2   792.521931  40027      1         0  \n",
       "4         2         2  1518.118526  40001      2         0  \n",
       "\n",
       "[5 rows x 72 columns]"
      ]
     },
     "execution_count": 4,
     "metadata": {},
     "output_type": "execute_result"
    }
   ],
   "source": [
    "train.head()"
   ]
  },
  {
   "cell_type": "code",
   "execution_count": 5,
   "metadata": {},
   "outputs": [
    {
     "data": {
      "text/html": [
       "<div>\n",
       "<style>\n",
       "    .dataframe thead tr:only-child th {\n",
       "        text-align: right;\n",
       "    }\n",
       "\n",
       "    .dataframe thead th {\n",
       "        text-align: left;\n",
       "    }\n",
       "\n",
       "    .dataframe tbody tr th {\n",
       "        vertical-align: top;\n",
       "    }\n",
       "</style>\n",
       "<table border=\"1\" class=\"dataframe\">\n",
       "  <thead>\n",
       "    <tr style=\"text-align: right;\">\n",
       "      <th></th>\n",
       "      <th>PERID</th>\n",
       "      <th>IFATHER</th>\n",
       "      <th>NRCH17_2</th>\n",
       "      <th>IRHHSIZ2</th>\n",
       "      <th>IIHHSIZ2</th>\n",
       "      <th>IRKI17_2</th>\n",
       "      <th>IIKI17_2</th>\n",
       "      <th>IRHH65_2</th>\n",
       "      <th>IIHH65_2</th>\n",
       "      <th>PRXRETRY</th>\n",
       "      <th>...</th>\n",
       "      <th>TOOLONG</th>\n",
       "      <th>TROUBUND</th>\n",
       "      <th>PDEN10</th>\n",
       "      <th>COUTYP2</th>\n",
       "      <th>MAIIN102</th>\n",
       "      <th>AIIND102</th>\n",
       "      <th>ANALWT_C</th>\n",
       "      <th>VESTR</th>\n",
       "      <th>VEREP</th>\n",
       "      <th>Criminal</th>\n",
       "    </tr>\n",
       "  </thead>\n",
       "  <tbody>\n",
       "    <tr>\n",
       "      <th>count</th>\n",
       "      <td>4.571800e+04</td>\n",
       "      <td>45718.000000</td>\n",
       "      <td>45718.000000</td>\n",
       "      <td>45718.000000</td>\n",
       "      <td>45718.000000</td>\n",
       "      <td>45718.000000</td>\n",
       "      <td>45718.000000</td>\n",
       "      <td>45718.000000</td>\n",
       "      <td>45718.000000</td>\n",
       "      <td>45718.000000</td>\n",
       "      <td>...</td>\n",
       "      <td>45718.000000</td>\n",
       "      <td>45718.000000</td>\n",
       "      <td>45718.000000</td>\n",
       "      <td>45718.000000</td>\n",
       "      <td>45718.000000</td>\n",
       "      <td>45718.000000</td>\n",
       "      <td>45718.000000</td>\n",
       "      <td>45718.000000</td>\n",
       "      <td>45718.000000</td>\n",
       "      <td>45718.000000</td>\n",
       "    </tr>\n",
       "    <tr>\n",
       "      <th>mean</th>\n",
       "      <td>5.445446e+07</td>\n",
       "      <td>3.355549</td>\n",
       "      <td>0.476486</td>\n",
       "      <td>3.426375</td>\n",
       "      <td>1.001706</td>\n",
       "      <td>2.084124</td>\n",
       "      <td>1.007437</td>\n",
       "      <td>1.162606</td>\n",
       "      <td>1.011024</td>\n",
       "      <td>97.394943</td>\n",
       "      <td>...</td>\n",
       "      <td>2.219410</td>\n",
       "      <td>2.234940</td>\n",
       "      <td>1.646135</td>\n",
       "      <td>1.764666</td>\n",
       "      <td>1.978936</td>\n",
       "      <td>1.978739</td>\n",
       "      <td>4692.661179</td>\n",
       "      <td>40023.739118</td>\n",
       "      <td>1.493854</td>\n",
       "      <td>0.069447</td>\n",
       "    </tr>\n",
       "    <tr>\n",
       "      <th>std</th>\n",
       "      <td>2.553911e+07</td>\n",
       "      <td>1.176651</td>\n",
       "      <td>0.888472</td>\n",
       "      <td>1.427420</td>\n",
       "      <td>0.061314</td>\n",
       "      <td>1.102988</td>\n",
       "      <td>0.123162</td>\n",
       "      <td>0.469029</td>\n",
       "      <td>0.146444</td>\n",
       "      <td>12.355156</td>\n",
       "      <td>...</td>\n",
       "      <td>5.295784</td>\n",
       "      <td>5.293651</td>\n",
       "      <td>0.618403</td>\n",
       "      <td>0.771411</td>\n",
       "      <td>0.144510</td>\n",
       "      <td>0.145161</td>\n",
       "      <td>5724.659486</td>\n",
       "      <td>265.140430</td>\n",
       "      <td>0.500230</td>\n",
       "      <td>0.254216</td>\n",
       "    </tr>\n",
       "    <tr>\n",
       "      <th>min</th>\n",
       "      <td>1.000222e+07</td>\n",
       "      <td>-1.000000</td>\n",
       "      <td>-1.000000</td>\n",
       "      <td>-1.000000</td>\n",
       "      <td>-1.000000</td>\n",
       "      <td>-1.000000</td>\n",
       "      <td>-1.000000</td>\n",
       "      <td>-1.000000</td>\n",
       "      <td>-1.000000</td>\n",
       "      <td>-1.000000</td>\n",
       "      <td>...</td>\n",
       "      <td>-1.000000</td>\n",
       "      <td>-1.000000</td>\n",
       "      <td>-1.000000</td>\n",
       "      <td>-1.000000</td>\n",
       "      <td>-1.000000</td>\n",
       "      <td>-1.000000</td>\n",
       "      <td>-1.000000</td>\n",
       "      <td>-1.000000</td>\n",
       "      <td>-1.000000</td>\n",
       "      <td>0.000000</td>\n",
       "    </tr>\n",
       "    <tr>\n",
       "      <th>25%</th>\n",
       "      <td>3.233189e+07</td>\n",
       "      <td>4.000000</td>\n",
       "      <td>0.000000</td>\n",
       "      <td>2.000000</td>\n",
       "      <td>1.000000</td>\n",
       "      <td>1.000000</td>\n",
       "      <td>1.000000</td>\n",
       "      <td>1.000000</td>\n",
       "      <td>1.000000</td>\n",
       "      <td>99.000000</td>\n",
       "      <td>...</td>\n",
       "      <td>2.000000</td>\n",
       "      <td>2.000000</td>\n",
       "      <td>1.000000</td>\n",
       "      <td>1.000000</td>\n",
       "      <td>2.000000</td>\n",
       "      <td>2.000000</td>\n",
       "      <td>1252.396472</td>\n",
       "      <td>40013.000000</td>\n",
       "      <td>1.000000</td>\n",
       "      <td>0.000000</td>\n",
       "    </tr>\n",
       "    <tr>\n",
       "      <th>50%</th>\n",
       "      <td>5.411043e+07</td>\n",
       "      <td>4.000000</td>\n",
       "      <td>0.000000</td>\n",
       "      <td>3.000000</td>\n",
       "      <td>1.000000</td>\n",
       "      <td>2.000000</td>\n",
       "      <td>1.000000</td>\n",
       "      <td>1.000000</td>\n",
       "      <td>1.000000</td>\n",
       "      <td>99.000000</td>\n",
       "      <td>...</td>\n",
       "      <td>2.000000</td>\n",
       "      <td>2.000000</td>\n",
       "      <td>2.000000</td>\n",
       "      <td>2.000000</td>\n",
       "      <td>2.000000</td>\n",
       "      <td>2.000000</td>\n",
       "      <td>2719.335160</td>\n",
       "      <td>40025.000000</td>\n",
       "      <td>1.000000</td>\n",
       "      <td>0.000000</td>\n",
       "    </tr>\n",
       "    <tr>\n",
       "      <th>75%</th>\n",
       "      <td>7.612731e+07</td>\n",
       "      <td>4.000000</td>\n",
       "      <td>1.000000</td>\n",
       "      <td>4.000000</td>\n",
       "      <td>1.000000</td>\n",
       "      <td>3.000000</td>\n",
       "      <td>1.000000</td>\n",
       "      <td>1.000000</td>\n",
       "      <td>1.000000</td>\n",
       "      <td>99.000000</td>\n",
       "      <td>...</td>\n",
       "      <td>2.000000</td>\n",
       "      <td>2.000000</td>\n",
       "      <td>2.000000</td>\n",
       "      <td>2.000000</td>\n",
       "      <td>2.000000</td>\n",
       "      <td>2.000000</td>\n",
       "      <td>5765.810794</td>\n",
       "      <td>40039.000000</td>\n",
       "      <td>2.000000</td>\n",
       "      <td>0.000000</td>\n",
       "    </tr>\n",
       "    <tr>\n",
       "      <th>max</th>\n",
       "      <td>9.999956e+07</td>\n",
       "      <td>4.000000</td>\n",
       "      <td>3.000000</td>\n",
       "      <td>6.000000</td>\n",
       "      <td>3.000000</td>\n",
       "      <td>4.000000</td>\n",
       "      <td>3.000000</td>\n",
       "      <td>3.000000</td>\n",
       "      <td>3.000000</td>\n",
       "      <td>99.000000</td>\n",
       "      <td>...</td>\n",
       "      <td>98.000000</td>\n",
       "      <td>98.000000</td>\n",
       "      <td>3.000000</td>\n",
       "      <td>3.000000</td>\n",
       "      <td>2.000000</td>\n",
       "      <td>2.000000</td>\n",
       "      <td>109100.623000</td>\n",
       "      <td>40050.000000</td>\n",
       "      <td>2.000000</td>\n",
       "      <td>1.000000</td>\n",
       "    </tr>\n",
       "  </tbody>\n",
       "</table>\n",
       "<p>8 rows × 72 columns</p>\n",
       "</div>"
      ],
      "text/plain": [
       "              PERID       IFATHER      NRCH17_2      IRHHSIZ2      IIHHSIZ2  \\\n",
       "count  4.571800e+04  45718.000000  45718.000000  45718.000000  45718.000000   \n",
       "mean   5.445446e+07      3.355549      0.476486      3.426375      1.001706   \n",
       "std    2.553911e+07      1.176651      0.888472      1.427420      0.061314   \n",
       "min    1.000222e+07     -1.000000     -1.000000     -1.000000     -1.000000   \n",
       "25%    3.233189e+07      4.000000      0.000000      2.000000      1.000000   \n",
       "50%    5.411043e+07      4.000000      0.000000      3.000000      1.000000   \n",
       "75%    7.612731e+07      4.000000      1.000000      4.000000      1.000000   \n",
       "max    9.999956e+07      4.000000      3.000000      6.000000      3.000000   \n",
       "\n",
       "           IRKI17_2      IIKI17_2      IRHH65_2      IIHH65_2      PRXRETRY  \\\n",
       "count  45718.000000  45718.000000  45718.000000  45718.000000  45718.000000   \n",
       "mean       2.084124      1.007437      1.162606      1.011024     97.394943   \n",
       "std        1.102988      0.123162      0.469029      0.146444     12.355156   \n",
       "min       -1.000000     -1.000000     -1.000000     -1.000000     -1.000000   \n",
       "25%        1.000000      1.000000      1.000000      1.000000     99.000000   \n",
       "50%        2.000000      1.000000      1.000000      1.000000     99.000000   \n",
       "75%        3.000000      1.000000      1.000000      1.000000     99.000000   \n",
       "max        4.000000      3.000000      3.000000      3.000000     99.000000   \n",
       "\n",
       "           ...            TOOLONG      TROUBUND        PDEN10       COUTYP2  \\\n",
       "count      ...       45718.000000  45718.000000  45718.000000  45718.000000   \n",
       "mean       ...           2.219410      2.234940      1.646135      1.764666   \n",
       "std        ...           5.295784      5.293651      0.618403      0.771411   \n",
       "min        ...          -1.000000     -1.000000     -1.000000     -1.000000   \n",
       "25%        ...           2.000000      2.000000      1.000000      1.000000   \n",
       "50%        ...           2.000000      2.000000      2.000000      2.000000   \n",
       "75%        ...           2.000000      2.000000      2.000000      2.000000   \n",
       "max        ...          98.000000     98.000000      3.000000      3.000000   \n",
       "\n",
       "           MAIIN102      AIIND102       ANALWT_C         VESTR         VEREP  \\\n",
       "count  45718.000000  45718.000000   45718.000000  45718.000000  45718.000000   \n",
       "mean       1.978936      1.978739    4692.661179  40023.739118      1.493854   \n",
       "std        0.144510      0.145161    5724.659486    265.140430      0.500230   \n",
       "min       -1.000000     -1.000000      -1.000000     -1.000000     -1.000000   \n",
       "25%        2.000000      2.000000    1252.396472  40013.000000      1.000000   \n",
       "50%        2.000000      2.000000    2719.335160  40025.000000      1.000000   \n",
       "75%        2.000000      2.000000    5765.810794  40039.000000      2.000000   \n",
       "max        2.000000      2.000000  109100.623000  40050.000000      2.000000   \n",
       "\n",
       "           Criminal  \n",
       "count  45718.000000  \n",
       "mean       0.069447  \n",
       "std        0.254216  \n",
       "min        0.000000  \n",
       "25%        0.000000  \n",
       "50%        0.000000  \n",
       "75%        0.000000  \n",
       "max        1.000000  \n",
       "\n",
       "[8 rows x 72 columns]"
      ]
     },
     "execution_count": 5,
     "metadata": {},
     "output_type": "execute_result"
    }
   ],
   "source": [
    "train.describe()"
   ]
  },
  {
   "cell_type": "code",
   "execution_count": 6,
   "metadata": {
    "collapsed": true
   },
   "outputs": [],
   "source": [
    "train_dataType = train.dtypes"
   ]
  },
  {
   "cell_type": "code",
   "execution_count": 7,
   "metadata": {},
   "outputs": [
    {
     "data": {
      "text/plain": [
       "ANALWT_C    float64\n",
       "dtype: object"
      ]
     },
     "execution_count": 7,
     "metadata": {},
     "output_type": "execute_result"
    }
   ],
   "source": [
    "train_dataType[train_dataType != 'int64']"
   ]
  },
  {
   "cell_type": "code",
   "execution_count": 8,
   "metadata": {
    "collapsed": true
   },
   "outputs": [],
   "source": [
    "def plotData(columnName,data):\n",
    "    plt.scatter(data[columnName],data['Criminal'])"
   ]
  },
  {
   "cell_type": "code",
   "execution_count": 9,
   "metadata": {},
   "outputs": [
    {
     "data": {
      "image/png": "[encoded data removed]",
      "text/plain": [
       "<matplotlib.figure.Figure at 0x259a3207320>"
      ]
     },
     "metadata": {},
     "output_type": "display_data"
    }
   ],
   "source": [
    "plotData('IFATHER',train)"
   ]
  },
  {
   "cell_type": "code",
   "execution_count": 10,
   "metadata": {},
   "outputs": [
    {
     "data": {
      "text/html": [
       "<div>\n",
       "<style>\n",
       "    .dataframe thead tr:only-child th {\n",
       "        text-align: right;\n",
       "    }\n",
       "\n",
       "    .dataframe thead th {\n",
       "        text-align: left;\n",
       "    }\n",
       "\n",
       "    .dataframe tbody tr th {\n",
       "        vertical-align: top;\n",
       "    }\n",
       "</style>\n",
       "<table border=\"1\" class=\"dataframe\">\n",
       "  <thead>\n",
       "    <tr style=\"text-align: right;\">\n",
       "      <th></th>\n",
       "      <th>PERID</th>\n",
       "      <th>IFATHER</th>\n",
       "      <th>NRCH17_2</th>\n",
       "      <th>IRHHSIZ2</th>\n",
       "      <th>IIHHSIZ2</th>\n",
       "      <th>IRKI17_2</th>\n",
       "      <th>IIKI17_2</th>\n",
       "      <th>IRHH65_2</th>\n",
       "      <th>IIHH65_2</th>\n",
       "      <th>PRXRETRY</th>\n",
       "      <th>...</th>\n",
       "      <th>TOOLONG</th>\n",
       "      <th>TROUBUND</th>\n",
       "      <th>PDEN10</th>\n",
       "      <th>COUTYP2</th>\n",
       "      <th>MAIIN102</th>\n",
       "      <th>AIIND102</th>\n",
       "      <th>ANALWT_C</th>\n",
       "      <th>VESTR</th>\n",
       "      <th>VEREP</th>\n",
       "      <th>Criminal</th>\n",
       "    </tr>\n",
       "  </thead>\n",
       "  <tbody>\n",
       "    <tr>\n",
       "      <th>19230</th>\n",
       "      <td>88523505</td>\n",
       "      <td>-1</td>\n",
       "      <td>-1</td>\n",
       "      <td>-1</td>\n",
       "      <td>-1</td>\n",
       "      <td>-1</td>\n",
       "      <td>-1</td>\n",
       "      <td>-1</td>\n",
       "      <td>-1</td>\n",
       "      <td>-1</td>\n",
       "      <td>...</td>\n",
       "      <td>-1</td>\n",
       "      <td>-1</td>\n",
       "      <td>-1</td>\n",
       "      <td>-1</td>\n",
       "      <td>-1</td>\n",
       "      <td>-1</td>\n",
       "      <td>-1.0</td>\n",
       "      <td>-1</td>\n",
       "      <td>-1</td>\n",
       "      <td>0</td>\n",
       "    </tr>\n",
       "    <tr>\n",
       "      <th>44281</th>\n",
       "      <td>85298659</td>\n",
       "      <td>-1</td>\n",
       "      <td>-1</td>\n",
       "      <td>-1</td>\n",
       "      <td>-1</td>\n",
       "      <td>-1</td>\n",
       "      <td>-1</td>\n",
       "      <td>-1</td>\n",
       "      <td>-1</td>\n",
       "      <td>-1</td>\n",
       "      <td>...</td>\n",
       "      <td>-1</td>\n",
       "      <td>-1</td>\n",
       "      <td>-1</td>\n",
       "      <td>-1</td>\n",
       "      <td>-1</td>\n",
       "      <td>-1</td>\n",
       "      <td>-1.0</td>\n",
       "      <td>-1</td>\n",
       "      <td>-1</td>\n",
       "      <td>0</td>\n",
       "    </tr>\n",
       "  </tbody>\n",
       "</table>\n",
       "<p>2 rows × 72 columns</p>\n",
       "</div>"
      ],
      "text/plain": [
       "          PERID  IFATHER  NRCH17_2  IRHHSIZ2  IIHHSIZ2  IRKI17_2  IIKI17_2  \\\n",
       "19230  88523505       -1        -1        -1        -1        -1        -1   \n",
       "44281  85298659       -1        -1        -1        -1        -1        -1   \n",
       "\n",
       "       IRHH65_2  IIHH65_2  PRXRETRY    ...     TOOLONG  TROUBUND  PDEN10  \\\n",
       "19230        -1        -1        -1    ...          -1        -1      -1   \n",
       "44281        -1        -1        -1    ...          -1        -1      -1   \n",
       "\n",
       "       COUTYP2  MAIIN102  AIIND102  ANALWT_C  VESTR  VEREP  Criminal  \n",
       "19230       -1        -1        -1      -1.0     -1     -1         0  \n",
       "44281       -1        -1        -1      -1.0     -1     -1         0  \n",
       "\n",
       "[2 rows x 72 columns]"
      ]
     },
     "execution_count": 10,
     "metadata": {},
     "output_type": "execute_result"
    }
   ],
   "source": [
    "train[train.IFATHER == -1]"
   ]
  },
  {
   "cell_type": "code",
   "execution_count": 11,
   "metadata": {},
   "outputs": [
    {
     "data": {
      "text/html": [
       "<div>\n",
       "<style>\n",
       "    .dataframe thead tr:only-child th {\n",
       "        text-align: right;\n",
       "    }\n",
       "\n",
       "    .dataframe thead th {\n",
       "        text-align: left;\n",
       "    }\n",
       "\n",
       "    .dataframe tbody tr th {\n",
       "        vertical-align: top;\n",
       "    }\n",
       "</style>\n",
       "<table border=\"1\" class=\"dataframe\">\n",
       "  <thead>\n",
       "    <tr style=\"text-align: right;\">\n",
       "      <th></th>\n",
       "      <th>PERID</th>\n",
       "      <th>IFATHER</th>\n",
       "      <th>NRCH17_2</th>\n",
       "      <th>IRHHSIZ2</th>\n",
       "      <th>IIHHSIZ2</th>\n",
       "      <th>IRKI17_2</th>\n",
       "      <th>IIKI17_2</th>\n",
       "      <th>IRHH65_2</th>\n",
       "      <th>IIHH65_2</th>\n",
       "      <th>PRXRETRY</th>\n",
       "      <th>...</th>\n",
       "      <th>POVERTY3</th>\n",
       "      <th>TOOLONG</th>\n",
       "      <th>TROUBUND</th>\n",
       "      <th>PDEN10</th>\n",
       "      <th>COUTYP2</th>\n",
       "      <th>MAIIN102</th>\n",
       "      <th>AIIND102</th>\n",
       "      <th>ANALWT_C</th>\n",
       "      <th>VESTR</th>\n",
       "      <th>VEREP</th>\n",
       "    </tr>\n",
       "  </thead>\n",
       "  <tbody>\n",
       "  </tbody>\n",
       "</table>\n",
       "<p>0 rows × 71 columns</p>\n",
       "</div>"
      ],
      "text/plain": [
       "Empty DataFrame\n",
       "Columns: [PERID, IFATHER, NRCH17_2, IRHHSIZ2, IIHHSIZ2, IRKI17_2, IIKI17_2, IRHH65_2, IIHH65_2, PRXRETRY, PRXYDATA, MEDICARE, CAIDCHIP, CHAMPUS, PRVHLTIN, GRPHLTIN, HLTINNOS, HLCNOTYR, HLCNOTMO, HLCLAST, HLLOSRSN, HLNVCOST, HLNVOFFR, HLNVREF, HLNVNEED, HLNVSOR, IRMCDCHP, IIMCDCHP, IRMEDICR, IIMEDICR, IRCHMPUS, IICHMPUS, IRPRVHLT, IIPRVHLT, IROTHHLT, IIOTHHLT, HLCALLFG, HLCALL99, ANYHLTI2, IRINSUR4, IIINSUR4, OTHINS, CELLNOTCL, CELLWRKNG, IRFAMSOC, IIFAMSOC, IRFAMSSI, IIFAMSSI, IRFSTAMP, IIFSTAMP, IRFAMPMT, IIFAMPMT, IRFAMSVC, IIFAMSVC, IRWELMOS, IIWELMOS, IRPINC3, IRFAMIN3, IIPINC3, IIFAMIN3, GOVTPROG, POVERTY3, TOOLONG, TROUBUND, PDEN10, COUTYP2, MAIIN102, AIIND102, ANALWT_C, VESTR, VEREP]\n",
       "Index: []\n",
       "\n",
       "[0 rows x 71 columns]"
      ]
     },
     "execution_count": 11,
     "metadata": {},
     "output_type": "execute_result"
    }
   ],
   "source": [
    "test[test.IFATHER == -1]"
   ]
  },
  {
   "cell_type": "code",
   "execution_count": 12,
   "metadata": {
    "collapsed": true
   },
   "outputs": [],
   "source": [
    "# -1 rows probably signify wrong data / remove them\n",
    "train = train[train.IFATHER != -1]"
   ]
  },
  {
   "cell_type": "code",
   "execution_count": 13,
   "metadata": {},
   "outputs": [
    {
     "data": {
      "image/png": "[encoded data removed]",
      "text/plain": [
       "<matplotlib.figure.Figure at 0x2599f1799b0>"
      ]
     },
     "metadata": {},
     "output_type": "display_data"
    }
   ],
   "source": [
    "plotData('NRCH17_2',train)"
   ]
  },
  {
   "cell_type": "code",
   "execution_count": 14,
   "metadata": {},
   "outputs": [
    {
     "data": {
      "text/plain": [
       "\"fig, axs = plt.subplots(12,7, figsize=(15, 20), facecolor='w', edgecolor='k')\\nfig.subplots_adjust(hspace = .5, wspace=.001)\\n\\naxs = axs.ravel()\\ni = 0\\nfor col in train.columns:\\n    axs[i].scatter(train[col],train['Criminal'])\\n    axs[i].set_title(str(col))\\n    i= i + 1\\n    \""
      ]
     },
     "execution_count": 14,
     "metadata": {},
     "output_type": "execute_result"
    }
   ],
   "source": [
    "'''fig, axs = plt.subplots(12,7, figsize=(15, 20), facecolor='w', edgecolor='k')\n",
    "fig.subplots_adjust(hspace = .5, wspace=.001)\n",
    "\n",
    "axs = axs.ravel()\n",
    "i = 0\n",
    "for col in train.columns:\n",
    "    axs[i].scatter(train[col],train['Criminal'])\n",
    "    axs[i].set_title(str(col))\n",
    "    i= i + 1\n",
    "    '''"
   ]
  },
  {
   "cell_type": "code",
   "execution_count": 15,
   "metadata": {
    "collapsed": true
   },
   "outputs": [],
   "source": [
    "#trying to implement PCA\n",
    "pca =  PCA(n_components=5)"
   ]
  },
  {
   "cell_type": "code",
   "execution_count": 16,
   "metadata": {
    "collapsed": true
   },
   "outputs": [],
   "source": [
    "X = train[['NRCH17_2','PERID']]"
   ]
  },
  {
   "cell_type": "code",
   "execution_count": 17,
   "metadata": {},
   "outputs": [
    {
     "data": {
      "image/png": "[encoded data removed]",
      "text/plain": [
       "<matplotlib.figure.Figure at 0x259a3728be0>"
      ]
     },
     "metadata": {},
     "output_type": "display_data"
    }
   ],
   "source": [
    "plotData('ANALWT_C',train)"
   ]
  },
  {
   "cell_type": "code",
   "execution_count": 18,
   "metadata": {},
   "outputs": [
    {
     "data": {
      "image/png": "[encoded data removed]",
      "text/plain": [
       "<matplotlib.figure.Figure at 0x259a37a1a20>"
      ]
     },
     "metadata": {},
     "output_type": "display_data"
    }
   ],
   "source": [
    "plotData('VESTR',train)\n",
    "# seems this column does not have any effect on the result. \n",
    "#keeping this observation to be used at last"
   ]
  },
  {
   "cell_type": "code",
   "execution_count": 19,
   "metadata": {},
   "outputs": [
    {
     "data": {
      "text/plain": [
       "Index(['PERID', 'IFATHER', 'NRCH17_2', 'IRHHSIZ2', 'IIHHSIZ2', 'IRKI17_2',\n",
       "       'IIKI17_2', 'IRHH65_2', 'IIHH65_2', 'PRXRETRY', 'PRXYDATA', 'MEDICARE',\n",
       "       'CAIDCHIP', 'CHAMPUS', 'PRVHLTIN', 'GRPHLTIN', 'HLTINNOS', 'HLCNOTYR',\n",
       "       'HLCNOTMO', 'HLCLAST', 'HLLOSRSN', 'HLNVCOST', 'HLNVOFFR', 'HLNVREF',\n",
       "       'HLNVNEED', 'HLNVSOR', 'IRMCDCHP', 'IIMCDCHP', 'IRMEDICR', 'IIMEDICR',\n",
       "       'IRCHMPUS', 'IICHMPUS', 'IRPRVHLT', 'IIPRVHLT', 'IROTHHLT', 'IIOTHHLT',\n",
       "       'HLCALLFG', 'HLCALL99', 'ANYHLTI2', 'IRINSUR4', 'IIINSUR4', 'OTHINS',\n",
       "       'CELLNOTCL', 'CELLWRKNG', 'IRFAMSOC', 'IIFAMSOC', 'IRFAMSSI',\n",
       "       'IIFAMSSI', 'IRFSTAMP', 'IIFSTAMP', 'IRFAMPMT', 'IIFAMPMT', 'IRFAMSVC',\n",
       "       'IIFAMSVC', 'IRWELMOS', 'IIWELMOS', 'IRPINC3', 'IRFAMIN3', 'IIPINC3',\n",
       "       'IIFAMIN3', 'GOVTPROG', 'POVERTY3', 'TOOLONG', 'TROUBUND', 'PDEN10',\n",
       "       'COUTYP2', 'MAIIN102', 'AIIND102', 'ANALWT_C', 'VESTR', 'VEREP',\n",
       "       'Criminal'],\n",
       "      dtype='object')"
      ]
     },
     "execution_count": 19,
     "metadata": {},
     "output_type": "execute_result"
    }
   ],
   "source": [
    "train.columns"
   ]
  },
  {
   "cell_type": "code",
   "execution_count": 20,
   "metadata": {
    "collapsed": true
   },
   "outputs": [],
   "source": [
    "# columns that seems to have some direct effect on results\n",
    "#important_cols = ['HLTINNOS','HLCLAST', 'HLLOSRSN', 'HLNVOFFR', 'HLNVREF', 'HLNVNEED', 'HLNVSOR', 'IIOTHHLT']\n",
    "important_cols = []"
   ]
  },
  {
   "cell_type": "code",
   "execution_count": 21,
   "metadata": {
    "collapsed": true
   },
   "outputs": [],
   "source": [
    "remaining_cols = list(filter(lambda x: x not in important_cols,list(train.columns)))"
   ]
  },
  {
   "cell_type": "code",
   "execution_count": 22,
   "metadata": {},
   "outputs": [
    {
     "name": "stdout",
     "output_type": "stream",
     "text": [
      "72 0 72\n"
     ]
    }
   ],
   "source": [
    "print(len(remaining_cols), len(important_cols), len(train.columns))"
   ]
  },
  {
   "cell_type": "code",
   "execution_count": 23,
   "metadata": {},
   "outputs": [],
   "source": [
    "target = train[['PERID','Criminal']]\n",
    "target.set_index('PERID',inplace = True)"
   ]
  },
  {
   "cell_type": "code",
   "execution_count": 24,
   "metadata": {
    "collapsed": true
   },
   "outputs": [],
   "source": [
    "test.set_index('PERID',inplace=True)"
   ]
  },
  {
   "cell_type": "code",
   "execution_count": 25,
   "metadata": {
    "collapsed": true
   },
   "outputs": [],
   "source": [
    "remaining_cols.remove('Criminal')"
   ]
  },
  {
   "cell_type": "code",
   "execution_count": 26,
   "metadata": {
    "collapsed": true
   },
   "outputs": [],
   "source": [
    "remaining_cols.remove('PERID')"
   ]
  },
  {
   "cell_type": "code",
   "execution_count": 27,
   "metadata": {
    "collapsed": true
   },
   "outputs": [],
   "source": [
    "#normalize data\n",
    "def normalize(df):\n",
    "    df_norm = (df - df.mean())/(df.max()-df.min())\n",
    "    return df_norm"
   ]
  },
  {
   "cell_type": "code",
   "execution_count": 28,
   "metadata": {
    "collapsed": true
   },
   "outputs": [],
   "source": [
    "# important cols, remaining cols, target\n",
    "train.set_index('PERID',inplace=True)"
   ]
  },
  {
   "cell_type": "code",
   "execution_count": 29,
   "metadata": {
    "collapsed": true
   },
   "outputs": [],
   "source": [
    "train = normalize(train)"
   ]
  },
  {
   "cell_type": "code",
   "execution_count": 30,
   "metadata": {
    "collapsed": true
   },
   "outputs": [],
   "source": [
    "test = normalize(test)"
   ]
  },
  {
   "cell_type": "code",
   "execution_count": null,
   "metadata": {
    "collapsed": true
   },
   "outputs": [],
   "source": []
  },
  {
   "cell_type": "code",
   "execution_count": 31,
   "metadata": {},
   "outputs": [
    {
     "data": {
      "text/plain": [
       "'explained_variance_list = []\\nfor i in range(2,len(remaining_cols)):\\n    pca = PCA(n_components=i)\\n    pca.fit_transform(train[remaining_cols])\\n    explained_variance_list.append(pca.explained_variance_ratio_.sum())\\nplt.plot(explained_variance_list)\\n'"
      ]
     },
     "execution_count": 31,
     "metadata": {},
     "output_type": "execute_result"
    }
   ],
   "source": [
    "'''explained_variance_list = []\n",
    "for i in range(2,len(remaining_cols)):\n",
    "    pca = PCA(n_components=i)\n",
    "    pca.fit_transform(train[remaining_cols])\n",
    "    explained_variance_list.append(pca.explained_variance_ratio_.sum())\n",
    "plt.plot(explained_variance_list)\n",
    "'''"
   ]
  },
  {
   "cell_type": "raw",
   "metadata": {},
   "source": []
  },
  {
   "cell_type": "code",
   "execution_count": 32,
   "metadata": {
    "collapsed": true
   },
   "outputs": [],
   "source": [
    "#seeems we can select 30 aggresively\n",
    "pca =  PCA(n_components=35)\n",
    "X_transformed = pca.fit_transform(train[remaining_cols])"
   ]
  },
  {
   "cell_type": "code",
   "execution_count": 33,
   "metadata": {
    "collapsed": true
   },
   "outputs": [],
   "source": [
    "pca_test = PCA(n_components=35)\n",
    "X_test_transformed = pca_test.fit_transform(test[remaining_cols])"
   ]
  },
  {
   "cell_type": "code",
   "execution_count": 34,
   "metadata": {},
   "outputs": [
    {
     "data": {
      "text/html": [
       "<div>\n",
       "<style>\n",
       "    .dataframe thead tr:only-child th {\n",
       "        text-align: right;\n",
       "    }\n",
       "\n",
       "    .dataframe thead th {\n",
       "        text-align: left;\n",
       "    }\n",
       "\n",
       "    .dataframe tbody tr th {\n",
       "        vertical-align: top;\n",
       "    }\n",
       "</style>\n",
       "<table border=\"1\" class=\"dataframe\">\n",
       "  <thead>\n",
       "    <tr style=\"text-align: right;\">\n",
       "      <th></th>\n",
       "      <th>IFATHER</th>\n",
       "      <th>NRCH17_2</th>\n",
       "      <th>IRHHSIZ2</th>\n",
       "      <th>IIHHSIZ2</th>\n",
       "      <th>IRKI17_2</th>\n",
       "      <th>IIKI17_2</th>\n",
       "      <th>IRHH65_2</th>\n",
       "      <th>IIHH65_2</th>\n",
       "      <th>PRXRETRY</th>\n",
       "      <th>PRXYDATA</th>\n",
       "      <th>...</th>\n",
       "      <th>TOOLONG</th>\n",
       "      <th>TROUBUND</th>\n",
       "      <th>PDEN10</th>\n",
       "      <th>COUTYP2</th>\n",
       "      <th>MAIIN102</th>\n",
       "      <th>AIIND102</th>\n",
       "      <th>ANALWT_C</th>\n",
       "      <th>VESTR</th>\n",
       "      <th>VEREP</th>\n",
       "      <th>Criminal</th>\n",
       "    </tr>\n",
       "    <tr>\n",
       "      <th>PERID</th>\n",
       "      <th></th>\n",
       "      <th></th>\n",
       "      <th></th>\n",
       "      <th></th>\n",
       "      <th></th>\n",
       "      <th></th>\n",
       "      <th></th>\n",
       "      <th></th>\n",
       "      <th></th>\n",
       "      <th></th>\n",
       "      <th></th>\n",
       "      <th></th>\n",
       "      <th></th>\n",
       "      <th></th>\n",
       "      <th></th>\n",
       "      <th></th>\n",
       "      <th></th>\n",
       "      <th></th>\n",
       "      <th></th>\n",
       "      <th></th>\n",
       "      <th></th>\n",
       "    </tr>\n",
       "  </thead>\n",
       "  <tbody>\n",
       "    <tr>\n",
       "      <th>25095143</th>\n",
       "      <td>0.214753</td>\n",
       "      <td>0.380862</td>\n",
       "      <td>0.114686</td>\n",
       "      <td>-0.000897</td>\n",
       "      <td>0.305247</td>\n",
       "      <td>-0.003762</td>\n",
       "      <td>-0.08135</td>\n",
       "      <td>-0.005556</td>\n",
       "      <td>0.016503</td>\n",
       "      <td>0.286967</td>\n",
       "      <td>...</td>\n",
       "      <td>-0.012573</td>\n",
       "      <td>-0.002424</td>\n",
       "      <td>-0.323125</td>\n",
       "      <td>-0.382393</td>\n",
       "      <td>0.020934</td>\n",
       "      <td>0.02113</td>\n",
       "      <td>-0.007407</td>\n",
       "      <td>0.010405</td>\n",
       "      <td>-0.493963</td>\n",
       "      <td>-0.069451</td>\n",
       "    </tr>\n",
       "    <tr>\n",
       "      <th>13005143</th>\n",
       "      <td>0.214753</td>\n",
       "      <td>0.130862</td>\n",
       "      <td>-0.085314</td>\n",
       "      <td>-0.000897</td>\n",
       "      <td>-0.028086</td>\n",
       "      <td>-0.003762</td>\n",
       "      <td>-0.08135</td>\n",
       "      <td>-0.005556</td>\n",
       "      <td>0.016503</td>\n",
       "      <td>0.286967</td>\n",
       "      <td>...</td>\n",
       "      <td>-0.002263</td>\n",
       "      <td>-0.002424</td>\n",
       "      <td>0.176875</td>\n",
       "      <td>0.617607</td>\n",
       "      <td>0.020934</td>\n",
       "      <td>0.02113</td>\n",
       "      <td>-0.028101</td>\n",
       "      <td>-0.214084</td>\n",
       "      <td>0.506037</td>\n",
       "      <td>0.930549</td>\n",
       "    </tr>\n",
       "    <tr>\n",
       "      <th>67415143</th>\n",
       "      <td>0.214753</td>\n",
       "      <td>0.130862</td>\n",
       "      <td>-0.285314</td>\n",
       "      <td>-0.000897</td>\n",
       "      <td>-0.028086</td>\n",
       "      <td>-0.003762</td>\n",
       "      <td>-0.08135</td>\n",
       "      <td>-0.005556</td>\n",
       "      <td>0.016503</td>\n",
       "      <td>0.286967</td>\n",
       "      <td>...</td>\n",
       "      <td>-0.002263</td>\n",
       "      <td>-0.002424</td>\n",
       "      <td>0.176875</td>\n",
       "      <td>0.617607</td>\n",
       "      <td>0.020934</td>\n",
       "      <td>0.02113</td>\n",
       "      <td>-0.003189</td>\n",
       "      <td>-0.030411</td>\n",
       "      <td>-0.493963</td>\n",
       "      <td>-0.069451</td>\n",
       "    </tr>\n",
       "    <tr>\n",
       "      <th>70925143</th>\n",
       "      <td>0.214753</td>\n",
       "      <td>-0.119138</td>\n",
       "      <td>-0.285314</td>\n",
       "      <td>-0.000897</td>\n",
       "      <td>-0.361420</td>\n",
       "      <td>-0.003762</td>\n",
       "      <td>-0.08135</td>\n",
       "      <td>-0.005556</td>\n",
       "      <td>0.016503</td>\n",
       "      <td>0.286967</td>\n",
       "      <td>...</td>\n",
       "      <td>-0.002263</td>\n",
       "      <td>-0.002424</td>\n",
       "      <td>-0.323125</td>\n",
       "      <td>-0.382393</td>\n",
       "      <td>0.020934</td>\n",
       "      <td>0.02113</td>\n",
       "      <td>-0.035751</td>\n",
       "      <td>0.030814</td>\n",
       "      <td>-0.493963</td>\n",
       "      <td>-0.069451</td>\n",
       "    </tr>\n",
       "    <tr>\n",
       "      <th>75235143</th>\n",
       "      <td>-0.785247</td>\n",
       "      <td>-0.119138</td>\n",
       "      <td>0.514686</td>\n",
       "      <td>-0.000897</td>\n",
       "      <td>0.638580</td>\n",
       "      <td>-0.003762</td>\n",
       "      <td>-0.08135</td>\n",
       "      <td>-0.005556</td>\n",
       "      <td>0.016503</td>\n",
       "      <td>-0.713033</td>\n",
       "      <td>...</td>\n",
       "      <td>-0.002263</td>\n",
       "      <td>-0.002424</td>\n",
       "      <td>0.176875</td>\n",
       "      <td>0.117607</td>\n",
       "      <td>0.020934</td>\n",
       "      <td>0.02113</td>\n",
       "      <td>-0.029100</td>\n",
       "      <td>-0.499799</td>\n",
       "      <td>0.506037</td>\n",
       "      <td>-0.069451</td>\n",
       "    </tr>\n",
       "  </tbody>\n",
       "</table>\n",
       "<p>5 rows × 71 columns</p>\n",
       "</div>"
      ],
      "text/plain": [
       "           IFATHER  NRCH17_2  IRHHSIZ2  IIHHSIZ2  IRKI17_2  IIKI17_2  \\\n",
       "PERID                                                                  \n",
       "25095143  0.214753  0.380862  0.114686 -0.000897  0.305247 -0.003762   \n",
       "13005143  0.214753  0.130862 -0.085314 -0.000897 -0.028086 -0.003762   \n",
       "67415143  0.214753  0.130862 -0.285314 -0.000897 -0.028086 -0.003762   \n",
       "70925143  0.214753 -0.119138 -0.285314 -0.000897 -0.361420 -0.003762   \n",
       "75235143 -0.785247 -0.119138  0.514686 -0.000897  0.638580 -0.003762   \n",
       "\n",
       "          IRHH65_2  IIHH65_2  PRXRETRY  PRXYDATA    ...      TOOLONG  \\\n",
       "PERID                                               ...                \n",
       "25095143  -0.08135 -0.005556  0.016503  0.286967    ...    -0.012573   \n",
       "13005143  -0.08135 -0.005556  0.016503  0.286967    ...    -0.002263   \n",
       "67415143  -0.08135 -0.005556  0.016503  0.286967    ...    -0.002263   \n",
       "70925143  -0.08135 -0.005556  0.016503  0.286967    ...    -0.002263   \n",
       "75235143  -0.08135 -0.005556  0.016503 -0.713033    ...    -0.002263   \n",
       "\n",
       "          TROUBUND    PDEN10   COUTYP2  MAIIN102  AIIND102  ANALWT_C  \\\n",
       "PERID                                                                  \n",
       "25095143 -0.002424 -0.323125 -0.382393  0.020934   0.02113 -0.007407   \n",
       "13005143 -0.002424  0.176875  0.617607  0.020934   0.02113 -0.028101   \n",
       "67415143 -0.002424  0.176875  0.617607  0.020934   0.02113 -0.003189   \n",
       "70925143 -0.002424 -0.323125 -0.382393  0.020934   0.02113 -0.035751   \n",
       "75235143 -0.002424  0.176875  0.117607  0.020934   0.02113 -0.029100   \n",
       "\n",
       "             VESTR     VEREP  Criminal  \n",
       "PERID                                   \n",
       "25095143  0.010405 -0.493963 -0.069451  \n",
       "13005143 -0.214084  0.506037  0.930549  \n",
       "67415143 -0.030411 -0.493963 -0.069451  \n",
       "70925143  0.030814 -0.493963 -0.069451  \n",
       "75235143 -0.499799  0.506037 -0.069451  \n",
       "\n",
       "[5 rows x 71 columns]"
      ]
     },
     "execution_count": 34,
     "metadata": {},
     "output_type": "execute_result"
    }
   ],
   "source": [
    "train.head()"
   ]
  },
  {
   "cell_type": "code",
   "execution_count": 35,
   "metadata": {},
   "outputs": [
    {
     "data": {
      "text/html": [
       "<div>\n",
       "<style>\n",
       "    .dataframe thead tr:only-child th {\n",
       "        text-align: right;\n",
       "    }\n",
       "\n",
       "    .dataframe thead th {\n",
       "        text-align: left;\n",
       "    }\n",
       "\n",
       "    .dataframe tbody tr th {\n",
       "        vertical-align: top;\n",
       "    }\n",
       "</style>\n",
       "<table border=\"1\" class=\"dataframe\">\n",
       "  <thead>\n",
       "    <tr style=\"text-align: right;\">\n",
       "      <th></th>\n",
       "      <th>IFATHER</th>\n",
       "      <th>NRCH17_2</th>\n",
       "      <th>IRHHSIZ2</th>\n",
       "      <th>IIHHSIZ2</th>\n",
       "      <th>IRKI17_2</th>\n",
       "      <th>IIKI17_2</th>\n",
       "      <th>IRHH65_2</th>\n",
       "      <th>IIHH65_2</th>\n",
       "      <th>PRXRETRY</th>\n",
       "      <th>PRXYDATA</th>\n",
       "      <th>...</th>\n",
       "      <th>POVERTY3</th>\n",
       "      <th>TOOLONG</th>\n",
       "      <th>TROUBUND</th>\n",
       "      <th>PDEN10</th>\n",
       "      <th>COUTYP2</th>\n",
       "      <th>MAIIN102</th>\n",
       "      <th>AIIND102</th>\n",
       "      <th>ANALWT_C</th>\n",
       "      <th>VESTR</th>\n",
       "      <th>VEREP</th>\n",
       "    </tr>\n",
       "    <tr>\n",
       "      <th>PERID</th>\n",
       "      <th></th>\n",
       "      <th></th>\n",
       "      <th></th>\n",
       "      <th></th>\n",
       "      <th></th>\n",
       "      <th></th>\n",
       "      <th></th>\n",
       "      <th></th>\n",
       "      <th></th>\n",
       "      <th></th>\n",
       "      <th></th>\n",
       "      <th></th>\n",
       "      <th></th>\n",
       "      <th></th>\n",
       "      <th></th>\n",
       "      <th></th>\n",
       "      <th></th>\n",
       "      <th></th>\n",
       "      <th></th>\n",
       "      <th></th>\n",
       "      <th></th>\n",
       "    </tr>\n",
       "  </thead>\n",
       "  <tbody>\n",
       "    <tr>\n",
       "      <th>66583679</th>\n",
       "      <td>0.217906</td>\n",
       "      <td>-0.119444</td>\n",
       "      <td>0.113683</td>\n",
       "      <td>-0.000262</td>\n",
       "      <td>-0.030825</td>\n",
       "      <td>-0.002887</td>\n",
       "      <td>-0.079221</td>\n",
       "      <td>-0.004899</td>\n",
       "      <td>0.017299</td>\n",
       "      <td>0.290868</td>\n",
       "      <td>...</td>\n",
       "      <td>-0.083246</td>\n",
       "      <td>-0.001772</td>\n",
       "      <td>-0.001932</td>\n",
       "      <td>-0.318723</td>\n",
       "      <td>-0.379615</td>\n",
       "      <td>0.022485</td>\n",
       "      <td>0.02301</td>\n",
       "      <td>0.146136</td>\n",
       "      <td>-0.116200</td>\n",
       "      <td>-0.498863</td>\n",
       "    </tr>\n",
       "    <tr>\n",
       "      <th>35494679</th>\n",
       "      <td>0.217906</td>\n",
       "      <td>-0.119444</td>\n",
       "      <td>0.113683</td>\n",
       "      <td>-0.000262</td>\n",
       "      <td>-0.364159</td>\n",
       "      <td>-0.002887</td>\n",
       "      <td>-0.079221</td>\n",
       "      <td>-0.004899</td>\n",
       "      <td>0.017299</td>\n",
       "      <td>0.290868</td>\n",
       "      <td>...</td>\n",
       "      <td>0.166754</td>\n",
       "      <td>-0.001772</td>\n",
       "      <td>-0.001932</td>\n",
       "      <td>-0.318723</td>\n",
       "      <td>-0.379615</td>\n",
       "      <td>0.022485</td>\n",
       "      <td>0.02301</td>\n",
       "      <td>-0.020511</td>\n",
       "      <td>0.373596</td>\n",
       "      <td>0.501137</td>\n",
       "    </tr>\n",
       "    <tr>\n",
       "      <th>79424679</th>\n",
       "      <td>-0.448761</td>\n",
       "      <td>-0.119444</td>\n",
       "      <td>-0.086317</td>\n",
       "      <td>-0.000262</td>\n",
       "      <td>-0.030825</td>\n",
       "      <td>-0.002887</td>\n",
       "      <td>-0.079221</td>\n",
       "      <td>-0.004899</td>\n",
       "      <td>0.017299</td>\n",
       "      <td>-0.709132</td>\n",
       "      <td>...</td>\n",
       "      <td>-0.333246</td>\n",
       "      <td>-0.001772</td>\n",
       "      <td>-0.001932</td>\n",
       "      <td>0.181277</td>\n",
       "      <td>0.120385</td>\n",
       "      <td>0.022485</td>\n",
       "      <td>0.02301</td>\n",
       "      <td>-0.054769</td>\n",
       "      <td>0.291964</td>\n",
       "      <td>0.501137</td>\n",
       "    </tr>\n",
       "    <tr>\n",
       "      <th>11744679</th>\n",
       "      <td>0.217906</td>\n",
       "      <td>-0.119444</td>\n",
       "      <td>0.513683</td>\n",
       "      <td>-0.000262</td>\n",
       "      <td>-0.030825</td>\n",
       "      <td>-0.002887</td>\n",
       "      <td>-0.079221</td>\n",
       "      <td>-0.004899</td>\n",
       "      <td>0.017299</td>\n",
       "      <td>0.290868</td>\n",
       "      <td>...</td>\n",
       "      <td>0.166754</td>\n",
       "      <td>-0.001772</td>\n",
       "      <td>-0.001932</td>\n",
       "      <td>-0.318723</td>\n",
       "      <td>-0.379615</td>\n",
       "      <td>0.022485</td>\n",
       "      <td>0.02301</td>\n",
       "      <td>0.009201</td>\n",
       "      <td>-0.177424</td>\n",
       "      <td>-0.498863</td>\n",
       "    </tr>\n",
       "    <tr>\n",
       "      <th>31554679</th>\n",
       "      <td>-0.782094</td>\n",
       "      <td>-0.119444</td>\n",
       "      <td>0.113683</td>\n",
       "      <td>-0.000262</td>\n",
       "      <td>0.302508</td>\n",
       "      <td>-0.002887</td>\n",
       "      <td>-0.079221</td>\n",
       "      <td>-0.004899</td>\n",
       "      <td>0.017299</td>\n",
       "      <td>-0.709132</td>\n",
       "      <td>...</td>\n",
       "      <td>0.166754</td>\n",
       "      <td>-0.001772</td>\n",
       "      <td>-0.012241</td>\n",
       "      <td>-0.318723</td>\n",
       "      <td>-0.379615</td>\n",
       "      <td>0.022485</td>\n",
       "      <td>0.02301</td>\n",
       "      <td>-0.055937</td>\n",
       "      <td>-0.177424</td>\n",
       "      <td>-0.498863</td>\n",
       "    </tr>\n",
       "  </tbody>\n",
       "</table>\n",
       "<p>5 rows × 70 columns</p>\n",
       "</div>"
      ],
      "text/plain": [
       "           IFATHER  NRCH17_2  IRHHSIZ2  IIHHSIZ2  IRKI17_2  IIKI17_2  \\\n",
       "PERID                                                                  \n",
       "66583679  0.217906 -0.119444  0.113683 -0.000262 -0.030825 -0.002887   \n",
       "35494679  0.217906 -0.119444  0.113683 -0.000262 -0.364159 -0.002887   \n",
       "79424679 -0.448761 -0.119444 -0.086317 -0.000262 -0.030825 -0.002887   \n",
       "11744679  0.217906 -0.119444  0.513683 -0.000262 -0.030825 -0.002887   \n",
       "31554679 -0.782094 -0.119444  0.113683 -0.000262  0.302508 -0.002887   \n",
       "\n",
       "          IRHH65_2  IIHH65_2  PRXRETRY  PRXYDATA    ...     POVERTY3  \\\n",
       "PERID                                               ...                \n",
       "66583679 -0.079221 -0.004899  0.017299  0.290868    ...    -0.083246   \n",
       "35494679 -0.079221 -0.004899  0.017299  0.290868    ...     0.166754   \n",
       "79424679 -0.079221 -0.004899  0.017299 -0.709132    ...    -0.333246   \n",
       "11744679 -0.079221 -0.004899  0.017299  0.290868    ...     0.166754   \n",
       "31554679 -0.079221 -0.004899  0.017299 -0.709132    ...     0.166754   \n",
       "\n",
       "           TOOLONG  TROUBUND    PDEN10   COUTYP2  MAIIN102  AIIND102  \\\n",
       "PERID                                                                  \n",
       "66583679 -0.001772 -0.001932 -0.318723 -0.379615  0.022485   0.02301   \n",
       "35494679 -0.001772 -0.001932 -0.318723 -0.379615  0.022485   0.02301   \n",
       "79424679 -0.001772 -0.001932  0.181277  0.120385  0.022485   0.02301   \n",
       "11744679 -0.001772 -0.001932 -0.318723 -0.379615  0.022485   0.02301   \n",
       "31554679 -0.001772 -0.012241 -0.318723 -0.379615  0.022485   0.02301   \n",
       "\n",
       "          ANALWT_C     VESTR     VEREP  \n",
       "PERID                                   \n",
       "66583679  0.146136 -0.116200 -0.498863  \n",
       "35494679 -0.020511  0.373596  0.501137  \n",
       "79424679 -0.054769  0.291964  0.501137  \n",
       "11744679  0.009201 -0.177424 -0.498863  \n",
       "31554679 -0.055937 -0.177424 -0.498863  \n",
       "\n",
       "[5 rows x 70 columns]"
      ]
     },
     "execution_count": 35,
     "metadata": {},
     "output_type": "execute_result"
    }
   ],
   "source": [
    "test.head()"
   ]
  },
  {
   "cell_type": "code",
   "execution_count": 36,
   "metadata": {},
   "outputs": [
    {
     "name": "stderr",
     "output_type": "stream",
     "text": [
      "C:\\Users\\imamk\\Anaconda3\\lib\\site-packages\\ipykernel_launcher.py:3: SettingWithCopyWarning: \n",
      "A value is trying to be set on a copy of a slice from a DataFrame.\n",
      "Try using .loc[row_indexer,col_indexer] = value instead\n",
      "\n",
      "See the caveats in the documentation: http://pandas.pydata.org/pandas-docs/stable/indexing.html#indexing-view-versus-copy\n",
      "  This is separate from the ipykernel package so we can avoid doing imports until\n"
     ]
    }
   ],
   "source": [
    "pca_train = train[important_cols]\n",
    "for i in range(35):\n",
    "    pca_train['col'+str(i)] = X_transformed[:,i]\n",
    "    "
   ]
  },
  {
   "cell_type": "code",
   "execution_count": 37,
   "metadata": {},
   "outputs": [
    {
     "name": "stderr",
     "output_type": "stream",
     "text": [
      "C:\\Users\\imamk\\Anaconda3\\lib\\site-packages\\ipykernel_launcher.py:3: SettingWithCopyWarning: \n",
      "A value is trying to be set on a copy of a slice from a DataFrame.\n",
      "Try using .loc[row_indexer,col_indexer] = value instead\n",
      "\n",
      "See the caveats in the documentation: http://pandas.pydata.org/pandas-docs/stable/indexing.html#indexing-view-versus-copy\n",
      "  This is separate from the ipykernel package so we can avoid doing imports until\n"
     ]
    }
   ],
   "source": [
    "pca_test_data = test[important_cols]\n",
    "for i in range(35):\n",
    "    pca_test_data['col'+str(i)] = X_test_transformed[:,i]"
   ]
  },
  {
   "cell_type": "code",
   "execution_count": 38,
   "metadata": {},
   "outputs": [
    {
     "data": {
      "text/html": [
       "<div>\n",
       "<style>\n",
       "    .dataframe thead tr:only-child th {\n",
       "        text-align: right;\n",
       "    }\n",
       "\n",
       "    .dataframe thead th {\n",
       "        text-align: left;\n",
       "    }\n",
       "\n",
       "    .dataframe tbody tr th {\n",
       "        vertical-align: top;\n",
       "    }\n",
       "</style>\n",
       "<table border=\"1\" class=\"dataframe\">\n",
       "  <thead>\n",
       "    <tr style=\"text-align: right;\">\n",
       "      <th></th>\n",
       "      <th>col0</th>\n",
       "      <th>col1</th>\n",
       "      <th>col2</th>\n",
       "      <th>col3</th>\n",
       "      <th>col4</th>\n",
       "      <th>col5</th>\n",
       "      <th>col6</th>\n",
       "      <th>col7</th>\n",
       "      <th>col8</th>\n",
       "      <th>col9</th>\n",
       "      <th>...</th>\n",
       "      <th>col25</th>\n",
       "      <th>col26</th>\n",
       "      <th>col27</th>\n",
       "      <th>col28</th>\n",
       "      <th>col29</th>\n",
       "      <th>col30</th>\n",
       "      <th>col31</th>\n",
       "      <th>col32</th>\n",
       "      <th>col33</th>\n",
       "      <th>col34</th>\n",
       "    </tr>\n",
       "    <tr>\n",
       "      <th>PERID</th>\n",
       "      <th></th>\n",
       "      <th></th>\n",
       "      <th></th>\n",
       "      <th></th>\n",
       "      <th></th>\n",
       "      <th></th>\n",
       "      <th></th>\n",
       "      <th></th>\n",
       "      <th></th>\n",
       "      <th></th>\n",
       "      <th></th>\n",
       "      <th></th>\n",
       "      <th></th>\n",
       "      <th></th>\n",
       "      <th></th>\n",
       "      <th></th>\n",
       "      <th></th>\n",
       "      <th></th>\n",
       "      <th></th>\n",
       "      <th></th>\n",
       "      <th></th>\n",
       "    </tr>\n",
       "  </thead>\n",
       "  <tbody>\n",
       "    <tr>\n",
       "      <th>25095143</th>\n",
       "      <td>0.894626</td>\n",
       "      <td>1.084436</td>\n",
       "      <td>0.314081</td>\n",
       "      <td>-0.767842</td>\n",
       "      <td>-0.478949</td>\n",
       "      <td>-0.463510</td>\n",
       "      <td>-0.238827</td>\n",
       "      <td>0.297388</td>\n",
       "      <td>0.029411</td>\n",
       "      <td>-0.394440</td>\n",
       "      <td>...</td>\n",
       "      <td>0.020997</td>\n",
       "      <td>-0.050498</td>\n",
       "      <td>0.012392</td>\n",
       "      <td>0.023203</td>\n",
       "      <td>-0.006541</td>\n",
       "      <td>0.058667</td>\n",
       "      <td>0.005487</td>\n",
       "      <td>-0.036635</td>\n",
       "      <td>0.020388</td>\n",
       "      <td>0.005433</td>\n",
       "    </tr>\n",
       "    <tr>\n",
       "      <th>13005143</th>\n",
       "      <td>-0.044881</td>\n",
       "      <td>0.458925</td>\n",
       "      <td>0.422862</td>\n",
       "      <td>-0.767244</td>\n",
       "      <td>0.620084</td>\n",
       "      <td>0.920247</td>\n",
       "      <td>0.370867</td>\n",
       "      <td>-0.398327</td>\n",
       "      <td>0.362787</td>\n",
       "      <td>-0.481604</td>\n",
       "      <td>...</td>\n",
       "      <td>-0.027918</td>\n",
       "      <td>0.006106</td>\n",
       "      <td>-0.020461</td>\n",
       "      <td>0.236650</td>\n",
       "      <td>0.020452</td>\n",
       "      <td>0.061964</td>\n",
       "      <td>0.003381</td>\n",
       "      <td>-0.021813</td>\n",
       "      <td>0.008386</td>\n",
       "      <td>-0.013713</td>\n",
       "    </tr>\n",
       "    <tr>\n",
       "      <th>67415143</th>\n",
       "      <td>0.978581</td>\n",
       "      <td>1.095876</td>\n",
       "      <td>0.933358</td>\n",
       "      <td>-0.142262</td>\n",
       "      <td>-0.440052</td>\n",
       "      <td>0.551052</td>\n",
       "      <td>-0.210681</td>\n",
       "      <td>-0.071553</td>\n",
       "      <td>0.108197</td>\n",
       "      <td>-0.340371</td>\n",
       "      <td>...</td>\n",
       "      <td>-0.013981</td>\n",
       "      <td>0.019899</td>\n",
       "      <td>-0.003024</td>\n",
       "      <td>0.242071</td>\n",
       "      <td>0.030216</td>\n",
       "      <td>0.080337</td>\n",
       "      <td>-0.006801</td>\n",
       "      <td>0.002656</td>\n",
       "      <td>0.011336</td>\n",
       "      <td>0.113908</td>\n",
       "    </tr>\n",
       "    <tr>\n",
       "      <th>70925143</th>\n",
       "      <td>-0.927865</td>\n",
       "      <td>-0.549562</td>\n",
       "      <td>0.257379</td>\n",
       "      <td>-0.414491</td>\n",
       "      <td>-0.512169</td>\n",
       "      <td>-0.432835</td>\n",
       "      <td>-0.074330</td>\n",
       "      <td>-0.073438</td>\n",
       "      <td>-0.411301</td>\n",
       "      <td>0.002804</td>\n",
       "      <td>...</td>\n",
       "      <td>-0.029504</td>\n",
       "      <td>0.031094</td>\n",
       "      <td>-0.005075</td>\n",
       "      <td>0.021305</td>\n",
       "      <td>-0.001508</td>\n",
       "      <td>-0.009611</td>\n",
       "      <td>-0.003450</td>\n",
       "      <td>0.006265</td>\n",
       "      <td>-0.010954</td>\n",
       "      <td>0.058504</td>\n",
       "    </tr>\n",
       "    <tr>\n",
       "      <th>75235143</th>\n",
       "      <td>1.161616</td>\n",
       "      <td>1.957742</td>\n",
       "      <td>-0.590052</td>\n",
       "      <td>-0.245178</td>\n",
       "      <td>0.554693</td>\n",
       "      <td>0.256044</td>\n",
       "      <td>0.295150</td>\n",
       "      <td>0.058942</td>\n",
       "      <td>-0.540258</td>\n",
       "      <td>0.752568</td>\n",
       "      <td>...</td>\n",
       "      <td>-0.075238</td>\n",
       "      <td>0.181486</td>\n",
       "      <td>-0.078247</td>\n",
       "      <td>-0.073934</td>\n",
       "      <td>-0.033451</td>\n",
       "      <td>-0.152349</td>\n",
       "      <td>0.008727</td>\n",
       "      <td>0.010383</td>\n",
       "      <td>-0.029377</td>\n",
       "      <td>-0.057492</td>\n",
       "    </tr>\n",
       "  </tbody>\n",
       "</table>\n",
       "<p>5 rows × 35 columns</p>\n",
       "</div>"
      ],
      "text/plain": [
       "              col0      col1      col2      col3      col4      col5  \\\n",
       "PERID                                                                  \n",
       "25095143  0.894626  1.084436  0.314081 -0.767842 -0.478949 -0.463510   \n",
       "13005143 -0.044881  0.458925  0.422862 -0.767244  0.620084  0.920247   \n",
       "67415143  0.978581  1.095876  0.933358 -0.142262 -0.440052  0.551052   \n",
       "70925143 -0.927865 -0.549562  0.257379 -0.414491 -0.512169 -0.432835   \n",
       "75235143  1.161616  1.957742 -0.590052 -0.245178  0.554693  0.256044   \n",
       "\n",
       "              col6      col7      col8      col9    ...        col25  \\\n",
       "PERID                                               ...                \n",
       "25095143 -0.238827  0.297388  0.029411 -0.394440    ...     0.020997   \n",
       "13005143  0.370867 -0.398327  0.362787 -0.481604    ...    -0.027918   \n",
       "67415143 -0.210681 -0.071553  0.108197 -0.340371    ...    -0.013981   \n",
       "70925143 -0.074330 -0.073438 -0.411301  0.002804    ...    -0.029504   \n",
       "75235143  0.295150  0.058942 -0.540258  0.752568    ...    -0.075238   \n",
       "\n",
       "             col26     col27     col28     col29     col30     col31  \\\n",
       "PERID                                                                  \n",
       "25095143 -0.050498  0.012392  0.023203 -0.006541  0.058667  0.005487   \n",
       "13005143  0.006106 -0.020461  0.236650  0.020452  0.061964  0.003381   \n",
       "67415143  0.019899 -0.003024  0.242071  0.030216  0.080337 -0.006801   \n",
       "70925143  0.031094 -0.005075  0.021305 -0.001508 -0.009611 -0.003450   \n",
       "75235143  0.181486 -0.078247 -0.073934 -0.033451 -0.152349  0.008727   \n",
       "\n",
       "             col32     col33     col34  \n",
       "PERID                                   \n",
       "25095143 -0.036635  0.020388  0.005433  \n",
       "13005143 -0.021813  0.008386 -0.013713  \n",
       "67415143  0.002656  0.011336  0.113908  \n",
       "70925143  0.006265 -0.010954  0.058504  \n",
       "75235143  0.010383 -0.029377 -0.057492  \n",
       "\n",
       "[5 rows x 35 columns]"
      ]
     },
     "execution_count": 38,
     "metadata": {},
     "output_type": "execute_result"
    }
   ],
   "source": [
    "pca_train.head()"
   ]
  },
  {
   "cell_type": "code",
   "execution_count": 39,
   "metadata": {},
   "outputs": [
    {
     "data": {
      "text/html": [
       "<div>\n",
       "<style>\n",
       "    .dataframe thead tr:only-child th {\n",
       "        text-align: right;\n",
       "    }\n",
       "\n",
       "    .dataframe thead th {\n",
       "        text-align: left;\n",
       "    }\n",
       "\n",
       "    .dataframe tbody tr th {\n",
       "        vertical-align: top;\n",
       "    }\n",
       "</style>\n",
       "<table border=\"1\" class=\"dataframe\">\n",
       "  <thead>\n",
       "    <tr style=\"text-align: right;\">\n",
       "      <th></th>\n",
       "      <th>col0</th>\n",
       "      <th>col1</th>\n",
       "      <th>col2</th>\n",
       "      <th>col3</th>\n",
       "      <th>col4</th>\n",
       "      <th>col5</th>\n",
       "      <th>col6</th>\n",
       "      <th>col7</th>\n",
       "      <th>col8</th>\n",
       "      <th>col9</th>\n",
       "      <th>...</th>\n",
       "      <th>col25</th>\n",
       "      <th>col26</th>\n",
       "      <th>col27</th>\n",
       "      <th>col28</th>\n",
       "      <th>col29</th>\n",
       "      <th>col30</th>\n",
       "      <th>col31</th>\n",
       "      <th>col32</th>\n",
       "      <th>col33</th>\n",
       "      <th>col34</th>\n",
       "    </tr>\n",
       "    <tr>\n",
       "      <th>PERID</th>\n",
       "      <th></th>\n",
       "      <th></th>\n",
       "      <th></th>\n",
       "      <th></th>\n",
       "      <th></th>\n",
       "      <th></th>\n",
       "      <th></th>\n",
       "      <th></th>\n",
       "      <th></th>\n",
       "      <th></th>\n",
       "      <th></th>\n",
       "      <th></th>\n",
       "      <th></th>\n",
       "      <th></th>\n",
       "      <th></th>\n",
       "      <th></th>\n",
       "      <th></th>\n",
       "      <th></th>\n",
       "      <th></th>\n",
       "      <th></th>\n",
       "      <th></th>\n",
       "    </tr>\n",
       "  </thead>\n",
       "  <tbody>\n",
       "    <tr>\n",
       "      <th>66583679</th>\n",
       "      <td>-0.620451</td>\n",
       "      <td>-0.221364</td>\n",
       "      <td>0.073395</td>\n",
       "      <td>-0.531729</td>\n",
       "      <td>0.369555</td>\n",
       "      <td>-0.393373</td>\n",
       "      <td>-0.005515</td>\n",
       "      <td>-0.183073</td>\n",
       "      <td>-0.374610</td>\n",
       "      <td>0.159187</td>\n",
       "      <td>...</td>\n",
       "      <td>-0.089292</td>\n",
       "      <td>0.058511</td>\n",
       "      <td>-0.059638</td>\n",
       "      <td>-0.021221</td>\n",
       "      <td>0.002689</td>\n",
       "      <td>0.021574</td>\n",
       "      <td>-0.002054</td>\n",
       "      <td>0.107884</td>\n",
       "      <td>-0.017114</td>\n",
       "      <td>0.004401</td>\n",
       "    </tr>\n",
       "    <tr>\n",
       "      <th>35494679</th>\n",
       "      <td>-0.904562</td>\n",
       "      <td>-0.517426</td>\n",
       "      <td>0.180141</td>\n",
       "      <td>-0.247063</td>\n",
       "      <td>-0.617229</td>\n",
       "      <td>-0.438811</td>\n",
       "      <td>-0.094680</td>\n",
       "      <td>0.040228</td>\n",
       "      <td>0.367274</td>\n",
       "      <td>-0.176427</td>\n",
       "      <td>...</td>\n",
       "      <td>-0.163030</td>\n",
       "      <td>0.058002</td>\n",
       "      <td>-0.074912</td>\n",
       "      <td>-0.016134</td>\n",
       "      <td>-0.006181</td>\n",
       "      <td>-0.004940</td>\n",
       "      <td>0.000472</td>\n",
       "      <td>-0.100505</td>\n",
       "      <td>0.007427</td>\n",
       "      <td>-0.005438</td>\n",
       "    </tr>\n",
       "    <tr>\n",
       "      <th>79424679</th>\n",
       "      <td>0.936625</td>\n",
       "      <td>1.497491</td>\n",
       "      <td>-0.155909</td>\n",
       "      <td>0.185489</td>\n",
       "      <td>-0.447084</td>\n",
       "      <td>0.176568</td>\n",
       "      <td>-0.077255</td>\n",
       "      <td>-0.538018</td>\n",
       "      <td>0.082024</td>\n",
       "      <td>-0.265670</td>\n",
       "      <td>...</td>\n",
       "      <td>0.008141</td>\n",
       "      <td>0.012811</td>\n",
       "      <td>0.040653</td>\n",
       "      <td>0.064298</td>\n",
       "      <td>0.016426</td>\n",
       "      <td>-0.021930</td>\n",
       "      <td>0.076888</td>\n",
       "      <td>-0.087272</td>\n",
       "      <td>0.021003</td>\n",
       "      <td>-0.007106</td>\n",
       "    </tr>\n",
       "    <tr>\n",
       "      <th>11744679</th>\n",
       "      <td>-0.831244</td>\n",
       "      <td>-0.359358</td>\n",
       "      <td>-0.064607</td>\n",
       "      <td>-0.557516</td>\n",
       "      <td>0.329272</td>\n",
       "      <td>-0.440487</td>\n",
       "      <td>-0.047838</td>\n",
       "      <td>0.366348</td>\n",
       "      <td>0.098407</td>\n",
       "      <td>-0.094721</td>\n",
       "      <td>...</td>\n",
       "      <td>-0.224558</td>\n",
       "      <td>0.117931</td>\n",
       "      <td>-0.136212</td>\n",
       "      <td>-0.010919</td>\n",
       "      <td>-0.002030</td>\n",
       "      <td>0.005191</td>\n",
       "      <td>-0.006992</td>\n",
       "      <td>-0.006807</td>\n",
       "      <td>-0.007597</td>\n",
       "      <td>-0.005271</td>\n",
       "    </tr>\n",
       "    <tr>\n",
       "      <th>31554679</th>\n",
       "      <td>-0.775099</td>\n",
       "      <td>0.261918</td>\n",
       "      <td>-1.110025</td>\n",
       "      <td>0.067240</td>\n",
       "      <td>0.549579</td>\n",
       "      <td>-0.458331</td>\n",
       "      <td>0.378012</td>\n",
       "      <td>-0.057119</td>\n",
       "      <td>0.058885</td>\n",
       "      <td>0.065543</td>\n",
       "      <td>...</td>\n",
       "      <td>0.000669</td>\n",
       "      <td>0.001722</td>\n",
       "      <td>-0.014050</td>\n",
       "      <td>-0.016014</td>\n",
       "      <td>-0.000137</td>\n",
       "      <td>0.001525</td>\n",
       "      <td>-0.017012</td>\n",
       "      <td>-0.008075</td>\n",
       "      <td>-0.004479</td>\n",
       "      <td>-0.001011</td>\n",
       "    </tr>\n",
       "  </tbody>\n",
       "</table>\n",
       "<p>5 rows × 35 columns</p>\n",
       "</div>"
      ],
      "text/plain": [
       "              col0      col1      col2      col3      col4      col5  \\\n",
       "PERID                                                                  \n",
       "66583679 -0.620451 -0.221364  0.073395 -0.531729  0.369555 -0.393373   \n",
       "35494679 -0.904562 -0.517426  0.180141 -0.247063 -0.617229 -0.438811   \n",
       "79424679  0.936625  1.497491 -0.155909  0.185489 -0.447084  0.176568   \n",
       "11744679 -0.831244 -0.359358 -0.064607 -0.557516  0.329272 -0.440487   \n",
       "31554679 -0.775099  0.261918 -1.110025  0.067240  0.549579 -0.458331   \n",
       "\n",
       "              col6      col7      col8      col9    ...        col25  \\\n",
       "PERID                                               ...                \n",
       "66583679 -0.005515 -0.183073 -0.374610  0.159187    ...    -0.089292   \n",
       "35494679 -0.094680  0.040228  0.367274 -0.176427    ...    -0.163030   \n",
       "79424679 -0.077255 -0.538018  0.082024 -0.265670    ...     0.008141   \n",
       "11744679 -0.047838  0.366348  0.098407 -0.094721    ...    -0.224558   \n",
       "31554679  0.378012 -0.057119  0.058885  0.065543    ...     0.000669   \n",
       "\n",
       "             col26     col27     col28     col29     col30     col31  \\\n",
       "PERID                                                                  \n",
       "66583679  0.058511 -0.059638 -0.021221  0.002689  0.021574 -0.002054   \n",
       "35494679  0.058002 -0.074912 -0.016134 -0.006181 -0.004940  0.000472   \n",
       "79424679  0.012811  0.040653  0.064298  0.016426 -0.021930  0.076888   \n",
       "11744679  0.117931 -0.136212 -0.010919 -0.002030  0.005191 -0.006992   \n",
       "31554679  0.001722 -0.014050 -0.016014 -0.000137  0.001525 -0.017012   \n",
       "\n",
       "             col32     col33     col34  \n",
       "PERID                                   \n",
       "66583679  0.107884 -0.017114  0.004401  \n",
       "35494679 -0.100505  0.007427 -0.005438  \n",
       "79424679 -0.087272  0.021003 -0.007106  \n",
       "11744679 -0.006807 -0.007597 -0.005271  \n",
       "31554679 -0.008075 -0.004479 -0.001011  \n",
       "\n",
       "[5 rows x 35 columns]"
      ]
     },
     "execution_count": 39,
     "metadata": {},
     "output_type": "execute_result"
    }
   ],
   "source": [
    "pca_test_data.head()"
   ]
  },
  {
   "cell_type": "code",
   "execution_count": 40,
   "metadata": {},
   "outputs": [
    {
     "data": {
      "text/plain": [
       "(45716, 35)"
      ]
     },
     "execution_count": 40,
     "metadata": {},
     "output_type": "execute_result"
    }
   ],
   "source": [
    "pca_train.shape"
   ]
  },
  {
   "cell_type": "code",
   "execution_count": 41,
   "metadata": {},
   "outputs": [
    {
     "data": {
      "text/plain": [
       "1.0"
      ]
     },
     "execution_count": 41,
     "metadata": {},
     "output_type": "execute_result"
    }
   ],
   "source": [
    "target[target == 1].shape[0]/45716"
   ]
  },
  {
   "cell_type": "code",
   "execution_count": 42,
   "metadata": {},
   "outputs": [
    {
     "data": {
      "text/plain": [
       "1.0"
      ]
     },
     "execution_count": 42,
     "metadata": {},
     "output_type": "execute_result"
    }
   ],
   "source": [
    "target[target == 0].shape[0]/45716"
   ]
  },
  {
   "cell_type": "code",
   "execution_count": 43,
   "metadata": {
    "collapsed": true
   },
   "outputs": [],
   "source": [
    "itrain,itest = train_test_split(range(pca_train.shape[0]),train_size=0.7)\n",
    "mask = np.ones(pca_train.shape[0],dtype='int')\n",
    "mask[itrain] = 1\n",
    "mask[itest] = 0\n",
    "mask = (mask==1)"
   ]
  },
  {
   "cell_type": "code",
   "execution_count": 44,
   "metadata": {},
   "outputs": [
    {
     "data": {
      "text/plain": [
       "Criminal    0.069592\n",
       "dtype: float64"
      ]
     },
     "execution_count": 44,
     "metadata": {},
     "output_type": "execute_result"
    }
   ],
   "source": [
    "np.mean(target[mask])"
   ]
  },
  {
   "cell_type": "code",
   "execution_count": 45,
   "metadata": {},
   "outputs": [
    {
     "data": {
      "text/plain": [
       "Criminal    0.069121\n",
       "dtype: float64"
      ]
     },
     "execution_count": 45,
     "metadata": {},
     "output_type": "execute_result"
    }
   ],
   "source": [
    "np.mean(target[~mask])"
   ]
  },
  {
   "cell_type": "code",
   "execution_count": 46,
   "metadata": {
    "collapsed": true
   },
   "outputs": [],
   "source": [
    "lr = LogisticRegression(C=0.8,class_weight='balanced')"
   ]
  },
  {
   "cell_type": "code",
   "execution_count": 47,
   "metadata": {},
   "outputs": [
    {
     "name": "stderr",
     "output_type": "stream",
     "text": [
      "C:\\Users\\imamk\\Anaconda3\\lib\\site-packages\\sklearn\\utils\\validation.py:578: DataConversionWarning: A column-vector y was passed when a 1d array was expected. Please change the shape of y to (n_samples, ), for example using ravel().\n",
      "  y = column_or_1d(y, warn=True)\n"
     ]
    }
   ],
   "source": [
    "lr_fit = lr.fit(train,target)"
   ]
  },
  {
   "cell_type": "code",
   "execution_count": 48,
   "metadata": {
    "collapsed": true
   },
   "outputs": [],
   "source": [
    "results = lr_fit"
   ]
  },
  {
   "cell_type": "code",
   "execution_count": 49,
   "metadata": {
    "collapsed": true
   },
   "outputs": [],
   "source": [
    "LogisticRegression?"
   ]
  },
  {
   "cell_type": "code",
   "execution_count": 50,
   "metadata": {},
   "outputs": [
    {
     "name": "stderr",
     "output_type": "stream",
     "text": [
      "C:\\Users\\imamk\\Anaconda3\\lib\\site-packages\\ipykernel_launcher.py:1: SettingWithCopyWarning: \n",
      "A value is trying to be set on a copy of a slice from a DataFrame.\n",
      "Try using .loc[row_indexer,col_indexer] = value instead\n",
      "\n",
      "See the caveats in the documentation: http://pandas.pydata.org/pandas-docs/stable/indexing.html#indexing-view-versus-copy\n",
      "  \"\"\"Entry point for launching an IPython kernel.\n"
     ]
    }
   ],
   "source": [
    "pca_train['target'] = target"
   ]
  },
  {
   "cell_type": "code",
   "execution_count": 51,
   "metadata": {},
   "outputs": [
    {
     "data": {
      "text/plain": [
       "(45716, 36)"
      ]
     },
     "execution_count": 51,
     "metadata": {},
     "output_type": "execute_result"
    }
   ],
   "source": [
    "pca_train.shape"
   ]
  },
  {
   "cell_type": "code",
   "execution_count": 52,
   "metadata": {
    "collapsed": true
   },
   "outputs": [],
   "source": [
    "def cv_optimize(clf,parameters,X,y,n_jobs = 1,n_folds = 10,score_func = None):\n",
    "    if(score_func):\n",
    "        gs = GridSearchCV(clf,param_grid=parameters,cv=n_folds,n_jobs=n_jobs,scoring=score_func)\n",
    "    else:\n",
    "        gs = GridSearchCV(clf,param_grid=parameters,cv=n_folds,n_jobs=n_jobs)\n",
    "    gs.fit(X,y)\n",
    "    print(\"Best \",gs.best_params_,gs.best_score_,gs.grid_scores_)\n",
    "    best = gs.best_estimator_\n",
    "    return best,gs.grid_scores_\n",
    "\n",
    "\n",
    "\n",
    "def do_classify(clf,parameters,indf,features,targetname,target1val,mask,nfolds = 10,score_func = None,n_jobs = 1):\n",
    "    subdf = indf[features]\n",
    "    X = subdf.values\n",
    "    y = (indf[targetname].values == target1val)*1\n",
    "    if(mask[0]!=None):\n",
    "        print(\"Using Mask\")\n",
    "        Xtrain,Ytrain,Xtest,Ytest = X[mask],y[mask],X[~mask],y[~mask]\n",
    "    else:\n",
    "        print(\"No Mask\")\n",
    "    grid_scores = None\n",
    "    if(parameters):\n",
    "        clf,grid_scores = cv_optimize(clf,parameters,Xtrain,Ytrain,n_jobs,nfolds,score_func= score_func)\n",
    "    clf_train_fit = clf.fit(Xtrain,Ytrain)\n",
    "    clf_total_fit = clf.fit(X,y)\n",
    "    return clf_total_fit,Xtest,Ytest\n"
   ]
  },
  {
   "cell_type": "code",
   "execution_count": 53,
   "metadata": {
    "collapsed": true
   },
   "outputs": [],
   "source": [
    "features = list(pca_train.columns)\n",
    "features.remove('target')"
   ]
  },
  {
   "cell_type": "code",
   "execution_count": 54,
   "metadata": {},
   "outputs": [
    {
     "data": {
      "text/plain": [
       "['col0',\n",
       " 'col1',\n",
       " 'col2',\n",
       " 'col3',\n",
       " 'col4',\n",
       " 'col5',\n",
       " 'col6',\n",
       " 'col7',\n",
       " 'col8',\n",
       " 'col9',\n",
       " 'col10',\n",
       " 'col11',\n",
       " 'col12',\n",
       " 'col13',\n",
       " 'col14',\n",
       " 'col15',\n",
       " 'col16',\n",
       " 'col17',\n",
       " 'col18',\n",
       " 'col19',\n",
       " 'col20',\n",
       " 'col21',\n",
       " 'col22',\n",
       " 'col23',\n",
       " 'col24',\n",
       " 'col25',\n",
       " 'col26',\n",
       " 'col27',\n",
       " 'col28',\n",
       " 'col29',\n",
       " 'col30',\n",
       " 'col31',\n",
       " 'col32',\n",
       " 'col33',\n",
       " 'col34']"
      ]
     },
     "execution_count": 54,
     "metadata": {},
     "output_type": "execute_result"
    }
   ],
   "source": [
    "features"
   ]
  },
  {
   "cell_type": "code",
   "execution_count": 55,
   "metadata": {},
   "outputs": [
    {
     "name": "stdout",
     "output_type": "stream",
     "text": [
      "Using Mask\n",
      "Best  {'C': 100} 0.8760663729258461 [mean: 0.75820, std: 0.00705, params: {'C': 0.001}, mean: 0.86072, std: 0.00456, params: {'C': 0.01}, mean: 0.87560, std: 0.00527, params: {'C': 0.1}, mean: 0.87579, std: 0.00592, params: {'C': 1}, mean: 0.87597, std: 0.00615, params: {'C': 10}, mean: 0.87607, std: 0.00619, params: {'C': 100}]\n"
     ]
    }
   ],
   "source": [
    "lr = LogisticRegression(class_weight=\"balanced\")\n",
    "parameters = {\"C\":[0.001, 0.01, 0.1, 1, 10, 100]}\n",
    "clf,Xtest,Ytest= do_classify(lr,parameters,pca_train,features,'target',1,mask,nfolds=10)"
   ]
  },
  {
   "cell_type": "code",
   "execution_count": 56,
   "metadata": {
    "collapsed": true
   },
   "outputs": [],
   "source": [
    "result = clf.predict_proba(Xtest)[:,0]"
   ]
  },
  {
   "cell_type": "code",
   "execution_count": null,
   "metadata": {},
   "outputs": [],
   "source": []
  },
  {
   "cell_type": "code",
   "execution_count": 57,
   "metadata": {
    "collapsed": true
   },
   "outputs": [],
   "source": [
    "precision,recall,thresholds = precision_recall_curve(target[~mask].values,result,pos_label=0)"
   ]
  },
  {
   "cell_type": "code",
   "execution_count": 58,
   "metadata": {},
   "outputs": [
    {
     "data": {
      "text/plain": [
       "(13710,)"
      ]
     },
     "execution_count": 58,
     "metadata": {},
     "output_type": "execute_result"
    }
   ],
   "source": [
    "precision.shape"
   ]
  },
  {
   "cell_type": "code",
   "execution_count": 59,
   "metadata": {},
   "outputs": [
    {
     "data": {
      "text/plain": [
       "(13709,)"
      ]
     },
     "execution_count": 59,
     "metadata": {},
     "output_type": "execute_result"
    }
   ],
   "source": [
    "thresholds.shape"
   ]
  },
  {
   "cell_type": "code",
   "execution_count": 60,
   "metadata": {
    "collapsed": true
   },
   "outputs": [],
   "source": [
    "def make_precision_recall_curve(name, clf, ytest, xtest, ax=None, labe=5, proba=True, skip=0):\n",
    "    initial=False\n",
    "    if not ax:\n",
    "        ax=plt.gca()\n",
    "        initial=True\n",
    "    if proba:\n",
    "        precision,recall,thresholds = precision_recall_curve(ytest, clf.predict_proba(xtest)[:,1],pos_label=1)\n",
    "    else:\n",
    "        precision,recall,thresholds = precision_recall_curve(ytest, clf.decision_function(xtest))\n",
    "        \n",
    "    if skip:\n",
    "        l=recall.shape[0]\n",
    "        ax.plot(recall[0:l:skip], precision[0:l:skip], '.-', alpha=0.3, label='PR curve')\n",
    "        print(\"her\")\n",
    "    else:\n",
    "        ax.plot(recall, precision, '.-', alpha=0.3, label='PR Curve')\n",
    "    label_kwargs = {}\n",
    "    label_kwargs['bbox'] = dict(\n",
    "        boxstyle='round,pad=0.3', alpha=0.2,\n",
    "    )\n",
    "    for k in range(0, recall.shape[0],labe):\n",
    "        #from https://gist.github.com/podshumok/c1d1c9394335d86255b8\n",
    "        if(k<len(thresholds)):\n",
    "            threshold = str(np.round(thresholds[k], 2))\n",
    "            ax.annotate(threshold, (recall[k], precision[k]), **label_kwargs)\n",
    "    if initial:\n",
    "        ax.plot([0, 1], [1, 0], 'k--')\n",
    "        ax.set_xlim([0.0, 1.0])\n",
    "        ax.set_ylim([0.0, 1.05])\n",
    "        ax.set_xlabel('Recall')\n",
    "        ax.set_ylabel('Precision')\n",
    "        ax.set_title('PR')\n",
    "    ax.legend(loc=\"lower right\")\n",
    "    return ax,precision,recall,thresholds"
   ]
  },
  {
   "cell_type": "code",
   "execution_count": 61,
   "metadata": {
    "collapsed": true
   },
   "outputs": [],
   "source": [
    "def make_roc(name, clf, ytest, xtest, ax=None, labe=6, proba=True, skip=5):\n",
    "    initial=False\n",
    "    if not ax:\n",
    "        ax=plt.gca()\n",
    "        initial=True\n",
    "    if proba:\n",
    "        fpr, tpr, thresholds=roc_curve(ytest, clf.predict_proba(xtest)[:,1])\n",
    "    else:\n",
    "        fpr, tpr, thresholds=roc_curve(ytest, clf.decision_function(xtest))\n",
    "    roc_auc = auc(fpr, tpr)\n",
    "    if skip:\n",
    "        l=fpr.shape[0]\n",
    "        ax.plot(fpr[0:l:skip], tpr[0:l:skip], '.-', alpha=0.3, label='ROC curve for %s (area = %0.2f)' % (name, roc_auc))\n",
    "    else:\n",
    "        ax.plot(fpr, tpr, '.-', alpha=0.3, label='ROC curve for %s (area = %0.2f)' % (name, roc_auc))\n",
    "    label_kwargs = {}\n",
    "    label_kwargs['bbox'] = dict(\n",
    "        boxstyle='round,pad=0.3', alpha=0.2,\n",
    "    )\n",
    "    for k in range(0, fpr.shape[0],labe):\n",
    "        #from https://gist.github.com/podshumok/c1d1c9394335d86255b8\n",
    "        threshold = str(np.round(thresholds[k], 2))\n",
    "        ax.annotate(threshold, (fpr[k], tpr[k]), **label_kwargs)\n",
    "    if initial:\n",
    "        ax.plot([0, 1], [0, 1], 'k--')\n",
    "        ax.set_xlim([0.0, 1.0])\n",
    "        ax.set_ylim([0.0, 1.05])\n",
    "        ax.set_xlabel('False Positive Rate')\n",
    "        ax.set_ylabel('True Positive Rate')\n",
    "        ax.set_title('ROC')\n",
    "    ax.legend(loc=\"lower right\")\n",
    "    return ax"
   ]
  },
  {
   "cell_type": "code",
   "execution_count": 62,
   "metadata": {},
   "outputs": [
    {
     "data": {
      "image/png": "[encoded data removed]",
      "text/plain": [
       "<matplotlib.figure.Figure at 0x259a380dd30>"
      ]
     },
     "metadata": {},
     "output_type": "display_data"
    }
   ],
   "source": [
    "ax,precision,recall,thresholds = make_precision_recall_curve(\"logistic\",clf,Ytest,Xtest)"
   ]
  },
  {
   "cell_type": "code",
   "execution_count": 63,
   "metadata": {},
   "outputs": [
    {
     "data": {
      "text/plain": [
       "<matplotlib.axes._subplots.AxesSubplot at 0x259aa216630>"
      ]
     },
     "execution_count": 63,
     "metadata": {},
     "output_type": "execute_result"
    },
    {
     "data": {
      "image/png": "[encoded data removed]",
      "text/plain": [
       "<matplotlib.figure.Figure at 0x259aa25ef98>"
      ]
     },
     "metadata": {},
     "output_type": "display_data"
    }
   ],
   "source": [
    "make_roc(\"logistic\",clf,Ytest,Xtest)"
   ]
  },
  {
   "cell_type": "code",
   "execution_count": 64,
   "metadata": {},
   "outputs": [
    {
     "data": {
      "text/plain": [
       "(0.14778401997503121, 0.99894514767932485)"
      ]
     },
     "execution_count": 64,
     "metadata": {},
     "output_type": "execute_result"
    }
   ],
   "source": [
    "precision[928],recall[928]"
   ]
  },
  {
   "cell_type": "code",
   "execution_count": 65,
   "metadata": {},
   "outputs": [
    {
     "data": {
      "text/plain": [
       "(7333,)"
      ]
     },
     "execution_count": 65,
     "metadata": {},
     "output_type": "execute_result"
    }
   ],
   "source": [
    "thresholds.shape"
   ]
  },
  {
   "cell_type": "code",
   "execution_count": 66,
   "metadata": {},
   "outputs": [
    {
     "data": {
      "text/plain": [
       "<matplotlib.collections.PathCollection at 0x259aa3c0da0>"
      ]
     },
     "execution_count": 66,
     "metadata": {},
     "output_type": "execute_result"
    },
    {
     "data": {
      "image/png": "[encoded data removed]",
      "text/plain": [
       "<matplotlib.figure.Figure at 0x259a4e9f320>"
      ]
     },
     "metadata": {},
     "output_type": "display_data"
    }
   ],
   "source": [
    "fig = plt.figure()\n",
    "ax1 = fig.add_subplot('111')\n",
    "ax1.scatter(range(len(precision)),precision)\n",
    "ax1.scatter(range(len(thresholds)),thresholds)\n",
    "ax1.scatter(range(len(recall)),recall)"
   ]
  },
  {
   "cell_type": "code",
   "execution_count": 67,
   "metadata": {},
   "outputs": [],
   "source": [
    "f1 = []\n",
    "thres = []\n",
    "for i in range(thresholds.shape[0]):\n",
    "    f1.append(2 * (precision[i] * recall[i]) / (precision[i] + recall[i]))\n",
    "    thres.append(thresholds[i])"
   ]
  },
  {
   "cell_type": "code",
   "execution_count": 68,
   "metadata": {},
   "outputs": [
    {
     "data": {
      "text/plain": [
       "<matplotlib.lines.Line2D at 0x259aa484198>"
      ]
     },
     "execution_count": 68,
     "metadata": {},
     "output_type": "execute_result"
    },
    {
     "data": {
      "image/png": "[encoded data removed]",
      "text/plain": [
       "<matplotlib.figure.Figure at 0x259aa3532b0>"
      ]
     },
     "metadata": {},
     "output_type": "display_data"
    }
   ],
   "source": [
    "#f1 score\n",
    "fig = plt.figure()\n",
    "ax1 = fig.add_subplot('111')\n",
    "ax1.scatter(range(len(f1)),f1)\n",
    "ax1.scatter(range(len(thresholds)),thresholds)\n",
    "ax1.axhline(y=0.57)"
   ]
  },
  {
   "cell_type": "code",
   "execution_count": 69,
   "metadata": {},
   "outputs": [
    {
     "data": {
      "text/plain": [
       "1.0"
      ]
     },
     "execution_count": 69,
     "metadata": {},
     "output_type": "execute_result"
    }
   ],
   "source": [
    "recall[0]\n"
   ]
  },
  {
   "cell_type": "code",
   "execution_count": 70,
   "metadata": {},
   "outputs": [
    {
     "data": {
      "text/plain": [
       "(7333,)"
      ]
     },
     "execution_count": 70,
     "metadata": {},
     "output_type": "execute_result"
    }
   ],
   "source": [
    "thresholds.shape"
   ]
  },
  {
   "cell_type": "code",
   "execution_count": 71,
   "metadata": {},
   "outputs": [
    {
     "data": {
      "text/plain": [
       "0.026582356035773611"
      ]
     },
     "execution_count": 71,
     "metadata": {},
     "output_type": "execute_result"
    }
   ],
   "source": [
    "thresholds[1]"
   ]
  },
  {
   "cell_type": "code",
   "execution_count": 72,
   "metadata": {},
   "outputs": [
    {
     "data": {
      "text/plain": [
       "<matplotlib.collections.PathCollection at 0x259aa4e3160>"
      ]
     },
     "execution_count": 72,
     "metadata": {},
     "output_type": "execute_result"
    },
    {
     "data": {
      "image/png": "[encoded data removed]",
      "text/plain": [
       "<matplotlib.figure.Figure at 0x259aa3abc50>"
      ]
     },
     "metadata": {},
     "output_type": "display_data"
    }
   ],
   "source": [
    "plt.scatter(range(len(thresholds)),thresholds)"
   ]
  },
  {
   "cell_type": "code",
   "execution_count": 73,
   "metadata": {},
   "outputs": [],
   "source": [
    "result = clf.predict_proba(Xtest)[:,1]"
   ]
  },
  {
   "cell_type": "code",
   "execution_count": 74,
   "metadata": {},
   "outputs": [
    {
     "data": {
      "text/plain": [
       "<matplotlib.collections.PathCollection at 0x259aa548198>"
      ]
     },
     "execution_count": 74,
     "metadata": {},
     "output_type": "execute_result"
    },
    {
     "data": {
      "image/png": "[encoded data removed]",
      "text/plain": [
       "<matplotlib.figure.Figure at 0x259aa4fdba8>"
      ]
     },
     "metadata": {},
     "output_type": "display_data"
    }
   ],
   "source": [
    "plt.scatter(range(len(result)),result,c=Ytest)"
   ]
  },
  {
   "cell_type": "code",
   "execution_count": 75,
   "metadata": {
    "collapsed": true
   },
   "outputs": [],
   "source": [
    "fn = 0\n",
    "fp = 0 \n",
    "new_result = []\n",
    "for i in range(len(result)):\n",
    "    if(result[i]>=0.57):\n",
    "        new_result.append(1)\n",
    "    if(result[i]<0.57):\n",
    "        new_result.append(0)\n"
   ]
  },
  {
   "cell_type": "raw",
   "metadata": {},
   "source": []
  },
  {
   "cell_type": "code",
   "execution_count": 76,
   "metadata": {
    "scrolled": true
   },
   "outputs": [
    {
     "data": {
      "text/plain": [
       "(0, 0)"
      ]
     },
     "execution_count": 76,
     "metadata": {},
     "output_type": "execute_result"
    }
   ],
   "source": [
    "fn,fp"
   ]
  },
  {
   "cell_type": "code",
   "execution_count": 77,
   "metadata": {},
   "outputs": [
    {
     "data": {
      "text/plain": [
       "array([[11431,    91],\n",
       "       [ 1336,   857]], dtype=int64)"
      ]
     },
     "execution_count": 77,
     "metadata": {},
     "output_type": "execute_result"
    }
   ],
   "source": [
    "confusion_matrix(new_result,Ytest)"
   ]
  },
  {
   "cell_type": "code",
   "execution_count": 78,
   "metadata": {
    "collapsed": true
   },
   "outputs": [],
   "source": [
    "final_test_result = clf.predict_proba(pca_test_data)[:,1]"
   ]
  },
  {
   "cell_type": "code",
   "execution_count": 79,
   "metadata": {},
   "outputs": [
    {
     "data": {
      "text/plain": [
       "0.036871015040606692"
      ]
     },
     "execution_count": 79,
     "metadata": {},
     "output_type": "execute_result"
    }
   ],
   "source": [
    "final_test_result[0]"
   ]
  },
  {
   "cell_type": "code",
   "execution_count": 80,
   "metadata": {
    "collapsed": true
   },
   "outputs": [],
   "source": [
    "hamse_na_ho_payega = pca_test_data[['col0']]"
   ]
  },
  {
   "cell_type": "code",
   "execution_count": null,
   "metadata": {
    "collapsed": true
   },
   "outputs": [],
   "source": []
  },
  {
   "cell_type": "code",
   "execution_count": 81,
   "metadata": {
    "collapsed": true
   },
   "outputs": [],
   "source": [
    "add_result = []"
   ]
  },
  {
   "cell_type": "code",
   "execution_count": 82,
   "metadata": {
    "collapsed": true
   },
   "outputs": [],
   "source": [
    "for i in range(len(final_test_result)):\n",
    "    if(final_test_result[i]>=0.57):\n",
    "        add_result.append(1)\n",
    "    else:\n",
    "        add_result.append(0)"
   ]
  },
  {
   "cell_type": "code",
   "execution_count": 83,
   "metadata": {},
   "outputs": [
    {
     "name": "stderr",
     "output_type": "stream",
     "text": [
      "C:\\Users\\imamk\\Anaconda3\\lib\\site-packages\\ipykernel_launcher.py:1: SettingWithCopyWarning: \n",
      "A value is trying to be set on a copy of a slice from a DataFrame.\n",
      "Try using .loc[row_indexer,col_indexer] = value instead\n",
      "\n",
      "See the caveats in the documentation: http://pandas.pydata.org/pandas-docs/stable/indexing.html#indexing-view-versus-copy\n",
      "  \"\"\"Entry point for launching an IPython kernel.\n"
     ]
    }
   ],
   "source": [
    "hamse_na_ho_payega['Criminal'] = add_result"
   ]
  },
  {
   "cell_type": "code",
   "execution_count": 84,
   "metadata": {
    "collapsed": true
   },
   "outputs": [],
   "source": [
    "hamse_na_ho_payega = hamse_na_ho_payega[['Criminal']]"
   ]
  },
  {
   "cell_type": "code",
   "execution_count": 85,
   "metadata": {},
   "outputs": [
    {
     "data": {
      "text/html": [
       "<div>\n",
       "<style>\n",
       "    .dataframe thead tr:only-child th {\n",
       "        text-align: right;\n",
       "    }\n",
       "\n",
       "    .dataframe thead th {\n",
       "        text-align: left;\n",
       "    }\n",
       "\n",
       "    .dataframe tbody tr th {\n",
       "        vertical-align: top;\n",
       "    }\n",
       "</style>\n",
       "<table border=\"1\" class=\"dataframe\">\n",
       "  <thead>\n",
       "    <tr style=\"text-align: right;\">\n",
       "      <th></th>\n",
       "      <th>Criminal</th>\n",
       "    </tr>\n",
       "    <tr>\n",
       "      <th>PERID</th>\n",
       "      <th></th>\n",
       "    </tr>\n",
       "  </thead>\n",
       "  <tbody>\n",
       "    <tr>\n",
       "      <th>66583679</th>\n",
       "      <td>0</td>\n",
       "    </tr>\n",
       "    <tr>\n",
       "      <th>35494679</th>\n",
       "      <td>0</td>\n",
       "    </tr>\n",
       "    <tr>\n",
       "      <th>79424679</th>\n",
       "      <td>0</td>\n",
       "    </tr>\n",
       "    <tr>\n",
       "      <th>11744679</th>\n",
       "      <td>0</td>\n",
       "    </tr>\n",
       "    <tr>\n",
       "      <th>31554679</th>\n",
       "      <td>0</td>\n",
       "    </tr>\n",
       "  </tbody>\n",
       "</table>\n",
       "</div>"
      ],
      "text/plain": [
       "          Criminal\n",
       "PERID             \n",
       "66583679         0\n",
       "35494679         0\n",
       "79424679         0\n",
       "11744679         0\n",
       "31554679         0"
      ]
     },
     "execution_count": 85,
     "metadata": {},
     "output_type": "execute_result"
    }
   ],
   "source": [
    "hamse_na_ho_payega.head()"
   ]
  },
  {
   "cell_type": "code",
   "execution_count": 86,
   "metadata": {
    "collapsed": true
   },
   "outputs": [],
   "source": [
    "hamse_na_ho_payega.to_csv('hamse_na_ho_payega.csv')"
   ]
  },
  {
   "cell_type": "code",
   "execution_count": 87,
   "metadata": {},
   "outputs": [
    {
     "data": {
      "text/plain": [
       "PERID\n",
       "66583679    0\n",
       "35494679    0\n",
       "79424679    0\n",
       "11744679    0\n",
       "31554679    0\n",
       "83164679    0\n",
       "58474679    0\n",
       "40695779    0\n",
       "39315779    0\n",
       "58415779    0\n",
       "23535779    0\n",
       "67275779    0\n",
       "93485779    0\n",
       "29546779    0\n",
       "97556779    0\n",
       "37797779    0\n",
       "36607779    0\n",
       "61727779    0\n",
       "20827779    0\n",
       "52437779    0\n",
       "87267779    0\n",
       "33287779    0\n",
       "30398779    0\n",
       "98598779    0\n",
       "41818779    0\n",
       "69638779    0\n",
       "25748779    0\n",
       "75368779    1\n",
       "99968779    0\n",
       "91578779    0\n",
       "           ..\n",
       "43750730    0\n",
       "35360730    0\n",
       "51380730    0\n",
       "50480730    0\n",
       "71901730    0\n",
       "96021730    0\n",
       "71331730    0\n",
       "66541730    0\n",
       "29861730    0\n",
       "95071730    0\n",
       "61281730    0\n",
       "57202730    0\n",
       "45402730    0\n",
       "45022730    0\n",
       "99432730    0\n",
       "26732730    0\n",
       "85832730    0\n",
       "45782730    0\n",
       "26493730    0\n",
       "54693730    0\n",
       "97103730    0\n",
       "99713730    1\n",
       "74543730    0\n",
       "57863730    1\n",
       "97294730    0\n",
       "31894730    0\n",
       "98524730    0\n",
       "80134730    0\n",
       "65323398    0\n",
       "90906563    0\n",
       "Name: Criminal, Length: 11430, dtype: int64"
      ]
     },
     "execution_count": 87,
     "metadata": {},
     "output_type": "execute_result"
    }
   ],
   "source": [
    "hamse_na_ho_payega['Criminal']"
   ]
  },
  {
   "cell_type": "code",
   "execution_count": 88,
   "metadata": {},
   "outputs": [
    {
     "data": {
      "text/plain": [
       "array([  3.68710150e-02,   1.33882646e-01,   7.82016734e-02, ...,\n",
       "         2.14088825e-01,   6.62604680e-04,   1.36140494e-05])"
      ]
     },
     "execution_count": 88,
     "metadata": {},
     "output_type": "execute_result"
    }
   ],
   "source": [
    "final_test_result"
   ]
  },
  {
   "cell_type": "code",
   "execution_count": 89,
   "metadata": {},
   "outputs": [],
   "source": [
    "def modelfit(alg, dtrain, predictors,target,useTrainCV=True, cv_folds=5, early_stopping_rounds=50):\n",
    "    \n",
    "    if useTrainCV:\n",
    "        xgb_param = alg.get_xgb_params()\n",
    "        xgtrain = xgb.DMatrix(dtrain[predictors].values, label=(dtrain[target].values)*True)\n",
    "        cvresult = xgb.cv(xgb_param, xgtrain, num_boost_round=alg.get_params()['n_estimators'], nfold=cv_folds,\n",
    "            metrics='auc', early_stopping_rounds=early_stopping_rounds,verbose_eval=False)\n",
    "        alg.set_params(n_estimators=cvresult.shape[0])\n",
    "    \n",
    "    #Fit the algorithm on the data\n",
    "    alg.fit(dtrain[predictors], dtrain['target'],eval_metric='error')\n",
    "        \n",
    "    #Predict training set:\n",
    "    dtrain_predictions = alg.predict(dtrain[predictors])\n",
    "    dtrain_predprob = alg.predict_proba(dtrain[predictors])[:,1]\n",
    "    \n",
    "    #Print model report:\n",
    "    print (\"\\nModel Report\")\n",
    "    print (\"Accuracy : %.4g\" % accuracy_score(dtrain['target'].values, dtrain_predictions))\n",
    "    print (\"AUC Score (Train): %f\" % roc_auc_score(dtrain['target'], dtrain_predprob))\n",
    "                    \n",
    "    feat_imp = pd.Series(alg.booster().get_fscore()).sort_values(ascending=False)\n",
    "    feat_imp.plot(kind='bar', title='Feature Importances')\n",
    "    plt.ylabel('Feature Importance Score')\n",
    "    return alg"
   ]
  },
  {
   "cell_type": "code",
   "execution_count": 90,
   "metadata": {},
   "outputs": [],
   "source": [
    "#  checking out xgb classifier BOOSTING\n",
    "# xgb1 = XGBClassifier(learning_rate=0.1,n_estimators=1000,max_depth=7,min_child_weight=1,gamma=0,subsample=0.8,colsample_bytree=0.8,objective='binary:logistic',nthread=4,scale_pos_weight=1,seed=27)"
   ]
  },
  {
   "cell_type": "code",
   "execution_count": 91,
   "metadata": {},
   "outputs": [],
   "source": [
    "# clf_fit = modelfit(xgb1,pca_train,features,\"target\")"
   ]
  },
  {
   "cell_type": "code",
   "execution_count": 92,
   "metadata": {},
   "outputs": [],
   "source": [
    "#clf_fit.get_params"
   ]
  },
  {
   "cell_type": "code",
   "execution_count": 93,
   "metadata": {
    "collapsed": true
   },
   "outputs": [],
   "source": [
    "#xgb.cv?"
   ]
  },
  {
   "cell_type": "code",
   "execution_count": 94,
   "metadata": {},
   "outputs": [],
   "source": [
    "#min child weight -> min sum of instances weight (In LR -> number of instances)\n",
    "#param_test1 = {\n",
    " #   'max_depth': [6,7,8],\n",
    "  #  'min_child_weight': [2,3,4]\n",
    "#}\n",
    "#gsearch1 = GridSearchCV(estimator=XGBClassifier(learning_rate=0.1,n_estimators=113,max_depth=5,min_child_weight=1,gamma=0,subsample=0.8,colsample_bytree=0.8,objective='binary:logistic',nthread=4,scale_pos_weight=1,seed=27),param_grid=param_test1,scoring='accuracy',n_jobs=4,iid=False,cv=5)"
   ]
  },
  {
   "cell_type": "code",
   "execution_count": 95,
   "metadata": {},
   "outputs": [],
   "source": [
    "#gsearch1.fit(pca_train[features],pca_train['target'])"
   ]
  },
  {
   "cell_type": "code",
   "execution_count": 96,
   "metadata": {},
   "outputs": [],
   "source": [
    "#gsearch1.grid_scores_, gsearch1.best_params_, gsearch1.best_score_"
   ]
  },
  {
   "cell_type": "code",
   "execution_count": 97,
   "metadata": {
    "collapsed": true
   },
   "outputs": [],
   "source": [
    "#max-depth and min child weight done. Looking for gamma , \n",
    "# gamma -> minimum loss reduction required for split (Larger -> more conservative)\n",
    "#param_test2 = {\n",
    "#    'gamma':[i/10.0 for i in range(0,5)]\n",
    "#}\n",
    "#gsearch2 = GridSearchCV(estimator=XGBClassifier(learning_rate=0.1,n_estimators=113,max_depth=7,min_child_weight=4,gamma=0,subsample=0.8,colsample_bytree=0.8,objective='binary:logistic',nthread=4,scale_pos_weight=1,seed=27),param_grid=param_test2,scoring='accuracy',n_jobs=4,iid=False,cv=5)"
   ]
  },
  {
   "cell_type": "code",
   "execution_count": 98,
   "metadata": {},
   "outputs": [],
   "source": [
    "#gsearch2.fit(pca_train[features],pca_train['target'])"
   ]
  },
  {
   "cell_type": "code",
   "execution_count": 99,
   "metadata": {},
   "outputs": [],
   "source": [
    "#gsearch2.grid_scores_, gsearch2.best_params_, gsearch2.best_score_"
   ]
  },
  {
   "cell_type": "code",
   "execution_count": 100,
   "metadata": {
    "collapsed": true
   },
   "outputs": [],
   "source": [
    "#gamma - differs from original estimate as 0 \n",
    "# max-depth= 7 \n",
    "# min-child-weight = 4\n",
    "# gamma = 0.1"
   ]
  },
  {
   "cell_type": "code",
   "execution_count": 101,
   "metadata": {
    "collapsed": true
   },
   "outputs": [],
   "source": [
    "# Tuning subsample and colsample_by_tree\n",
    "#colsample_by_tree -> subsample ratio of columns for constructing each tree\n",
    "#param_test3 = {\n",
    " #'subsample':[i/10.0 for i in range(6,10)],\n",
    " #'colsample_bytree':[i/10.0 for i in range(6,10)]\n",
    "#}\n",
    "#gsearch3 = GridSearchCV(estimator=XGBClassifier(learning_rate=0.1,n_estimators=113,max_depth=7,min_child_weight=4,gamma=0.1,subsample=0.8,colsample_bytree=0.8,objective='binary:logistic',nthread=4,scale_pos_weight=1,seed=27),param_grid=param_test3,scoring='accuracy',n_jobs=4,iid=False,cv=5)"
   ]
  },
  {
   "cell_type": "code",
   "execution_count": 102,
   "metadata": {},
   "outputs": [],
   "source": [
    "#gsearch3.fit(pca_train[features],pca_train['target'])"
   ]
  },
  {
   "cell_type": "code",
   "execution_count": 103,
   "metadata": {},
   "outputs": [],
   "source": [
    "#gsearch3.grid_scores_, gsearch3.best_params_, gsearch3.best_score_"
   ]
  },
  {
   "cell_type": "code",
   "execution_count": 104,
   "metadata": {
    "collapsed": true
   },
   "outputs": [],
   "source": [
    "#getting deeper\n",
    "#param_test4 = {\n",
    " #'subsample':[i/100.0 for i in range(75,90,5)],\n",
    " #'colsample_bytree':[i/100.0 for i in range(75,90,5)]\n",
    "#}\n",
    "#gsearch4 = GridSearchCV(estimator=XGBClassifier(learning_rate=0.1,n_estimators=113,max_depth=7,min_child_weight=4,gamma=0.1,subsample=0.8,colsample_bytree=0.8,objective='binary:logistic',nthread=4,scale_pos_weight=1,seed=27),param_grid=param_test4,scoring='accuracy',n_jobs=4,iid=False,cv=5)"
   ]
  },
  {
   "cell_type": "code",
   "execution_count": 105,
   "metadata": {},
   "outputs": [],
   "source": [
    "#gsearch4.fit(pca_train[features],pca_train['target'])\n"
   ]
  },
  {
   "cell_type": "code",
   "execution_count": 106,
   "metadata": {},
   "outputs": [],
   "source": [
    "#gsearch4.grid_scores_, gsearch4.best_params_, gsearch4.best_score_"
   ]
  },
  {
   "cell_type": "code",
   "execution_count": 107,
   "metadata": {},
   "outputs": [],
   "source": [
    "# Tuning regularization parameter\n",
    "#param_test5 = {\n",
    " #'reg_lambda':[0.70,0.75,0.8,0.85]\n",
    "#}\n",
    "#gsearch5 = GridSearchCV(estimator=XGBClassifier(learning_rate=0.1,n_estimators=113,max_depth=7,min_child_weight=4,gamma=0.1,subsample=0.8,colsample_bytree=0.8,objective='binary:logistic',nthread=4,scale_pos_weight=1,seed=27,reg_alpha=1e-5,reg_lambda=0),param_grid=param_test5,scoring='accuracy',n_jobs=4,iid=False,cv=5)\n"
   ]
  },
  {
   "cell_type": "code",
   "execution_count": 108,
   "metadata": {},
   "outputs": [],
   "source": [
    "#gsearch5.fit(pca_train[features],pca_train['target'])\n",
    "#gsearch5.grid_scores_, gsearch5.best_params_, gsearch5.best_score_"
   ]
  },
  {
   "cell_type": "code",
   "execution_count": 109,
   "metadata": {},
   "outputs": [
    {
     "name": "stdout",
     "output_type": "stream",
     "text": [
      "\n",
      "Model Report\n",
      "Accuracy : 0.9707\n",
      "AUC Score (Train): 0.989086\n"
     ]
    },
    {
     "data": {
      "image/png": "[encoded data removed]",
      "text/plain": [
       "<matplotlib.figure.Figure at 0x259aa587b70>"
      ]
     },
     "metadata": {},
     "output_type": "display_data"
    }
   ],
   "source": [
    "estimator=XGBClassifier(learning_rate=0.1,n_estimators=113,max_depth=7,min_child_weight=4,gamma=0.1,subsample=0.8,colsample_bytree=0.8,objective='binary:logistic',nthread=4,scale_pos_weight=1,seed=27,reg_alpha=1e-5,reg_lambda=0.8)\n",
    "clf_fit = modelfit(alg=estimator,dtrain=pca_train,predictors=features,useTrainCV=False,target='target')"
   ]
  },
  {
   "cell_type": "code",
   "execution_count": 110,
   "metadata": {},
   "outputs": [],
   "source": [
    "results = clf_fit.predict_proba(pca_train[features])[:,1]"
   ]
  },
  {
   "cell_type": "code",
   "execution_count": null,
   "metadata": {
    "collapsed": true
   },
   "outputs": [],
   "source": []
  },
  {
   "cell_type": "code",
   "execution_count": null,
   "metadata": {
    "collapsed": true
   },
   "outputs": [],
   "source": []
  },
  {
   "cell_type": "code",
   "execution_count": null,
   "metadata": {
    "collapsed": true
   },
   "outputs": [],
   "source": []
  },
  {
   "cell_type": "code",
   "execution_count": null,
   "metadata": {},
   "outputs": [],
   "source": []
  },
  {
   "cell_type": "code",
   "execution_count": 111,
   "metadata": {},
   "outputs": [
    {
     "data": {
      "text/plain": [
       "<matplotlib.collections.PathCollection at 0x259acbad940>"
      ]
     },
     "execution_count": 111,
     "metadata": {},
     "output_type": "execute_result"
    },
    {
     "data": {
      "image/png": "[encoded data removed]",
      "text/plain": [
       "<matplotlib.figure.Figure at 0x259aa56fba8>"
      ]
     },
     "metadata": {},
     "output_type": "display_data"
    }
   ],
   "source": [
    "plt.scatter(range(len(pca_train)),results,c = pca_train['target'])"
   ]
  },
  {
   "cell_type": "code",
   "execution_count": 124,
   "metadata": {
    "collapsed": true
   },
   "outputs": [],
   "source": [
    "\n",
    "new_result = []\n",
    "for i in range(len(results)):\n",
    "    if(results[i]>=0.41372):\n",
    "        new_result.append(1)\n",
    "    if(results[i]<0.41372):\n",
    "        new_result.append(0)\n"
   ]
  },
  {
   "cell_type": "code",
   "execution_count": 125,
   "metadata": {},
   "outputs": [
    {
     "data": {
      "text/plain": [
       "array([[41960,   660],\n",
       "       [  581,  2515]], dtype=int64)"
      ]
     },
     "execution_count": 125,
     "metadata": {},
     "output_type": "execute_result"
    }
   ],
   "source": [
    "confusion_matrix(new_result,pca_train['target'])"
   ]
  },
  {
   "cell_type": "code",
   "execution_count": 126,
   "metadata": {
    "collapsed": true
   },
   "outputs": [],
   "source": [
    "final_results = clf_fit.predict_proba(pca_test_data)[:,1]"
   ]
  },
  {
   "cell_type": "code",
   "execution_count": 127,
   "metadata": {},
   "outputs": [],
   "source": [
    "\n",
    "new_result_test = []\n",
    "for i in range(len(final_results)):\n",
    "    if(final_results[i]>=0.41372):\n",
    "        new_result_test.append(1)\n",
    "    if(final_results[i]<0.41372):\n",
    "        new_result_test.append(0)"
   ]
  },
  {
   "cell_type": "code",
   "execution_count": 128,
   "metadata": {},
   "outputs": [
    {
     "name": "stderr",
     "output_type": "stream",
     "text": [
      "C:\\Users\\imamk\\Anaconda3\\lib\\site-packages\\ipykernel_launcher.py:2: SettingWithCopyWarning: \n",
      "A value is trying to be set on a copy of a slice from a DataFrame.\n",
      "Try using .loc[row_indexer,col_indexer] = value instead\n",
      "\n",
      "See the caveats in the documentation: http://pandas.pydata.org/pandas-docs/stable/indexing.html#indexing-view-versus-copy\n",
      "  \n"
     ]
    },
    {
     "data": {
      "text/html": [
       "<div>\n",
       "<style>\n",
       "    .dataframe thead tr:only-child th {\n",
       "        text-align: right;\n",
       "    }\n",
       "\n",
       "    .dataframe thead th {\n",
       "        text-align: left;\n",
       "    }\n",
       "\n",
       "    .dataframe tbody tr th {\n",
       "        vertical-align: top;\n",
       "    }\n",
       "</style>\n",
       "<table border=\"1\" class=\"dataframe\">\n",
       "  <thead>\n",
       "    <tr style=\"text-align: right;\">\n",
       "      <th></th>\n",
       "      <th>Criminal</th>\n",
       "    </tr>\n",
       "    <tr>\n",
       "      <th>PERID</th>\n",
       "      <th></th>\n",
       "    </tr>\n",
       "  </thead>\n",
       "  <tbody>\n",
       "    <tr>\n",
       "      <th>66583679</th>\n",
       "      <td>0</td>\n",
       "    </tr>\n",
       "    <tr>\n",
       "      <th>35494679</th>\n",
       "      <td>0</td>\n",
       "    </tr>\n",
       "    <tr>\n",
       "      <th>79424679</th>\n",
       "      <td>0</td>\n",
       "    </tr>\n",
       "    <tr>\n",
       "      <th>11744679</th>\n",
       "      <td>0</td>\n",
       "    </tr>\n",
       "    <tr>\n",
       "      <th>31554679</th>\n",
       "      <td>0</td>\n",
       "    </tr>\n",
       "  </tbody>\n",
       "</table>\n",
       "</div>"
      ],
      "text/plain": [
       "          Criminal\n",
       "PERID             \n",
       "66583679         0\n",
       "35494679         0\n",
       "79424679         0\n",
       "11744679         0\n",
       "31554679         0"
      ]
     },
     "execution_count": 128,
     "metadata": {},
     "output_type": "execute_result"
    }
   ],
   "source": [
    "hamse_na_ho_payega = pca_test_data[['col0']]\n",
    "hamse_na_ho_payega['Criminal'] = new_result_test\n",
    "hamse_na_ho_payega = hamse_na_ho_payega[['Criminal']]\n",
    "hamse_na_ho_payega.head()"
   ]
  },
  {
   "cell_type": "code",
   "execution_count": 129,
   "metadata": {
    "collapsed": true
   },
   "outputs": [],
   "source": [
    "hamse_na_ho_payega.to_csv(\"hamse_na_ho_payega.csv\")"
   ]
  },
  {
   "cell_type": "code",
   "execution_count": 118,
   "metadata": {},
   "outputs": [
    {
     "data": {
      "image/png": "[encoded data removed]",
      "text/plain": [
       "<matplotlib.figure.Figure at 0x259acbb8048>"
      ]
     },
     "metadata": {},
     "output_type": "display_data"
    }
   ],
   "source": [
    "ax,precision,recall,thresholds = make_precision_recall_curve(\"logistic\",clf_fit,pca_train['target'],pca_train[features])"
   ]
  },
  {
   "cell_type": "code",
   "execution_count": 119,
   "metadata": {},
   "outputs": [
    {
     "data": {
      "image/png": "[encoded data removed]",
      "text/plain": [
       "<matplotlib.figure.Figure at 0x259ada8a0f0>"
      ]
     },
     "metadata": {},
     "output_type": "display_data"
    }
   ],
   "source": [
    "ax1,precision1,recall1,thresholds1 = make_precision_recall_curve(\"logistic\",clf_fit,pca_train['target'],pca_train[features])"
   ]
  },
  {
   "cell_type": "code",
   "execution_count": 123,
   "metadata": {},
   "outputs": [
    {
     "name": "stdout",
     "output_type": "stream",
     "text": [
      "0.41372 1240\n"
     ]
    }
   ],
   "source": [
    "lowest_error = 999999\n",
    "thresh_best  = 0\n",
    "actual_results = list(pca_train['target'])\n",
    "for i in range(len(thresholds)):\n",
    "    err = 0\n",
    "    for j in range(len(results)):\n",
    "        if(results[j]>=thresholds[i] and actual_results[j] == 0):\n",
    "            err = err + 1\n",
    "        if(results[j]<thresholds[i] and  actual_results[j] == 1):\n",
    "            err = err + 1\n",
    "    if(err < lowest_error):\n",
    "        lowest_error = err\n",
    "        thresh_best = thresholds[i]\n",
    "print(thresh_best,lowest_error)"
   ]
  },
  {
   "cell_type": "code",
   "execution_count": 121,
   "metadata": {},
   "outputs": [
    {
     "data": {
      "text/plain": [
       "(10382,)"
      ]
     },
     "execution_count": 121,
     "metadata": {},
     "output_type": "execute_result"
    }
   ],
   "source": [
    "recall.shape"
   ]
  },
  {
   "cell_type": "code",
   "execution_count": 122,
   "metadata": {},
   "outputs": [
    {
     "data": {
      "text/plain": [
       "(10381,)"
      ]
     },
     "execution_count": 122,
     "metadata": {},
     "output_type": "execute_result"
    }
   ],
   "source": [
    "thresholds.shape"
   ]
  },
  {
   "cell_type": "code",
   "execution_count": null,
   "metadata": {},
   "outputs": [],
   "source": []
  },
  {
   "cell_type": "code",
   "execution_count": null,
   "metadata": {},
   "outputs": [],
   "source": []
  },
  {
   "cell_type": "code",
   "execution_count": null,
   "metadata": {
    "collapsed": true
   },
   "outputs": [],
   "source": []
  },
  {
   "cell_type": "code",
   "execution_count": null,
   "metadata": {},
   "outputs": [],
   "source": []
  },
  {
   "cell_type": "code",
   "execution_count": null,
   "metadata": {
    "collapsed": true
   },
   "outputs": [],
   "source": []
  }
 ],
 "metadata": {
  "kernelspec": {
   "display_name": "Python 3",
   "language": "python",
   "name": "python3"
  },
  "language_info": {
   "codemirror_mode": {
    "name": "ipython",
    "version": 3
   },
   "file_extension": ".py",
   "mimetype": "text/x-python",
   "name": "python",
   "nbconvert_exporter": "python",
   "pygments_lexer": "ipython3",
   "version": "3.6.3"
  }
 },
 "nbformat": 4,
 "nbformat_minor": 2
}
