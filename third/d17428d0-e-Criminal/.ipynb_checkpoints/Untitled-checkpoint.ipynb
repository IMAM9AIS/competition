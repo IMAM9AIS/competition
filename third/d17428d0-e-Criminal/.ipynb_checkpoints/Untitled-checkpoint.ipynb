{
 "cells": [
  {
   "cell_type": "code",
   "execution_count": 61,
   "metadata": {},
   "outputs": [],
   "source": [
    "#Imports\n",
    "\n",
    "#pandas\n",
    "import pandas as pd\n",
    "from pandas import Series,DataFrame\n",
    "\n",
    "#numpy\n",
    "import numpy as np\n",
    "import matplotlib.pyplot as plt\n",
    "import seaborn as sns\n",
    "sns.set_style('whitegrid')\n",
    "%matplotlib inline\n",
    "\n",
    "from datetime import datetime\n",
    "import math\n",
    "from sklearn.preprocessing import LabelEncoder\n",
    "#machine learning\n",
    "from sklearn.linear_model import LinearRegression\n",
    "from sklearn.linear_model import LogisticRegression\n",
    "from sklearn.linear_model import Ridge\n",
    "from sklearn.linear_model import Lasso\n",
    "from sklearn.svm import SVC,LinearSVC\n",
    "from sklearn.ensemble import RandomForestClassifier\n",
    "from sklearn.neighbors import KNeighborsClassifier\n",
    "from sklearn.naive_bayes import GaussianNB\n",
    "from sklearn.decomposition import PCA\n",
    "from sklearn.grid_search import GridSearchCV\n",
    "from sklearn.cross_validation import train_test_split\n",
    "from sklearn.ensemble import GradientBoostingRegressor\n",
    "from sklearn.ensemble import GradientBoostingClassifier\n",
    "from sklearn.metrics import confusion_matrix\n",
    "from sklearn.metrics import precision_recall_curve"
   ]
  },
  {
   "cell_type": "code",
   "execution_count": 2,
   "metadata": {
    "collapsed": true
   },
   "outputs": [],
   "source": [
    "%matplotlib inline"
   ]
  },
  {
   "cell_type": "code",
   "execution_count": 3,
   "metadata": {
    "collapsed": true
   },
   "outputs": [],
   "source": [
    "train = pd.read_csv(\"criminal_train.csv\")\n",
    "test = pd.read_csv(\"criminal_test.csv\")"
   ]
  },
  {
   "cell_type": "code",
   "execution_count": 4,
   "metadata": {},
   "outputs": [
    {
     "data": {
      "text/html": [
       "<div>\n",
       "<style>\n",
       "    .dataframe thead tr:only-child th {\n",
       "        text-align: right;\n",
       "    }\n",
       "\n",
       "    .dataframe thead th {\n",
       "        text-align: left;\n",
       "    }\n",
       "\n",
       "    .dataframe tbody tr th {\n",
       "        vertical-align: top;\n",
       "    }\n",
       "</style>\n",
       "<table border=\"1\" class=\"dataframe\">\n",
       "  <thead>\n",
       "    <tr style=\"text-align: right;\">\n",
       "      <th></th>\n",
       "      <th>PERID</th>\n",
       "      <th>IFATHER</th>\n",
       "      <th>NRCH17_2</th>\n",
       "      <th>IRHHSIZ2</th>\n",
       "      <th>IIHHSIZ2</th>\n",
       "      <th>IRKI17_2</th>\n",
       "      <th>IIKI17_2</th>\n",
       "      <th>IRHH65_2</th>\n",
       "      <th>IIHH65_2</th>\n",
       "      <th>PRXRETRY</th>\n",
       "      <th>...</th>\n",
       "      <th>TOOLONG</th>\n",
       "      <th>TROUBUND</th>\n",
       "      <th>PDEN10</th>\n",
       "      <th>COUTYP2</th>\n",
       "      <th>MAIIN102</th>\n",
       "      <th>AIIND102</th>\n",
       "      <th>ANALWT_C</th>\n",
       "      <th>VESTR</th>\n",
       "      <th>VEREP</th>\n",
       "      <th>Criminal</th>\n",
       "    </tr>\n",
       "  </thead>\n",
       "  <tbody>\n",
       "    <tr>\n",
       "      <th>0</th>\n",
       "      <td>25095143</td>\n",
       "      <td>4</td>\n",
       "      <td>2</td>\n",
       "      <td>4</td>\n",
       "      <td>1</td>\n",
       "      <td>3</td>\n",
       "      <td>1</td>\n",
       "      <td>1</td>\n",
       "      <td>1</td>\n",
       "      <td>99</td>\n",
       "      <td>...</td>\n",
       "      <td>1</td>\n",
       "      <td>2</td>\n",
       "      <td>1</td>\n",
       "      <td>1</td>\n",
       "      <td>2</td>\n",
       "      <td>2</td>\n",
       "      <td>3884.805998</td>\n",
       "      <td>40026</td>\n",
       "      <td>1</td>\n",
       "      <td>0</td>\n",
       "    </tr>\n",
       "    <tr>\n",
       "      <th>1</th>\n",
       "      <td>13005143</td>\n",
       "      <td>4</td>\n",
       "      <td>1</td>\n",
       "      <td>3</td>\n",
       "      <td>1</td>\n",
       "      <td>2</td>\n",
       "      <td>1</td>\n",
       "      <td>1</td>\n",
       "      <td>1</td>\n",
       "      <td>99</td>\n",
       "      <td>...</td>\n",
       "      <td>2</td>\n",
       "      <td>2</td>\n",
       "      <td>2</td>\n",
       "      <td>3</td>\n",
       "      <td>2</td>\n",
       "      <td>2</td>\n",
       "      <td>1627.108106</td>\n",
       "      <td>40015</td>\n",
       "      <td>2</td>\n",
       "      <td>1</td>\n",
       "    </tr>\n",
       "    <tr>\n",
       "      <th>2</th>\n",
       "      <td>67415143</td>\n",
       "      <td>4</td>\n",
       "      <td>1</td>\n",
       "      <td>2</td>\n",
       "      <td>1</td>\n",
       "      <td>2</td>\n",
       "      <td>1</td>\n",
       "      <td>1</td>\n",
       "      <td>1</td>\n",
       "      <td>99</td>\n",
       "      <td>...</td>\n",
       "      <td>2</td>\n",
       "      <td>2</td>\n",
       "      <td>2</td>\n",
       "      <td>3</td>\n",
       "      <td>2</td>\n",
       "      <td>2</td>\n",
       "      <td>4344.957980</td>\n",
       "      <td>40024</td>\n",
       "      <td>1</td>\n",
       "      <td>0</td>\n",
       "    </tr>\n",
       "    <tr>\n",
       "      <th>3</th>\n",
       "      <td>70925143</td>\n",
       "      <td>4</td>\n",
       "      <td>0</td>\n",
       "      <td>2</td>\n",
       "      <td>1</td>\n",
       "      <td>1</td>\n",
       "      <td>1</td>\n",
       "      <td>1</td>\n",
       "      <td>1</td>\n",
       "      <td>99</td>\n",
       "      <td>...</td>\n",
       "      <td>2</td>\n",
       "      <td>2</td>\n",
       "      <td>1</td>\n",
       "      <td>1</td>\n",
       "      <td>2</td>\n",
       "      <td>2</td>\n",
       "      <td>792.521931</td>\n",
       "      <td>40027</td>\n",
       "      <td>1</td>\n",
       "      <td>0</td>\n",
       "    </tr>\n",
       "    <tr>\n",
       "      <th>4</th>\n",
       "      <td>75235143</td>\n",
       "      <td>1</td>\n",
       "      <td>0</td>\n",
       "      <td>6</td>\n",
       "      <td>1</td>\n",
       "      <td>4</td>\n",
       "      <td>1</td>\n",
       "      <td>1</td>\n",
       "      <td>1</td>\n",
       "      <td>99</td>\n",
       "      <td>...</td>\n",
       "      <td>2</td>\n",
       "      <td>2</td>\n",
       "      <td>2</td>\n",
       "      <td>2</td>\n",
       "      <td>2</td>\n",
       "      <td>2</td>\n",
       "      <td>1518.118526</td>\n",
       "      <td>40001</td>\n",
       "      <td>2</td>\n",
       "      <td>0</td>\n",
       "    </tr>\n",
       "  </tbody>\n",
       "</table>\n",
       "<p>5 rows × 72 columns</p>\n",
       "</div>"
      ],
      "text/plain": [
       "      PERID  IFATHER  NRCH17_2  IRHHSIZ2  IIHHSIZ2  IRKI17_2  IIKI17_2  \\\n",
       "0  25095143        4         2         4         1         3         1   \n",
       "1  13005143        4         1         3         1         2         1   \n",
       "2  67415143        4         1         2         1         2         1   \n",
       "3  70925143        4         0         2         1         1         1   \n",
       "4  75235143        1         0         6         1         4         1   \n",
       "\n",
       "   IRHH65_2  IIHH65_2  PRXRETRY    ...     TOOLONG  TROUBUND  PDEN10  COUTYP2  \\\n",
       "0         1         1        99    ...           1         2       1        1   \n",
       "1         1         1        99    ...           2         2       2        3   \n",
       "2         1         1        99    ...           2         2       2        3   \n",
       "3         1         1        99    ...           2         2       1        1   \n",
       "4         1         1        99    ...           2         2       2        2   \n",
       "\n",
       "   MAIIN102  AIIND102     ANALWT_C  VESTR  VEREP  Criminal  \n",
       "0         2         2  3884.805998  40026      1         0  \n",
       "1         2         2  1627.108106  40015      2         1  \n",
       "2         2         2  4344.957980  40024      1         0  \n",
       "3         2         2   792.521931  40027      1         0  \n",
       "4         2         2  1518.118526  40001      2         0  \n",
       "\n",
       "[5 rows x 72 columns]"
      ]
     },
     "execution_count": 4,
     "metadata": {},
     "output_type": "execute_result"
    }
   ],
   "source": [
    "train.head()"
   ]
  },
  {
   "cell_type": "code",
   "execution_count": 5,
   "metadata": {},
   "outputs": [
    {
     "data": {
      "text/html": [
       "<div>\n",
       "<style>\n",
       "    .dataframe thead tr:only-child th {\n",
       "        text-align: right;\n",
       "    }\n",
       "\n",
       "    .dataframe thead th {\n",
       "        text-align: left;\n",
       "    }\n",
       "\n",
       "    .dataframe tbody tr th {\n",
       "        vertical-align: top;\n",
       "    }\n",
       "</style>\n",
       "<table border=\"1\" class=\"dataframe\">\n",
       "  <thead>\n",
       "    <tr style=\"text-align: right;\">\n",
       "      <th></th>\n",
       "      <th>PERID</th>\n",
       "      <th>IFATHER</th>\n",
       "      <th>NRCH17_2</th>\n",
       "      <th>IRHHSIZ2</th>\n",
       "      <th>IIHHSIZ2</th>\n",
       "      <th>IRKI17_2</th>\n",
       "      <th>IIKI17_2</th>\n",
       "      <th>IRHH65_2</th>\n",
       "      <th>IIHH65_2</th>\n",
       "      <th>PRXRETRY</th>\n",
       "      <th>...</th>\n",
       "      <th>TOOLONG</th>\n",
       "      <th>TROUBUND</th>\n",
       "      <th>PDEN10</th>\n",
       "      <th>COUTYP2</th>\n",
       "      <th>MAIIN102</th>\n",
       "      <th>AIIND102</th>\n",
       "      <th>ANALWT_C</th>\n",
       "      <th>VESTR</th>\n",
       "      <th>VEREP</th>\n",
       "      <th>Criminal</th>\n",
       "    </tr>\n",
       "  </thead>\n",
       "  <tbody>\n",
       "    <tr>\n",
       "      <th>count</th>\n",
       "      <td>4.571800e+04</td>\n",
       "      <td>45718.000000</td>\n",
       "      <td>45718.000000</td>\n",
       "      <td>45718.000000</td>\n",
       "      <td>45718.000000</td>\n",
       "      <td>45718.000000</td>\n",
       "      <td>45718.000000</td>\n",
       "      <td>45718.000000</td>\n",
       "      <td>45718.000000</td>\n",
       "      <td>45718.000000</td>\n",
       "      <td>...</td>\n",
       "      <td>45718.000000</td>\n",
       "      <td>45718.000000</td>\n",
       "      <td>45718.000000</td>\n",
       "      <td>45718.000000</td>\n",
       "      <td>45718.000000</td>\n",
       "      <td>45718.000000</td>\n",
       "      <td>45718.000000</td>\n",
       "      <td>45718.000000</td>\n",
       "      <td>45718.000000</td>\n",
       "      <td>45718.000000</td>\n",
       "    </tr>\n",
       "    <tr>\n",
       "      <th>mean</th>\n",
       "      <td>5.445446e+07</td>\n",
       "      <td>3.355549</td>\n",
       "      <td>0.476486</td>\n",
       "      <td>3.426375</td>\n",
       "      <td>1.001706</td>\n",
       "      <td>2.084124</td>\n",
       "      <td>1.007437</td>\n",
       "      <td>1.162606</td>\n",
       "      <td>1.011024</td>\n",
       "      <td>97.394943</td>\n",
       "      <td>...</td>\n",
       "      <td>2.219410</td>\n",
       "      <td>2.234940</td>\n",
       "      <td>1.646135</td>\n",
       "      <td>1.764666</td>\n",
       "      <td>1.978936</td>\n",
       "      <td>1.978739</td>\n",
       "      <td>4692.661179</td>\n",
       "      <td>40023.739118</td>\n",
       "      <td>1.493854</td>\n",
       "      <td>0.069447</td>\n",
       "    </tr>\n",
       "    <tr>\n",
       "      <th>std</th>\n",
       "      <td>2.553911e+07</td>\n",
       "      <td>1.176651</td>\n",
       "      <td>0.888472</td>\n",
       "      <td>1.427420</td>\n",
       "      <td>0.061314</td>\n",
       "      <td>1.102988</td>\n",
       "      <td>0.123162</td>\n",
       "      <td>0.469029</td>\n",
       "      <td>0.146444</td>\n",
       "      <td>12.355156</td>\n",
       "      <td>...</td>\n",
       "      <td>5.295784</td>\n",
       "      <td>5.293651</td>\n",
       "      <td>0.618403</td>\n",
       "      <td>0.771411</td>\n",
       "      <td>0.144510</td>\n",
       "      <td>0.145161</td>\n",
       "      <td>5724.659486</td>\n",
       "      <td>265.140430</td>\n",
       "      <td>0.500230</td>\n",
       "      <td>0.254216</td>\n",
       "    </tr>\n",
       "    <tr>\n",
       "      <th>min</th>\n",
       "      <td>1.000222e+07</td>\n",
       "      <td>-1.000000</td>\n",
       "      <td>-1.000000</td>\n",
       "      <td>-1.000000</td>\n",
       "      <td>-1.000000</td>\n",
       "      <td>-1.000000</td>\n",
       "      <td>-1.000000</td>\n",
       "      <td>-1.000000</td>\n",
       "      <td>-1.000000</td>\n",
       "      <td>-1.000000</td>\n",
       "      <td>...</td>\n",
       "      <td>-1.000000</td>\n",
       "      <td>-1.000000</td>\n",
       "      <td>-1.000000</td>\n",
       "      <td>-1.000000</td>\n",
       "      <td>-1.000000</td>\n",
       "      <td>-1.000000</td>\n",
       "      <td>-1.000000</td>\n",
       "      <td>-1.000000</td>\n",
       "      <td>-1.000000</td>\n",
       "      <td>0.000000</td>\n",
       "    </tr>\n",
       "    <tr>\n",
       "      <th>25%</th>\n",
       "      <td>3.233189e+07</td>\n",
       "      <td>4.000000</td>\n",
       "      <td>0.000000</td>\n",
       "      <td>2.000000</td>\n",
       "      <td>1.000000</td>\n",
       "      <td>1.000000</td>\n",
       "      <td>1.000000</td>\n",
       "      <td>1.000000</td>\n",
       "      <td>1.000000</td>\n",
       "      <td>99.000000</td>\n",
       "      <td>...</td>\n",
       "      <td>2.000000</td>\n",
       "      <td>2.000000</td>\n",
       "      <td>1.000000</td>\n",
       "      <td>1.000000</td>\n",
       "      <td>2.000000</td>\n",
       "      <td>2.000000</td>\n",
       "      <td>1252.396472</td>\n",
       "      <td>40013.000000</td>\n",
       "      <td>1.000000</td>\n",
       "      <td>0.000000</td>\n",
       "    </tr>\n",
       "    <tr>\n",
       "      <th>50%</th>\n",
       "      <td>5.411043e+07</td>\n",
       "      <td>4.000000</td>\n",
       "      <td>0.000000</td>\n",
       "      <td>3.000000</td>\n",
       "      <td>1.000000</td>\n",
       "      <td>2.000000</td>\n",
       "      <td>1.000000</td>\n",
       "      <td>1.000000</td>\n",
       "      <td>1.000000</td>\n",
       "      <td>99.000000</td>\n",
       "      <td>...</td>\n",
       "      <td>2.000000</td>\n",
       "      <td>2.000000</td>\n",
       "      <td>2.000000</td>\n",
       "      <td>2.000000</td>\n",
       "      <td>2.000000</td>\n",
       "      <td>2.000000</td>\n",
       "      <td>2719.335160</td>\n",
       "      <td>40025.000000</td>\n",
       "      <td>1.000000</td>\n",
       "      <td>0.000000</td>\n",
       "    </tr>\n",
       "    <tr>\n",
       "      <th>75%</th>\n",
       "      <td>7.612731e+07</td>\n",
       "      <td>4.000000</td>\n",
       "      <td>1.000000</td>\n",
       "      <td>4.000000</td>\n",
       "      <td>1.000000</td>\n",
       "      <td>3.000000</td>\n",
       "      <td>1.000000</td>\n",
       "      <td>1.000000</td>\n",
       "      <td>1.000000</td>\n",
       "      <td>99.000000</td>\n",
       "      <td>...</td>\n",
       "      <td>2.000000</td>\n",
       "      <td>2.000000</td>\n",
       "      <td>2.000000</td>\n",
       "      <td>2.000000</td>\n",
       "      <td>2.000000</td>\n",
       "      <td>2.000000</td>\n",
       "      <td>5765.810794</td>\n",
       "      <td>40039.000000</td>\n",
       "      <td>2.000000</td>\n",
       "      <td>0.000000</td>\n",
       "    </tr>\n",
       "    <tr>\n",
       "      <th>max</th>\n",
       "      <td>9.999956e+07</td>\n",
       "      <td>4.000000</td>\n",
       "      <td>3.000000</td>\n",
       "      <td>6.000000</td>\n",
       "      <td>3.000000</td>\n",
       "      <td>4.000000</td>\n",
       "      <td>3.000000</td>\n",
       "      <td>3.000000</td>\n",
       "      <td>3.000000</td>\n",
       "      <td>99.000000</td>\n",
       "      <td>...</td>\n",
       "      <td>98.000000</td>\n",
       "      <td>98.000000</td>\n",
       "      <td>3.000000</td>\n",
       "      <td>3.000000</td>\n",
       "      <td>2.000000</td>\n",
       "      <td>2.000000</td>\n",
       "      <td>109100.623000</td>\n",
       "      <td>40050.000000</td>\n",
       "      <td>2.000000</td>\n",
       "      <td>1.000000</td>\n",
       "    </tr>\n",
       "  </tbody>\n",
       "</table>\n",
       "<p>8 rows × 72 columns</p>\n",
       "</div>"
      ],
      "text/plain": [
       "              PERID       IFATHER      NRCH17_2      IRHHSIZ2      IIHHSIZ2  \\\n",
       "count  4.571800e+04  45718.000000  45718.000000  45718.000000  45718.000000   \n",
       "mean   5.445446e+07      3.355549      0.476486      3.426375      1.001706   \n",
       "std    2.553911e+07      1.176651      0.888472      1.427420      0.061314   \n",
       "min    1.000222e+07     -1.000000     -1.000000     -1.000000     -1.000000   \n",
       "25%    3.233189e+07      4.000000      0.000000      2.000000      1.000000   \n",
       "50%    5.411043e+07      4.000000      0.000000      3.000000      1.000000   \n",
       "75%    7.612731e+07      4.000000      1.000000      4.000000      1.000000   \n",
       "max    9.999956e+07      4.000000      3.000000      6.000000      3.000000   \n",
       "\n",
       "           IRKI17_2      IIKI17_2      IRHH65_2      IIHH65_2      PRXRETRY  \\\n",
       "count  45718.000000  45718.000000  45718.000000  45718.000000  45718.000000   \n",
       "mean       2.084124      1.007437      1.162606      1.011024     97.394943   \n",
       "std        1.102988      0.123162      0.469029      0.146444     12.355156   \n",
       "min       -1.000000     -1.000000     -1.000000     -1.000000     -1.000000   \n",
       "25%        1.000000      1.000000      1.000000      1.000000     99.000000   \n",
       "50%        2.000000      1.000000      1.000000      1.000000     99.000000   \n",
       "75%        3.000000      1.000000      1.000000      1.000000     99.000000   \n",
       "max        4.000000      3.000000      3.000000      3.000000     99.000000   \n",
       "\n",
       "           ...            TOOLONG      TROUBUND        PDEN10       COUTYP2  \\\n",
       "count      ...       45718.000000  45718.000000  45718.000000  45718.000000   \n",
       "mean       ...           2.219410      2.234940      1.646135      1.764666   \n",
       "std        ...           5.295784      5.293651      0.618403      0.771411   \n",
       "min        ...          -1.000000     -1.000000     -1.000000     -1.000000   \n",
       "25%        ...           2.000000      2.000000      1.000000      1.000000   \n",
       "50%        ...           2.000000      2.000000      2.000000      2.000000   \n",
       "75%        ...           2.000000      2.000000      2.000000      2.000000   \n",
       "max        ...          98.000000     98.000000      3.000000      3.000000   \n",
       "\n",
       "           MAIIN102      AIIND102       ANALWT_C         VESTR         VEREP  \\\n",
       "count  45718.000000  45718.000000   45718.000000  45718.000000  45718.000000   \n",
       "mean       1.978936      1.978739    4692.661179  40023.739118      1.493854   \n",
       "std        0.144510      0.145161    5724.659486    265.140430      0.500230   \n",
       "min       -1.000000     -1.000000      -1.000000     -1.000000     -1.000000   \n",
       "25%        2.000000      2.000000    1252.396472  40013.000000      1.000000   \n",
       "50%        2.000000      2.000000    2719.335160  40025.000000      1.000000   \n",
       "75%        2.000000      2.000000    5765.810794  40039.000000      2.000000   \n",
       "max        2.000000      2.000000  109100.623000  40050.000000      2.000000   \n",
       "\n",
       "           Criminal  \n",
       "count  45718.000000  \n",
       "mean       0.069447  \n",
       "std        0.254216  \n",
       "min        0.000000  \n",
       "25%        0.000000  \n",
       "50%        0.000000  \n",
       "75%        0.000000  \n",
       "max        1.000000  \n",
       "\n",
       "[8 rows x 72 columns]"
      ]
     },
     "execution_count": 5,
     "metadata": {},
     "output_type": "execute_result"
    }
   ],
   "source": [
    "train.describe()"
   ]
  },
  {
   "cell_type": "code",
   "execution_count": 6,
   "metadata": {},
   "outputs": [],
   "source": [
    "train_dataType = train.dtypes"
   ]
  },
  {
   "cell_type": "code",
   "execution_count": 7,
   "metadata": {},
   "outputs": [
    {
     "data": {
      "text/plain": [
       "ANALWT_C    float64\n",
       "dtype: object"
      ]
     },
     "execution_count": 7,
     "metadata": {},
     "output_type": "execute_result"
    }
   ],
   "source": [
    "train_dataType[train_dataType != 'int64']"
   ]
  },
  {
   "cell_type": "code",
   "execution_count": 8,
   "metadata": {
    "collapsed": true
   },
   "outputs": [],
   "source": [
    "def plotData(columnName,data):\n",
    "    plt.scatter(data[columnName],data['Criminal'])"
   ]
  },
  {
   "cell_type": "code",
   "execution_count": 9,
   "metadata": {},
   "outputs": [
    {
     "data": {
      "image/png": "[encoded data removed]",
      "text/plain": [
       "<matplotlib.figure.Figure at 0x1e6b0f01b70>"
      ]
     },
     "metadata": {},
     "output_type": "display_data"
    }
   ],
   "source": [
    "plotData('IFATHER',train)"
   ]
  },
  {
   "cell_type": "code",
   "execution_count": 10,
   "metadata": {},
   "outputs": [
    {
     "data": {
      "text/html": [
       "<div>\n",
       "<style>\n",
       "    .dataframe thead tr:only-child th {\n",
       "        text-align: right;\n",
       "    }\n",
       "\n",
       "    .dataframe thead th {\n",
       "        text-align: left;\n",
       "    }\n",
       "\n",
       "    .dataframe tbody tr th {\n",
       "        vertical-align: top;\n",
       "    }\n",
       "</style>\n",
       "<table border=\"1\" class=\"dataframe\">\n",
       "  <thead>\n",
       "    <tr style=\"text-align: right;\">\n",
       "      <th></th>\n",
       "      <th>PERID</th>\n",
       "      <th>IFATHER</th>\n",
       "      <th>NRCH17_2</th>\n",
       "      <th>IRHHSIZ2</th>\n",
       "      <th>IIHHSIZ2</th>\n",
       "      <th>IRKI17_2</th>\n",
       "      <th>IIKI17_2</th>\n",
       "      <th>IRHH65_2</th>\n",
       "      <th>IIHH65_2</th>\n",
       "      <th>PRXRETRY</th>\n",
       "      <th>...</th>\n",
       "      <th>TOOLONG</th>\n",
       "      <th>TROUBUND</th>\n",
       "      <th>PDEN10</th>\n",
       "      <th>COUTYP2</th>\n",
       "      <th>MAIIN102</th>\n",
       "      <th>AIIND102</th>\n",
       "      <th>ANALWT_C</th>\n",
       "      <th>VESTR</th>\n",
       "      <th>VEREP</th>\n",
       "      <th>Criminal</th>\n",
       "    </tr>\n",
       "  </thead>\n",
       "  <tbody>\n",
       "    <tr>\n",
       "      <th>19230</th>\n",
       "      <td>88523505</td>\n",
       "      <td>-1</td>\n",
       "      <td>-1</td>\n",
       "      <td>-1</td>\n",
       "      <td>-1</td>\n",
       "      <td>-1</td>\n",
       "      <td>-1</td>\n",
       "      <td>-1</td>\n",
       "      <td>-1</td>\n",
       "      <td>-1</td>\n",
       "      <td>...</td>\n",
       "      <td>-1</td>\n",
       "      <td>-1</td>\n",
       "      <td>-1</td>\n",
       "      <td>-1</td>\n",
       "      <td>-1</td>\n",
       "      <td>-1</td>\n",
       "      <td>-1.0</td>\n",
       "      <td>-1</td>\n",
       "      <td>-1</td>\n",
       "      <td>0</td>\n",
       "    </tr>\n",
       "    <tr>\n",
       "      <th>44281</th>\n",
       "      <td>85298659</td>\n",
       "      <td>-1</td>\n",
       "      <td>-1</td>\n",
       "      <td>-1</td>\n",
       "      <td>-1</td>\n",
       "      <td>-1</td>\n",
       "      <td>-1</td>\n",
       "      <td>-1</td>\n",
       "      <td>-1</td>\n",
       "      <td>-1</td>\n",
       "      <td>...</td>\n",
       "      <td>-1</td>\n",
       "      <td>-1</td>\n",
       "      <td>-1</td>\n",
       "      <td>-1</td>\n",
       "      <td>-1</td>\n",
       "      <td>-1</td>\n",
       "      <td>-1.0</td>\n",
       "      <td>-1</td>\n",
       "      <td>-1</td>\n",
       "      <td>0</td>\n",
       "    </tr>\n",
       "  </tbody>\n",
       "</table>\n",
       "<p>2 rows × 72 columns</p>\n",
       "</div>"
      ],
      "text/plain": [
       "          PERID  IFATHER  NRCH17_2  IRHHSIZ2  IIHHSIZ2  IRKI17_2  IIKI17_2  \\\n",
       "19230  88523505       -1        -1        -1        -1        -1        -1   \n",
       "44281  85298659       -1        -1        -1        -1        -1        -1   \n",
       "\n",
       "       IRHH65_2  IIHH65_2  PRXRETRY    ...     TOOLONG  TROUBUND  PDEN10  \\\n",
       "19230        -1        -1        -1    ...          -1        -1      -1   \n",
       "44281        -1        -1        -1    ...          -1        -1      -1   \n",
       "\n",
       "       COUTYP2  MAIIN102  AIIND102  ANALWT_C  VESTR  VEREP  Criminal  \n",
       "19230       -1        -1        -1      -1.0     -1     -1         0  \n",
       "44281       -1        -1        -1      -1.0     -1     -1         0  \n",
       "\n",
       "[2 rows x 72 columns]"
      ]
     },
     "execution_count": 10,
     "metadata": {},
     "output_type": "execute_result"
    }
   ],
   "source": [
    "train[train.IFATHER == -1]"
   ]
  },
  {
   "cell_type": "code",
   "execution_count": 11,
   "metadata": {},
   "outputs": [
    {
     "data": {
      "text/html": [
       "<div>\n",
       "<style>\n",
       "    .dataframe thead tr:only-child th {\n",
       "        text-align: right;\n",
       "    }\n",
       "\n",
       "    .dataframe thead th {\n",
       "        text-align: left;\n",
       "    }\n",
       "\n",
       "    .dataframe tbody tr th {\n",
       "        vertical-align: top;\n",
       "    }\n",
       "</style>\n",
       "<table border=\"1\" class=\"dataframe\">\n",
       "  <thead>\n",
       "    <tr style=\"text-align: right;\">\n",
       "      <th></th>\n",
       "      <th>PERID</th>\n",
       "      <th>IFATHER</th>\n",
       "      <th>NRCH17_2</th>\n",
       "      <th>IRHHSIZ2</th>\n",
       "      <th>IIHHSIZ2</th>\n",
       "      <th>IRKI17_2</th>\n",
       "      <th>IIKI17_2</th>\n",
       "      <th>IRHH65_2</th>\n",
       "      <th>IIHH65_2</th>\n",
       "      <th>PRXRETRY</th>\n",
       "      <th>...</th>\n",
       "      <th>POVERTY3</th>\n",
       "      <th>TOOLONG</th>\n",
       "      <th>TROUBUND</th>\n",
       "      <th>PDEN10</th>\n",
       "      <th>COUTYP2</th>\n",
       "      <th>MAIIN102</th>\n",
       "      <th>AIIND102</th>\n",
       "      <th>ANALWT_C</th>\n",
       "      <th>VESTR</th>\n",
       "      <th>VEREP</th>\n",
       "    </tr>\n",
       "  </thead>\n",
       "  <tbody>\n",
       "  </tbody>\n",
       "</table>\n",
       "<p>0 rows × 71 columns</p>\n",
       "</div>"
      ],
      "text/plain": [
       "Empty DataFrame\n",
       "Columns: [PERID, IFATHER, NRCH17_2, IRHHSIZ2, IIHHSIZ2, IRKI17_2, IIKI17_2, IRHH65_2, IIHH65_2, PRXRETRY, PRXYDATA, MEDICARE, CAIDCHIP, CHAMPUS, PRVHLTIN, GRPHLTIN, HLTINNOS, HLCNOTYR, HLCNOTMO, HLCLAST, HLLOSRSN, HLNVCOST, HLNVOFFR, HLNVREF, HLNVNEED, HLNVSOR, IRMCDCHP, IIMCDCHP, IRMEDICR, IIMEDICR, IRCHMPUS, IICHMPUS, IRPRVHLT, IIPRVHLT, IROTHHLT, IIOTHHLT, HLCALLFG, HLCALL99, ANYHLTI2, IRINSUR4, IIINSUR4, OTHINS, CELLNOTCL, CELLWRKNG, IRFAMSOC, IIFAMSOC, IRFAMSSI, IIFAMSSI, IRFSTAMP, IIFSTAMP, IRFAMPMT, IIFAMPMT, IRFAMSVC, IIFAMSVC, IRWELMOS, IIWELMOS, IRPINC3, IRFAMIN3, IIPINC3, IIFAMIN3, GOVTPROG, POVERTY3, TOOLONG, TROUBUND, PDEN10, COUTYP2, MAIIN102, AIIND102, ANALWT_C, VESTR, VEREP]\n",
       "Index: []\n",
       "\n",
       "[0 rows x 71 columns]"
      ]
     },
     "execution_count": 11,
     "metadata": {},
     "output_type": "execute_result"
    }
   ],
   "source": [
    "test[test.IFATHER == -1]"
   ]
  },
  {
   "cell_type": "code",
   "execution_count": 12,
   "metadata": {
    "collapsed": true
   },
   "outputs": [],
   "source": [
    "# -1 rows probably signify wrong data / remove them\n",
    "train = train[train.IFATHER != -1]"
   ]
  },
  {
   "cell_type": "code",
   "execution_count": 13,
   "metadata": {},
   "outputs": [
    {
     "data": {
      "image/png": "[encoded data removed]",
      "text/plain": [
       "<matplotlib.figure.Figure at 0x1e6b0f2a240>"
      ]
     },
     "metadata": {},
     "output_type": "display_data"
    }
   ],
   "source": [
    "plotData('NRCH17_2',train)"
   ]
  },
  {
   "cell_type": "code",
   "execution_count": 14,
   "metadata": {},
   "outputs": [
    {
     "data": {
      "text/plain": [
       "\"fig, axs = plt.subplots(12,7, figsize=(15, 20), facecolor='w', edgecolor='k')\\nfig.subplots_adjust(hspace = .5, wspace=.001)\\n\\naxs = axs.ravel()\\ni = 0\\nfor col in train.columns:\\n    axs[i].scatter(train[col],train['Criminal'])\\n    axs[i].set_title(str(col))\\n    i= i + 1\\n    \""
      ]
     },
     "execution_count": 14,
     "metadata": {},
     "output_type": "execute_result"
    }
   ],
   "source": [
    "'''fig, axs = plt.subplots(12,7, figsize=(15, 20), facecolor='w', edgecolor='k')\n",
    "fig.subplots_adjust(hspace = .5, wspace=.001)\n",
    "\n",
    "axs = axs.ravel()\n",
    "i = 0\n",
    "for col in train.columns:\n",
    "    axs[i].scatter(train[col],train['Criminal'])\n",
    "    axs[i].set_title(str(col))\n",
    "    i= i + 1\n",
    "    '''"
   ]
  },
  {
   "cell_type": "code",
   "execution_count": 15,
   "metadata": {
    "collapsed": true
   },
   "outputs": [],
   "source": [
    "#trying to implement PCA\n",
    "pca =  PCA(n_components=5)"
   ]
  },
  {
   "cell_type": "code",
   "execution_count": 16,
   "metadata": {},
   "outputs": [],
   "source": [
    "X = train[['NRCH17_2','PERID']]"
   ]
  },
  {
   "cell_type": "code",
   "execution_count": 17,
   "metadata": {},
   "outputs": [
    {
     "data": {
      "image/png": "[encoded data removed]",
      "text/plain": [
       "<matplotlib.figure.Figure at 0x1e6b0ed12e8>"
      ]
     },
     "metadata": {},
     "output_type": "display_data"
    }
   ],
   "source": [
    "plotData('ANALWT_C',train)"
   ]
  },
  {
   "cell_type": "code",
   "execution_count": 18,
   "metadata": {},
   "outputs": [
    {
     "data": {
      "image/png": "[encoded data removed]",
      "text/plain": [
       "<matplotlib.figure.Figure at 0x1e6b14a8fd0>"
      ]
     },
     "metadata": {},
     "output_type": "display_data"
    }
   ],
   "source": [
    "plotData('VESTR',train)\n",
    "# seems this column does not have any effect on the result. \n",
    "#keeping this observation to be used at last"
   ]
  },
  {
   "cell_type": "code",
   "execution_count": 19,
   "metadata": {},
   "outputs": [
    {
     "data": {
      "text/plain": [
       "Index(['PERID', 'IFATHER', 'NRCH17_2', 'IRHHSIZ2', 'IIHHSIZ2', 'IRKI17_2',\n",
       "       'IIKI17_2', 'IRHH65_2', 'IIHH65_2', 'PRXRETRY', 'PRXYDATA', 'MEDICARE',\n",
       "       'CAIDCHIP', 'CHAMPUS', 'PRVHLTIN', 'GRPHLTIN', 'HLTINNOS', 'HLCNOTYR',\n",
       "       'HLCNOTMO', 'HLCLAST', 'HLLOSRSN', 'HLNVCOST', 'HLNVOFFR', 'HLNVREF',\n",
       "       'HLNVNEED', 'HLNVSOR', 'IRMCDCHP', 'IIMCDCHP', 'IRMEDICR', 'IIMEDICR',\n",
       "       'IRCHMPUS', 'IICHMPUS', 'IRPRVHLT', 'IIPRVHLT', 'IROTHHLT', 'IIOTHHLT',\n",
       "       'HLCALLFG', 'HLCALL99', 'ANYHLTI2', 'IRINSUR4', 'IIINSUR4', 'OTHINS',\n",
       "       'CELLNOTCL', 'CELLWRKNG', 'IRFAMSOC', 'IIFAMSOC', 'IRFAMSSI',\n",
       "       'IIFAMSSI', 'IRFSTAMP', 'IIFSTAMP', 'IRFAMPMT', 'IIFAMPMT', 'IRFAMSVC',\n",
       "       'IIFAMSVC', 'IRWELMOS', 'IIWELMOS', 'IRPINC3', 'IRFAMIN3', 'IIPINC3',\n",
       "       'IIFAMIN3', 'GOVTPROG', 'POVERTY3', 'TOOLONG', 'TROUBUND', 'PDEN10',\n",
       "       'COUTYP2', 'MAIIN102', 'AIIND102', 'ANALWT_C', 'VESTR', 'VEREP',\n",
       "       'Criminal'],\n",
       "      dtype='object')"
      ]
     },
     "execution_count": 19,
     "metadata": {},
     "output_type": "execute_result"
    }
   ],
   "source": [
    "train.columns"
   ]
  },
  {
   "cell_type": "code",
   "execution_count": 20,
   "metadata": {
    "collapsed": true
   },
   "outputs": [],
   "source": [
    "# columns that seems to have some direct effect on results\n",
    "important_cols = ['HLTINNOS','HLCLAST', 'HLLOSRSN', 'HLNVOFFR', 'HLNVREF', 'HLNVNEED', 'HLNVSOR', 'IIOTHHLT']"
   ]
  },
  {
   "cell_type": "code",
   "execution_count": 21,
   "metadata": {},
   "outputs": [],
   "source": [
    "remaining_cols = list(filter(lambda x: x not in important_cols,list(train.columns)))"
   ]
  },
  {
   "cell_type": "code",
   "execution_count": 22,
   "metadata": {},
   "outputs": [
    {
     "name": "stdout",
     "output_type": "stream",
     "text": [
      "64 8 72\n"
     ]
    }
   ],
   "source": [
    "print(len(remaining_cols), len(important_cols), len(train.columns))"
   ]
  },
  {
   "cell_type": "code",
   "execution_count": 23,
   "metadata": {
    "collapsed": true
   },
   "outputs": [],
   "source": [
    "target = train[['PERID','Criminal']]\n",
    "target.set_index('PERID',inplace = True)"
   ]
  },
  {
   "cell_type": "code",
   "execution_count": 24,
   "metadata": {
    "collapsed": true
   },
   "outputs": [],
   "source": [
    "remaining_cols.remove('Criminal')"
   ]
  },
  {
   "cell_type": "code",
   "execution_count": 25,
   "metadata": {
    "collapsed": true
   },
   "outputs": [],
   "source": [
    "remaining_cols.remove('PERID')"
   ]
  },
  {
   "cell_type": "code",
   "execution_count": 26,
   "metadata": {
    "collapsed": true
   },
   "outputs": [],
   "source": [
    "#normalize data\n",
    "def normalize(df):\n",
    "    df_norm = (df - df.mean())/(df.max()-df.min())\n",
    "    return df_norm"
   ]
  },
  {
   "cell_type": "code",
   "execution_count": 27,
   "metadata": {},
   "outputs": [],
   "source": [
    "# important cols, remaining cols, target\n",
    "train.set_index('PERID',inplace=True)"
   ]
  },
  {
   "cell_type": "code",
   "execution_count": 28,
   "metadata": {},
   "outputs": [],
   "source": [
    "train = normalize(train)"
   ]
  },
  {
   "cell_type": "code",
   "execution_count": null,
   "metadata": {},
   "outputs": [],
   "source": []
  },
  {
   "cell_type": "code",
   "execution_count": 29,
   "metadata": {},
   "outputs": [
    {
     "data": {
      "text/plain": [
       "'explained_variance_list = []\\nfor i in range(2,len(remaining_cols)):\\n    pca = PCA(n_components=i)\\n    pca.fit_transform(train[remaining_cols])\\n    explained_variance_list.append(pca.explained_variance_ratio_.sum())\\nplt.plot(explained_variance_list)\\n'"
      ]
     },
     "execution_count": 29,
     "metadata": {},
     "output_type": "execute_result"
    }
   ],
   "source": [
    "'''explained_variance_list = []\n",
    "for i in range(2,len(remaining_cols)):\n",
    "    pca = PCA(n_components=i)\n",
    "    pca.fit_transform(train[remaining_cols])\n",
    "    explained_variance_list.append(pca.explained_variance_ratio_.sum())\n",
    "plt.plot(explained_variance_list)\n",
    "'''"
   ]
  },
  {
   "cell_type": "raw",
   "metadata": {},
   "source": []
  },
  {
   "cell_type": "code",
   "execution_count": 30,
   "metadata": {},
   "outputs": [],
   "source": [
    "#seeems we can select 30 aggresively\n",
    "pca =  PCA(n_components=30)\n",
    "X_transformed = pca.fit_transform(train[remaining_cols])"
   ]
  },
  {
   "cell_type": "code",
   "execution_count": 31,
   "metadata": {},
   "outputs": [
    {
     "data": {
      "text/html": [
       "<div>\n",
       "<style>\n",
       "    .dataframe thead tr:only-child th {\n",
       "        text-align: right;\n",
       "    }\n",
       "\n",
       "    .dataframe thead th {\n",
       "        text-align: left;\n",
       "    }\n",
       "\n",
       "    .dataframe tbody tr th {\n",
       "        vertical-align: top;\n",
       "    }\n",
       "</style>\n",
       "<table border=\"1\" class=\"dataframe\">\n",
       "  <thead>\n",
       "    <tr style=\"text-align: right;\">\n",
       "      <th></th>\n",
       "      <th>IFATHER</th>\n",
       "      <th>NRCH17_2</th>\n",
       "      <th>IRHHSIZ2</th>\n",
       "      <th>IIHHSIZ2</th>\n",
       "      <th>IRKI17_2</th>\n",
       "      <th>IIKI17_2</th>\n",
       "      <th>IRHH65_2</th>\n",
       "      <th>IIHH65_2</th>\n",
       "      <th>PRXRETRY</th>\n",
       "      <th>PRXYDATA</th>\n",
       "      <th>...</th>\n",
       "      <th>TOOLONG</th>\n",
       "      <th>TROUBUND</th>\n",
       "      <th>PDEN10</th>\n",
       "      <th>COUTYP2</th>\n",
       "      <th>MAIIN102</th>\n",
       "      <th>AIIND102</th>\n",
       "      <th>ANALWT_C</th>\n",
       "      <th>VESTR</th>\n",
       "      <th>VEREP</th>\n",
       "      <th>Criminal</th>\n",
       "    </tr>\n",
       "    <tr>\n",
       "      <th>PERID</th>\n",
       "      <th></th>\n",
       "      <th></th>\n",
       "      <th></th>\n",
       "      <th></th>\n",
       "      <th></th>\n",
       "      <th></th>\n",
       "      <th></th>\n",
       "      <th></th>\n",
       "      <th></th>\n",
       "      <th></th>\n",
       "      <th></th>\n",
       "      <th></th>\n",
       "      <th></th>\n",
       "      <th></th>\n",
       "      <th></th>\n",
       "      <th></th>\n",
       "      <th></th>\n",
       "      <th></th>\n",
       "      <th></th>\n",
       "      <th></th>\n",
       "      <th></th>\n",
       "    </tr>\n",
       "  </thead>\n",
       "  <tbody>\n",
       "    <tr>\n",
       "      <th>25095143</th>\n",
       "      <td>0.214753</td>\n",
       "      <td>0.380862</td>\n",
       "      <td>0.114686</td>\n",
       "      <td>-0.000897</td>\n",
       "      <td>0.305247</td>\n",
       "      <td>-0.003762</td>\n",
       "      <td>-0.08135</td>\n",
       "      <td>-0.005556</td>\n",
       "      <td>0.016503</td>\n",
       "      <td>0.286967</td>\n",
       "      <td>...</td>\n",
       "      <td>-0.012573</td>\n",
       "      <td>-0.002424</td>\n",
       "      <td>-0.323125</td>\n",
       "      <td>-0.382393</td>\n",
       "      <td>0.020934</td>\n",
       "      <td>0.02113</td>\n",
       "      <td>-0.007407</td>\n",
       "      <td>0.010405</td>\n",
       "      <td>-0.493963</td>\n",
       "      <td>-0.069451</td>\n",
       "    </tr>\n",
       "    <tr>\n",
       "      <th>13005143</th>\n",
       "      <td>0.214753</td>\n",
       "      <td>0.130862</td>\n",
       "      <td>-0.085314</td>\n",
       "      <td>-0.000897</td>\n",
       "      <td>-0.028086</td>\n",
       "      <td>-0.003762</td>\n",
       "      <td>-0.08135</td>\n",
       "      <td>-0.005556</td>\n",
       "      <td>0.016503</td>\n",
       "      <td>0.286967</td>\n",
       "      <td>...</td>\n",
       "      <td>-0.002263</td>\n",
       "      <td>-0.002424</td>\n",
       "      <td>0.176875</td>\n",
       "      <td>0.617607</td>\n",
       "      <td>0.020934</td>\n",
       "      <td>0.02113</td>\n",
       "      <td>-0.028101</td>\n",
       "      <td>-0.214084</td>\n",
       "      <td>0.506037</td>\n",
       "      <td>0.930549</td>\n",
       "    </tr>\n",
       "    <tr>\n",
       "      <th>67415143</th>\n",
       "      <td>0.214753</td>\n",
       "      <td>0.130862</td>\n",
       "      <td>-0.285314</td>\n",
       "      <td>-0.000897</td>\n",
       "      <td>-0.028086</td>\n",
       "      <td>-0.003762</td>\n",
       "      <td>-0.08135</td>\n",
       "      <td>-0.005556</td>\n",
       "      <td>0.016503</td>\n",
       "      <td>0.286967</td>\n",
       "      <td>...</td>\n",
       "      <td>-0.002263</td>\n",
       "      <td>-0.002424</td>\n",
       "      <td>0.176875</td>\n",
       "      <td>0.617607</td>\n",
       "      <td>0.020934</td>\n",
       "      <td>0.02113</td>\n",
       "      <td>-0.003189</td>\n",
       "      <td>-0.030411</td>\n",
       "      <td>-0.493963</td>\n",
       "      <td>-0.069451</td>\n",
       "    </tr>\n",
       "    <tr>\n",
       "      <th>70925143</th>\n",
       "      <td>0.214753</td>\n",
       "      <td>-0.119138</td>\n",
       "      <td>-0.285314</td>\n",
       "      <td>-0.000897</td>\n",
       "      <td>-0.361420</td>\n",
       "      <td>-0.003762</td>\n",
       "      <td>-0.08135</td>\n",
       "      <td>-0.005556</td>\n",
       "      <td>0.016503</td>\n",
       "      <td>0.286967</td>\n",
       "      <td>...</td>\n",
       "      <td>-0.002263</td>\n",
       "      <td>-0.002424</td>\n",
       "      <td>-0.323125</td>\n",
       "      <td>-0.382393</td>\n",
       "      <td>0.020934</td>\n",
       "      <td>0.02113</td>\n",
       "      <td>-0.035751</td>\n",
       "      <td>0.030814</td>\n",
       "      <td>-0.493963</td>\n",
       "      <td>-0.069451</td>\n",
       "    </tr>\n",
       "    <tr>\n",
       "      <th>75235143</th>\n",
       "      <td>-0.785247</td>\n",
       "      <td>-0.119138</td>\n",
       "      <td>0.514686</td>\n",
       "      <td>-0.000897</td>\n",
       "      <td>0.638580</td>\n",
       "      <td>-0.003762</td>\n",
       "      <td>-0.08135</td>\n",
       "      <td>-0.005556</td>\n",
       "      <td>0.016503</td>\n",
       "      <td>-0.713033</td>\n",
       "      <td>...</td>\n",
       "      <td>-0.002263</td>\n",
       "      <td>-0.002424</td>\n",
       "      <td>0.176875</td>\n",
       "      <td>0.117607</td>\n",
       "      <td>0.020934</td>\n",
       "      <td>0.02113</td>\n",
       "      <td>-0.029100</td>\n",
       "      <td>-0.499799</td>\n",
       "      <td>0.506037</td>\n",
       "      <td>-0.069451</td>\n",
       "    </tr>\n",
       "  </tbody>\n",
       "</table>\n",
       "<p>5 rows × 71 columns</p>\n",
       "</div>"
      ],
      "text/plain": [
       "           IFATHER  NRCH17_2  IRHHSIZ2  IIHHSIZ2  IRKI17_2  IIKI17_2  \\\n",
       "PERID                                                                  \n",
       "25095143  0.214753  0.380862  0.114686 -0.000897  0.305247 -0.003762   \n",
       "13005143  0.214753  0.130862 -0.085314 -0.000897 -0.028086 -0.003762   \n",
       "67415143  0.214753  0.130862 -0.285314 -0.000897 -0.028086 -0.003762   \n",
       "70925143  0.214753 -0.119138 -0.285314 -0.000897 -0.361420 -0.003762   \n",
       "75235143 -0.785247 -0.119138  0.514686 -0.000897  0.638580 -0.003762   \n",
       "\n",
       "          IRHH65_2  IIHH65_2  PRXRETRY  PRXYDATA    ...      TOOLONG  \\\n",
       "PERID                                               ...                \n",
       "25095143  -0.08135 -0.005556  0.016503  0.286967    ...    -0.012573   \n",
       "13005143  -0.08135 -0.005556  0.016503  0.286967    ...    -0.002263   \n",
       "67415143  -0.08135 -0.005556  0.016503  0.286967    ...    -0.002263   \n",
       "70925143  -0.08135 -0.005556  0.016503  0.286967    ...    -0.002263   \n",
       "75235143  -0.08135 -0.005556  0.016503 -0.713033    ...    -0.002263   \n",
       "\n",
       "          TROUBUND    PDEN10   COUTYP2  MAIIN102  AIIND102  ANALWT_C  \\\n",
       "PERID                                                                  \n",
       "25095143 -0.002424 -0.323125 -0.382393  0.020934   0.02113 -0.007407   \n",
       "13005143 -0.002424  0.176875  0.617607  0.020934   0.02113 -0.028101   \n",
       "67415143 -0.002424  0.176875  0.617607  0.020934   0.02113 -0.003189   \n",
       "70925143 -0.002424 -0.323125 -0.382393  0.020934   0.02113 -0.035751   \n",
       "75235143 -0.002424  0.176875  0.117607  0.020934   0.02113 -0.029100   \n",
       "\n",
       "             VESTR     VEREP  Criminal  \n",
       "PERID                                   \n",
       "25095143  0.010405 -0.493963 -0.069451  \n",
       "13005143 -0.214084  0.506037  0.930549  \n",
       "67415143 -0.030411 -0.493963 -0.069451  \n",
       "70925143  0.030814 -0.493963 -0.069451  \n",
       "75235143 -0.499799  0.506037 -0.069451  \n",
       "\n",
       "[5 rows x 71 columns]"
      ]
     },
     "execution_count": 31,
     "metadata": {},
     "output_type": "execute_result"
    }
   ],
   "source": [
    "train.head()"
   ]
  },
  {
   "cell_type": "code",
   "execution_count": 32,
   "metadata": {},
   "outputs": [
    {
     "name": "stderr",
     "output_type": "stream",
     "text": [
      "C:\\Users\\imamk\\Anaconda3\\lib\\site-packages\\ipykernel_launcher.py:3: SettingWithCopyWarning: \n",
      "A value is trying to be set on a copy of a slice from a DataFrame.\n",
      "Try using .loc[row_indexer,col_indexer] = value instead\n",
      "\n",
      "See the caveats in the documentation: http://pandas.pydata.org/pandas-docs/stable/indexing.html#indexing-view-versus-copy\n",
      "  This is separate from the ipykernel package so we can avoid doing imports until\n"
     ]
    }
   ],
   "source": [
    "pca_train = train[important_cols]\n",
    "for i in range(30):\n",
    "    pca_train['col'+str(i)] = X_transformed[:,i]\n",
    "    "
   ]
  },
  {
   "cell_type": "code",
   "execution_count": 33,
   "metadata": {},
   "outputs": [
    {
     "data": {
      "text/html": [
       "<div>\n",
       "<style>\n",
       "    .dataframe thead tr:only-child th {\n",
       "        text-align: right;\n",
       "    }\n",
       "\n",
       "    .dataframe thead th {\n",
       "        text-align: left;\n",
       "    }\n",
       "\n",
       "    .dataframe tbody tr th {\n",
       "        vertical-align: top;\n",
       "    }\n",
       "</style>\n",
       "<table border=\"1\" class=\"dataframe\">\n",
       "  <thead>\n",
       "    <tr style=\"text-align: right;\">\n",
       "      <th></th>\n",
       "      <th>HLTINNOS</th>\n",
       "      <th>HLCLAST</th>\n",
       "      <th>HLLOSRSN</th>\n",
       "      <th>HLNVOFFR</th>\n",
       "      <th>HLNVREF</th>\n",
       "      <th>HLNVNEED</th>\n",
       "      <th>HLNVSOR</th>\n",
       "      <th>IIOTHHLT</th>\n",
       "      <th>col0</th>\n",
       "      <th>col1</th>\n",
       "      <th>...</th>\n",
       "      <th>col20</th>\n",
       "      <th>col21</th>\n",
       "      <th>col22</th>\n",
       "      <th>col23</th>\n",
       "      <th>col24</th>\n",
       "      <th>col25</th>\n",
       "      <th>col26</th>\n",
       "      <th>col27</th>\n",
       "      <th>col28</th>\n",
       "      <th>col29</th>\n",
       "    </tr>\n",
       "    <tr>\n",
       "      <th>PERID</th>\n",
       "      <th></th>\n",
       "      <th></th>\n",
       "      <th></th>\n",
       "      <th></th>\n",
       "      <th></th>\n",
       "      <th></th>\n",
       "      <th></th>\n",
       "      <th></th>\n",
       "      <th></th>\n",
       "      <th></th>\n",
       "      <th></th>\n",
       "      <th></th>\n",
       "      <th></th>\n",
       "      <th></th>\n",
       "      <th></th>\n",
       "      <th></th>\n",
       "      <th></th>\n",
       "      <th></th>\n",
       "      <th></th>\n",
       "      <th></th>\n",
       "      <th></th>\n",
       "    </tr>\n",
       "  </thead>\n",
       "  <tbody>\n",
       "    <tr>\n",
       "      <th>25095143</th>\n",
       "      <td>0.13186</td>\n",
       "      <td>0.098701</td>\n",
       "      <td>0.078345</td>\n",
       "      <td>0.018968</td>\n",
       "      <td>0.018846</td>\n",
       "      <td>0.019017</td>\n",
       "      <td>0.018964</td>\n",
       "      <td>0.13982</td>\n",
       "      <td>1.331965</td>\n",
       "      <td>0.187531</td>\n",
       "      <td>...</td>\n",
       "      <td>0.007243</td>\n",
       "      <td>-0.257148</td>\n",
       "      <td>0.037015</td>\n",
       "      <td>-0.115207</td>\n",
       "      <td>-0.049285</td>\n",
       "      <td>0.005295</td>\n",
       "      <td>0.008582</td>\n",
       "      <td>0.027266</td>\n",
       "      <td>-0.015355</td>\n",
       "      <td>0.005563</td>\n",
       "    </tr>\n",
       "    <tr>\n",
       "      <th>13005143</th>\n",
       "      <td>0.13186</td>\n",
       "      <td>0.098701</td>\n",
       "      <td>0.078345</td>\n",
       "      <td>0.018968</td>\n",
       "      <td>0.018846</td>\n",
       "      <td>0.019017</td>\n",
       "      <td>0.018964</td>\n",
       "      <td>0.13982</td>\n",
       "      <td>0.186744</td>\n",
       "      <td>0.022921</td>\n",
       "      <td>...</td>\n",
       "      <td>0.012648</td>\n",
       "      <td>-0.030844</td>\n",
       "      <td>0.015663</td>\n",
       "      <td>-0.069380</td>\n",
       "      <td>-0.032113</td>\n",
       "      <td>-0.043810</td>\n",
       "      <td>-0.025167</td>\n",
       "      <td>0.233774</td>\n",
       "      <td>0.042668</td>\n",
       "      <td>-0.009017</td>\n",
       "    </tr>\n",
       "    <tr>\n",
       "      <th>67415143</th>\n",
       "      <td>0.13186</td>\n",
       "      <td>0.098701</td>\n",
       "      <td>0.078345</td>\n",
       "      <td>0.018968</td>\n",
       "      <td>0.018846</td>\n",
       "      <td>0.019017</td>\n",
       "      <td>0.018964</td>\n",
       "      <td>0.13982</td>\n",
       "      <td>1.440337</td>\n",
       "      <td>-0.227466</td>\n",
       "      <td>...</td>\n",
       "      <td>0.163100</td>\n",
       "      <td>-0.285255</td>\n",
       "      <td>-0.034175</td>\n",
       "      <td>0.063183</td>\n",
       "      <td>0.015687</td>\n",
       "      <td>0.005746</td>\n",
       "      <td>-0.004283</td>\n",
       "      <td>0.245145</td>\n",
       "      <td>0.029220</td>\n",
       "      <td>0.015390</td>\n",
       "    </tr>\n",
       "    <tr>\n",
       "      <th>70925143</th>\n",
       "      <td>0.13186</td>\n",
       "      <td>0.098701</td>\n",
       "      <td>0.078345</td>\n",
       "      <td>0.018968</td>\n",
       "      <td>0.018846</td>\n",
       "      <td>0.019017</td>\n",
       "      <td>0.018964</td>\n",
       "      <td>0.13982</td>\n",
       "      <td>-1.015862</td>\n",
       "      <td>-0.377273</td>\n",
       "      <td>...</td>\n",
       "      <td>0.023745</td>\n",
       "      <td>0.115505</td>\n",
       "      <td>-0.031156</td>\n",
       "      <td>0.052263</td>\n",
       "      <td>0.013927</td>\n",
       "      <td>-0.018335</td>\n",
       "      <td>-0.003299</td>\n",
       "      <td>0.021461</td>\n",
       "      <td>0.000034</td>\n",
       "      <td>-0.001999</td>\n",
       "    </tr>\n",
       "    <tr>\n",
       "      <th>75235143</th>\n",
       "      <td>0.13186</td>\n",
       "      <td>0.098701</td>\n",
       "      <td>0.078345</td>\n",
       "      <td>0.018968</td>\n",
       "      <td>0.018846</td>\n",
       "      <td>0.019017</td>\n",
       "      <td>0.018964</td>\n",
       "      <td>0.13982</td>\n",
       "      <td>1.836600</td>\n",
       "      <td>1.414602</td>\n",
       "      <td>...</td>\n",
       "      <td>-0.008621</td>\n",
       "      <td>0.220718</td>\n",
       "      <td>-0.565350</td>\n",
       "      <td>-0.180219</td>\n",
       "      <td>0.084599</td>\n",
       "      <td>-0.110096</td>\n",
       "      <td>-0.063496</td>\n",
       "      <td>-0.071376</td>\n",
       "      <td>-0.034999</td>\n",
       "      <td>-0.010463</td>\n",
       "    </tr>\n",
       "  </tbody>\n",
       "</table>\n",
       "<p>5 rows × 38 columns</p>\n",
       "</div>"
      ],
      "text/plain": [
       "          HLTINNOS   HLCLAST  HLLOSRSN  HLNVOFFR   HLNVREF  HLNVNEED  \\\n",
       "PERID                                                                  \n",
       "25095143   0.13186  0.098701  0.078345  0.018968  0.018846  0.019017   \n",
       "13005143   0.13186  0.098701  0.078345  0.018968  0.018846  0.019017   \n",
       "67415143   0.13186  0.098701  0.078345  0.018968  0.018846  0.019017   \n",
       "70925143   0.13186  0.098701  0.078345  0.018968  0.018846  0.019017   \n",
       "75235143   0.13186  0.098701  0.078345  0.018968  0.018846  0.019017   \n",
       "\n",
       "           HLNVSOR  IIOTHHLT      col0      col1    ...        col20  \\\n",
       "PERID                                               ...                \n",
       "25095143  0.018964   0.13982  1.331965  0.187531    ...     0.007243   \n",
       "13005143  0.018964   0.13982  0.186744  0.022921    ...     0.012648   \n",
       "67415143  0.018964   0.13982  1.440337 -0.227466    ...     0.163100   \n",
       "70925143  0.018964   0.13982 -1.015862 -0.377273    ...     0.023745   \n",
       "75235143  0.018964   0.13982  1.836600  1.414602    ...    -0.008621   \n",
       "\n",
       "             col21     col22     col23     col24     col25     col26  \\\n",
       "PERID                                                                  \n",
       "25095143 -0.257148  0.037015 -0.115207 -0.049285  0.005295  0.008582   \n",
       "13005143 -0.030844  0.015663 -0.069380 -0.032113 -0.043810 -0.025167   \n",
       "67415143 -0.285255 -0.034175  0.063183  0.015687  0.005746 -0.004283   \n",
       "70925143  0.115505 -0.031156  0.052263  0.013927 -0.018335 -0.003299   \n",
       "75235143  0.220718 -0.565350 -0.180219  0.084599 -0.110096 -0.063496   \n",
       "\n",
       "             col27     col28     col29  \n",
       "PERID                                   \n",
       "25095143  0.027266 -0.015355  0.005563  \n",
       "13005143  0.233774  0.042668 -0.009017  \n",
       "67415143  0.245145  0.029220  0.015390  \n",
       "70925143  0.021461  0.000034 -0.001999  \n",
       "75235143 -0.071376 -0.034999 -0.010463  \n",
       "\n",
       "[5 rows x 38 columns]"
      ]
     },
     "execution_count": 33,
     "metadata": {},
     "output_type": "execute_result"
    }
   ],
   "source": [
    "pca_train.head()"
   ]
  },
  {
   "cell_type": "code",
   "execution_count": 34,
   "metadata": {},
   "outputs": [
    {
     "data": {
      "text/plain": [
       "(45716, 38)"
      ]
     },
     "execution_count": 34,
     "metadata": {},
     "output_type": "execute_result"
    }
   ],
   "source": [
    "pca_train.shape"
   ]
  },
  {
   "cell_type": "code",
   "execution_count": 35,
   "metadata": {},
   "outputs": [
    {
     "data": {
      "text/plain": [
       "1.0"
      ]
     },
     "execution_count": 35,
     "metadata": {},
     "output_type": "execute_result"
    }
   ],
   "source": [
    "target[target == 1].shape[0]/45716"
   ]
  },
  {
   "cell_type": "code",
   "execution_count": 36,
   "metadata": {},
   "outputs": [
    {
     "data": {
      "text/plain": [
       "1.0"
      ]
     },
     "execution_count": 36,
     "metadata": {},
     "output_type": "execute_result"
    }
   ],
   "source": [
    "target[target == 0].shape[0]/45716"
   ]
  },
  {
   "cell_type": "code",
   "execution_count": 37,
   "metadata": {
    "collapsed": true
   },
   "outputs": [],
   "source": [
    "itrain,itest = train_test_split(range(pca_train.shape[0]),train_size=0.7)\n",
    "mask = np.ones(pca_train.shape[0],dtype='int')\n",
    "mask[itrain] = 1\n",
    "mask[itest] = 0\n",
    "mask = (mask==1)"
   ]
  },
  {
   "cell_type": "code",
   "execution_count": 38,
   "metadata": {},
   "outputs": [
    {
     "data": {
      "text/plain": [
       "Criminal    0.070217\n",
       "dtype: float64"
      ]
     },
     "execution_count": 38,
     "metadata": {},
     "output_type": "execute_result"
    }
   ],
   "source": [
    "np.mean(target[mask])"
   ]
  },
  {
   "cell_type": "code",
   "execution_count": 39,
   "metadata": {},
   "outputs": [
    {
     "data": {
      "text/plain": [
       "Criminal    0.067663\n",
       "dtype: float64"
      ]
     },
     "execution_count": 39,
     "metadata": {},
     "output_type": "execute_result"
    }
   ],
   "source": [
    "np.mean(target[~mask])"
   ]
  },
  {
   "cell_type": "code",
   "execution_count": 40,
   "metadata": {
    "collapsed": true
   },
   "outputs": [],
   "source": [
    "lr = LogisticRegression(C=0.8,class_weight='balanced')"
   ]
  },
  {
   "cell_type": "code",
   "execution_count": 41,
   "metadata": {},
   "outputs": [
    {
     "name": "stderr",
     "output_type": "stream",
     "text": [
      "C:\\Users\\imamk\\Anaconda3\\lib\\site-packages\\sklearn\\utils\\validation.py:578: DataConversionWarning: A column-vector y was passed when a 1d array was expected. Please change the shape of y to (n_samples, ), for example using ravel().\n",
      "  y = column_or_1d(y, warn=True)\n"
     ]
    }
   ],
   "source": [
    "lr_fit = lr.fit(train,target)"
   ]
  },
  {
   "cell_type": "code",
   "execution_count": 42,
   "metadata": {},
   "outputs": [],
   "source": [
    "results = lr_fit"
   ]
  },
  {
   "cell_type": "code",
   "execution_count": 43,
   "metadata": {
    "collapsed": true
   },
   "outputs": [],
   "source": [
    "LogisticRegression?"
   ]
  },
  {
   "cell_type": "code",
   "execution_count": 44,
   "metadata": {},
   "outputs": [
    {
     "name": "stderr",
     "output_type": "stream",
     "text": [
      "C:\\Users\\imamk\\Anaconda3\\lib\\site-packages\\ipykernel_launcher.py:1: SettingWithCopyWarning: \n",
      "A value is trying to be set on a copy of a slice from a DataFrame.\n",
      "Try using .loc[row_indexer,col_indexer] = value instead\n",
      "\n",
      "See the caveats in the documentation: http://pandas.pydata.org/pandas-docs/stable/indexing.html#indexing-view-versus-copy\n",
      "  \"\"\"Entry point for launching an IPython kernel.\n"
     ]
    }
   ],
   "source": [
    "pca_train['target'] = target"
   ]
  },
  {
   "cell_type": "code",
   "execution_count": 48,
   "metadata": {},
   "outputs": [
    {
     "data": {
      "text/html": [
       "<div>\n",
       "<style>\n",
       "    .dataframe thead tr:only-child th {\n",
       "        text-align: right;\n",
       "    }\n",
       "\n",
       "    .dataframe thead th {\n",
       "        text-align: left;\n",
       "    }\n",
       "\n",
       "    .dataframe tbody tr th {\n",
       "        vertical-align: top;\n",
       "    }\n",
       "</style>\n",
       "<table border=\"1\" class=\"dataframe\">\n",
       "  <thead>\n",
       "    <tr style=\"text-align: right;\">\n",
       "      <th></th>\n",
       "      <th>HLTINNOS</th>\n",
       "      <th>HLCLAST</th>\n",
       "      <th>HLLOSRSN</th>\n",
       "      <th>HLNVOFFR</th>\n",
       "      <th>HLNVREF</th>\n",
       "      <th>HLNVNEED</th>\n",
       "      <th>HLNVSOR</th>\n",
       "      <th>IIOTHHLT</th>\n",
       "      <th>col0</th>\n",
       "      <th>col1</th>\n",
       "      <th>...</th>\n",
       "      <th>col21</th>\n",
       "      <th>col22</th>\n",
       "      <th>col23</th>\n",
       "      <th>col24</th>\n",
       "      <th>col25</th>\n",
       "      <th>col26</th>\n",
       "      <th>col27</th>\n",
       "      <th>col28</th>\n",
       "      <th>col29</th>\n",
       "      <th>target</th>\n",
       "    </tr>\n",
       "    <tr>\n",
       "      <th>PERID</th>\n",
       "      <th></th>\n",
       "      <th></th>\n",
       "      <th></th>\n",
       "      <th></th>\n",
       "      <th></th>\n",
       "      <th></th>\n",
       "      <th></th>\n",
       "      <th></th>\n",
       "      <th></th>\n",
       "      <th></th>\n",
       "      <th></th>\n",
       "      <th></th>\n",
       "      <th></th>\n",
       "      <th></th>\n",
       "      <th></th>\n",
       "      <th></th>\n",
       "      <th></th>\n",
       "      <th></th>\n",
       "      <th></th>\n",
       "      <th></th>\n",
       "      <th></th>\n",
       "    </tr>\n",
       "  </thead>\n",
       "  <tbody>\n",
       "    <tr>\n",
       "      <th>25095143</th>\n",
       "      <td>0.13186</td>\n",
       "      <td>0.098701</td>\n",
       "      <td>0.078345</td>\n",
       "      <td>0.018968</td>\n",
       "      <td>0.018846</td>\n",
       "      <td>0.019017</td>\n",
       "      <td>0.018964</td>\n",
       "      <td>0.13982</td>\n",
       "      <td>1.331965</td>\n",
       "      <td>0.187531</td>\n",
       "      <td>...</td>\n",
       "      <td>-0.257148</td>\n",
       "      <td>0.037015</td>\n",
       "      <td>-0.115207</td>\n",
       "      <td>-0.049285</td>\n",
       "      <td>0.005295</td>\n",
       "      <td>0.008582</td>\n",
       "      <td>0.027266</td>\n",
       "      <td>-0.015355</td>\n",
       "      <td>0.005563</td>\n",
       "      <td>0</td>\n",
       "    </tr>\n",
       "    <tr>\n",
       "      <th>13005143</th>\n",
       "      <td>0.13186</td>\n",
       "      <td>0.098701</td>\n",
       "      <td>0.078345</td>\n",
       "      <td>0.018968</td>\n",
       "      <td>0.018846</td>\n",
       "      <td>0.019017</td>\n",
       "      <td>0.018964</td>\n",
       "      <td>0.13982</td>\n",
       "      <td>0.186744</td>\n",
       "      <td>0.022921</td>\n",
       "      <td>...</td>\n",
       "      <td>-0.030844</td>\n",
       "      <td>0.015663</td>\n",
       "      <td>-0.069380</td>\n",
       "      <td>-0.032113</td>\n",
       "      <td>-0.043810</td>\n",
       "      <td>-0.025167</td>\n",
       "      <td>0.233774</td>\n",
       "      <td>0.042668</td>\n",
       "      <td>-0.009017</td>\n",
       "      <td>1</td>\n",
       "    </tr>\n",
       "    <tr>\n",
       "      <th>67415143</th>\n",
       "      <td>0.13186</td>\n",
       "      <td>0.098701</td>\n",
       "      <td>0.078345</td>\n",
       "      <td>0.018968</td>\n",
       "      <td>0.018846</td>\n",
       "      <td>0.019017</td>\n",
       "      <td>0.018964</td>\n",
       "      <td>0.13982</td>\n",
       "      <td>1.440337</td>\n",
       "      <td>-0.227466</td>\n",
       "      <td>...</td>\n",
       "      <td>-0.285255</td>\n",
       "      <td>-0.034175</td>\n",
       "      <td>0.063183</td>\n",
       "      <td>0.015687</td>\n",
       "      <td>0.005746</td>\n",
       "      <td>-0.004283</td>\n",
       "      <td>0.245145</td>\n",
       "      <td>0.029220</td>\n",
       "      <td>0.015390</td>\n",
       "      <td>0</td>\n",
       "    </tr>\n",
       "    <tr>\n",
       "      <th>70925143</th>\n",
       "      <td>0.13186</td>\n",
       "      <td>0.098701</td>\n",
       "      <td>0.078345</td>\n",
       "      <td>0.018968</td>\n",
       "      <td>0.018846</td>\n",
       "      <td>0.019017</td>\n",
       "      <td>0.018964</td>\n",
       "      <td>0.13982</td>\n",
       "      <td>-1.015862</td>\n",
       "      <td>-0.377273</td>\n",
       "      <td>...</td>\n",
       "      <td>0.115505</td>\n",
       "      <td>-0.031156</td>\n",
       "      <td>0.052263</td>\n",
       "      <td>0.013927</td>\n",
       "      <td>-0.018335</td>\n",
       "      <td>-0.003299</td>\n",
       "      <td>0.021461</td>\n",
       "      <td>0.000034</td>\n",
       "      <td>-0.001999</td>\n",
       "      <td>0</td>\n",
       "    </tr>\n",
       "    <tr>\n",
       "      <th>75235143</th>\n",
       "      <td>0.13186</td>\n",
       "      <td>0.098701</td>\n",
       "      <td>0.078345</td>\n",
       "      <td>0.018968</td>\n",
       "      <td>0.018846</td>\n",
       "      <td>0.019017</td>\n",
       "      <td>0.018964</td>\n",
       "      <td>0.13982</td>\n",
       "      <td>1.836600</td>\n",
       "      <td>1.414602</td>\n",
       "      <td>...</td>\n",
       "      <td>0.220718</td>\n",
       "      <td>-0.565350</td>\n",
       "      <td>-0.180219</td>\n",
       "      <td>0.084599</td>\n",
       "      <td>-0.110096</td>\n",
       "      <td>-0.063496</td>\n",
       "      <td>-0.071376</td>\n",
       "      <td>-0.034999</td>\n",
       "      <td>-0.010463</td>\n",
       "      <td>0</td>\n",
       "    </tr>\n",
       "  </tbody>\n",
       "</table>\n",
       "<p>5 rows × 39 columns</p>\n",
       "</div>"
      ],
      "text/plain": [
       "          HLTINNOS   HLCLAST  HLLOSRSN  HLNVOFFR   HLNVREF  HLNVNEED  \\\n",
       "PERID                                                                  \n",
       "25095143   0.13186  0.098701  0.078345  0.018968  0.018846  0.019017   \n",
       "13005143   0.13186  0.098701  0.078345  0.018968  0.018846  0.019017   \n",
       "67415143   0.13186  0.098701  0.078345  0.018968  0.018846  0.019017   \n",
       "70925143   0.13186  0.098701  0.078345  0.018968  0.018846  0.019017   \n",
       "75235143   0.13186  0.098701  0.078345  0.018968  0.018846  0.019017   \n",
       "\n",
       "           HLNVSOR  IIOTHHLT      col0      col1   ...       col21     col22  \\\n",
       "PERID                                              ...                         \n",
       "25095143  0.018964   0.13982  1.331965  0.187531   ...   -0.257148  0.037015   \n",
       "13005143  0.018964   0.13982  0.186744  0.022921   ...   -0.030844  0.015663   \n",
       "67415143  0.018964   0.13982  1.440337 -0.227466   ...   -0.285255 -0.034175   \n",
       "70925143  0.018964   0.13982 -1.015862 -0.377273   ...    0.115505 -0.031156   \n",
       "75235143  0.018964   0.13982  1.836600  1.414602   ...    0.220718 -0.565350   \n",
       "\n",
       "             col23     col24     col25     col26     col27     col28  \\\n",
       "PERID                                                                  \n",
       "25095143 -0.115207 -0.049285  0.005295  0.008582  0.027266 -0.015355   \n",
       "13005143 -0.069380 -0.032113 -0.043810 -0.025167  0.233774  0.042668   \n",
       "67415143  0.063183  0.015687  0.005746 -0.004283  0.245145  0.029220   \n",
       "70925143  0.052263  0.013927 -0.018335 -0.003299  0.021461  0.000034   \n",
       "75235143 -0.180219  0.084599 -0.110096 -0.063496 -0.071376 -0.034999   \n",
       "\n",
       "             col29  target  \n",
       "PERID                       \n",
       "25095143  0.005563       0  \n",
       "13005143 -0.009017       1  \n",
       "67415143  0.015390       0  \n",
       "70925143 -0.001999       0  \n",
       "75235143 -0.010463       0  \n",
       "\n",
       "[5 rows x 39 columns]"
      ]
     },
     "execution_count": 48,
     "metadata": {},
     "output_type": "execute_result"
    }
   ],
   "source": [
    "pca_train.head()"
   ]
  },
  {
   "cell_type": "code",
   "execution_count": 53,
   "metadata": {
    "collapsed": true
   },
   "outputs": [],
   "source": [
    "def cv_optimize(clf,parameters,X,y,n_jobs = 1,n_folds = 10,score_func = None):\n",
    "    if(score_func):\n",
    "        gs = GridSearchCV(clf,param_grid=parameters,cv=n_folds,n_jobs=n_jobs,scoring=score_func)\n",
    "    else:\n",
    "        gs = GridSearchCV(clf,param_grid=parameters,cv=n_folds,n_jobs=n_jobs)\n",
    "    gs.fit(X,y)\n",
    "    print(\"Best \",gs.best_params_,gs.best_score_,gs.grid_scores_)\n",
    "    best = gs.best_estimator_\n",
    "    return best,gs.grid_scores_\n",
    "\n",
    "\n",
    "\n",
    "def do_classify(clf,parameters,indf,features,targetname,target1val,mask,nfolds = 10,score_func = None,n_jobs = 1):\n",
    "    subdf = indf[features]\n",
    "    X = subdf.values\n",
    "    y = (indf[targetname].values == target1val)*1\n",
    "    if(mask[0]!=None):\n",
    "        print(\"Using Mask\")\n",
    "        Xtrain,Ytrain,Xtest,Ytest = X[mask],y[mask],X[~mask],y[~mask]\n",
    "    else:\n",
    "        print(\"No Mask\")\n",
    "    grid_scores = None\n",
    "    if(parameters):\n",
    "        clf,grid_scores = cv_optimize(clf,parameters,Xtrain,Ytrain,n_jobs,nfolds,score_func= score_func)\n",
    "    clf_train_fit = clf.fit(Xtrain,Ytrain)\n",
    "    clf_total_fit = clf.fit(X,y)\n",
    "    return clf_total_fit,Xtest,Ytest\n"
   ]
  },
  {
   "cell_type": "code",
   "execution_count": 57,
   "metadata": {},
   "outputs": [
    {
     "name": "stdout",
     "output_type": "stream",
     "text": [
      "Using Mask\n",
      "Best  {'C': 0.01} 1.0 [mean: 0.99838, std: 0.00061, params: {'C': 0.001}, mean: 1.00000, std: 0.00000, params: {'C': 0.01}, mean: 1.00000, std: 0.00000, params: {'C': 0.1}, mean: 1.00000, std: 0.00000, params: {'C': 1}, mean: 1.00000, std: 0.00000, params: {'C': 10}, mean: 1.00000, std: 0.00000, params: {'C': 100}]\n"
     ]
    }
   ],
   "source": [
    "lr = LogisticRegression(class_weight=\"balanced\")\n",
    "parameters = {\"C\":[0.001, 0.01, 0.1, 1, 10, 100]}\n",
    "clf,Xtest,Ytest= do_classify(lr,parameters,pca_train,pca_train.columns,'target',1,mask,nfolds=10)"
   ]
  },
  {
   "cell_type": "code",
   "execution_count": 59,
   "metadata": {},
   "outputs": [],
   "source": [
    "result = clf.predict_proba(Xtest)[:,0]"
   ]
  },
  {
   "cell_type": "code",
   "execution_count": 78,
   "metadata": {},
   "outputs": [],
   "source": [
    "precision,recall,threshold = precision_recall_curve(target[~mask].values,result,pos_label=0)"
   ]
  },
  {
   "cell_type": "code",
   "execution_count": 79,
   "metadata": {},
   "outputs": [
    {
     "data": {
      "text/plain": [
       "array([ 1.,  1.,  1., ...,  1.,  1.,  1.])"
      ]
     },
     "execution_count": 79,
     "metadata": {},
     "output_type": "execute_result"
    }
   ],
   "source": [
    "precision"
   ]
  },
  {
   "cell_type": "code",
   "execution_count": 80,
   "metadata": {},
   "outputs": [
    {
     "data": {
      "text/plain": [
       "array([  1.00000000e+00,   9.99921796e-01,   9.99843591e-01, ...,\n",
       "         1.56408853e-04,   7.82044264e-05,   0.00000000e+00])"
      ]
     },
     "execution_count": 80,
     "metadata": {},
     "output_type": "execute_result"
    }
   ],
   "source": [
    "recall"
   ]
  },
  {
   "cell_type": "code",
   "execution_count": 108,
   "metadata": {
    "collapsed": true
   },
   "outputs": [],
   "source": [
    "def make_precision_recall_curve(name, clf, ytest, xtest, ax=None, labe=5, proba=True, skip=0):\n",
    "    initial=False\n",
    "    if not ax:\n",
    "        ax=plt.gca()\n",
    "        initial=True\n",
    "    if proba:\n",
    "        precision,recall,thresholds = precision_recall_curve(ytest, clf.predict_proba(xtest)[:,1])\n",
    "    else:\n",
    "        precision,recall,thresholds = precision_recall_curve(ytest, clf.decision_function(xtest))\n",
    "        \n",
    "    if skip:\n",
    "        l=recall.shape[0]\n",
    "        ax.plot(recall[0:l:skip], precision[0:l:skip], '.-', alpha=0.3, label='PR curve')\n",
    "    else:\n",
    "        ax.plot(recall, precision, '.-', alpha=0.3, label='PR Curve')\n",
    "    label_kwargs = {}\n",
    "    label_kwargs['bbox'] = dict(\n",
    "        boxstyle='round,pad=0.3', alpha=0.2,\n",
    "    )\n",
    "    for k in range(0, recall.shape[0],labe):\n",
    "        #from https://gist.github.com/podshumok/c1d1c9394335d86255b8\n",
    "        threshold = str(np.round(thresholds[k], 2))\n",
    "        ax.annotate(threshold, (recall[k], precision[k]), **label_kwargs)\n",
    "    if initial:\n",
    "        ax.plot([0, 1], [1, 0], 'k--')\n",
    "        ax.set_xlim([0.0, 1.0])\n",
    "        ax.set_ylim([0.0, 1.05])\n",
    "        ax.set_xlabel('Recall')\n",
    "        ax.set_ylabel('Precision')\n",
    "        ax.set_title('PR')\n",
    "    ax.legend(loc=\"lower right\")\n",
    "    return ax,precision,recall,thresholds"
   ]
  },
  {
   "cell_type": "code",
   "execution_count": 109,
   "metadata": {},
   "outputs": [
    {
     "data": {
      "image/png": "[encoded data removed]",
      "text/plain": [
       "<matplotlib.figure.Figure at 0x1e6bd0c36a0>"
      ]
     },
     "metadata": {},
     "output_type": "display_data"
    }
   ],
   "source": [
    "ax,precision,recall,thresholds = make_precision_recall_curve(\"logistic\",clf,Ytest,Xtest)"
   ]
  },
  {
   "cell_type": "code",
   "execution_count": 103,
   "metadata": {},
   "outputs": [
    {
     "data": {
      "text/plain": [
       "(1.0, 0.0)"
      ]
     },
     "execution_count": 103,
     "metadata": {},
     "output_type": "execute_result"
    }
   ],
   "source": [
    "precision[928],recall[928]"
   ]
  },
  {
   "cell_type": "code",
   "execution_count": 111,
   "metadata": {},
   "outputs": [
    {
     "data": {
      "text/plain": [
       "929"
      ]
     },
     "execution_count": 111,
     "metadata": {},
     "output_type": "execute_result"
    }
   ],
   "source": [
    "recall.shape[0]"
   ]
  },
  {
   "cell_type": "code",
   "execution_count": 112,
   "metadata": {},
   "outputs": [
    {
     "data": {
      "text/plain": [
       "<matplotlib.collections.PathCollection at 0x1e6bcfc71d0>"
      ]
     },
     "execution_count": 112,
     "metadata": {},
     "output_type": "execute_result"
    },
    {
     "data": {
      "image/png": "[encoded data removed]",
      "text/plain": [
       "<matplotlib.figure.Figure at 0x1e6bcf66518>"
      ]
     },
     "metadata": {},
     "output_type": "display_data"
    }
   ],
   "source": [
    "plt.scatter(recall,precision)"
   ]
  },
  {
   "cell_type": "code",
   "execution_count": 118,
   "metadata": {},
   "outputs": [
    {
     "name": "stdout",
     "output_type": "stream",
     "text": [
      "0.880754944632 0\n"
     ]
    }
   ],
   "source": [
    "for i in range(precision.shape[0]):\n",
    "    if(precision[i] == 1.0 and recall[i]==1.0):\n",
    "        print(thresholds[i],i)"
   ]
  },
  {
   "cell_type": "code",
   "execution_count": 119,
   "metadata": {},
   "outputs": [
    {
     "data": {
      "text/plain": [
       "1.0"
      ]
     },
     "execution_count": 119,
     "metadata": {},
     "output_type": "execute_result"
    }
   ],
   "source": [
    "precision[0]"
   ]
  },
  {
   "cell_type": "code",
   "execution_count": 120,
   "metadata": {},
   "outputs": [
    {
     "data": {
      "text/plain": [
       "1.0"
      ]
     },
     "execution_count": 120,
     "metadata": {},
     "output_type": "execute_result"
    }
   ],
   "source": [
    "recall[0]\n"
   ]
  },
  {
   "cell_type": "code",
   "execution_count": 121,
   "metadata": {},
   "outputs": [
    {
     "data": {
      "text/plain": [
       "0.88075494463233428"
      ]
     },
     "execution_count": 121,
     "metadata": {},
     "output_type": "execute_result"
    }
   ],
   "source": [
    "thresholds[0]"
   ]
  },
  {
   "cell_type": "code",
   "execution_count": 122,
   "metadata": {},
   "outputs": [
    {
     "data": {
      "text/plain": [
       "0.9111699068676018"
      ]
     },
     "execution_count": 122,
     "metadata": {},
     "output_type": "execute_result"
    }
   ],
   "source": [
    "thresholds[1]"
   ]
  },
  {
   "cell_type": "code",
   "execution_count": 125,
   "metadata": {},
   "outputs": [
    {
     "data": {
      "text/plain": [
       "<matplotlib.collections.PathCollection at 0x1e6bcba7438>"
      ]
     },
     "execution_count": 125,
     "metadata": {},
     "output_type": "execute_result"
    },
    {
     "data": {
      "image/png": "[encoded data removed]",
      "text/plain": [
       "<matplotlib.figure.Figure at 0x1e6ba0ca2b0>"
      ]
     },
     "metadata": {},
     "output_type": "display_data"
    }
   ],
   "source": [
    "plt.scatter(range(928),thresholds)"
   ]
  },
  {
   "cell_type": "code",
   "execution_count": 127,
   "metadata": {},
   "outputs": [],
   "source": [
    "result = clf.predict_proba(Xtest)[:,0]"
   ]
  },
  {
   "cell_type": "code",
   "execution_count": 129,
   "metadata": {},
   "outputs": [],
   "source": [
    "for i in range(len(result)):\n",
    "    if(result[i]<0.88075494463233428):\n",
    "        result[i]=0\n",
    "    else:\n",
    "        result[i]=1"
   ]
  },
  {
   "cell_type": "raw",
   "metadata": {},
   "source": [
    "confusion_matrix(target[~mask],result)"
   ]
  },
  {
   "cell_type": "code",
   "execution_count": 140,
   "metadata": {
    "scrolled": true
   },
   "outputs": [
    {
     "data": {
      "text/plain": [
       "array([ 1.,  1.,  1., ...,  1.,  1.,  1.])"
      ]
     },
     "execution_count": 140,
     "metadata": {},
     "output_type": "execute_result"
    }
   ],
   "source": [
    "result"
   ]
  },
  {
   "cell_type": "code",
   "execution_count": 136,
   "metadata": {},
   "outputs": [],
   "source": [
    "import pylab as pl"
   ]
  },
  {
   "cell_type": "code",
   "execution_count": 139,
   "metadata": {},
   "outputs": [
    {
     "ename": "KeyboardInterrupt",
     "evalue": "",
     "output_type": "error",
     "traceback": [
      "\u001b[1;31m---------------------------------------------------------------------------\u001b[0m",
      "\u001b[1;31mKeyboardInterrupt\u001b[0m                         Traceback (most recent call last)",
      "\u001b[1;32m<ipython-input-139-677595029086>\u001b[0m in \u001b[0;36m<module>\u001b[1;34m()\u001b[0m\n\u001b[0;32m      8\u001b[0m     \u001b[0mpl\u001b[0m\u001b[1;33m.\u001b[0m\u001b[0mtitle\u001b[0m\u001b[1;33m(\u001b[0m\u001b[1;34m'Precision-Recall'\u001b[0m\u001b[1;33m)\u001b[0m\u001b[1;33m\u001b[0m\u001b[0m\n\u001b[0;32m      9\u001b[0m     \u001b[0mpl\u001b[0m\u001b[1;33m.\u001b[0m\u001b[0mlegend\u001b[0m\u001b[1;33m(\u001b[0m\u001b[0mloc\u001b[0m\u001b[1;33m=\u001b[0m\u001b[1;34m\"upper right\"\u001b[0m\u001b[1;33m)\u001b[0m\u001b[1;33m\u001b[0m\u001b[0m\n\u001b[1;32m---> 10\u001b[1;33m     \u001b[0mpl\u001b[0m\u001b[1;33m.\u001b[0m\u001b[0msavefig\u001b[0m\u001b[1;33m(\u001b[0m\u001b[1;34m\"ting\"\u001b[0m\u001b[1;33m)\u001b[0m\u001b[1;33m\u001b[0m\u001b[0m\n\u001b[0m",
      "\u001b[1;32m~\\Anaconda3\\lib\\site-packages\\matplotlib\\pyplot.py\u001b[0m in \u001b[0;36msavefig\u001b[1;34m(*args, **kwargs)\u001b[0m\n\u001b[0;32m    695\u001b[0m \u001b[1;32mdef\u001b[0m \u001b[0msavefig\u001b[0m\u001b[1;33m(\u001b[0m\u001b[1;33m*\u001b[0m\u001b[0margs\u001b[0m\u001b[1;33m,\u001b[0m \u001b[1;33m**\u001b[0m\u001b[0mkwargs\u001b[0m\u001b[1;33m)\u001b[0m\u001b[1;33m:\u001b[0m\u001b[1;33m\u001b[0m\u001b[0m\n\u001b[0;32m    696\u001b[0m     \u001b[0mfig\u001b[0m \u001b[1;33m=\u001b[0m \u001b[0mgcf\u001b[0m\u001b[1;33m(\u001b[0m\u001b[1;33m)\u001b[0m\u001b[1;33m\u001b[0m\u001b[0m\n\u001b[1;32m--> 697\u001b[1;33m     \u001b[0mres\u001b[0m \u001b[1;33m=\u001b[0m \u001b[0mfig\u001b[0m\u001b[1;33m.\u001b[0m\u001b[0msavefig\u001b[0m\u001b[1;33m(\u001b[0m\u001b[1;33m*\u001b[0m\u001b[0margs\u001b[0m\u001b[1;33m,\u001b[0m \u001b[1;33m**\u001b[0m\u001b[0mkwargs\u001b[0m\u001b[1;33m)\u001b[0m\u001b[1;33m\u001b[0m\u001b[0m\n\u001b[0m\u001b[0;32m    698\u001b[0m     \u001b[0mfig\u001b[0m\u001b[1;33m.\u001b[0m\u001b[0mcanvas\u001b[0m\u001b[1;33m.\u001b[0m\u001b[0mdraw_idle\u001b[0m\u001b[1;33m(\u001b[0m\u001b[1;33m)\u001b[0m   \u001b[1;31m# need this if 'transparent=True' to reset colors\u001b[0m\u001b[1;33m\u001b[0m\u001b[0m\n\u001b[0;32m    699\u001b[0m     \u001b[1;32mreturn\u001b[0m \u001b[0mres\u001b[0m\u001b[1;33m\u001b[0m\u001b[0m\n",
      "\u001b[1;32m~\\Anaconda3\\lib\\site-packages\\matplotlib\\figure.py\u001b[0m in \u001b[0;36msavefig\u001b[1;34m(self, fname, **kwargs)\u001b[0m\n\u001b[0;32m   1812\u001b[0m             \u001b[0mself\u001b[0m\u001b[1;33m.\u001b[0m\u001b[0mset_frameon\u001b[0m\u001b[1;33m(\u001b[0m\u001b[0mframeon\u001b[0m\u001b[1;33m)\u001b[0m\u001b[1;33m\u001b[0m\u001b[0m\n\u001b[0;32m   1813\u001b[0m \u001b[1;33m\u001b[0m\u001b[0m\n\u001b[1;32m-> 1814\u001b[1;33m         \u001b[0mself\u001b[0m\u001b[1;33m.\u001b[0m\u001b[0mcanvas\u001b[0m\u001b[1;33m.\u001b[0m\u001b[0mprint_figure\u001b[0m\u001b[1;33m(\u001b[0m\u001b[0mfname\u001b[0m\u001b[1;33m,\u001b[0m \u001b[1;33m**\u001b[0m\u001b[0mkwargs\u001b[0m\u001b[1;33m)\u001b[0m\u001b[1;33m\u001b[0m\u001b[0m\n\u001b[0m\u001b[0;32m   1815\u001b[0m \u001b[1;33m\u001b[0m\u001b[0m\n\u001b[0;32m   1816\u001b[0m         \u001b[1;32mif\u001b[0m \u001b[0mframeon\u001b[0m\u001b[1;33m:\u001b[0m\u001b[1;33m\u001b[0m\u001b[0m\n",
      "\u001b[1;32m~\\Anaconda3\\lib\\site-packages\\matplotlib\\backend_bases.py\u001b[0m in \u001b[0;36mprint_figure\u001b[1;34m(self, filename, dpi, facecolor, edgecolor, orientation, format, **kwargs)\u001b[0m\n\u001b[0;32m   2257\u001b[0m                 \u001b[0morientation\u001b[0m\u001b[1;33m=\u001b[0m\u001b[0morientation\u001b[0m\u001b[1;33m,\u001b[0m\u001b[1;33m\u001b[0m\u001b[0m\n\u001b[0;32m   2258\u001b[0m                 \u001b[0mbbox_inches_restore\u001b[0m\u001b[1;33m=\u001b[0m\u001b[0m_bbox_inches_restore\u001b[0m\u001b[1;33m,\u001b[0m\u001b[1;33m\u001b[0m\u001b[0m\n\u001b[1;32m-> 2259\u001b[1;33m                 **kwargs)\n\u001b[0m\u001b[0;32m   2260\u001b[0m         \u001b[1;32mfinally\u001b[0m\u001b[1;33m:\u001b[0m\u001b[1;33m\u001b[0m\u001b[0m\n\u001b[0;32m   2261\u001b[0m             \u001b[1;32mif\u001b[0m \u001b[0mbbox_inches\u001b[0m \u001b[1;32mand\u001b[0m \u001b[0mrestore_bbox\u001b[0m\u001b[1;33m:\u001b[0m\u001b[1;33m\u001b[0m\u001b[0m\n",
      "\u001b[1;32m~\\Anaconda3\\lib\\site-packages\\matplotlib\\backends\\backend_agg.py\u001b[0m in \u001b[0;36mprint_png\u001b[1;34m(self, filename_or_obj, *args, **kwargs)\u001b[0m\n\u001b[0;32m    505\u001b[0m \u001b[1;33m\u001b[0m\u001b[0m\n\u001b[0;32m    506\u001b[0m     \u001b[1;32mdef\u001b[0m \u001b[0mprint_png\u001b[0m\u001b[1;33m(\u001b[0m\u001b[0mself\u001b[0m\u001b[1;33m,\u001b[0m \u001b[0mfilename_or_obj\u001b[0m\u001b[1;33m,\u001b[0m \u001b[1;33m*\u001b[0m\u001b[0margs\u001b[0m\u001b[1;33m,\u001b[0m \u001b[1;33m**\u001b[0m\u001b[0mkwargs\u001b[0m\u001b[1;33m)\u001b[0m\u001b[1;33m:\u001b[0m\u001b[1;33m\u001b[0m\u001b[0m\n\u001b[1;32m--> 507\u001b[1;33m         \u001b[0mFigureCanvasAgg\u001b[0m\u001b[1;33m.\u001b[0m\u001b[0mdraw\u001b[0m\u001b[1;33m(\u001b[0m\u001b[0mself\u001b[0m\u001b[1;33m)\u001b[0m\u001b[1;33m\u001b[0m\u001b[0m\n\u001b[0m\u001b[0;32m    508\u001b[0m         \u001b[0mrenderer\u001b[0m \u001b[1;33m=\u001b[0m \u001b[0mself\u001b[0m\u001b[1;33m.\u001b[0m\u001b[0mget_renderer\u001b[0m\u001b[1;33m(\u001b[0m\u001b[1;33m)\u001b[0m\u001b[1;33m\u001b[0m\u001b[0m\n\u001b[0;32m    509\u001b[0m         \u001b[0moriginal_dpi\u001b[0m \u001b[1;33m=\u001b[0m \u001b[0mrenderer\u001b[0m\u001b[1;33m.\u001b[0m\u001b[0mdpi\u001b[0m\u001b[1;33m\u001b[0m\u001b[0m\n",
      "\u001b[1;32m~\\Anaconda3\\lib\\site-packages\\matplotlib\\backends\\backend_agg.py\u001b[0m in \u001b[0;36mdraw\u001b[1;34m(self)\u001b[0m\n\u001b[0;32m    428\u001b[0m             \u001b[1;32mif\u001b[0m \u001b[0mtoolbar\u001b[0m\u001b[1;33m:\u001b[0m\u001b[1;33m\u001b[0m\u001b[0m\n\u001b[0;32m    429\u001b[0m                 \u001b[0mtoolbar\u001b[0m\u001b[1;33m.\u001b[0m\u001b[0mset_cursor\u001b[0m\u001b[1;33m(\u001b[0m\u001b[0mcursors\u001b[0m\u001b[1;33m.\u001b[0m\u001b[0mWAIT\u001b[0m\u001b[1;33m)\u001b[0m\u001b[1;33m\u001b[0m\u001b[0m\n\u001b[1;32m--> 430\u001b[1;33m             \u001b[0mself\u001b[0m\u001b[1;33m.\u001b[0m\u001b[0mfigure\u001b[0m\u001b[1;33m.\u001b[0m\u001b[0mdraw\u001b[0m\u001b[1;33m(\u001b[0m\u001b[0mself\u001b[0m\u001b[1;33m.\u001b[0m\u001b[0mrenderer\u001b[0m\u001b[1;33m)\u001b[0m\u001b[1;33m\u001b[0m\u001b[0m\n\u001b[0m\u001b[0;32m    431\u001b[0m         \u001b[1;32mfinally\u001b[0m\u001b[1;33m:\u001b[0m\u001b[1;33m\u001b[0m\u001b[0m\n\u001b[0;32m    432\u001b[0m             \u001b[1;32mif\u001b[0m \u001b[0mtoolbar\u001b[0m\u001b[1;33m:\u001b[0m\u001b[1;33m\u001b[0m\u001b[0m\n",
      "\u001b[1;32m~\\Anaconda3\\lib\\site-packages\\matplotlib\\artist.py\u001b[0m in \u001b[0;36mdraw_wrapper\u001b[1;34m(artist, renderer, *args, **kwargs)\u001b[0m\n\u001b[0;32m     53\u001b[0m                 \u001b[0mrenderer\u001b[0m\u001b[1;33m.\u001b[0m\u001b[0mstart_filter\u001b[0m\u001b[1;33m(\u001b[0m\u001b[1;33m)\u001b[0m\u001b[1;33m\u001b[0m\u001b[0m\n\u001b[0;32m     54\u001b[0m \u001b[1;33m\u001b[0m\u001b[0m\n\u001b[1;32m---> 55\u001b[1;33m             \u001b[1;32mreturn\u001b[0m \u001b[0mdraw\u001b[0m\u001b[1;33m(\u001b[0m\u001b[0martist\u001b[0m\u001b[1;33m,\u001b[0m \u001b[0mrenderer\u001b[0m\u001b[1;33m,\u001b[0m \u001b[1;33m*\u001b[0m\u001b[0margs\u001b[0m\u001b[1;33m,\u001b[0m \u001b[1;33m**\u001b[0m\u001b[0mkwargs\u001b[0m\u001b[1;33m)\u001b[0m\u001b[1;33m\u001b[0m\u001b[0m\n\u001b[0m\u001b[0;32m     56\u001b[0m         \u001b[1;32mfinally\u001b[0m\u001b[1;33m:\u001b[0m\u001b[1;33m\u001b[0m\u001b[0m\n\u001b[0;32m     57\u001b[0m             \u001b[1;32mif\u001b[0m \u001b[0martist\u001b[0m\u001b[1;33m.\u001b[0m\u001b[0mget_agg_filter\u001b[0m\u001b[1;33m(\u001b[0m\u001b[1;33m)\u001b[0m \u001b[1;32mis\u001b[0m \u001b[1;32mnot\u001b[0m \u001b[1;32mNone\u001b[0m\u001b[1;33m:\u001b[0m\u001b[1;33m\u001b[0m\u001b[0m\n",
      "\u001b[1;32m~\\Anaconda3\\lib\\site-packages\\matplotlib\\figure.py\u001b[0m in \u001b[0;36mdraw\u001b[1;34m(self, renderer)\u001b[0m\n\u001b[0;32m   1293\u001b[0m \u001b[1;33m\u001b[0m\u001b[0m\n\u001b[0;32m   1294\u001b[0m             mimage._draw_list_compositing_images(\n\u001b[1;32m-> 1295\u001b[1;33m                 renderer, self, artists, self.suppressComposite)\n\u001b[0m\u001b[0;32m   1296\u001b[0m \u001b[1;33m\u001b[0m\u001b[0m\n\u001b[0;32m   1297\u001b[0m             \u001b[0mrenderer\u001b[0m\u001b[1;33m.\u001b[0m\u001b[0mclose_group\u001b[0m\u001b[1;33m(\u001b[0m\u001b[1;34m'figure'\u001b[0m\u001b[1;33m)\u001b[0m\u001b[1;33m\u001b[0m\u001b[0m\n",
      "\u001b[1;32m~\\Anaconda3\\lib\\site-packages\\matplotlib\\image.py\u001b[0m in \u001b[0;36m_draw_list_compositing_images\u001b[1;34m(renderer, parent, artists, suppress_composite)\u001b[0m\n\u001b[0;32m    136\u001b[0m     \u001b[1;32mif\u001b[0m \u001b[0mnot_composite\u001b[0m \u001b[1;32mor\u001b[0m \u001b[1;32mnot\u001b[0m \u001b[0mhas_images\u001b[0m\u001b[1;33m:\u001b[0m\u001b[1;33m\u001b[0m\u001b[0m\n\u001b[0;32m    137\u001b[0m         \u001b[1;32mfor\u001b[0m \u001b[0ma\u001b[0m \u001b[1;32min\u001b[0m \u001b[0martists\u001b[0m\u001b[1;33m:\u001b[0m\u001b[1;33m\u001b[0m\u001b[0m\n\u001b[1;32m--> 138\u001b[1;33m             \u001b[0ma\u001b[0m\u001b[1;33m.\u001b[0m\u001b[0mdraw\u001b[0m\u001b[1;33m(\u001b[0m\u001b[0mrenderer\u001b[0m\u001b[1;33m)\u001b[0m\u001b[1;33m\u001b[0m\u001b[0m\n\u001b[0m\u001b[0;32m    139\u001b[0m     \u001b[1;32melse\u001b[0m\u001b[1;33m:\u001b[0m\u001b[1;33m\u001b[0m\u001b[0m\n\u001b[0;32m    140\u001b[0m         \u001b[1;31m# Composite any adjacent images together\u001b[0m\u001b[1;33m\u001b[0m\u001b[1;33m\u001b[0m\u001b[0m\n",
      "\u001b[1;32m~\\Anaconda3\\lib\\site-packages\\matplotlib\\artist.py\u001b[0m in \u001b[0;36mdraw_wrapper\u001b[1;34m(artist, renderer, *args, **kwargs)\u001b[0m\n\u001b[0;32m     53\u001b[0m                 \u001b[0mrenderer\u001b[0m\u001b[1;33m.\u001b[0m\u001b[0mstart_filter\u001b[0m\u001b[1;33m(\u001b[0m\u001b[1;33m)\u001b[0m\u001b[1;33m\u001b[0m\u001b[0m\n\u001b[0;32m     54\u001b[0m \u001b[1;33m\u001b[0m\u001b[0m\n\u001b[1;32m---> 55\u001b[1;33m             \u001b[1;32mreturn\u001b[0m \u001b[0mdraw\u001b[0m\u001b[1;33m(\u001b[0m\u001b[0martist\u001b[0m\u001b[1;33m,\u001b[0m \u001b[0mrenderer\u001b[0m\u001b[1;33m,\u001b[0m \u001b[1;33m*\u001b[0m\u001b[0margs\u001b[0m\u001b[1;33m,\u001b[0m \u001b[1;33m**\u001b[0m\u001b[0mkwargs\u001b[0m\u001b[1;33m)\u001b[0m\u001b[1;33m\u001b[0m\u001b[0m\n\u001b[0m\u001b[0;32m     56\u001b[0m         \u001b[1;32mfinally\u001b[0m\u001b[1;33m:\u001b[0m\u001b[1;33m\u001b[0m\u001b[0m\n\u001b[0;32m     57\u001b[0m             \u001b[1;32mif\u001b[0m \u001b[0martist\u001b[0m\u001b[1;33m.\u001b[0m\u001b[0mget_agg_filter\u001b[0m\u001b[1;33m(\u001b[0m\u001b[1;33m)\u001b[0m \u001b[1;32mis\u001b[0m \u001b[1;32mnot\u001b[0m \u001b[1;32mNone\u001b[0m\u001b[1;33m:\u001b[0m\u001b[1;33m\u001b[0m\u001b[0m\n",
      "\u001b[1;32m~\\Anaconda3\\lib\\site-packages\\matplotlib\\axes\\_base.py\u001b[0m in \u001b[0;36mdraw\u001b[1;34m(self, renderer, inframe)\u001b[0m\n\u001b[0;32m   2397\u001b[0m             \u001b[0mrenderer\u001b[0m\u001b[1;33m.\u001b[0m\u001b[0mstop_rasterizing\u001b[0m\u001b[1;33m(\u001b[0m\u001b[1;33m)\u001b[0m\u001b[1;33m\u001b[0m\u001b[0m\n\u001b[0;32m   2398\u001b[0m \u001b[1;33m\u001b[0m\u001b[0m\n\u001b[1;32m-> 2399\u001b[1;33m         \u001b[0mmimage\u001b[0m\u001b[1;33m.\u001b[0m\u001b[0m_draw_list_compositing_images\u001b[0m\u001b[1;33m(\u001b[0m\u001b[0mrenderer\u001b[0m\u001b[1;33m,\u001b[0m \u001b[0mself\u001b[0m\u001b[1;33m,\u001b[0m \u001b[0martists\u001b[0m\u001b[1;33m)\u001b[0m\u001b[1;33m\u001b[0m\u001b[0m\n\u001b[0m\u001b[0;32m   2400\u001b[0m \u001b[1;33m\u001b[0m\u001b[0m\n\u001b[0;32m   2401\u001b[0m         \u001b[0mrenderer\u001b[0m\u001b[1;33m.\u001b[0m\u001b[0mclose_group\u001b[0m\u001b[1;33m(\u001b[0m\u001b[1;34m'axes'\u001b[0m\u001b[1;33m)\u001b[0m\u001b[1;33m\u001b[0m\u001b[0m\n",
      "\u001b[1;32m~\\Anaconda3\\lib\\site-packages\\matplotlib\\image.py\u001b[0m in \u001b[0;36m_draw_list_compositing_images\u001b[1;34m(renderer, parent, artists, suppress_composite)\u001b[0m\n\u001b[0;32m    136\u001b[0m     \u001b[1;32mif\u001b[0m \u001b[0mnot_composite\u001b[0m \u001b[1;32mor\u001b[0m \u001b[1;32mnot\u001b[0m \u001b[0mhas_images\u001b[0m\u001b[1;33m:\u001b[0m\u001b[1;33m\u001b[0m\u001b[0m\n\u001b[0;32m    137\u001b[0m         \u001b[1;32mfor\u001b[0m \u001b[0ma\u001b[0m \u001b[1;32min\u001b[0m \u001b[0martists\u001b[0m\u001b[1;33m:\u001b[0m\u001b[1;33m\u001b[0m\u001b[0m\n\u001b[1;32m--> 138\u001b[1;33m             \u001b[0ma\u001b[0m\u001b[1;33m.\u001b[0m\u001b[0mdraw\u001b[0m\u001b[1;33m(\u001b[0m\u001b[0mrenderer\u001b[0m\u001b[1;33m)\u001b[0m\u001b[1;33m\u001b[0m\u001b[0m\n\u001b[0m\u001b[0;32m    139\u001b[0m     \u001b[1;32melse\u001b[0m\u001b[1;33m:\u001b[0m\u001b[1;33m\u001b[0m\u001b[0m\n\u001b[0;32m    140\u001b[0m         \u001b[1;31m# Composite any adjacent images together\u001b[0m\u001b[1;33m\u001b[0m\u001b[1;33m\u001b[0m\u001b[0m\n",
      "\u001b[1;32m~\\Anaconda3\\lib\\site-packages\\matplotlib\\artist.py\u001b[0m in \u001b[0;36mdraw_wrapper\u001b[1;34m(artist, renderer, *args, **kwargs)\u001b[0m\n\u001b[0;32m     53\u001b[0m                 \u001b[0mrenderer\u001b[0m\u001b[1;33m.\u001b[0m\u001b[0mstart_filter\u001b[0m\u001b[1;33m(\u001b[0m\u001b[1;33m)\u001b[0m\u001b[1;33m\u001b[0m\u001b[0m\n\u001b[0;32m     54\u001b[0m \u001b[1;33m\u001b[0m\u001b[0m\n\u001b[1;32m---> 55\u001b[1;33m             \u001b[1;32mreturn\u001b[0m \u001b[0mdraw\u001b[0m\u001b[1;33m(\u001b[0m\u001b[0martist\u001b[0m\u001b[1;33m,\u001b[0m \u001b[0mrenderer\u001b[0m\u001b[1;33m,\u001b[0m \u001b[1;33m*\u001b[0m\u001b[0margs\u001b[0m\u001b[1;33m,\u001b[0m \u001b[1;33m**\u001b[0m\u001b[0mkwargs\u001b[0m\u001b[1;33m)\u001b[0m\u001b[1;33m\u001b[0m\u001b[0m\n\u001b[0m\u001b[0;32m     56\u001b[0m         \u001b[1;32mfinally\u001b[0m\u001b[1;33m:\u001b[0m\u001b[1;33m\u001b[0m\u001b[0m\n\u001b[0;32m     57\u001b[0m             \u001b[1;32mif\u001b[0m \u001b[0martist\u001b[0m\u001b[1;33m.\u001b[0m\u001b[0mget_agg_filter\u001b[0m\u001b[1;33m(\u001b[0m\u001b[1;33m)\u001b[0m \u001b[1;32mis\u001b[0m \u001b[1;32mnot\u001b[0m \u001b[1;32mNone\u001b[0m\u001b[1;33m:\u001b[0m\u001b[1;33m\u001b[0m\u001b[0m\n",
      "\u001b[1;32m~\\Anaconda3\\lib\\site-packages\\matplotlib\\legend.py\u001b[0m in \u001b[0;36mdraw\u001b[1;34m(self, renderer)\u001b[0m\n\u001b[0;32m    470\u001b[0m             \u001b[0mself\u001b[0m\u001b[1;33m.\u001b[0m\u001b[0mlegendPatch\u001b[0m\u001b[1;33m.\u001b[0m\u001b[0mdraw\u001b[0m\u001b[1;33m(\u001b[0m\u001b[0mrenderer\u001b[0m\u001b[1;33m)\u001b[0m\u001b[1;33m\u001b[0m\u001b[0m\n\u001b[0;32m    471\u001b[0m \u001b[1;33m\u001b[0m\u001b[0m\n\u001b[1;32m--> 472\u001b[1;33m         \u001b[0mself\u001b[0m\u001b[1;33m.\u001b[0m\u001b[0m_legend_box\u001b[0m\u001b[1;33m.\u001b[0m\u001b[0mdraw\u001b[0m\u001b[1;33m(\u001b[0m\u001b[0mrenderer\u001b[0m\u001b[1;33m)\u001b[0m\u001b[1;33m\u001b[0m\u001b[0m\n\u001b[0m\u001b[0;32m    473\u001b[0m \u001b[1;33m\u001b[0m\u001b[0m\n\u001b[0;32m    474\u001b[0m         \u001b[0mrenderer\u001b[0m\u001b[1;33m.\u001b[0m\u001b[0mclose_group\u001b[0m\u001b[1;33m(\u001b[0m\u001b[1;34m'legend'\u001b[0m\u001b[1;33m)\u001b[0m\u001b[1;33m\u001b[0m\u001b[0m\n",
      "\u001b[1;32m~\\Anaconda3\\lib\\site-packages\\matplotlib\\offsetbox.py\u001b[0m in \u001b[0;36mdraw\u001b[1;34m(self, renderer)\u001b[0m\n\u001b[0;32m    278\u001b[0m         \u001b[1;32mfor\u001b[0m \u001b[0mc\u001b[0m\u001b[1;33m,\u001b[0m \u001b[1;33m(\u001b[0m\u001b[0mox\u001b[0m\u001b[1;33m,\u001b[0m \u001b[0moy\u001b[0m\u001b[1;33m)\u001b[0m \u001b[1;32min\u001b[0m \u001b[0mzip\u001b[0m\u001b[1;33m(\u001b[0m\u001b[0mself\u001b[0m\u001b[1;33m.\u001b[0m\u001b[0mget_visible_children\u001b[0m\u001b[1;33m(\u001b[0m\u001b[1;33m)\u001b[0m\u001b[1;33m,\u001b[0m \u001b[0moffsets\u001b[0m\u001b[1;33m)\u001b[0m\u001b[1;33m:\u001b[0m\u001b[1;33m\u001b[0m\u001b[0m\n\u001b[0;32m    279\u001b[0m             \u001b[0mc\u001b[0m\u001b[1;33m.\u001b[0m\u001b[0mset_offset\u001b[0m\u001b[1;33m(\u001b[0m\u001b[1;33m(\u001b[0m\u001b[0mpx\u001b[0m \u001b[1;33m+\u001b[0m \u001b[0mox\u001b[0m\u001b[1;33m,\u001b[0m \u001b[0mpy\u001b[0m \u001b[1;33m+\u001b[0m \u001b[0moy\u001b[0m\u001b[1;33m)\u001b[0m\u001b[1;33m)\u001b[0m\u001b[1;33m\u001b[0m\u001b[0m\n\u001b[1;32m--> 280\u001b[1;33m             \u001b[0mc\u001b[0m\u001b[1;33m.\u001b[0m\u001b[0mdraw\u001b[0m\u001b[1;33m(\u001b[0m\u001b[0mrenderer\u001b[0m\u001b[1;33m)\u001b[0m\u001b[1;33m\u001b[0m\u001b[0m\n\u001b[0m\u001b[0;32m    281\u001b[0m \u001b[1;33m\u001b[0m\u001b[0m\n\u001b[0;32m    282\u001b[0m         \u001b[0mbbox_artist\u001b[0m\u001b[1;33m(\u001b[0m\u001b[0mself\u001b[0m\u001b[1;33m,\u001b[0m \u001b[0mrenderer\u001b[0m\u001b[1;33m,\u001b[0m \u001b[0mfill\u001b[0m\u001b[1;33m=\u001b[0m\u001b[1;32mFalse\u001b[0m\u001b[1;33m,\u001b[0m \u001b[0mprops\u001b[0m\u001b[1;33m=\u001b[0m\u001b[0mdict\u001b[0m\u001b[1;33m(\u001b[0m\u001b[0mpad\u001b[0m\u001b[1;33m=\u001b[0m\u001b[1;36m0.\u001b[0m\u001b[1;33m)\u001b[0m\u001b[1;33m)\u001b[0m\u001b[1;33m\u001b[0m\u001b[0m\n",
      "\u001b[1;32m~\\Anaconda3\\lib\\site-packages\\matplotlib\\offsetbox.py\u001b[0m in \u001b[0;36mdraw\u001b[1;34m(self, renderer)\u001b[0m\n\u001b[0;32m    278\u001b[0m         \u001b[1;32mfor\u001b[0m \u001b[0mc\u001b[0m\u001b[1;33m,\u001b[0m \u001b[1;33m(\u001b[0m\u001b[0mox\u001b[0m\u001b[1;33m,\u001b[0m \u001b[0moy\u001b[0m\u001b[1;33m)\u001b[0m \u001b[1;32min\u001b[0m \u001b[0mzip\u001b[0m\u001b[1;33m(\u001b[0m\u001b[0mself\u001b[0m\u001b[1;33m.\u001b[0m\u001b[0mget_visible_children\u001b[0m\u001b[1;33m(\u001b[0m\u001b[1;33m)\u001b[0m\u001b[1;33m,\u001b[0m \u001b[0moffsets\u001b[0m\u001b[1;33m)\u001b[0m\u001b[1;33m:\u001b[0m\u001b[1;33m\u001b[0m\u001b[0m\n\u001b[0;32m    279\u001b[0m             \u001b[0mc\u001b[0m\u001b[1;33m.\u001b[0m\u001b[0mset_offset\u001b[0m\u001b[1;33m(\u001b[0m\u001b[1;33m(\u001b[0m\u001b[0mpx\u001b[0m \u001b[1;33m+\u001b[0m \u001b[0mox\u001b[0m\u001b[1;33m,\u001b[0m \u001b[0mpy\u001b[0m \u001b[1;33m+\u001b[0m \u001b[0moy\u001b[0m\u001b[1;33m)\u001b[0m\u001b[1;33m)\u001b[0m\u001b[1;33m\u001b[0m\u001b[0m\n\u001b[1;32m--> 280\u001b[1;33m             \u001b[0mc\u001b[0m\u001b[1;33m.\u001b[0m\u001b[0mdraw\u001b[0m\u001b[1;33m(\u001b[0m\u001b[0mrenderer\u001b[0m\u001b[1;33m)\u001b[0m\u001b[1;33m\u001b[0m\u001b[0m\n\u001b[0m\u001b[0;32m    281\u001b[0m \u001b[1;33m\u001b[0m\u001b[0m\n\u001b[0;32m    282\u001b[0m         \u001b[0mbbox_artist\u001b[0m\u001b[1;33m(\u001b[0m\u001b[0mself\u001b[0m\u001b[1;33m,\u001b[0m \u001b[0mrenderer\u001b[0m\u001b[1;33m,\u001b[0m \u001b[0mfill\u001b[0m\u001b[1;33m=\u001b[0m\u001b[1;32mFalse\u001b[0m\u001b[1;33m,\u001b[0m \u001b[0mprops\u001b[0m\u001b[1;33m=\u001b[0m\u001b[0mdict\u001b[0m\u001b[1;33m(\u001b[0m\u001b[0mpad\u001b[0m\u001b[1;33m=\u001b[0m\u001b[1;36m0.\u001b[0m\u001b[1;33m)\u001b[0m\u001b[1;33m)\u001b[0m\u001b[1;33m\u001b[0m\u001b[0m\n",
      "\u001b[1;32m~\\Anaconda3\\lib\\site-packages\\matplotlib\\offsetbox.py\u001b[0m in \u001b[0;36mdraw\u001b[1;34m(self, renderer)\u001b[0m\n\u001b[0;32m    272\u001b[0m \u001b[1;33m\u001b[0m\u001b[0m\n\u001b[0;32m    273\u001b[0m         width, height, xdescent, ydescent, offsets = self.get_extent_offsets(\n\u001b[1;32m--> 274\u001b[1;33m                                                         renderer)\n\u001b[0m\u001b[0;32m    275\u001b[0m \u001b[1;33m\u001b[0m\u001b[0m\n\u001b[0;32m    276\u001b[0m         \u001b[0mpx\u001b[0m\u001b[1;33m,\u001b[0m \u001b[0mpy\u001b[0m \u001b[1;33m=\u001b[0m \u001b[0mself\u001b[0m\u001b[1;33m.\u001b[0m\u001b[0mget_offset\u001b[0m\u001b[1;33m(\u001b[0m\u001b[0mwidth\u001b[0m\u001b[1;33m,\u001b[0m \u001b[0mheight\u001b[0m\u001b[1;33m,\u001b[0m \u001b[0mxdescent\u001b[0m\u001b[1;33m,\u001b[0m \u001b[0mydescent\u001b[0m\u001b[1;33m,\u001b[0m \u001b[0mrenderer\u001b[0m\u001b[1;33m)\u001b[0m\u001b[1;33m\u001b[0m\u001b[0m\n",
      "\u001b[1;32m~\\Anaconda3\\lib\\site-packages\\matplotlib\\offsetbox.py\u001b[0m in \u001b[0;36mget_extent_offsets\u001b[1;34m(self, renderer)\u001b[0m\n\u001b[0;32m    383\u001b[0m \u001b[1;33m\u001b[0m\u001b[0m\n\u001b[0;32m    384\u001b[0m         whd_list = [c.get_extent(renderer)\n\u001b[1;32m--> 385\u001b[1;33m                     for c in self.get_visible_children()]\n\u001b[0m\u001b[0;32m    386\u001b[0m         \u001b[0mwhd_list\u001b[0m \u001b[1;33m=\u001b[0m \u001b[1;33m[\u001b[0m\u001b[1;33m(\u001b[0m\u001b[0mw\u001b[0m\u001b[1;33m,\u001b[0m \u001b[0mh\u001b[0m\u001b[1;33m,\u001b[0m \u001b[0mxd\u001b[0m\u001b[1;33m,\u001b[0m \u001b[1;33m(\u001b[0m\u001b[0mh\u001b[0m \u001b[1;33m-\u001b[0m \u001b[0myd\u001b[0m\u001b[1;33m)\u001b[0m\u001b[1;33m)\u001b[0m \u001b[1;32mfor\u001b[0m \u001b[0mw\u001b[0m\u001b[1;33m,\u001b[0m \u001b[0mh\u001b[0m\u001b[1;33m,\u001b[0m \u001b[0mxd\u001b[0m\u001b[1;33m,\u001b[0m \u001b[0myd\u001b[0m \u001b[1;32min\u001b[0m \u001b[0mwhd_list\u001b[0m\u001b[1;33m]\u001b[0m\u001b[1;33m\u001b[0m\u001b[0m\n\u001b[0;32m    387\u001b[0m \u001b[1;33m\u001b[0m\u001b[0m\n",
      "\u001b[1;32m~\\Anaconda3\\lib\\site-packages\\matplotlib\\offsetbox.py\u001b[0m in \u001b[0;36m<listcomp>\u001b[1;34m(.0)\u001b[0m\n\u001b[0;32m    383\u001b[0m \u001b[1;33m\u001b[0m\u001b[0m\n\u001b[0;32m    384\u001b[0m         whd_list = [c.get_extent(renderer)\n\u001b[1;32m--> 385\u001b[1;33m                     for c in self.get_visible_children()]\n\u001b[0m\u001b[0;32m    386\u001b[0m         \u001b[0mwhd_list\u001b[0m \u001b[1;33m=\u001b[0m \u001b[1;33m[\u001b[0m\u001b[1;33m(\u001b[0m\u001b[0mw\u001b[0m\u001b[1;33m,\u001b[0m \u001b[0mh\u001b[0m\u001b[1;33m,\u001b[0m \u001b[0mxd\u001b[0m\u001b[1;33m,\u001b[0m \u001b[1;33m(\u001b[0m\u001b[0mh\u001b[0m \u001b[1;33m-\u001b[0m \u001b[0myd\u001b[0m\u001b[1;33m)\u001b[0m\u001b[1;33m)\u001b[0m \u001b[1;32mfor\u001b[0m \u001b[0mw\u001b[0m\u001b[1;33m,\u001b[0m \u001b[0mh\u001b[0m\u001b[1;33m,\u001b[0m \u001b[0mxd\u001b[0m\u001b[1;33m,\u001b[0m \u001b[0myd\u001b[0m \u001b[1;32min\u001b[0m \u001b[0mwhd_list\u001b[0m\u001b[1;33m]\u001b[0m\u001b[1;33m\u001b[0m\u001b[0m\n\u001b[0;32m    387\u001b[0m \u001b[1;33m\u001b[0m\u001b[0m\n",
      "\u001b[1;32m~\\Anaconda3\\lib\\site-packages\\matplotlib\\offsetbox.py\u001b[0m in \u001b[0;36mget_extent\u001b[1;34m(self, renderer)\u001b[0m\n\u001b[0;32m    254\u001b[0m         \u001b[0mReturn\u001b[0m \u001b[1;32mwith\u001b[0m\u001b[1;33m,\u001b[0m \u001b[0mheight\u001b[0m\u001b[1;33m,\u001b[0m \u001b[0mxdescent\u001b[0m\u001b[1;33m,\u001b[0m \u001b[0mydescent\u001b[0m \u001b[0mof\u001b[0m \u001b[0mbox\u001b[0m\u001b[1;33m\u001b[0m\u001b[0m\n\u001b[0;32m    255\u001b[0m         \"\"\"\n\u001b[1;32m--> 256\u001b[1;33m         \u001b[0mw\u001b[0m\u001b[1;33m,\u001b[0m \u001b[0mh\u001b[0m\u001b[1;33m,\u001b[0m \u001b[0mxd\u001b[0m\u001b[1;33m,\u001b[0m \u001b[0myd\u001b[0m\u001b[1;33m,\u001b[0m \u001b[0moffsets\u001b[0m \u001b[1;33m=\u001b[0m \u001b[0mself\u001b[0m\u001b[1;33m.\u001b[0m\u001b[0mget_extent_offsets\u001b[0m\u001b[1;33m(\u001b[0m\u001b[0mrenderer\u001b[0m\u001b[1;33m)\u001b[0m\u001b[1;33m\u001b[0m\u001b[0m\n\u001b[0m\u001b[0;32m    257\u001b[0m         \u001b[1;32mreturn\u001b[0m \u001b[0mw\u001b[0m\u001b[1;33m,\u001b[0m \u001b[0mh\u001b[0m\u001b[1;33m,\u001b[0m \u001b[0mxd\u001b[0m\u001b[1;33m,\u001b[0m \u001b[0myd\u001b[0m\u001b[1;33m\u001b[0m\u001b[0m\n\u001b[0;32m    258\u001b[0m \u001b[1;33m\u001b[0m\u001b[0m\n",
      "\u001b[1;32m~\\Anaconda3\\lib\\site-packages\\matplotlib\\offsetbox.py\u001b[0m in \u001b[0;36mget_extent_offsets\u001b[1;34m(self, renderer)\u001b[0m\n\u001b[0;32m    454\u001b[0m \u001b[1;33m\u001b[0m\u001b[0m\n\u001b[0;32m    455\u001b[0m         whd_list = [c.get_extent(renderer)\n\u001b[1;32m--> 456\u001b[1;33m                     for c in self.get_visible_children()]\n\u001b[0m\u001b[0;32m    457\u001b[0m \u001b[1;33m\u001b[0m\u001b[0m\n\u001b[0;32m    458\u001b[0m         \u001b[1;32mif\u001b[0m \u001b[1;32mnot\u001b[0m \u001b[0mwhd_list\u001b[0m\u001b[1;33m:\u001b[0m\u001b[1;33m\u001b[0m\u001b[0m\n",
      "\u001b[1;32m~\\Anaconda3\\lib\\site-packages\\matplotlib\\offsetbox.py\u001b[0m in \u001b[0;36m<listcomp>\u001b[1;34m(.0)\u001b[0m\n\u001b[0;32m    454\u001b[0m \u001b[1;33m\u001b[0m\u001b[0m\n\u001b[0;32m    455\u001b[0m         whd_list = [c.get_extent(renderer)\n\u001b[1;32m--> 456\u001b[1;33m                     for c in self.get_visible_children()]\n\u001b[0m\u001b[0;32m    457\u001b[0m \u001b[1;33m\u001b[0m\u001b[0m\n\u001b[0;32m    458\u001b[0m         \u001b[1;32mif\u001b[0m \u001b[1;32mnot\u001b[0m \u001b[0mwhd_list\u001b[0m\u001b[1;33m:\u001b[0m\u001b[1;33m\u001b[0m\u001b[0m\n",
      "\u001b[1;32m~\\Anaconda3\\lib\\site-packages\\matplotlib\\offsetbox.py\u001b[0m in \u001b[0;36mget_extent\u001b[1;34m(self, renderer)\u001b[0m\n\u001b[0;32m    827\u001b[0m             \"lp\", self._text._fontproperties, ismath=False)\n\u001b[0;32m    828\u001b[0m \u001b[1;33m\u001b[0m\u001b[0m\n\u001b[1;32m--> 829\u001b[1;33m         \u001b[0mbbox\u001b[0m\u001b[1;33m,\u001b[0m \u001b[0minfo\u001b[0m\u001b[1;33m,\u001b[0m \u001b[0md\u001b[0m \u001b[1;33m=\u001b[0m \u001b[0mself\u001b[0m\u001b[1;33m.\u001b[0m\u001b[0m_text\u001b[0m\u001b[1;33m.\u001b[0m\u001b[0m_get_layout\u001b[0m\u001b[1;33m(\u001b[0m\u001b[0mrenderer\u001b[0m\u001b[1;33m)\u001b[0m\u001b[1;33m\u001b[0m\u001b[0m\n\u001b[0m\u001b[0;32m    830\u001b[0m         \u001b[0mw\u001b[0m\u001b[1;33m,\u001b[0m \u001b[0mh\u001b[0m \u001b[1;33m=\u001b[0m \u001b[0mbbox\u001b[0m\u001b[1;33m.\u001b[0m\u001b[0mwidth\u001b[0m\u001b[1;33m,\u001b[0m \u001b[0mbbox\u001b[0m\u001b[1;33m.\u001b[0m\u001b[0mheight\u001b[0m\u001b[1;33m\u001b[0m\u001b[0m\n\u001b[0;32m    831\u001b[0m \u001b[1;33m\u001b[0m\u001b[0m\n",
      "\u001b[1;32m~\\Anaconda3\\lib\\site-packages\\matplotlib\\text.py\u001b[0m in \u001b[0;36m_get_layout\u001b[1;34m(self, renderer)\u001b[0m\n\u001b[0;32m    412\u001b[0m         \u001b[1;31m# compute the bounds of the rotated box\u001b[0m\u001b[1;33m\u001b[0m\u001b[1;33m\u001b[0m\u001b[0m\n\u001b[0;32m    413\u001b[0m         \u001b[0mxmin\u001b[0m\u001b[1;33m,\u001b[0m \u001b[0mxmax\u001b[0m \u001b[1;33m=\u001b[0m \u001b[0mtxs\u001b[0m\u001b[1;33m.\u001b[0m\u001b[0mmin\u001b[0m\u001b[1;33m(\u001b[0m\u001b[1;33m)\u001b[0m\u001b[1;33m,\u001b[0m \u001b[0mtxs\u001b[0m\u001b[1;33m.\u001b[0m\u001b[0mmax\u001b[0m\u001b[1;33m(\u001b[0m\u001b[1;33m)\u001b[0m\u001b[1;33m\u001b[0m\u001b[0m\n\u001b[1;32m--> 414\u001b[1;33m         \u001b[0mymin\u001b[0m\u001b[1;33m,\u001b[0m \u001b[0mymax\u001b[0m \u001b[1;33m=\u001b[0m \u001b[0mtys\u001b[0m\u001b[1;33m.\u001b[0m\u001b[0mmin\u001b[0m\u001b[1;33m(\u001b[0m\u001b[1;33m)\u001b[0m\u001b[1;33m,\u001b[0m \u001b[0mtys\u001b[0m\u001b[1;33m.\u001b[0m\u001b[0mmax\u001b[0m\u001b[1;33m(\u001b[0m\u001b[1;33m)\u001b[0m\u001b[1;33m\u001b[0m\u001b[0m\n\u001b[0m\u001b[0;32m    415\u001b[0m         \u001b[0mwidth\u001b[0m \u001b[1;33m=\u001b[0m \u001b[0mxmax\u001b[0m \u001b[1;33m-\u001b[0m \u001b[0mxmin\u001b[0m\u001b[1;33m\u001b[0m\u001b[0m\n\u001b[0;32m    416\u001b[0m         \u001b[0mheight\u001b[0m \u001b[1;33m=\u001b[0m \u001b[0mymax\u001b[0m \u001b[1;33m-\u001b[0m \u001b[0mymin\u001b[0m\u001b[1;33m\u001b[0m\u001b[0m\n",
      "\u001b[1;32m~\\Anaconda3\\lib\\site-packages\\numpy\\core\\_methods.py\u001b[0m in \u001b[0;36m_amin\u001b[1;34m(a, axis, out, keepdims)\u001b[0m\n\u001b[0;32m     27\u001b[0m \u001b[1;33m\u001b[0m\u001b[0m\n\u001b[0;32m     28\u001b[0m \u001b[1;32mdef\u001b[0m \u001b[0m_amin\u001b[0m\u001b[1;33m(\u001b[0m\u001b[0ma\u001b[0m\u001b[1;33m,\u001b[0m \u001b[0maxis\u001b[0m\u001b[1;33m=\u001b[0m\u001b[1;32mNone\u001b[0m\u001b[1;33m,\u001b[0m \u001b[0mout\u001b[0m\u001b[1;33m=\u001b[0m\u001b[1;32mNone\u001b[0m\u001b[1;33m,\u001b[0m \u001b[0mkeepdims\u001b[0m\u001b[1;33m=\u001b[0m\u001b[1;32mFalse\u001b[0m\u001b[1;33m)\u001b[0m\u001b[1;33m:\u001b[0m\u001b[1;33m\u001b[0m\u001b[0m\n\u001b[1;32m---> 29\u001b[1;33m     \u001b[1;32mreturn\u001b[0m \u001b[0mumr_minimum\u001b[0m\u001b[1;33m(\u001b[0m\u001b[0ma\u001b[0m\u001b[1;33m,\u001b[0m \u001b[0maxis\u001b[0m\u001b[1;33m,\u001b[0m \u001b[1;32mNone\u001b[0m\u001b[1;33m,\u001b[0m \u001b[0mout\u001b[0m\u001b[1;33m,\u001b[0m \u001b[0mkeepdims\u001b[0m\u001b[1;33m)\u001b[0m\u001b[1;33m\u001b[0m\u001b[0m\n\u001b[0m\u001b[0;32m     30\u001b[0m \u001b[1;33m\u001b[0m\u001b[0m\n\u001b[0;32m     31\u001b[0m \u001b[1;32mdef\u001b[0m \u001b[0m_sum\u001b[0m\u001b[1;33m(\u001b[0m\u001b[0ma\u001b[0m\u001b[1;33m,\u001b[0m \u001b[0maxis\u001b[0m\u001b[1;33m=\u001b[0m\u001b[1;32mNone\u001b[0m\u001b[1;33m,\u001b[0m \u001b[0mdtype\u001b[0m\u001b[1;33m=\u001b[0m\u001b[1;32mNone\u001b[0m\u001b[1;33m,\u001b[0m \u001b[0mout\u001b[0m\u001b[1;33m=\u001b[0m\u001b[1;32mNone\u001b[0m\u001b[1;33m,\u001b[0m \u001b[0mkeepdims\u001b[0m\u001b[1;33m=\u001b[0m\u001b[1;32mFalse\u001b[0m\u001b[1;33m)\u001b[0m\u001b[1;33m:\u001b[0m\u001b[1;33m\u001b[0m\u001b[0m\n",
      "\u001b[1;31mKeyboardInterrupt\u001b[0m: "
     ]
    },
    {
     "data": {
      "image/png": "[encoded data removed]",
      "text/plain": [
       "<matplotlib.figure.Figure at 0x1e6bd6b7588>"
      ]
     },
     "metadata": {},
     "output_type": "display_data"
    }
   ],
   "source": []
  },
  {
   "cell_type": "code",
   "execution_count": null,
   "metadata": {
    "collapsed": true
   },
   "outputs": [],
   "source": []
  }
 ],
 "metadata": {
  "kernelspec": {
   "display_name": "Python 3",
   "language": "python",
   "name": "python3"
  },
  "language_info": {
   "codemirror_mode": {
    "name": "ipython",
    "version": 3
   },
   "file_extension": ".py",
   "mimetype": "text/x-python",
   "name": "python",
   "nbconvert_exporter": "python",
   "pygments_lexer": "ipython3",
   "version": "3.6.3"
  }
 },
 "nbformat": 4,
 "nbformat_minor": 2
}
